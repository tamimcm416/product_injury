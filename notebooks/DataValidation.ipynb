{
 "cells": [
  {
   "cell_type": "markdown",
   "id": "a6401229-d7a4-4239-bb27-9902edb4260a",
   "metadata": {
    "tags": []
   },
   "source": [
    "# Product Injury\n",
    "<font size=4>Data Validation - Injuries</font>   \n",
    "***  \n",
    "\n",
    "**Project Summary:**   \n",
    "The Consumer Product Safety Commission operations a surveillance system (NEISS) to track injury data related to consumer products. The data is collected from a representative sample of emergency rooms in the United Status. \n",
    "This project will examine the data from 2013 through 2022 to explore trends in product injuries resulting in emergency room visits.\n",
    "\n",
    "**Notebook Scope:**  \n",
    "This notebook includes code to validate injury data imported and consolidated in Azure SQL from the [NEISS website](https://www.cpsc.gov/cgibin/NEISSQuery/home.aspx).\n",
    "\n",
    "**Output:**  \n",
    "<font color='red'>TBD</font>\n",
    "***  "
   ]
  },
  {
   "cell_type": "markdown",
   "id": "6fbdbe78-45ef-45e9-aa24-7a404b633884",
   "metadata": {
    "tags": []
   },
   "source": [
    "***\n",
    "# Notebook Setup\n",
    "***"
   ]
  },
  {
   "cell_type": "code",
   "execution_count": null,
   "id": "e3e04588-e5b2-4182-a7fb-b6f2d978a0d6",
   "metadata": {},
   "outputs": [],
   "source": [
    "# Import libraries\n",
    "import pyodbc\n",
    "import pandas as pd"
   ]
  },
  {
   "cell_type": "code",
   "execution_count": null,
   "id": "d48ac9bd-47e2-4082-b7ed-3f0a7e5b434a",
   "metadata": {},
   "outputs": [],
   "source": [
    "# Import SQL connection details. This is a local file, private file containing user information\n",
    "from sqlconnvars import *"
   ]
  },
  {
   "cell_type": "markdown",
   "id": "2443d95a-7e1c-4b7f-927c-6cf71cdf300d",
   "metadata": {
    "tags": []
   },
   "source": [
    "***  \n",
    "# Connect to Azure SQL\n",
    "***"
   ]
  },
  {
   "cell_type": "code",
   "execution_count": null,
   "id": "b305efcf-8b09-48ff-a7b9-2b8e548eace4",
   "metadata": {},
   "outputs": [],
   "source": [
    "# Connect to Azure SQL\n",
    "conn_str = f'DRIVER={DB_DRV}; SERVER={DB_SRV}; DATABASE={DB_NAM}; UID={DB_UID}; PWD={DB_PWD}'\n",
    "conn = pyodbc.connect(conn_str)"
   ]
  },
  {
   "cell_type": "code",
   "execution_count": null,
   "id": "4d9195cb-bb0c-4d61-bca4-dc4c9512ab1d",
   "metadata": {},
   "outputs": [],
   "source": [
    "sql_str = '''select count(*) from injuries;'''\n",
    "cursor = conn.cursor()\n",
    "cursor.execute(sql_str)"
   ]
  },
  {
   "cell_type": "code",
   "execution_count": null,
   "id": "7444a0c5-3dd2-428d-9029-80ecc75661f8",
   "metadata": {},
   "outputs": [],
   "source": [
    "cursor.fetchall()"
   ]
  }
 ],
 "metadata": {
  "kernelspec": {
   "display_name": "Python 3 (ipykernel)",
   "language": "python",
   "name": "python3"
  },
  "language_info": {
   "codemirror_mode": {
    "name": "ipython",
    "version": 3
   },
   "file_extension": ".py",
   "mimetype": "text/x-python",
   "name": "python",
   "nbconvert_exporter": "python",
   "pygments_lexer": "ipython3",
   "version": "3.10.4"
  }
 },
 "nbformat": 4,
 "nbformat_minor": 5
}
