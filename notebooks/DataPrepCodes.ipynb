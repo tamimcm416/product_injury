{
 "cells": [
  {
   "cell_type": "markdown",
   "id": "a6401229-d7a4-4239-bb27-9902edb4260a",
   "metadata": {
    "tags": []
   },
   "source": [
    "Product Injury\n",
    "Data Prep and Load\n",
    "***  \n",
    "# Introduction  \n",
    "TBD - Repeatable project intro from slides\n",
    "\n",
    "TBD - Add links to data\n"
   ]
  },
  {
   "cell_type": "markdown",
   "id": "6fbdbe78-45ef-45e9-aa24-7a404b633884",
   "metadata": {
    "tags": []
   },
   "source": [
    "***\n",
    "# Notebook Setup\n",
    "***"
   ]
  },
  {
   "cell_type": "code",
   "execution_count": 1,
   "id": "e3e04588-e5b2-4182-a7fb-b6f2d978a0d6",
   "metadata": {},
   "outputs": [],
   "source": [
    "# Import libraries\n",
    "import pandas as pd"
   ]
  },
  {
   "cell_type": "markdown",
   "id": "2443d95a-7e1c-4b7f-927c-6cf71cdf300d",
   "metadata": {
    "tags": []
   },
   "source": [
    "***  \n",
    "# Read Raw Data\n",
    "***"
   ]
  },
  {
   "cell_type": "code",
   "execution_count": 2,
   "id": "b305efcf-8b09-48ff-a7b9-2b8e548eace4",
   "metadata": {},
   "outputs": [
    {
     "data": {
      "text/html": [
       "<div>\n",
       "<style scoped>\n",
       "    .dataframe tbody tr th:only-of-type {\n",
       "        vertical-align: middle;\n",
       "    }\n",
       "\n",
       "    .dataframe tbody tr th {\n",
       "        vertical-align: top;\n",
       "    }\n",
       "\n",
       "    .dataframe thead th {\n",
       "        text-align: right;\n",
       "    }\n",
       "</style>\n",
       "<table border=\"1\" class=\"dataframe\">\n",
       "  <thead>\n",
       "    <tr style=\"text-align: right;\">\n",
       "      <th></th>\n",
       "      <th>Year</th>\n",
       "      <th>Format name</th>\n",
       "      <th>Starting value for format</th>\n",
       "      <th>Ending value for format</th>\n",
       "      <th>Format value label</th>\n",
       "    </tr>\n",
       "  </thead>\n",
       "  <tbody>\n",
       "    <tr>\n",
       "      <th>0</th>\n",
       "      <td>2013</td>\n",
       "      <td>AGELTTWO</td>\n",
       "      <td>0</td>\n",
       "      <td>0</td>\n",
       "      <td>UNK</td>\n",
       "    </tr>\n",
       "    <tr>\n",
       "      <th>1</th>\n",
       "      <td>2013</td>\n",
       "      <td>AGELTTWO</td>\n",
       "      <td>2</td>\n",
       "      <td>120</td>\n",
       "      <td>2 YEARS AND OLDER</td>\n",
       "    </tr>\n",
       "    <tr>\n",
       "      <th>2</th>\n",
       "      <td>2013</td>\n",
       "      <td>AGELTTWO</td>\n",
       "      <td>201</td>\n",
       "      <td>201</td>\n",
       "      <td>1 MONTH</td>\n",
       "    </tr>\n",
       "    <tr>\n",
       "      <th>3</th>\n",
       "      <td>2013</td>\n",
       "      <td>AGELTTWO</td>\n",
       "      <td>202</td>\n",
       "      <td>202</td>\n",
       "      <td>2 MONTHS</td>\n",
       "    </tr>\n",
       "    <tr>\n",
       "      <th>4</th>\n",
       "      <td>2013</td>\n",
       "      <td>AGELTTWO</td>\n",
       "      <td>203</td>\n",
       "      <td>203</td>\n",
       "      <td>3 MONTHS</td>\n",
       "    </tr>\n",
       "    <tr>\n",
       "      <th>...</th>\n",
       "      <td>...</td>\n",
       "      <td>...</td>\n",
       "      <td>...</td>\n",
       "      <td>...</td>\n",
       "      <td>...</td>\n",
       "    </tr>\n",
       "    <tr>\n",
       "      <th>1244</th>\n",
       "      <td>2022</td>\n",
       "      <td>RACE</td>\n",
       "      <td>2</td>\n",
       "      <td>2</td>\n",
       "      <td>BLACK/AFRICAN AMERICAN</td>\n",
       "    </tr>\n",
       "    <tr>\n",
       "      <th>1245</th>\n",
       "      <td>2022</td>\n",
       "      <td>RACE</td>\n",
       "      <td>3</td>\n",
       "      <td>3</td>\n",
       "      <td>OTHER</td>\n",
       "    </tr>\n",
       "    <tr>\n",
       "      <th>1246</th>\n",
       "      <td>2022</td>\n",
       "      <td>RACE</td>\n",
       "      <td>4</td>\n",
       "      <td>4</td>\n",
       "      <td>ASIAN</td>\n",
       "    </tr>\n",
       "    <tr>\n",
       "      <th>1247</th>\n",
       "      <td>2022</td>\n",
       "      <td>RACE</td>\n",
       "      <td>5</td>\n",
       "      <td>5</td>\n",
       "      <td>AMERICAN INDIAN/ALASKA NATIVE</td>\n",
       "    </tr>\n",
       "    <tr>\n",
       "      <th>1248</th>\n",
       "      <td>2022</td>\n",
       "      <td>RACE</td>\n",
       "      <td>6</td>\n",
       "      <td>6</td>\n",
       "      <td>NATIVE HAWAIIAN/PACIFIC ISLANDER</td>\n",
       "    </tr>\n",
       "  </tbody>\n",
       "</table>\n",
       "<p>12483 rows × 5 columns</p>\n",
       "</div>"
      ],
      "text/plain": [
       "      Year Format name Starting value for format Ending value for format  \\\n",
       "0     2013    AGELTTWO                         0                       0   \n",
       "1     2013    AGELTTWO                         2                     120   \n",
       "2     2013    AGELTTWO                       201                     201   \n",
       "3     2013    AGELTTWO                       202                     202   \n",
       "4     2013    AGELTTWO                       203                     203   \n",
       "...    ...         ...                       ...                     ...   \n",
       "1244  2022        RACE                         2                       2   \n",
       "1245  2022        RACE                         3                       3   \n",
       "1246  2022        RACE                         4                       4   \n",
       "1247  2022        RACE                         5                       5   \n",
       "1248  2022        RACE                         6                       6   \n",
       "\n",
       "                    Format value label  \n",
       "0                                  UNK  \n",
       "1                    2 YEARS AND OLDER  \n",
       "2                              1 MONTH  \n",
       "3                             2 MONTHS  \n",
       "4                             3 MONTHS  \n",
       "...                                ...  \n",
       "1244            BLACK/AFRICAN AMERICAN  \n",
       "1245                             OTHER  \n",
       "1246                             ASIAN  \n",
       "1247     AMERICAN INDIAN/ALASKA NATIVE  \n",
       "1248  NATIVE HAWAIIAN/PACIFIC ISLANDER  \n",
       "\n",
       "[12483 rows x 5 columns]"
      ]
     },
     "execution_count": 2,
     "metadata": {},
     "output_type": "execute_result"
    }
   ],
   "source": [
    "# Read in the NEIS_FMT worksheet from each workbook\n",
    "path = '../Data/'\n",
    "files = ['neiss' + str(x) + '.xlsx' for x in range(2013, 2023)]\n",
    "\n",
    "all_codes_df = pd.DataFrame()\n",
    "\n",
    "for file in files:\n",
    "    raw_df = pd.read_excel(path + file, sheet_name = 'NEISS_FMT')\n",
    "    raw_df.insert(0, 'Year', file[-9:-5])\n",
    "    all_codes_df = pd.concat([all_codes_df, raw_df])\n",
    "\n",
    "all_codes_df"
   ]
  },
  {
   "cell_type": "code",
   "execution_count": 3,
   "id": "9ed67883-1981-4df1-8ff1-96b07b728dd5",
   "metadata": {},
   "outputs": [],
   "source": [
    "# Reset index\n",
    "all_codes_df.reset_index(drop=True, inplace=True)"
   ]
  },
  {
   "cell_type": "markdown",
   "id": "bdcf6da4-4d7c-45ac-b5dd-c82400e072f7",
   "metadata": {},
   "source": [
    "***  \n",
    "# Verify Data and Types\n",
    "***  "
   ]
  },
  {
   "cell_type": "code",
   "execution_count": 4,
   "id": "2eedc294-98b6-46b0-a874-03b079ebad79",
   "metadata": {},
   "outputs": [
    {
     "data": {
      "text/plain": [
       "Index(['Format value label'], dtype='object')"
      ]
     },
     "execution_count": 4,
     "metadata": {},
     "output_type": "execute_result"
    }
   ],
   "source": [
    "all_codes_df.columns[all_codes_df.isnull().any()]"
   ]
  },
  {
   "cell_type": "code",
   "execution_count": 5,
   "id": "cf5fd034-ac03-4254-a9f5-678f7eac1b2d",
   "metadata": {},
   "outputs": [],
   "source": [
    "# Delete all codes that do not contain a label\n",
    "rows_to_del = all_codes_df[all_codes_df['Format value label'].isnull()].index\n",
    "all_codes_df.drop(rows_to_del, axis='index', inplace=True)"
   ]
  },
  {
   "cell_type": "code",
   "execution_count": 6,
   "id": "e4714a80-0835-4117-ad1f-07bb6ee6a6d6",
   "metadata": {},
   "outputs": [
    {
     "data": {
      "text/plain": [
       "Year                         object\n",
       "Format name                  object\n",
       "Starting value for format    object\n",
       "Ending value for format      object\n",
       "Format value label           object\n",
       "dtype: object"
      ]
     },
     "execution_count": 6,
     "metadata": {},
     "output_type": "execute_result"
    }
   ],
   "source": [
    "all_codes_df.dtypes"
   ]
  },
  {
   "cell_type": "code",
   "execution_count": 7,
   "id": "5af63a15-1e20-4dde-bd51-a830d74bac5d",
   "metadata": {},
   "outputs": [
    {
     "data": {
      "text/plain": [
       "array(['2013', '2014', '2015', '2016', '2017', '2018', '2019', '2020',\n",
       "       '2021', '2022'], dtype=object)"
      ]
     },
     "execution_count": 7,
     "metadata": {},
     "output_type": "execute_result"
    }
   ],
   "source": [
    "# Verify all Year data is in our present, and in our date range\n",
    "all_codes_df['Year'].unique()"
   ]
  },
  {
   "cell_type": "code",
   "execution_count": 8,
   "id": "6c34a6d1-6e86-4f82-89bb-9530a9d8e875",
   "metadata": {},
   "outputs": [],
   "source": [
    "# Set Year data type to int\n",
    "all_codes_df['Year'] = all_codes_df['Year'].astype(int)"
   ]
  },
  {
   "cell_type": "code",
   "execution_count": 9,
   "id": "964e5881-c835-4368-9d11-6dd8b3d53d4c",
   "metadata": {},
   "outputs": [
    {
     "data": {
      "text/plain": [
       "array(['AGELTTWO', 'ALC_DRUG', 'BDYPT', 'DIAG', 'DISP', 'FIRE', 'GENDER',\n",
       "       'HISP', 'LOC', 'PROD', 'RACE'], dtype=object)"
      ]
     },
     "execution_count": 9,
     "metadata": {},
     "output_type": "execute_result"
    }
   ],
   "source": [
    "# Verify all Format name data is value\n",
    "all_codes_df['Format name'].unique()"
   ]
  },
  {
   "cell_type": "code",
   "execution_count": 10,
   "id": "84219ad3-8299-421e-b311-1cb1a867c440",
   "metadata": {},
   "outputs": [
    {
     "data": {
      "text/plain": [
       "array(['               0', '               2', '             201', ...,\n",
       "       '            9999', '             714', '            1552'],\n",
       "      dtype=object)"
      ]
     },
     "execution_count": 10,
     "metadata": {},
     "output_type": "execute_result"
    }
   ],
   "source": [
    "# Review Starting Value data\n",
    "all_codes_df['Starting value for format'].unique()"
   ]
  },
  {
   "cell_type": "code",
   "execution_count": 11,
   "id": "6e20f1a3-98a6-407b-87a1-e801cad973e0",
   "metadata": {},
   "outputs": [
    {
     "data": {
      "text/html": [
       "<div>\n",
       "<style scoped>\n",
       "    .dataframe tbody tr th:only-of-type {\n",
       "        vertical-align: middle;\n",
       "    }\n",
       "\n",
       "    .dataframe tbody tr th {\n",
       "        vertical-align: top;\n",
       "    }\n",
       "\n",
       "    .dataframe thead th {\n",
       "        text-align: right;\n",
       "    }\n",
       "</style>\n",
       "<table border=\"1\" class=\"dataframe\">\n",
       "  <thead>\n",
       "    <tr style=\"text-align: right;\">\n",
       "      <th></th>\n",
       "      <th>Year</th>\n",
       "      <th>Format name</th>\n",
       "      <th>Starting value for format</th>\n",
       "      <th>Ending value for format</th>\n",
       "      <th>Format value label</th>\n",
       "    </tr>\n",
       "  </thead>\n",
       "  <tbody>\n",
       "    <tr>\n",
       "      <th>25</th>\n",
       "      <td>2013</td>\n",
       "      <td>ALC_DRUG</td>\n",
       "      <td>.</td>\n",
       "      <td>.</td>\n",
       "      <td>NA before 2019</td>\n",
       "    </tr>\n",
       "    <tr>\n",
       "      <th>105</th>\n",
       "      <td>2013</td>\n",
       "      <td>HISP</td>\n",
       "      <td>.</td>\n",
       "      <td>.</td>\n",
       "      <td>NA before 2019</td>\n",
       "    </tr>\n",
       "    <tr>\n",
       "      <th>1273</th>\n",
       "      <td>2014</td>\n",
       "      <td>ALC_DRUG</td>\n",
       "      <td>.</td>\n",
       "      <td>.</td>\n",
       "      <td>NA before 2019</td>\n",
       "    </tr>\n",
       "    <tr>\n",
       "      <th>1353</th>\n",
       "      <td>2014</td>\n",
       "      <td>HISP</td>\n",
       "      <td>.</td>\n",
       "      <td>.</td>\n",
       "      <td>NA before 2019</td>\n",
       "    </tr>\n",
       "    <tr>\n",
       "      <th>2521</th>\n",
       "      <td>2015</td>\n",
       "      <td>ALC_DRUG</td>\n",
       "      <td>.</td>\n",
       "      <td>.</td>\n",
       "      <td>NA before 2019</td>\n",
       "    </tr>\n",
       "    <tr>\n",
       "      <th>2601</th>\n",
       "      <td>2015</td>\n",
       "      <td>HISP</td>\n",
       "      <td>.</td>\n",
       "      <td>.</td>\n",
       "      <td>NA before 2019</td>\n",
       "    </tr>\n",
       "    <tr>\n",
       "      <th>3769</th>\n",
       "      <td>2016</td>\n",
       "      <td>ALC_DRUG</td>\n",
       "      <td>.</td>\n",
       "      <td>.</td>\n",
       "      <td>NA before 2019</td>\n",
       "    </tr>\n",
       "    <tr>\n",
       "      <th>3849</th>\n",
       "      <td>2016</td>\n",
       "      <td>HISP</td>\n",
       "      <td>.</td>\n",
       "      <td>.</td>\n",
       "      <td>NA before 2019</td>\n",
       "    </tr>\n",
       "    <tr>\n",
       "      <th>5017</th>\n",
       "      <td>2017</td>\n",
       "      <td>ALC_DRUG</td>\n",
       "      <td>.</td>\n",
       "      <td>.</td>\n",
       "      <td>NA before 2019</td>\n",
       "    </tr>\n",
       "    <tr>\n",
       "      <th>5097</th>\n",
       "      <td>2017</td>\n",
       "      <td>HISP</td>\n",
       "      <td>.</td>\n",
       "      <td>.</td>\n",
       "      <td>NA before 2019</td>\n",
       "    </tr>\n",
       "    <tr>\n",
       "      <th>6265</th>\n",
       "      <td>2018</td>\n",
       "      <td>ALC_DRUG</td>\n",
       "      <td>.</td>\n",
       "      <td>.</td>\n",
       "      <td>NA before 2019</td>\n",
       "    </tr>\n",
       "    <tr>\n",
       "      <th>6345</th>\n",
       "      <td>2018</td>\n",
       "      <td>HISP</td>\n",
       "      <td>.</td>\n",
       "      <td>.</td>\n",
       "      <td>NA before 2019</td>\n",
       "    </tr>\n",
       "    <tr>\n",
       "      <th>7513</th>\n",
       "      <td>2019</td>\n",
       "      <td>ALC_DRUG</td>\n",
       "      <td>.</td>\n",
       "      <td>.</td>\n",
       "      <td>NA before 2019</td>\n",
       "    </tr>\n",
       "    <tr>\n",
       "      <th>7593</th>\n",
       "      <td>2019</td>\n",
       "      <td>HISP</td>\n",
       "      <td>.</td>\n",
       "      <td>.</td>\n",
       "      <td>NA before 2019</td>\n",
       "    </tr>\n",
       "    <tr>\n",
       "      <th>8761</th>\n",
       "      <td>2020</td>\n",
       "      <td>ALC_DRUG</td>\n",
       "      <td>.</td>\n",
       "      <td>.</td>\n",
       "      <td>NA before 2019</td>\n",
       "    </tr>\n",
       "    <tr>\n",
       "      <th>8841</th>\n",
       "      <td>2020</td>\n",
       "      <td>HISP</td>\n",
       "      <td>.</td>\n",
       "      <td>.</td>\n",
       "      <td>NA before 2019</td>\n",
       "    </tr>\n",
       "    <tr>\n",
       "      <th>10010</th>\n",
       "      <td>2021</td>\n",
       "      <td>ALC_DRUG</td>\n",
       "      <td>.</td>\n",
       "      <td>.</td>\n",
       "      <td>NA before 2019</td>\n",
       "    </tr>\n",
       "    <tr>\n",
       "      <th>10091</th>\n",
       "      <td>2021</td>\n",
       "      <td>HISP</td>\n",
       "      <td>.</td>\n",
       "      <td>.</td>\n",
       "      <td>NA before 2019</td>\n",
       "    </tr>\n",
       "    <tr>\n",
       "      <th>11259</th>\n",
       "      <td>2022</td>\n",
       "      <td>ALC_DRUG</td>\n",
       "      <td>.</td>\n",
       "      <td>.</td>\n",
       "      <td>NA before 2019</td>\n",
       "    </tr>\n",
       "    <tr>\n",
       "      <th>11340</th>\n",
       "      <td>2022</td>\n",
       "      <td>HISP</td>\n",
       "      <td>.</td>\n",
       "      <td>.</td>\n",
       "      <td>NA before 2019</td>\n",
       "    </tr>\n",
       "  </tbody>\n",
       "</table>\n",
       "</div>"
      ],
      "text/plain": [
       "       Year Format name Starting value for format Ending value for format  \\\n",
       "25     2013    ALC_DRUG                         .                       .   \n",
       "105    2013        HISP                         .                       .   \n",
       "1273   2014    ALC_DRUG                         .                       .   \n",
       "1353   2014        HISP                         .                       .   \n",
       "2521   2015    ALC_DRUG                         .                       .   \n",
       "2601   2015        HISP                         .                       .   \n",
       "3769   2016    ALC_DRUG                         .                       .   \n",
       "3849   2016        HISP                         .                       .   \n",
       "5017   2017    ALC_DRUG                         .                       .   \n",
       "5097   2017        HISP                         .                       .   \n",
       "6265   2018    ALC_DRUG                         .                       .   \n",
       "6345   2018        HISP                         .                       .   \n",
       "7513   2019    ALC_DRUG                         .                       .   \n",
       "7593   2019        HISP                         .                       .   \n",
       "8761   2020    ALC_DRUG                         .                       .   \n",
       "8841   2020        HISP                         .                       .   \n",
       "10010  2021    ALC_DRUG                         .                       .   \n",
       "10091  2021        HISP                         .                       .   \n",
       "11259  2022    ALC_DRUG                         .                       .   \n",
       "11340  2022        HISP                         .                       .   \n",
       "\n",
       "      Format value label  \n",
       "25        NA before 2019  \n",
       "105       NA before 2019  \n",
       "1273      NA before 2019  \n",
       "1353      NA before 2019  \n",
       "2521      NA before 2019  \n",
       "2601      NA before 2019  \n",
       "3769      NA before 2019  \n",
       "3849      NA before 2019  \n",
       "5017      NA before 2019  \n",
       "5097      NA before 2019  \n",
       "6265      NA before 2019  \n",
       "6345      NA before 2019  \n",
       "7513      NA before 2019  \n",
       "7593      NA before 2019  \n",
       "8761      NA before 2019  \n",
       "8841      NA before 2019  \n",
       "10010     NA before 2019  \n",
       "10091     NA before 2019  \n",
       "11259     NA before 2019  \n",
       "11340     NA before 2019  "
      ]
     },
     "execution_count": 11,
     "metadata": {},
     "output_type": "execute_result"
    }
   ],
   "source": [
    "# Strip leading spaces and check that the remaining data is numeric\n",
    "all_codes_df['Starting value for format'] = all_codes_df['Starting value for format'].str.strip()\n",
    "all_codes_df[~all_codes_df['Starting value for format'].str.isnumeric()]"
   ]
  },
  {
   "cell_type": "code",
   "execution_count": 12,
   "id": "139509be-12af-4f1b-b811-70d6655693f4",
   "metadata": {},
   "outputs": [],
   "source": [
    "# Remove rows with Starting value for format of period and convert column type to int\n",
    "rows_to_del = all_codes_df[~all_codes_df['Starting value for format'].str.isnumeric()].index\n",
    "all_codes_df.drop(rows_to_del, axis='index', inplace=True)\n",
    "all_codes_df['Starting value for format'] = all_codes_df['Starting value for format'].astype(int)"
   ]
  },
  {
   "cell_type": "code",
   "execution_count": 13,
   "id": "4d425aad-eea8-47ff-972c-426bad212111",
   "metadata": {},
   "outputs": [
    {
     "data": {
      "text/plain": [
       "array(['               0', '             120', '             201', ...,\n",
       "       '            9999', '             714', '            1552'],\n",
       "      dtype=object)"
      ]
     },
     "execution_count": 13,
     "metadata": {},
     "output_type": "execute_result"
    }
   ],
   "source": [
    "# Review Starting Value data\n",
    "all_codes_df['Ending value for format'].unique()"
   ]
  },
  {
   "cell_type": "code",
   "execution_count": 14,
   "id": "31cb3237-06e7-4010-a37e-ce25ec8bafe9",
   "metadata": {},
   "outputs": [
    {
     "data": {
      "text/html": [
       "<div>\n",
       "<style scoped>\n",
       "    .dataframe tbody tr th:only-of-type {\n",
       "        vertical-align: middle;\n",
       "    }\n",
       "\n",
       "    .dataframe tbody tr th {\n",
       "        vertical-align: top;\n",
       "    }\n",
       "\n",
       "    .dataframe thead th {\n",
       "        text-align: right;\n",
       "    }\n",
       "</style>\n",
       "<table border=\"1\" class=\"dataframe\">\n",
       "  <thead>\n",
       "    <tr style=\"text-align: right;\">\n",
       "      <th></th>\n",
       "      <th>Year</th>\n",
       "      <th>Format name</th>\n",
       "      <th>Starting value for format</th>\n",
       "      <th>Ending value for format</th>\n",
       "      <th>Format value label</th>\n",
       "    </tr>\n",
       "  </thead>\n",
       "  <tbody>\n",
       "  </tbody>\n",
       "</table>\n",
       "</div>"
      ],
      "text/plain": [
       "Empty DataFrame\n",
       "Columns: [Year, Format name, Starting value for format, Ending value for format, Format value label]\n",
       "Index: []"
      ]
     },
     "execution_count": 14,
     "metadata": {},
     "output_type": "execute_result"
    }
   ],
   "source": [
    "# Strip leading spaces and check that the remaining data is numeric\n",
    "all_codes_df['Ending value for format'] = all_codes_df['Ending value for format'].str.strip()\n",
    "all_codes_df[~all_codes_df['Ending value for format'].str.isnumeric()]"
   ]
  },
  {
   "cell_type": "code",
   "execution_count": 15,
   "id": "4c00c9c9-067f-47a1-82be-b8a01bda4079",
   "metadata": {},
   "outputs": [],
   "source": [
    "# Convert Ending value data to int\n",
    "all_codes_df['Ending value for format'] = all_codes_df['Ending value for format'].astype(int)"
   ]
  },
  {
   "cell_type": "markdown",
   "id": "58b6526b-c41a-46dd-917e-4e7246e0b098",
   "metadata": {},
   "source": [
    "***\n",
    "# <font color='red'> Pick up here </font>\n",
    "Review labels for any additional issues\n",
    "*** "
   ]
  },
  {
   "cell_type": "code",
   "execution_count": 16,
   "id": "4be3437e-b1c8-45b3-8b61-e65373a04ffb",
   "metadata": {},
   "outputs": [
    {
     "data": {
      "text/plain": [
       "Year                          int32\n",
       "Format name                  object\n",
       "Starting value for format     int32\n",
       "Ending value for format       int32\n",
       "Format value label           object\n",
       "dtype: object"
      ]
     },
     "execution_count": 16,
     "metadata": {},
     "output_type": "execute_result"
    }
   ],
   "source": [
    "all_codes_df.dtypes"
   ]
  },
  {
   "cell_type": "code",
   "execution_count": null,
   "id": "d5ca1cc6-f679-42d1-b194-70ebaf145cf4",
   "metadata": {},
   "outputs": [],
   "source": []
  },
  {
   "cell_type": "markdown",
   "id": "4e0ee4eb-8264-4b18-a386-87899874cc3e",
   "metadata": {},
   "source": [
    "***  \n",
    "# Validate Code Categories\n",
    "*** "
   ]
  },
  {
   "cell_type": "code",
   "execution_count": 17,
   "id": "d527ecf9-96e5-4a42-8aa9-ee6a2ed7c426",
   "metadata": {},
   "outputs": [
    {
     "data": {
      "text/plain": [
       "array(['AGELTTWO', 'ALC_DRUG', 'BDYPT', 'DIAG', 'DISP', 'FIRE', 'GENDER',\n",
       "       'HISP', 'LOC', 'PROD', 'RACE'], dtype=object)"
      ]
     },
     "execution_count": 17,
     "metadata": {},
     "output_type": "execute_result"
    }
   ],
   "source": [
    "# View unique categories and look for duplication\n",
    "code_cats_list = all_codes_df['Format name'].unique()\n",
    "code_cats_list"
   ]
  },
  {
   "cell_type": "code",
   "execution_count": 18,
   "id": "4f6eecca-c18e-4b4e-85ab-c708ce2a550a",
   "metadata": {},
   "outputs": [
    {
     "name": "stdout",
     "output_type": "stream",
     "text": [
      "Validation check passed - all categories are included in all years.\n"
     ]
    }
   ],
   "source": [
    "# Verify that a all code categories are present in each annual set of data\n",
    "missing_cats = 0\n",
    "for cat in code_cats_list:\n",
    "    for yr in range(2013, 2023):\n",
    "        if len(all_codes_df[all_codes_df['Format name'] == cat]) == 0:\n",
    "            mssing_cats += 1\n",
    "            print(f'{yr}: Missing {cat}')\n",
    "if missing_cats == 0:\n",
    "    print('Validation check passed - all categories are included in all years.')"
   ]
  },
  {
   "cell_type": "markdown",
   "id": "b8725c6b-20be-4e6d-a743-93f29de78e66",
   "metadata": {},
   "source": [
    "***  \n",
    "# Validate Codes\n",
    "*** "
   ]
  },
  {
   "cell_type": "code",
   "execution_count": null,
   "id": "359bcb26-fb67-4718-bce5-a5f5fd718b30",
   "metadata": {},
   "outputs": [],
   "source": []
  }
 ],
 "metadata": {
  "kernelspec": {
   "display_name": "Python 3 (ipykernel)",
   "language": "python",
   "name": "python3"
  },
  "language_info": {
   "codemirror_mode": {
    "name": "ipython",
    "version": 3
   },
   "file_extension": ".py",
   "mimetype": "text/x-python",
   "name": "python",
   "nbconvert_exporter": "python",
   "pygments_lexer": "ipython3",
   "version": "3.10.4"
  }
 },
 "nbformat": 4,
 "nbformat_minor": 5
}
