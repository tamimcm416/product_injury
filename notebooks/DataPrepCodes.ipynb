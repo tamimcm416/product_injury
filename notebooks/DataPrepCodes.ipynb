{
 "cells": [
  {
   "cell_type": "markdown",
   "id": "a6401229-d7a4-4239-bb27-9902edb4260a",
   "metadata": {
    "tags": []
   },
   "source": [
    "# Product Injury\n",
    "<font size=4>Data Prep and Load - Codes</font>   \n",
    "***  \n",
    "\n",
    "**Project Summary:**   \n",
    "The Consumer Product Safety Commission operations a surveillance system (NEISS) to track injury data related to consumer products. The data is collected from a representative sample of emergency rooms in the United Status. \n",
    "This project will examine the data from 2013 through 2022 to explore trends in product injuries resulting in emergency room visits.\n",
    "\n",
    "**Notebook Scope:**  \n",
    "This notebook includes code to validate and cleanup the codes used in the NEISS data file. This data has been downloaded from the [NEISS website](https://www.cpsc.gov/cgibin/NEISSQuery/home.aspx).\n",
    "\n",
    "**Output:**  \n",
    "An excel file with a scrubbed list of codes and labels that will be used for analysis of NEISS data.\n",
    "***  "
   ]
  },
  {
   "cell_type": "markdown",
   "id": "6fbdbe78-45ef-45e9-aa24-7a404b633884",
   "metadata": {
    "tags": []
   },
   "source": [
    "***\n",
    "# Notebook Setup\n",
    "***"
   ]
  },
  {
   "cell_type": "code",
   "execution_count": 145,
   "id": "e3e04588-e5b2-4182-a7fb-b6f2d978a0d6",
   "metadata": {},
   "outputs": [],
   "source": [
    "# Import libraries\n",
    "import pandas as pd"
   ]
  },
  {
   "cell_type": "markdown",
   "id": "2443d95a-7e1c-4b7f-927c-6cf71cdf300d",
   "metadata": {
    "tags": []
   },
   "source": [
    "***  \n",
    "# Read Raw Data\n",
    "***"
   ]
  },
  {
   "cell_type": "code",
   "execution_count": 146,
   "id": "b305efcf-8b09-48ff-a7b9-2b8e548eace4",
   "metadata": {},
   "outputs": [
    {
     "data": {
      "text/html": [
       "<div>\n",
       "<style scoped>\n",
       "    .dataframe tbody tr th:only-of-type {\n",
       "        vertical-align: middle;\n",
       "    }\n",
       "\n",
       "    .dataframe tbody tr th {\n",
       "        vertical-align: top;\n",
       "    }\n",
       "\n",
       "    .dataframe thead th {\n",
       "        text-align: right;\n",
       "    }\n",
       "</style>\n",
       "<table border=\"1\" class=\"dataframe\">\n",
       "  <thead>\n",
       "    <tr style=\"text-align: right;\">\n",
       "      <th></th>\n",
       "      <th>Year</th>\n",
       "      <th>Format name</th>\n",
       "      <th>Starting value for format</th>\n",
       "      <th>Ending value for format</th>\n",
       "      <th>Format value label</th>\n",
       "    </tr>\n",
       "  </thead>\n",
       "  <tbody>\n",
       "    <tr>\n",
       "      <th>0</th>\n",
       "      <td>2013</td>\n",
       "      <td>AGELTTWO</td>\n",
       "      <td>0</td>\n",
       "      <td>0</td>\n",
       "      <td>UNK</td>\n",
       "    </tr>\n",
       "    <tr>\n",
       "      <th>1</th>\n",
       "      <td>2013</td>\n",
       "      <td>AGELTTWO</td>\n",
       "      <td>2</td>\n",
       "      <td>120</td>\n",
       "      <td>2 YEARS AND OLDER</td>\n",
       "    </tr>\n",
       "    <tr>\n",
       "      <th>2</th>\n",
       "      <td>2013</td>\n",
       "      <td>AGELTTWO</td>\n",
       "      <td>201</td>\n",
       "      <td>201</td>\n",
       "      <td>1 MONTH</td>\n",
       "    </tr>\n",
       "    <tr>\n",
       "      <th>3</th>\n",
       "      <td>2013</td>\n",
       "      <td>AGELTTWO</td>\n",
       "      <td>202</td>\n",
       "      <td>202</td>\n",
       "      <td>2 MONTHS</td>\n",
       "    </tr>\n",
       "    <tr>\n",
       "      <th>4</th>\n",
       "      <td>2013</td>\n",
       "      <td>AGELTTWO</td>\n",
       "      <td>203</td>\n",
       "      <td>203</td>\n",
       "      <td>3 MONTHS</td>\n",
       "    </tr>\n",
       "    <tr>\n",
       "      <th>...</th>\n",
       "      <td>...</td>\n",
       "      <td>...</td>\n",
       "      <td>...</td>\n",
       "      <td>...</td>\n",
       "      <td>...</td>\n",
       "    </tr>\n",
       "    <tr>\n",
       "      <th>1244</th>\n",
       "      <td>2022</td>\n",
       "      <td>RACE</td>\n",
       "      <td>2</td>\n",
       "      <td>2</td>\n",
       "      <td>BLACK/AFRICAN AMERICAN</td>\n",
       "    </tr>\n",
       "    <tr>\n",
       "      <th>1245</th>\n",
       "      <td>2022</td>\n",
       "      <td>RACE</td>\n",
       "      <td>3</td>\n",
       "      <td>3</td>\n",
       "      <td>OTHER</td>\n",
       "    </tr>\n",
       "    <tr>\n",
       "      <th>1246</th>\n",
       "      <td>2022</td>\n",
       "      <td>RACE</td>\n",
       "      <td>4</td>\n",
       "      <td>4</td>\n",
       "      <td>ASIAN</td>\n",
       "    </tr>\n",
       "    <tr>\n",
       "      <th>1247</th>\n",
       "      <td>2022</td>\n",
       "      <td>RACE</td>\n",
       "      <td>5</td>\n",
       "      <td>5</td>\n",
       "      <td>AMERICAN INDIAN/ALASKA NATIVE</td>\n",
       "    </tr>\n",
       "    <tr>\n",
       "      <th>1248</th>\n",
       "      <td>2022</td>\n",
       "      <td>RACE</td>\n",
       "      <td>6</td>\n",
       "      <td>6</td>\n",
       "      <td>NATIVE HAWAIIAN/PACIFIC ISLANDER</td>\n",
       "    </tr>\n",
       "  </tbody>\n",
       "</table>\n",
       "<p>12483 rows × 5 columns</p>\n",
       "</div>"
      ],
      "text/plain": [
       "      Year Format name Starting value for format Ending value for format  \\\n",
       "0     2013    AGELTTWO                         0                       0   \n",
       "1     2013    AGELTTWO                         2                     120   \n",
       "2     2013    AGELTTWO                       201                     201   \n",
       "3     2013    AGELTTWO                       202                     202   \n",
       "4     2013    AGELTTWO                       203                     203   \n",
       "...    ...         ...                       ...                     ...   \n",
       "1244  2022        RACE                         2                       2   \n",
       "1245  2022        RACE                         3                       3   \n",
       "1246  2022        RACE                         4                       4   \n",
       "1247  2022        RACE                         5                       5   \n",
       "1248  2022        RACE                         6                       6   \n",
       "\n",
       "                    Format value label  \n",
       "0                                  UNK  \n",
       "1                    2 YEARS AND OLDER  \n",
       "2                              1 MONTH  \n",
       "3                             2 MONTHS  \n",
       "4                             3 MONTHS  \n",
       "...                                ...  \n",
       "1244            BLACK/AFRICAN AMERICAN  \n",
       "1245                             OTHER  \n",
       "1246                             ASIAN  \n",
       "1247     AMERICAN INDIAN/ALASKA NATIVE  \n",
       "1248  NATIVE HAWAIIAN/PACIFIC ISLANDER  \n",
       "\n",
       "[12483 rows x 5 columns]"
      ]
     },
     "execution_count": 146,
     "metadata": {},
     "output_type": "execute_result"
    }
   ],
   "source": [
    "# Read in the NEIS_FMT worksheet from each workbook\n",
    "path = '../Data/'\n",
    "files = ['neiss' + str(x) + '.xlsx' for x in range(2013, 2023)]\n",
    "\n",
    "all_codes_df = pd.DataFrame()\n",
    "\n",
    "for file in files:\n",
    "    raw_df = pd.read_excel(path + file, sheet_name = 'NEISS_FMT')\n",
    "    raw_df.insert(0, 'Year', file[-9:-5])\n",
    "    all_codes_df = pd.concat([all_codes_df, raw_df])\n",
    "\n",
    "all_codes_df"
   ]
  },
  {
   "cell_type": "code",
   "execution_count": 147,
   "id": "9ed67883-1981-4df1-8ff1-96b07b728dd5",
   "metadata": {},
   "outputs": [],
   "source": [
    "# Reset index\n",
    "all_codes_df.reset_index(drop=True, inplace=True)"
   ]
  },
  {
   "cell_type": "code",
   "execution_count": 148,
   "id": "fda51115-ad27-4994-ae97-bdbdd741d9f3",
   "metadata": {},
   "outputs": [],
   "source": [
    "# Rename columns for clarity\n",
    "all_codes_df.columns = ['Year', 'Code', 'Start Value', 'End Value', 'Label']"
   ]
  },
  {
   "cell_type": "markdown",
   "id": "bdcf6da4-4d7c-45ac-b5dd-c82400e072f7",
   "metadata": {},
   "source": [
    "***  \n",
    "# Verify Data and Types\n",
    "***  "
   ]
  },
  {
   "cell_type": "code",
   "execution_count": 149,
   "id": "2eedc294-98b6-46b0-a874-03b079ebad79",
   "metadata": {},
   "outputs": [
    {
     "data": {
      "text/plain": [
       "Index(['Label'], dtype='object')"
      ]
     },
     "execution_count": 149,
     "metadata": {},
     "output_type": "execute_result"
    }
   ],
   "source": [
    "# Look for columns with null values\n",
    "all_codes_df.columns[all_codes_df.isnull().any()]"
   ]
  },
  {
   "cell_type": "code",
   "execution_count": 150,
   "id": "cf5fd034-ac03-4254-a9f5-678f7eac1b2d",
   "metadata": {},
   "outputs": [],
   "source": [
    "# Delete all codes that do not contain a label\n",
    "rows_to_del = all_codes_df[all_codes_df['Label'].isnull()].index\n",
    "all_codes_df.drop(rows_to_del, axis='index', inplace=True)"
   ]
  },
  {
   "cell_type": "code",
   "execution_count": 151,
   "id": "e4714a80-0835-4117-ad1f-07bb6ee6a6d6",
   "metadata": {},
   "outputs": [
    {
     "data": {
      "text/plain": [
       "Year           object\n",
       "Code           object\n",
       "Start Value    object\n",
       "End Value      object\n",
       "Label          object\n",
       "dtype: object"
      ]
     },
     "execution_count": 151,
     "metadata": {},
     "output_type": "execute_result"
    }
   ],
   "source": [
    "# Review data types\n",
    "all_codes_df.dtypes"
   ]
  },
  {
   "cell_type": "markdown",
   "id": "9d13c2a9-acf5-4f5b-95c4-c5423b1094cc",
   "metadata": {},
   "source": [
    "***\n",
    "## Review Year Data\n",
    "***"
   ]
  },
  {
   "cell_type": "code",
   "execution_count": 152,
   "id": "5af63a15-1e20-4dde-bd51-a830d74bac5d",
   "metadata": {},
   "outputs": [
    {
     "data": {
      "text/plain": [
       "array(['2013', '2014', '2015', '2016', '2017', '2018', '2019', '2020',\n",
       "       '2021', '2022'], dtype=object)"
      ]
     },
     "execution_count": 152,
     "metadata": {},
     "output_type": "execute_result"
    }
   ],
   "source": [
    "# Verify all Year data is in our present, and in our date range\n",
    "all_codes_df['Year'].unique()"
   ]
  },
  {
   "cell_type": "code",
   "execution_count": 153,
   "id": "6c34a6d1-6e86-4f82-89bb-9530a9d8e875",
   "metadata": {},
   "outputs": [],
   "source": [
    "# Set Year data type to int\n",
    "all_codes_df['Year'] = all_codes_df['Year'].astype(int)"
   ]
  },
  {
   "cell_type": "markdown",
   "id": "f6b65a5d-d42d-4402-b6cb-7ec7f0ea53d9",
   "metadata": {},
   "source": [
    "***\n",
    "## Review Format Name Data\n",
    "***"
   ]
  },
  {
   "cell_type": "code",
   "execution_count": 154,
   "id": "964e5881-c835-4368-9d11-6dd8b3d53d4c",
   "metadata": {},
   "outputs": [
    {
     "data": {
      "text/plain": [
       "array(['AGELTTWO', 'ALC_DRUG', 'BDYPT', 'DIAG', 'DISP', 'FIRE', 'GENDER',\n",
       "       'HISP', 'LOC', 'PROD', 'RACE'], dtype=object)"
      ]
     },
     "execution_count": 154,
     "metadata": {},
     "output_type": "execute_result"
    }
   ],
   "source": [
    "# Verify all Format name data is valid\n",
    "all_codes_df['Code'].unique()"
   ]
  },
  {
   "cell_type": "markdown",
   "id": "ab759c61-0cc3-4088-8594-e148084406c1",
   "metadata": {},
   "source": [
    "***\n",
    "## Review Starting Value Data\n",
    "***"
   ]
  },
  {
   "cell_type": "code",
   "execution_count": 155,
   "id": "84219ad3-8299-421e-b311-1cb1a867c440",
   "metadata": {},
   "outputs": [
    {
     "data": {
      "text/plain": [
       "array(['               0', '               2', '             201', ...,\n",
       "       '            9999', '             714', '            1552'],\n",
       "      dtype=object)"
      ]
     },
     "execution_count": 155,
     "metadata": {},
     "output_type": "execute_result"
    }
   ],
   "source": [
    "# Review Starting Value data\n",
    "all_codes_df['Start Value'].unique()"
   ]
  },
  {
   "cell_type": "code",
   "execution_count": 156,
   "id": "6e20f1a3-98a6-407b-87a1-e801cad973e0",
   "metadata": {},
   "outputs": [
    {
     "data": {
      "text/html": [
       "<div>\n",
       "<style scoped>\n",
       "    .dataframe tbody tr th:only-of-type {\n",
       "        vertical-align: middle;\n",
       "    }\n",
       "\n",
       "    .dataframe tbody tr th {\n",
       "        vertical-align: top;\n",
       "    }\n",
       "\n",
       "    .dataframe thead th {\n",
       "        text-align: right;\n",
       "    }\n",
       "</style>\n",
       "<table border=\"1\" class=\"dataframe\">\n",
       "  <thead>\n",
       "    <tr style=\"text-align: right;\">\n",
       "      <th></th>\n",
       "      <th>Year</th>\n",
       "      <th>Code</th>\n",
       "      <th>Start Value</th>\n",
       "      <th>End Value</th>\n",
       "      <th>Label</th>\n",
       "    </tr>\n",
       "  </thead>\n",
       "  <tbody>\n",
       "    <tr>\n",
       "      <th>25</th>\n",
       "      <td>2013</td>\n",
       "      <td>ALC_DRUG</td>\n",
       "      <td>.</td>\n",
       "      <td>.</td>\n",
       "      <td>NA before 2019</td>\n",
       "    </tr>\n",
       "    <tr>\n",
       "      <th>105</th>\n",
       "      <td>2013</td>\n",
       "      <td>HISP</td>\n",
       "      <td>.</td>\n",
       "      <td>.</td>\n",
       "      <td>NA before 2019</td>\n",
       "    </tr>\n",
       "    <tr>\n",
       "      <th>1273</th>\n",
       "      <td>2014</td>\n",
       "      <td>ALC_DRUG</td>\n",
       "      <td>.</td>\n",
       "      <td>.</td>\n",
       "      <td>NA before 2019</td>\n",
       "    </tr>\n",
       "    <tr>\n",
       "      <th>1353</th>\n",
       "      <td>2014</td>\n",
       "      <td>HISP</td>\n",
       "      <td>.</td>\n",
       "      <td>.</td>\n",
       "      <td>NA before 2019</td>\n",
       "    </tr>\n",
       "    <tr>\n",
       "      <th>2521</th>\n",
       "      <td>2015</td>\n",
       "      <td>ALC_DRUG</td>\n",
       "      <td>.</td>\n",
       "      <td>.</td>\n",
       "      <td>NA before 2019</td>\n",
       "    </tr>\n",
       "    <tr>\n",
       "      <th>2601</th>\n",
       "      <td>2015</td>\n",
       "      <td>HISP</td>\n",
       "      <td>.</td>\n",
       "      <td>.</td>\n",
       "      <td>NA before 2019</td>\n",
       "    </tr>\n",
       "    <tr>\n",
       "      <th>3769</th>\n",
       "      <td>2016</td>\n",
       "      <td>ALC_DRUG</td>\n",
       "      <td>.</td>\n",
       "      <td>.</td>\n",
       "      <td>NA before 2019</td>\n",
       "    </tr>\n",
       "    <tr>\n",
       "      <th>3849</th>\n",
       "      <td>2016</td>\n",
       "      <td>HISP</td>\n",
       "      <td>.</td>\n",
       "      <td>.</td>\n",
       "      <td>NA before 2019</td>\n",
       "    </tr>\n",
       "    <tr>\n",
       "      <th>5017</th>\n",
       "      <td>2017</td>\n",
       "      <td>ALC_DRUG</td>\n",
       "      <td>.</td>\n",
       "      <td>.</td>\n",
       "      <td>NA before 2019</td>\n",
       "    </tr>\n",
       "    <tr>\n",
       "      <th>5097</th>\n",
       "      <td>2017</td>\n",
       "      <td>HISP</td>\n",
       "      <td>.</td>\n",
       "      <td>.</td>\n",
       "      <td>NA before 2019</td>\n",
       "    </tr>\n",
       "    <tr>\n",
       "      <th>6265</th>\n",
       "      <td>2018</td>\n",
       "      <td>ALC_DRUG</td>\n",
       "      <td>.</td>\n",
       "      <td>.</td>\n",
       "      <td>NA before 2019</td>\n",
       "    </tr>\n",
       "    <tr>\n",
       "      <th>6345</th>\n",
       "      <td>2018</td>\n",
       "      <td>HISP</td>\n",
       "      <td>.</td>\n",
       "      <td>.</td>\n",
       "      <td>NA before 2019</td>\n",
       "    </tr>\n",
       "    <tr>\n",
       "      <th>7513</th>\n",
       "      <td>2019</td>\n",
       "      <td>ALC_DRUG</td>\n",
       "      <td>.</td>\n",
       "      <td>.</td>\n",
       "      <td>NA before 2019</td>\n",
       "    </tr>\n",
       "    <tr>\n",
       "      <th>7593</th>\n",
       "      <td>2019</td>\n",
       "      <td>HISP</td>\n",
       "      <td>.</td>\n",
       "      <td>.</td>\n",
       "      <td>NA before 2019</td>\n",
       "    </tr>\n",
       "    <tr>\n",
       "      <th>8761</th>\n",
       "      <td>2020</td>\n",
       "      <td>ALC_DRUG</td>\n",
       "      <td>.</td>\n",
       "      <td>.</td>\n",
       "      <td>NA before 2019</td>\n",
       "    </tr>\n",
       "    <tr>\n",
       "      <th>8841</th>\n",
       "      <td>2020</td>\n",
       "      <td>HISP</td>\n",
       "      <td>.</td>\n",
       "      <td>.</td>\n",
       "      <td>NA before 2019</td>\n",
       "    </tr>\n",
       "    <tr>\n",
       "      <th>10010</th>\n",
       "      <td>2021</td>\n",
       "      <td>ALC_DRUG</td>\n",
       "      <td>.</td>\n",
       "      <td>.</td>\n",
       "      <td>NA before 2019</td>\n",
       "    </tr>\n",
       "    <tr>\n",
       "      <th>10091</th>\n",
       "      <td>2021</td>\n",
       "      <td>HISP</td>\n",
       "      <td>.</td>\n",
       "      <td>.</td>\n",
       "      <td>NA before 2019</td>\n",
       "    </tr>\n",
       "    <tr>\n",
       "      <th>11259</th>\n",
       "      <td>2022</td>\n",
       "      <td>ALC_DRUG</td>\n",
       "      <td>.</td>\n",
       "      <td>.</td>\n",
       "      <td>NA before 2019</td>\n",
       "    </tr>\n",
       "    <tr>\n",
       "      <th>11340</th>\n",
       "      <td>2022</td>\n",
       "      <td>HISP</td>\n",
       "      <td>.</td>\n",
       "      <td>.</td>\n",
       "      <td>NA before 2019</td>\n",
       "    </tr>\n",
       "  </tbody>\n",
       "</table>\n",
       "</div>"
      ],
      "text/plain": [
       "       Year      Code Start Value         End Value           Label\n",
       "25     2013  ALC_DRUG           .                 .  NA before 2019\n",
       "105    2013      HISP           .                 .  NA before 2019\n",
       "1273   2014  ALC_DRUG           .                 .  NA before 2019\n",
       "1353   2014      HISP           .                 .  NA before 2019\n",
       "2521   2015  ALC_DRUG           .                 .  NA before 2019\n",
       "2601   2015      HISP           .                 .  NA before 2019\n",
       "3769   2016  ALC_DRUG           .                 .  NA before 2019\n",
       "3849   2016      HISP           .                 .  NA before 2019\n",
       "5017   2017  ALC_DRUG           .                 .  NA before 2019\n",
       "5097   2017      HISP           .                 .  NA before 2019\n",
       "6265   2018  ALC_DRUG           .                 .  NA before 2019\n",
       "6345   2018      HISP           .                 .  NA before 2019\n",
       "7513   2019  ALC_DRUG           .                 .  NA before 2019\n",
       "7593   2019      HISP           .                 .  NA before 2019\n",
       "8761   2020  ALC_DRUG           .                 .  NA before 2019\n",
       "8841   2020      HISP           .                 .  NA before 2019\n",
       "10010  2021  ALC_DRUG           .                 .  NA before 2019\n",
       "10091  2021      HISP           .                 .  NA before 2019\n",
       "11259  2022  ALC_DRUG           .                 .  NA before 2019\n",
       "11340  2022      HISP           .                 .  NA before 2019"
      ]
     },
     "execution_count": 156,
     "metadata": {},
     "output_type": "execute_result"
    }
   ],
   "source": [
    "# Strip leading spaces and check that the remaining data is numeric\n",
    "all_codes_df['Start Value'] = all_codes_df['Start Value'].str.strip()\n",
    "all_codes_df[~all_codes_df['Start Value'].str.isnumeric()]"
   ]
  },
  {
   "cell_type": "code",
   "execution_count": 157,
   "id": "139509be-12af-4f1b-b811-70d6655693f4",
   "metadata": {},
   "outputs": [],
   "source": [
    "# Remove rows with Starting value for format of period and convert column type to int\n",
    "rows_to_del = all_codes_df[~all_codes_df['Start Value'].str.isnumeric()].index\n",
    "all_codes_df.drop(rows_to_del, axis='index', inplace=True)\n",
    "all_codes_df['Start Value'] = all_codes_df['Start Value'].astype(int)"
   ]
  },
  {
   "cell_type": "markdown",
   "id": "d366f6c2-0ed5-4419-8509-560b2a6f0fd2",
   "metadata": {
    "tags": []
   },
   "source": [
    "***\n",
    "## Review Ending Value Data\n",
    "***"
   ]
  },
  {
   "cell_type": "code",
   "execution_count": 158,
   "id": "4d425aad-eea8-47ff-972c-426bad212111",
   "metadata": {},
   "outputs": [
    {
     "data": {
      "text/plain": [
       "array(['               0', '             120', '             201', ...,\n",
       "       '            9999', '             714', '            1552'],\n",
       "      dtype=object)"
      ]
     },
     "execution_count": 158,
     "metadata": {},
     "output_type": "execute_result"
    }
   ],
   "source": [
    "# Review Ending Value data\n",
    "all_codes_df['End Value'].unique()"
   ]
  },
  {
   "cell_type": "code",
   "execution_count": 159,
   "id": "31cb3237-06e7-4010-a37e-ce25ec8bafe9",
   "metadata": {},
   "outputs": [
    {
     "data": {
      "text/html": [
       "<div>\n",
       "<style scoped>\n",
       "    .dataframe tbody tr th:only-of-type {\n",
       "        vertical-align: middle;\n",
       "    }\n",
       "\n",
       "    .dataframe tbody tr th {\n",
       "        vertical-align: top;\n",
       "    }\n",
       "\n",
       "    .dataframe thead th {\n",
       "        text-align: right;\n",
       "    }\n",
       "</style>\n",
       "<table border=\"1\" class=\"dataframe\">\n",
       "  <thead>\n",
       "    <tr style=\"text-align: right;\">\n",
       "      <th></th>\n",
       "      <th>Year</th>\n",
       "      <th>Code</th>\n",
       "      <th>Start Value</th>\n",
       "      <th>End Value</th>\n",
       "      <th>Label</th>\n",
       "    </tr>\n",
       "  </thead>\n",
       "  <tbody>\n",
       "  </tbody>\n",
       "</table>\n",
       "</div>"
      ],
      "text/plain": [
       "Empty DataFrame\n",
       "Columns: [Year, Code, Start Value, End Value, Label]\n",
       "Index: []"
      ]
     },
     "execution_count": 159,
     "metadata": {},
     "output_type": "execute_result"
    }
   ],
   "source": [
    "# Strip leading spaces and check that the remaining data is numeric\n",
    "all_codes_df['End Value'] = all_codes_df['End Value'].str.strip()\n",
    "all_codes_df[~all_codes_df['End Value'].str.isnumeric()]"
   ]
  },
  {
   "cell_type": "code",
   "execution_count": 160,
   "id": "4c00c9c9-067f-47a1-82be-b8a01bda4079",
   "metadata": {},
   "outputs": [],
   "source": [
    "# Convert Ending value data to int\n",
    "all_codes_df['End Value'] = all_codes_df['End Value'].astype(int)"
   ]
  },
  {
   "cell_type": "markdown",
   "id": "c98ba41b-1667-44fe-ac1a-a31364837ac2",
   "metadata": {
    "tags": []
   },
   "source": [
    "***\n",
    "## Review Label Data\n",
    "***"
   ]
  },
  {
   "cell_type": "code",
   "execution_count": 161,
   "id": "79eca0fe-fba3-44c7-826b-8ec169e44924",
   "metadata": {},
   "outputs": [
    {
     "data": {
      "text/plain": [
       "array(['UNK', '2 YEARS AND OLDER', '1 MONTH', ...,\n",
       "       '714 - COMBINATION FIRE/SMOKE ALARM AND CARBON MONOXIDE DETECTORS',\n",
       "       'NON-BINARY/OTHER', '1552 - CRIBS, NONPORTABLE OR NOT SPECIFIED'],\n",
       "      dtype=object)"
      ]
     },
     "execution_count": 161,
     "metadata": {},
     "output_type": "execute_result"
    }
   ],
   "source": [
    "# Review labels\n",
    "all_codes_df['Label'].unique()"
   ]
  },
  {
   "cell_type": "code",
   "execution_count": 162,
   "id": "5799438b-8df9-4624-8744-bab397b48ae3",
   "metadata": {},
   "outputs": [
    {
     "data": {
      "text/plain": [
       "array(['AGELTTWO', 'ALC_DRUG', 'BDYPT', 'DIAG', 'DISP', 'FIRE', 'GENDER',\n",
       "       'HISP', 'LOC', 'PROD', 'RACE'], dtype=object)"
      ]
     },
     "execution_count": 162,
     "metadata": {},
     "output_type": "execute_result"
    }
   ],
   "source": [
    "# Refresh our list of Format Name values\n",
    "all_codes_df['Code'].unique()"
   ]
  },
  {
   "cell_type": "code",
   "execution_count": 163,
   "id": "6b067d6e-d07f-46b9-9930-da5aeeb23409",
   "metadata": {},
   "outputs": [
    {
     "data": {
      "text/plain": [
       "array(['UNK', '2 YEARS AND OLDER', '1 MONTH', '2 MONTHS', '3 MONTHS',\n",
       "       '4 MONTHS', '5 MONTHS', '6 MONTHS', '7 MONTHS', '8 MONTHS',\n",
       "       '9 MONTHS', '10 MONTHS', '11 MONTHS', '12 MONTHS', '13 MONTHS',\n",
       "       '14 MONTHS', '15 MONTHS', '16 MONTHS', '17 MONTHS', '18 MONTHS',\n",
       "       '19 MONTHS', '20 MONTHS', '21 MONTHS', '22 MONTHS', '23 MONTHS'],\n",
       "      dtype=object)"
      ]
     },
     "execution_count": 163,
     "metadata": {},
     "output_type": "execute_result"
    }
   ],
   "source": [
    "# Since there are so many labels, let's review by Format Name\n",
    "all_codes_df[all_codes_df['Code'] == 'AGELTTWO']['Label'].unique()"
   ]
  },
  {
   "cell_type": "code",
   "execution_count": 164,
   "id": "2f33ebd4-77cf-405e-8c0c-10920307381c",
   "metadata": {},
   "outputs": [
    {
     "data": {
      "text/plain": [
       "array(['No/Unk', 'Yes'], dtype=object)"
      ]
     },
     "execution_count": 164,
     "metadata": {},
     "output_type": "execute_result"
    }
   ],
   "source": [
    "# Review labels by Alcohol / Drug Involvement\n",
    "all_codes_df[all_codes_df['Code'] == 'ALC_DRUG']['Label'].unique()"
   ]
  },
  {
   "cell_type": "code",
   "execution_count": 165,
   "id": "b85c3402-de54-47ee-a2e8-6c6a9be88377",
   "metadata": {},
   "outputs": [
    {
     "data": {
      "text/plain": [
       "array(['0 - INTERNAL', '30 - SHOULDER', '31 - UPPER TRUNK', '32 - ELBOW',\n",
       "       '33 - LOWER ARM', '34 - WRIST', '35 - KNEE', '36 - LOWER LEG',\n",
       "       '37 - ANKLE', '38 - PUBIC REGION', '75 - HEAD', '76 - FACE',\n",
       "       '77 - EYEBALL', '78 - UPPER TRUNK(OLD)', '79 - LOWER TRUNK',\n",
       "       '80 - UPPER ARM', '81 - UPPER LEG', '82 - HAND', '83 - FOOT',\n",
       "       '84 - 25-50% OF BODY', '85 - ALL PARTS BODY', '86 - OTHER(OLD)',\n",
       "       '87 - NOT STATED/UNK', '88 - MOUTH', '89 - NECK',\n",
       "       '90 - LOWER ARM(OLD)', '91 - LOWER LEG(OLD)', '92 - FINGER',\n",
       "       '93 - TOE', '94 - EAR'], dtype=object)"
      ]
     },
     "execution_count": 165,
     "metadata": {},
     "output_type": "execute_result"
    }
   ],
   "source": [
    "# Review labels by Body Part\n",
    "all_codes_df[all_codes_df['Code'] == 'BDYPT']['Label'].unique()"
   ]
  },
  {
   "cell_type": "code",
   "execution_count": 166,
   "id": "b1a39d84-6302-426c-a256-903aa2603f3e",
   "metadata": {},
   "outputs": [
    {
     "data": {
      "text/plain": [
       "array(['41 - INGESTION', '42 - ASPIRATION', '46 - BURN, ELECTRICAL',\n",
       "       '47 - BURN, NOT SPEC.', '48 - BURN, SCALD', '49 - BURN, CHEMICAL',\n",
       "       '50 - AMPUTATION', '51 - BURNS, THERMAL', '52 - CONCUSSION',\n",
       "       '53 - CONTUSIONS, ABR.', '54 - CRUSHING', '55 - DISLOCATION',\n",
       "       '56 - FOREIGN BODY', '57 - FRACTURE', '58 - HEMATOMA',\n",
       "       '59 - LACERATION', '60 - DENTAL INJURY', '61 - NERVE DAMAGE',\n",
       "       '62 - INTERNAL INJURY', '63 - PUNCTURE', '64 - STRAIN, SPRAIN',\n",
       "       '65 - ANOXIA', '66 - HEMORRHAGE', '67 - ELECTRIC SHOCK',\n",
       "       '68 - POISONING', '69 - SUBMERSION', '70 - OTHER', '71 - OTHER',\n",
       "       '72 - AVULSION', '73 - RADIATION', '74 - DERMA/CONJUNCT'],\n",
       "      dtype=object)"
      ]
     },
     "execution_count": 166,
     "metadata": {},
     "output_type": "execute_result"
    }
   ],
   "source": [
    "# Review labels by Diagnosis\n",
    "all_codes_df[all_codes_df['Code'] == 'DIAG']['Label'].unique()"
   ]
  },
  {
   "cell_type": "code",
   "execution_count": 167,
   "id": "0f47f588-63b3-4833-af0b-20bc8cdc6ec1",
   "metadata": {},
   "outputs": [
    {
     "data": {
      "text/plain": [
       "array(['0 - NO INJURY', '1 - TREATED/EXAMINED AND RELEASED',\n",
       "       '2 - TREATED AND TRANSFERRED',\n",
       "       '4 - TREATED AND ADMITTED/HOSPITALIZED',\n",
       "       '5 - HELD FOR OBSERVATION', '6 - LEFT WITHOUT BEING SEEN',\n",
       "       '8 - FATALITY INCL. DOA, DIED IN ER', '9 - UNKNOWN, NOT STATED'],\n",
       "      dtype=object)"
      ]
     },
     "execution_count": 167,
     "metadata": {},
     "output_type": "execute_result"
    }
   ],
   "source": [
    "# Review labels by Disosition\n",
    "all_codes_df[all_codes_df['Code'] == 'DISP']['Label'].unique()"
   ]
  },
  {
   "cell_type": "code",
   "execution_count": 168,
   "id": "83c54917-5f2e-4c52-97aa-ad59cc189a89",
   "metadata": {},
   "outputs": [
    {
     "data": {
      "text/plain": [
       "array(['NO/?', 'FD', 'NO FD', '? FD', 'MV'], dtype=object)"
      ]
     },
     "execution_count": 168,
     "metadata": {},
     "output_type": "execute_result"
    }
   ],
   "source": [
    "# Review labels by Fire Involvement\n",
    "all_codes_df[all_codes_df['Code'] == 'FIRE']['Label'].unique()"
   ]
  },
  {
   "cell_type": "code",
   "execution_count": 169,
   "id": "ef018a70-e5c0-4c7c-9e0e-48b820038ac5",
   "metadata": {},
   "outputs": [
    {
     "data": {
      "text/plain": [
       "array(['UNKNOWN', 'MALE', 'FEMALE', 'NON-BINARY/OTHER'], dtype=object)"
      ]
     },
     "execution_count": 169,
     "metadata": {},
     "output_type": "execute_result"
    }
   ],
   "source": [
    "# Review labels by Gender\n",
    "all_codes_df[all_codes_df['Code'] == 'GENDER']['Label'].unique()"
   ]
  },
  {
   "cell_type": "code",
   "execution_count": 170,
   "id": "b25e1d78-6b7d-489a-95c8-4444e87ae245",
   "metadata": {},
   "outputs": [
    {
     "data": {
      "text/plain": [
       "array(['Unk/Not stated', 'Yes', 'No'], dtype=object)"
      ]
     },
     "execution_count": 170,
     "metadata": {},
     "output_type": "execute_result"
    }
   ],
   "source": [
    "# Review labels by Gender\n",
    "all_codes_df[all_codes_df['Code'] == 'HISP']['Label'].unique()"
   ]
  },
  {
   "cell_type": "code",
   "execution_count": 171,
   "id": "3e3202b0-eb60-470d-b548-b1555ab2a200",
   "metadata": {},
   "outputs": [
    {
     "data": {
      "text/plain": [
       "array(['UNK', 'HOME', 'FARM', 'APART.', 'STREET', 'PUBLIC', 'MOBILE',\n",
       "       'INDST.', 'SCHOOL', 'SPORTS'], dtype=object)"
      ]
     },
     "execution_count": 171,
     "metadata": {},
     "output_type": "execute_result"
    }
   ],
   "source": [
    "# Review labels by Location\n",
    "all_codes_df[all_codes_df['Code'] == 'LOC']['Label'].unique()"
   ]
  },
  {
   "cell_type": "code",
   "execution_count": 172,
   "id": "587d7515-23ac-4a1f-a763-3ab75dade8e9",
   "metadata": {},
   "outputs": [
    {
     "data": {
      "text/plain": [
       "array(['101 - WASHING MACHINES WITHOUT WRINGERS OR OTHER DRYERS',\n",
       "       '102 - WRINGER WASHING MACHINES',\n",
       "       '103 - WASHING MACHINES WITH UNHEATED SPIN DRYERS', ...,\n",
       "       '9999 - UNCATEGORIZED PRODUCT',\n",
       "       '714 - COMBINATION FIRE/SMOKE ALARM AND CARBON MONOXIDE DETECTORS',\n",
       "       '1552 - CRIBS, NONPORTABLE OR NOT SPECIFIED'], dtype=object)"
      ]
     },
     "execution_count": 172,
     "metadata": {},
     "output_type": "execute_result"
    }
   ],
   "source": [
    "# Review labels by Product\n",
    "all_codes_df[all_codes_df['Code'] == 'PROD']['Label'].unique()"
   ]
  },
  {
   "cell_type": "code",
   "execution_count": 173,
   "id": "29847f2c-989d-4ac2-aebb-e042d356827d",
   "metadata": {},
   "outputs": [
    {
     "data": {
      "text/plain": [
       "array(['N.S.', 'WHITE', 'BLACK/AFRICAN AMERICAN', 'OTHER', 'ASIAN',\n",
       "       'AMERICAN INDIAN/ALASKA NATIVE',\n",
       "       'NATIVE HAWAIIAN/PACIFIC ISLANDER'], dtype=object)"
      ]
     },
     "execution_count": 173,
     "metadata": {},
     "output_type": "execute_result"
    }
   ],
   "source": [
    "# Review labels by Race\n",
    "all_codes_df[all_codes_df['Code'] == 'RACE']['Label'].unique()"
   ]
  },
  {
   "cell_type": "markdown",
   "id": "d5db527b-e31a-4957-b760-2108c9558924",
   "metadata": {},
   "source": [
    "***\n",
    "# Data Consistency\n",
    "***"
   ]
  },
  {
   "cell_type": "code",
   "execution_count": 174,
   "id": "28cd7ded-6a34-4cb7-8b8f-d6b15403aa33",
   "metadata": {},
   "outputs": [],
   "source": [
    "# Several Labels include a code prefix. For consistency, let's strip those\n",
    "def strip_code(label):\n",
    "    if ' - ' in label:\n",
    "        return label.split(' - ')[1]\n",
    "    else:\n",
    "        return label\n",
    "\n",
    "all_codes_df['Label'] = all_codes_df['Label'].apply(strip_code)"
   ]
  },
  {
   "cell_type": "code",
   "execution_count": 175,
   "id": "4f6eecca-c18e-4b4e-85ab-c708ce2a550a",
   "metadata": {},
   "outputs": [
    {
     "name": "stdout",
     "output_type": "stream",
     "text": [
      "Validation check passed - all categories are included in all years.\n"
     ]
    }
   ],
   "source": [
    "# Verify that a all code categories are present in each annual set of data\n",
    "missing_cats = 0\n",
    "for cat in all_codes_df['Code'].unique():\n",
    "    for yr in range(2013, 2023):\n",
    "        if len(all_codes_df[all_codes_df['Code'] == cat]) == 0:\n",
    "            mssing_cats += 1\n",
    "            print(f'{yr}: Missing {cat}')\n",
    "if missing_cats == 0:\n",
    "    print('Validation check passed - all categories are included in all years.')"
   ]
  },
  {
   "cell_type": "code",
   "execution_count": 179,
   "id": "3cbdec79-a13a-4fde-b932-ee0c5487d8e0",
   "metadata": {},
   "outputs": [
    {
     "name": "stdout",
     "output_type": "stream",
     "text": [
      "There are no duplicate starting values for amy codes for any year.\n"
     ]
    }
   ],
   "source": [
    "# Let's check for duplicate starting values by year and category\n",
    "counts_df = all_codes_df.groupby(['Year', 'Code', 'Start Value']).count()\n",
    "dups_df = counts_df.loc[counts_df['End Value'] > 1]\n",
    "if len(dups_df) > 1:\n",
    "    display(dups_df)\n",
    "else:\n",
    "    print('There are no duplicate starting values for amy codes for any year.')"
   ]
  },
  {
   "cell_type": "code",
   "execution_count": 180,
   "id": "862653ef-d71d-487c-8569-5ff5380ad733",
   "metadata": {},
   "outputs": [
    {
     "data": {
      "text/plain": [
       "10"
      ]
     },
     "execution_count": 180,
     "metadata": {},
     "output_type": "execute_result"
    }
   ],
   "source": [
    "temp_df['Year'].count()"
   ]
  },
  {
   "cell_type": "code",
   "execution_count": 181,
   "id": "08403896-a77c-4ad9-90c8-eb1526a7f99f",
   "metadata": {},
   "outputs": [
    {
     "name": "stdout",
     "output_type": "stream",
     "text": [
      "GENDER code 3 is not included in all years.\n",
      "PROD code 714 is not included in all years.\n",
      "PROD code 1552 is not included in all years.\n"
     ]
    }
   ],
   "source": [
    "# Since there are no duplicate starting values within a given category for a given year, we will use a combination of year, format\n",
    "# and starting value to look for any inconsistencies in codes and labels across the dataset\n",
    "mismatches = False\n",
    "for cat in all_codes_df['Code'].unique():\n",
    "    start_vals = all_codes_df[all_codes_df['Code'] == cat]['Start Value'].unique()\n",
    "    for val in start_vals:\n",
    "        temp_df = all_codes_df[(all_codes_df['Code'] == cat) & (all_codes_df['Start Value'] == val)]\n",
    "        if len(temp_df['End Value'].unique()) > 1 or len(temp_df['Label'].unique()) > 1:\n",
    "            display(temp_df)\n",
    "            mismatches = True\n",
    "        if temp_df['Year'].count() != 10:\n",
    "            print(f'{cat} code {val} is not included in all years.')\n",
    "            mismatches = True   \n",
    "\n",
    "if mismatches == False:\n",
    "    print('All codes and labels are consistent across years.')"
   ]
  },
  {
   "cell_type": "code",
   "execution_count": 182,
   "id": "eb47c6bb-c470-445a-949a-dd3c68ef07e3",
   "metadata": {},
   "outputs": [
    {
     "data": {
      "text/html": [
       "<div>\n",
       "<style scoped>\n",
       "    .dataframe tbody tr th:only-of-type {\n",
       "        vertical-align: middle;\n",
       "    }\n",
       "\n",
       "    .dataframe tbody tr th {\n",
       "        vertical-align: top;\n",
       "    }\n",
       "\n",
       "    .dataframe thead th {\n",
       "        text-align: right;\n",
       "    }\n",
       "</style>\n",
       "<table border=\"1\" class=\"dataframe\">\n",
       "  <thead>\n",
       "    <tr style=\"text-align: right;\">\n",
       "      <th></th>\n",
       "      <th>Year</th>\n",
       "      <th>Code</th>\n",
       "      <th>Start Value</th>\n",
       "      <th>End Value</th>\n",
       "      <th>Label</th>\n",
       "    </tr>\n",
       "  </thead>\n",
       "  <tbody>\n",
       "    <tr>\n",
       "      <th>1</th>\n",
       "      <td>2013</td>\n",
       "      <td>AGELTTWO</td>\n",
       "      <td>2</td>\n",
       "      <td>120</td>\n",
       "      <td>2 YEARS AND OLDER</td>\n",
       "    </tr>\n",
       "    <tr>\n",
       "      <th>1249</th>\n",
       "      <td>2014</td>\n",
       "      <td>AGELTTWO</td>\n",
       "      <td>2</td>\n",
       "      <td>120</td>\n",
       "      <td>2 YEARS AND OLDER</td>\n",
       "    </tr>\n",
       "    <tr>\n",
       "      <th>2497</th>\n",
       "      <td>2015</td>\n",
       "      <td>AGELTTWO</td>\n",
       "      <td>2</td>\n",
       "      <td>120</td>\n",
       "      <td>2 YEARS AND OLDER</td>\n",
       "    </tr>\n",
       "    <tr>\n",
       "      <th>3745</th>\n",
       "      <td>2016</td>\n",
       "      <td>AGELTTWO</td>\n",
       "      <td>2</td>\n",
       "      <td>120</td>\n",
       "      <td>2 YEARS AND OLDER</td>\n",
       "    </tr>\n",
       "    <tr>\n",
       "      <th>4993</th>\n",
       "      <td>2017</td>\n",
       "      <td>AGELTTWO</td>\n",
       "      <td>2</td>\n",
       "      <td>120</td>\n",
       "      <td>2 YEARS AND OLDER</td>\n",
       "    </tr>\n",
       "    <tr>\n",
       "      <th>6241</th>\n",
       "      <td>2018</td>\n",
       "      <td>AGELTTWO</td>\n",
       "      <td>2</td>\n",
       "      <td>120</td>\n",
       "      <td>2 YEARS AND OLDER</td>\n",
       "    </tr>\n",
       "    <tr>\n",
       "      <th>7489</th>\n",
       "      <td>2019</td>\n",
       "      <td>AGELTTWO</td>\n",
       "      <td>2</td>\n",
       "      <td>120</td>\n",
       "      <td>2 YEARS AND OLDER</td>\n",
       "    </tr>\n",
       "    <tr>\n",
       "      <th>8737</th>\n",
       "      <td>2020</td>\n",
       "      <td>AGELTTWO</td>\n",
       "      <td>2</td>\n",
       "      <td>120</td>\n",
       "      <td>2 YEARS AND OLDER</td>\n",
       "    </tr>\n",
       "    <tr>\n",
       "      <th>9986</th>\n",
       "      <td>2021</td>\n",
       "      <td>AGELTTWO</td>\n",
       "      <td>2</td>\n",
       "      <td>120</td>\n",
       "      <td>2 YEARS AND OLDER</td>\n",
       "    </tr>\n",
       "    <tr>\n",
       "      <th>11235</th>\n",
       "      <td>2022</td>\n",
       "      <td>AGELTTWO</td>\n",
       "      <td>2</td>\n",
       "      <td>120</td>\n",
       "      <td>2 YEARS AND OLDER</td>\n",
       "    </tr>\n",
       "  </tbody>\n",
       "</table>\n",
       "</div>"
      ],
      "text/plain": [
       "       Year      Code  Start Value  End Value              Label\n",
       "1      2013  AGELTTWO            2        120  2 YEARS AND OLDER\n",
       "1249   2014  AGELTTWO            2        120  2 YEARS AND OLDER\n",
       "2497   2015  AGELTTWO            2        120  2 YEARS AND OLDER\n",
       "3745   2016  AGELTTWO            2        120  2 YEARS AND OLDER\n",
       "4993   2017  AGELTTWO            2        120  2 YEARS AND OLDER\n",
       "6241   2018  AGELTTWO            2        120  2 YEARS AND OLDER\n",
       "7489   2019  AGELTTWO            2        120  2 YEARS AND OLDER\n",
       "8737   2020  AGELTTWO            2        120  2 YEARS AND OLDER\n",
       "9986   2021  AGELTTWO            2        120  2 YEARS AND OLDER\n",
       "11235  2022  AGELTTWO            2        120  2 YEARS AND OLDER"
      ]
     },
     "execution_count": 182,
     "metadata": {},
     "output_type": "execute_result"
    }
   ],
   "source": [
    "# Review codes that use a range of values (start value != end value)\n",
    "all_codes_df[all_codes_df['Start Value'] != all_codes_df['End Value']]"
   ]
  },
  {
   "cell_type": "markdown",
   "id": "4f2a4eac-79b8-454b-bcb6-72e2ba1a60da",
   "metadata": {},
   "source": [
    "***\n",
    "# Create Final Code Table\n",
    "***"
   ]
  },
  {
   "cell_type": "code",
   "execution_count": 191,
   "id": "2b910754-a361-49a6-90e1-66d845cbc216",
   "metadata": {},
   "outputs": [],
   "source": [
    "# Drop the 2 YEARS AND OLDER row, as they the value and the code are the same (no translation needed)\n",
    "rows_to_drop = all_codes_df[all_codes_df['Label'] == '2 YEARS AND OLDER'].index\n",
    "std_codes_df = all_codes_df.drop(rows_to_drop, axis='index').copy()"
   ]
  },
  {
   "cell_type": "code",
   "execution_count": 192,
   "id": "c1611f58-448d-4da1-8f17-ee42dcd733aa",
   "metadata": {},
   "outputs": [],
   "source": [
    "# Get rid of unnedded columns and rename for clarity\n",
    "std_codes_df = std_codes_df[['Code', 'Start Value', 'Label']].drop_duplicates()"
   ]
  },
  {
   "cell_type": "code",
   "execution_count": 194,
   "id": "f5136b5f-0748-43d4-80aa-39701a0f9573",
   "metadata": {},
   "outputs": [],
   "source": [
    "# Rename start value column\n",
    "std_codes_df.rename(columns={'Start Value': 'Value'}, inplace=True)"
   ]
  },
  {
   "cell_type": "code",
   "execution_count": 195,
   "id": "dcbb2f91-9f42-4600-8c51-cd7c99a83e8e",
   "metadata": {},
   "outputs": [
    {
     "data": {
      "text/html": [
       "<div>\n",
       "<style scoped>\n",
       "    .dataframe tbody tr th:only-of-type {\n",
       "        vertical-align: middle;\n",
       "    }\n",
       "\n",
       "    .dataframe tbody tr th {\n",
       "        vertical-align: top;\n",
       "    }\n",
       "\n",
       "    .dataframe thead th {\n",
       "        text-align: right;\n",
       "    }\n",
       "</style>\n",
       "<table border=\"1\" class=\"dataframe\">\n",
       "  <thead>\n",
       "    <tr style=\"text-align: right;\">\n",
       "      <th></th>\n",
       "      <th>Code</th>\n",
       "      <th>Value</th>\n",
       "      <th>Label</th>\n",
       "    </tr>\n",
       "  </thead>\n",
       "  <tbody>\n",
       "    <tr>\n",
       "      <th>0</th>\n",
       "      <td>AGELTTWO</td>\n",
       "      <td>0</td>\n",
       "      <td>UNK</td>\n",
       "    </tr>\n",
       "    <tr>\n",
       "      <th>2</th>\n",
       "      <td>AGELTTWO</td>\n",
       "      <td>201</td>\n",
       "      <td>1 MONTH</td>\n",
       "    </tr>\n",
       "    <tr>\n",
       "      <th>3</th>\n",
       "      <td>AGELTTWO</td>\n",
       "      <td>202</td>\n",
       "      <td>2 MONTHS</td>\n",
       "    </tr>\n",
       "    <tr>\n",
       "      <th>4</th>\n",
       "      <td>AGELTTWO</td>\n",
       "      <td>203</td>\n",
       "      <td>3 MONTHS</td>\n",
       "    </tr>\n",
       "    <tr>\n",
       "      <th>5</th>\n",
       "      <td>AGELTTWO</td>\n",
       "      <td>204</td>\n",
       "      <td>4 MONTHS</td>\n",
       "    </tr>\n",
       "    <tr>\n",
       "      <th>...</th>\n",
       "      <td>...</td>\n",
       "      <td>...</td>\n",
       "      <td>...</td>\n",
       "    </tr>\n",
       "    <tr>\n",
       "      <th>1246</th>\n",
       "      <td>RACE</td>\n",
       "      <td>5</td>\n",
       "      <td>AMERICAN INDIAN/ALASKA NATIVE</td>\n",
       "    </tr>\n",
       "    <tr>\n",
       "      <th>1247</th>\n",
       "      <td>RACE</td>\n",
       "      <td>6</td>\n",
       "      <td>NATIVE HAWAIIAN/PACIFIC ISLANDER</td>\n",
       "    </tr>\n",
       "    <tr>\n",
       "      <th>9113</th>\n",
       "      <td>PROD</td>\n",
       "      <td>714</td>\n",
       "      <td>COMBINATION FIRE/SMOKE ALARM AND CARBON MONOXI...</td>\n",
       "    </tr>\n",
       "    <tr>\n",
       "      <th>10090</th>\n",
       "      <td>GENDER</td>\n",
       "      <td>3</td>\n",
       "      <td>NON-BINARY/OTHER</td>\n",
       "    </tr>\n",
       "    <tr>\n",
       "      <th>10755</th>\n",
       "      <td>PROD</td>\n",
       "      <td>1552</td>\n",
       "      <td>CRIBS, NONPORTABLE OR NOT SPECIFIED</td>\n",
       "    </tr>\n",
       "  </tbody>\n",
       "</table>\n",
       "<p>1246 rows × 3 columns</p>\n",
       "</div>"
      ],
      "text/plain": [
       "           Code  Value                                              Label\n",
       "0      AGELTTWO      0                                                UNK\n",
       "2      AGELTTWO    201                                            1 MONTH\n",
       "3      AGELTTWO    202                                           2 MONTHS\n",
       "4      AGELTTWO    203                                           3 MONTHS\n",
       "5      AGELTTWO    204                                           4 MONTHS\n",
       "...         ...    ...                                                ...\n",
       "1246       RACE      5                      AMERICAN INDIAN/ALASKA NATIVE\n",
       "1247       RACE      6                   NATIVE HAWAIIAN/PACIFIC ISLANDER\n",
       "9113       PROD    714  COMBINATION FIRE/SMOKE ALARM AND CARBON MONOXI...\n",
       "10090    GENDER      3                                   NON-BINARY/OTHER\n",
       "10755      PROD   1552                CRIBS, NONPORTABLE OR NOT SPECIFIED\n",
       "\n",
       "[1246 rows x 3 columns]"
      ]
     },
     "execution_count": 195,
     "metadata": {},
     "output_type": "execute_result"
    }
   ],
   "source": [
    "std_codes_df"
   ]
  },
  {
   "cell_type": "code",
   "execution_count": 197,
   "id": "612f2c87-5edf-44da-851d-d16d05b9f3f2",
   "metadata": {},
   "outputs": [],
   "source": [
    "# Write final tabel to Excel\n",
    "std_codes_df.to_excel('../Data/Standard Codes.xlsx', index=False)"
   ]
  },
  {
   "cell_type": "markdown",
   "id": "f7ad66da-6014-4b82-8570-60cff258b8a1",
   "metadata": {},
   "source": [
    "***\n",
    "**End**\n",
    "***"
   ]
  }
 ],
 "metadata": {
  "kernelspec": {
   "display_name": "Python 3 (ipykernel)",
   "language": "python",
   "name": "python3"
  },
  "language_info": {
   "codemirror_mode": {
    "name": "ipython",
    "version": 3
   },
   "file_extension": ".py",
   "mimetype": "text/x-python",
   "name": "python",
   "nbconvert_exporter": "python",
   "pygments_lexer": "ipython3",
   "version": "3.10.4"
  }
 },
 "nbformat": 4,
 "nbformat_minor": 5
}
