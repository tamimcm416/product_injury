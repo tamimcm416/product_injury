{
 "cells": [
  {
   "cell_type": "markdown",
   "id": "a6401229-d7a4-4239-bb27-9902edb4260a",
   "metadata": {
    "tags": []
   },
   "source": [
    "# Product Injury\n",
    "<font size=4>Data Prep and Load - Injuries</font>   \n",
    "***  \n",
    "\n",
    "**Project Summary:**   \n",
    "The Consumer Product Safety Commission operations a surveillance system (NEISS) to track injury data related to consumer products. The data is collected from a representative sample of emergency rooms in the United Status. \n",
    "This project will examine the data from 2013 through 2022 to explore trends in product injuries resulting in emergency room visits.\n",
    "\n",
    "**Notebook Scope:**  \n",
    "This notebook includes code to validate and merge annual injury data. This data has been downloaded from the [NEISS website](https://www.cpsc.gov/cgibin/NEISSQuery/home.aspx).\n",
    "\n",
    "**Output:**  \n",
    "The resulting data will be loaded to a SQL Azure database for EDA and Trend Analysis.\n",
    "***  "
   ]
  },
  {
   "cell_type": "markdown",
   "id": "6fbdbe78-45ef-45e9-aa24-7a404b633884",
   "metadata": {
    "tags": []
   },
   "source": [
    "***\n",
    "# Notebook Setup\n",
    "***"
   ]
  },
  {
   "cell_type": "code",
   "execution_count": 1,
   "id": "e3e04588-e5b2-4182-a7fb-b6f2d978a0d6",
   "metadata": {},
   "outputs": [],
   "source": [
    "# Import libraries\n",
    "import pandas as pd"
   ]
  },
  {
   "cell_type": "code",
   "execution_count": 2,
   "id": "bcdd0748-9b08-4581-8e2b-12060a53807e",
   "metadata": {},
   "outputs": [
    {
     "data": {
      "text/html": [
       "<!-- Prevent text wrappping in dataframe displays for a cleaner print -->\n",
       "<style> .dataframe td {white-space: nowrap;}</style>\n"
      ],
      "text/plain": [
       "<IPython.core.display.HTML object>"
      ]
     },
     "metadata": {},
     "output_type": "display_data"
    }
   ],
   "source": [
    "%%html\n",
    "<!-- Prevent text wrappping in dataframe displays for a cleaner print -->\n",
    "<style> .dataframe td {white-space: nowrap;}</style>"
   ]
  },
  {
   "cell_type": "markdown",
   "id": "2443d95a-7e1c-4b7f-927c-6cf71cdf300d",
   "metadata": {
    "tags": []
   },
   "source": [
    "***  \n",
    "# Load Injury Data\n",
    "***"
   ]
  },
  {
   "cell_type": "code",
   "execution_count": 3,
   "id": "b305efcf-8b09-48ff-a7b9-2b8e548eace4",
   "metadata": {},
   "outputs": [],
   "source": [
    "# Read in the NEIS injury data from ean annual Excel file\n",
    "# NOTE: This code block takes 10-15 minutes to execute\n",
    "path = '../Data/'\n",
    "yrs = [x for x in range(2013, 2023)]\n",
    "rows_read = 0\n",
    "injuries_df = pd.DataFrame()\n",
    "\n",
    "for yr in yrs:\n",
    "    file_name = 'neiss' + str(yr) + '.xlsx'\n",
    "    sheet_name = 'NEISS' + '_' + str(yr)\n",
    "    raw_df = pd.read_excel(path + file_name, sheet_name = sheet_name)\n",
    "    rows_read += len(raw_df)\n",
    "    injuries_df = pd.concat([injuries_df, raw_df])"
   ]
  },
  {
   "cell_type": "code",
   "execution_count": 4,
   "id": "c413583e-167a-4980-9161-ad1eb91d9b6b",
   "metadata": {},
   "outputs": [
    {
     "name": "stdout",
     "output_type": "stream",
     "text": [
      "Total rows read:           3559186\n",
      "Rows in combined dataset:  3559186\n"
     ]
    }
   ],
   "source": [
    "# Verify that the length of the combined dataset is the same as the total number of rows read in from all Excel files\n",
    "print(f'Total rows read:           {rows_read}')\n",
    "print(f'Rows in combined dataset:  {len(injuries_df)}')"
   ]
  },
  {
   "cell_type": "code",
   "execution_count": 5,
   "id": "7b432941-07f6-45a1-8e7d-f0a7185af92d",
   "metadata": {},
   "outputs": [],
   "source": [
    "# Reset index\n",
    "injuries_df.reset_index(drop=True, inplace=True)"
   ]
  },
  {
   "cell_type": "markdown",
   "id": "d9815c1f-a9b8-404b-be6c-48f868b7ef72",
   "metadata": {},
   "source": [
    "***\n",
    "# Preview Data\n",
    "***"
   ]
  },
  {
   "cell_type": "code",
   "execution_count": 6,
   "id": "3c787a53-8f68-46c2-8a05-58e3a8b75d88",
   "metadata": {},
   "outputs": [
    {
     "data": {
      "text/html": [
       "<div>\n",
       "<style scoped>\n",
       "    .dataframe tbody tr th:only-of-type {\n",
       "        vertical-align: middle;\n",
       "    }\n",
       "\n",
       "    .dataframe tbody tr th {\n",
       "        vertical-align: top;\n",
       "    }\n",
       "\n",
       "    .dataframe thead th {\n",
       "        text-align: right;\n",
       "    }\n",
       "</style>\n",
       "<table border=\"1\" class=\"dataframe\">\n",
       "  <thead>\n",
       "    <tr style=\"text-align: right;\">\n",
       "      <th></th>\n",
       "      <th>CPSC_Case_Number</th>\n",
       "      <th>Treatment_Date</th>\n",
       "      <th>Age</th>\n",
       "      <th>Sex</th>\n",
       "      <th>Race</th>\n",
       "      <th>Other_Race</th>\n",
       "      <th>Hispanic</th>\n",
       "      <th>Body_Part</th>\n",
       "      <th>Diagnosis</th>\n",
       "      <th>Other_Diagnosis</th>\n",
       "      <th>...</th>\n",
       "      <th>Product_1</th>\n",
       "      <th>Product_2</th>\n",
       "      <th>Product_3</th>\n",
       "      <th>Alcohol</th>\n",
       "      <th>Drug</th>\n",
       "      <th>Narrative</th>\n",
       "      <th>Stratum</th>\n",
       "      <th>PSU</th>\n",
       "      <th>Weight</th>\n",
       "      <th>Narrative_1</th>\n",
       "    </tr>\n",
       "  </thead>\n",
       "  <tbody>\n",
       "    <tr>\n",
       "      <th>0</th>\n",
       "      <td>130104962</td>\n",
       "      <td>2013-01-01</td>\n",
       "      <td>57</td>\n",
       "      <td>1</td>\n",
       "      <td>1</td>\n",
       "      <td>NaN</td>\n",
       "      <td>NaN</td>\n",
       "      <td>76</td>\n",
       "      <td>53</td>\n",
       "      <td>NaN</td>\n",
       "      <td>...</td>\n",
       "      <td>3299</td>\n",
       "      <td>0</td>\n",
       "      <td>0</td>\n",
       "      <td>NaN</td>\n",
       "      <td>NaN</td>\n",
       "      <td>57YOM FELL WHILE JOGGING ON TRAIL DX: CONTUSIO...</td>\n",
       "      <td>M</td>\n",
       "      <td>100</td>\n",
       "      <td>88.4147</td>\n",
       "      <td>NaN</td>\n",
       "    </tr>\n",
       "    <tr>\n",
       "      <th>1</th>\n",
       "      <td>130104963</td>\n",
       "      <td>2013-01-01</td>\n",
       "      <td>207</td>\n",
       "      <td>2</td>\n",
       "      <td>4</td>\n",
       "      <td>NaN</td>\n",
       "      <td>NaN</td>\n",
       "      <td>75</td>\n",
       "      <td>62</td>\n",
       "      <td>NaN</td>\n",
       "      <td>...</td>\n",
       "      <td>1807</td>\n",
       "      <td>0</td>\n",
       "      <td>0</td>\n",
       "      <td>NaN</td>\n",
       "      <td>NaN</td>\n",
       "      <td>7MOF HIT HEAD ON FLOOR AT DAY-CARE DX: CLOSED ...</td>\n",
       "      <td>M</td>\n",
       "      <td>100</td>\n",
       "      <td>88.4147</td>\n",
       "      <td>NaN</td>\n",
       "    </tr>\n",
       "    <tr>\n",
       "      <th>2</th>\n",
       "      <td>130104966</td>\n",
       "      <td>2013-01-01</td>\n",
       "      <td>59</td>\n",
       "      <td>2</td>\n",
       "      <td>1</td>\n",
       "      <td>NaN</td>\n",
       "      <td>NaN</td>\n",
       "      <td>79</td>\n",
       "      <td>53</td>\n",
       "      <td>NaN</td>\n",
       "      <td>...</td>\n",
       "      <td>1842</td>\n",
       "      <td>0</td>\n",
       "      <td>0</td>\n",
       "      <td>NaN</td>\n",
       "      <td>NaN</td>\n",
       "      <td>59YOF FELL WHILE ON STAIRS DX: CONTUSION TO BU...</td>\n",
       "      <td>M</td>\n",
       "      <td>100</td>\n",
       "      <td>88.4147</td>\n",
       "      <td>NaN</td>\n",
       "    </tr>\n",
       "    <tr>\n",
       "      <th>3</th>\n",
       "      <td>130104968</td>\n",
       "      <td>2013-01-01</td>\n",
       "      <td>17</td>\n",
       "      <td>2</td>\n",
       "      <td>1</td>\n",
       "      <td>NaN</td>\n",
       "      <td>NaN</td>\n",
       "      <td>37</td>\n",
       "      <td>64</td>\n",
       "      <td>NaN</td>\n",
       "      <td>...</td>\n",
       "      <td>4076</td>\n",
       "      <td>0</td>\n",
       "      <td>0</td>\n",
       "      <td>NaN</td>\n",
       "      <td>NaN</td>\n",
       "      <td>17YOF TWISTED ANKLE STEPPING OUT OF BED DX: AN...</td>\n",
       "      <td>M</td>\n",
       "      <td>100</td>\n",
       "      <td>88.4147</td>\n",
       "      <td>NaN</td>\n",
       "    </tr>\n",
       "    <tr>\n",
       "      <th>4</th>\n",
       "      <td>130104970</td>\n",
       "      <td>2013-01-01</td>\n",
       "      <td>38</td>\n",
       "      <td>1</td>\n",
       "      <td>1</td>\n",
       "      <td>NaN</td>\n",
       "      <td>NaN</td>\n",
       "      <td>92</td>\n",
       "      <td>59</td>\n",
       "      <td>NaN</td>\n",
       "      <td>...</td>\n",
       "      <td>474</td>\n",
       "      <td>0</td>\n",
       "      <td>0</td>\n",
       "      <td>NaN</td>\n",
       "      <td>NaN</td>\n",
       "      <td>38YOM CUT FINGER ON BROKEN DISH DX: FINGER LAC...</td>\n",
       "      <td>M</td>\n",
       "      <td>100</td>\n",
       "      <td>88.4147</td>\n",
       "      <td>NaN</td>\n",
       "    </tr>\n",
       "  </tbody>\n",
       "</table>\n",
       "<p>5 rows × 26 columns</p>\n",
       "</div>"
      ],
      "text/plain": [
       "   CPSC_Case_Number Treatment_Date  Age  Sex  Race Other_Race  Hispanic  \\\n",
       "0         130104962     2013-01-01   57    1     1        NaN       NaN   \n",
       "1         130104963     2013-01-01  207    2     4        NaN       NaN   \n",
       "2         130104966     2013-01-01   59    2     1        NaN       NaN   \n",
       "3         130104968     2013-01-01   17    2     1        NaN       NaN   \n",
       "4         130104970     2013-01-01   38    1     1        NaN       NaN   \n",
       "\n",
       "   Body_Part  Diagnosis Other_Diagnosis  ...  Product_1  Product_2 Product_3  \\\n",
       "0         76         53             NaN  ...       3299          0         0   \n",
       "1         75         62             NaN  ...       1807          0         0   \n",
       "2         79         53             NaN  ...       1842          0         0   \n",
       "3         37         64             NaN  ...       4076          0         0   \n",
       "4         92         59             NaN  ...        474          0         0   \n",
       "\n",
       "   Alcohol  Drug                                          Narrative  Stratum  \\\n",
       "0      NaN   NaN  57YOM FELL WHILE JOGGING ON TRAIL DX: CONTUSIO...        M   \n",
       "1      NaN   NaN  7MOF HIT HEAD ON FLOOR AT DAY-CARE DX: CLOSED ...        M   \n",
       "2      NaN   NaN  59YOF FELL WHILE ON STAIRS DX: CONTUSION TO BU...        M   \n",
       "3      NaN   NaN  17YOF TWISTED ANKLE STEPPING OUT OF BED DX: AN...        M   \n",
       "4      NaN   NaN  38YOM CUT FINGER ON BROKEN DISH DX: FINGER LAC...        M   \n",
       "\n",
       "   PSU   Weight  Narrative_1  \n",
       "0  100  88.4147          NaN  \n",
       "1  100  88.4147          NaN  \n",
       "2  100  88.4147          NaN  \n",
       "3  100  88.4147          NaN  \n",
       "4  100  88.4147          NaN  \n",
       "\n",
       "[5 rows x 26 columns]"
      ]
     },
     "execution_count": 6,
     "metadata": {},
     "output_type": "execute_result"
    }
   ],
   "source": [
    "injuries_df.head()"
   ]
  },
  {
   "cell_type": "code",
   "execution_count": 7,
   "id": "becae1e7-a395-4fa0-a96a-42703fc5e9aa",
   "metadata": {},
   "outputs": [],
   "source": [
    "# Drop rows and columns that consist only of NaN data\n",
    "injuries_df.dropna(axis = 0, how = 'all', inplace=True)\n",
    "injuries_df.dropna(axis = 1, how = 'all', inplace=True)"
   ]
  },
  {
   "cell_type": "code",
   "execution_count": 9,
   "id": "82c4ec34-e138-474b-b285-c507c19255dd",
   "metadata": {},
   "outputs": [
    {
     "data": {
      "text/plain": [
       "(3559186, 26)"
      ]
     },
     "execution_count": 9,
     "metadata": {},
     "output_type": "execute_result"
    }
   ],
   "source": [
    "# View shape of the dataframe\n",
    "injuries_df.shape"
   ]
  },
  {
   "cell_type": "markdown",
   "id": "7c3e7d73-c999-4c1f-846b-0be14b366e6d",
   "metadata": {},
   "source": [
    "***\n",
    "# Memory Usage\n",
    "***"
   ]
  },
  {
   "cell_type": "code",
   "execution_count": 10,
   "id": "ef0b9148-bad2-4f3f-8a2a-22ee74deb87f",
   "metadata": {},
   "outputs": [
    {
     "name": "stdout",
     "output_type": "stream",
     "text": [
      "Memory Usage by Column:\n",
      "Index                     128\n",
      "CPSC_Case_Number     28473488\n",
      "Treatment_Date       28473488\n",
      "Age                  28473488\n",
      "Sex                  28473488\n",
      "Race                 28473488\n",
      "Other_Race           28473488\n",
      "Hispanic             28473488\n",
      "Body_Part            28473488\n",
      "Diagnosis            28473488\n",
      "Other_Diagnosis      28473488\n",
      "Body_Part_2          28473488\n",
      "Diagnosis_2          28473488\n",
      "Other_Diagnosis_2    28473488\n",
      "Disposition          28473488\n",
      "Location             28473488\n",
      "Fire_Involvement     28473488\n",
      "Product_1            28473488\n",
      "Product_2            28473488\n",
      "Product_3            28473488\n",
      "Alcohol              28473488\n",
      "Drug                 28473488\n",
      "Narrative            28473488\n",
      "Stratum              28473488\n",
      "PSU                  28473488\n",
      "Weight               28473488\n",
      "Narrative_1          28473488\n",
      "dtype: int64\n",
      "\n",
      "Total Memory Usage for Dataframe:   740310816\n"
     ]
    }
   ],
   "source": [
    "# Since our dataset is on the larger size, let's capture the memory usage. This will allow us to evalute how much our cleanup activities\n",
    "# impact overall size. While this may not be critical in this case, it's a good habit.\n",
    "print(f'Memory Usage by Column:\\n{injuries_df.memory_usage()}')\n",
    "print(f'\\nTotal Memory Usage for Dataframe:   {injuries_df.memory_usage().sum()}')"
   ]
  },
  {
   "cell_type": "markdown",
   "id": "3bf964ef-39b2-44a4-9704-6df0ccf78977",
   "metadata": {},
   "source": [
    "***\n",
    "# Load Data Codes\n",
    "***"
   ]
  },
  {
   "cell_type": "code",
   "execution_count": 11,
   "id": "37ad3151-c4bc-4fda-bd21-500f9fd36368",
   "metadata": {},
   "outputs": [
    {
     "data": {
      "text/html": [
       "<div>\n",
       "<style scoped>\n",
       "    .dataframe tbody tr th:only-of-type {\n",
       "        vertical-align: middle;\n",
       "    }\n",
       "\n",
       "    .dataframe tbody tr th {\n",
       "        vertical-align: top;\n",
       "    }\n",
       "\n",
       "    .dataframe thead th {\n",
       "        text-align: right;\n",
       "    }\n",
       "</style>\n",
       "<table border=\"1\" class=\"dataframe\">\n",
       "  <thead>\n",
       "    <tr style=\"text-align: right;\">\n",
       "      <th></th>\n",
       "      <th>Code</th>\n",
       "      <th>Value</th>\n",
       "      <th>Description</th>\n",
       "    </tr>\n",
       "  </thead>\n",
       "  <tbody>\n",
       "    <tr>\n",
       "      <th>0</th>\n",
       "      <td>AGELTTWO</td>\n",
       "      <td>0</td>\n",
       "      <td>UNK</td>\n",
       "    </tr>\n",
       "    <tr>\n",
       "      <th>1</th>\n",
       "      <td>AGELTTWO</td>\n",
       "      <td>201</td>\n",
       "      <td>1 MONTH</td>\n",
       "    </tr>\n",
       "    <tr>\n",
       "      <th>2</th>\n",
       "      <td>AGELTTWO</td>\n",
       "      <td>202</td>\n",
       "      <td>2 MONTHS</td>\n",
       "    </tr>\n",
       "    <tr>\n",
       "      <th>3</th>\n",
       "      <td>AGELTTWO</td>\n",
       "      <td>203</td>\n",
       "      <td>3 MONTHS</td>\n",
       "    </tr>\n",
       "    <tr>\n",
       "      <th>4</th>\n",
       "      <td>AGELTTWO</td>\n",
       "      <td>204</td>\n",
       "      <td>4 MONTHS</td>\n",
       "    </tr>\n",
       "  </tbody>\n",
       "</table>\n",
       "</div>"
      ],
      "text/plain": [
       "       Code  Value Description\n",
       "0  AGELTTWO      0         UNK\n",
       "1  AGELTTWO    201     1 MONTH\n",
       "2  AGELTTWO    202    2 MONTHS\n",
       "3  AGELTTWO    203    3 MONTHS\n",
       "4  AGELTTWO    204    4 MONTHS"
      ]
     },
     "execution_count": 11,
     "metadata": {},
     "output_type": "execute_result"
    }
   ],
   "source": [
    "# Read in the scrubbed data codes file. We'll use this later in our data validation activities\n",
    "file = '../Data/Standard Codes.xlsx'\n",
    "codes_df = pd.read_excel(file)\n",
    "codes_df.head()"
   ]
  },
  {
   "cell_type": "code",
   "execution_count": 12,
   "id": "f7ca91e8-557d-4da1-986b-2c89a77604b1",
   "metadata": {},
   "outputs": [
    {
     "data": {
      "text/plain": [
       "array(['AGELTTWO', 'BDYPT', 'DIAG', 'DISP', 'GENDER', 'HISP', 'LOC',\n",
       "       'PROD', 'RACE'], dtype=object)"
      ]
     },
     "execution_count": 12,
     "metadata": {},
     "output_type": "execute_result"
    }
   ],
   "source": [
    "# Review which data is coded\n",
    "codes_df['Code'].unique()"
   ]
  },
  {
   "cell_type": "markdown",
   "id": "5a9f7a89-7c1d-4256-9be7-a18dc31d7275",
   "metadata": {},
   "source": [
    "***\n",
    "# Variables\n",
    "***"
   ]
  },
  {
   "cell_type": "code",
   "execution_count": 13,
   "id": "1e2c72e6-a0ea-460c-b77e-1cfe0e1f37ee",
   "metadata": {},
   "outputs": [
    {
     "data": {
      "text/plain": [
       "array(['CPSC_Case_Number', 'Treatment_Date', 'Age', 'Sex', 'Race',\n",
       "       'Other_Race', 'Hispanic', 'Body_Part', 'Diagnosis',\n",
       "       'Other_Diagnosis', 'Body_Part_2', 'Diagnosis_2',\n",
       "       'Other_Diagnosis_2', 'Disposition', 'Location', 'Fire_Involvement',\n",
       "       'Product_1', 'Product_2', 'Product_3', 'Alcohol', 'Drug',\n",
       "       'Narrative', 'Stratum', 'PSU', 'Weight', 'Narrative_1'],\n",
       "      dtype=object)"
      ]
     },
     "execution_count": 13,
     "metadata": {},
     "output_type": "execute_result"
    }
   ],
   "source": [
    "# Display variables (column headings) for the dataframe\n",
    "injuries_df.columns.values"
   ]
  },
  {
   "cell_type": "markdown",
   "id": "beed1b67-07cb-4ad6-a5ba-bcd1525b3492",
   "metadata": {},
   "source": [
    "***\n",
    "**Variable Descriptions**  \n",
    "-- CPSC_Case_Number: Consumer Product Safety Commision case number  \n",
    "-- Treatment_Date: date of ER visit  \n",
    "-- Age: age of patient  \n",
    "-- Sex: gender of patient  \n",
    "-- Race: race of patient  \n",
    "-- Other_Race: description of patient's race if Race is \"Other\" (code 3)  \n",
    "-- Hispanic: indicates if the patient is Hispanic  \n",
    "-- Body_Part: injured body part  \n",
    "-- Diagnosis: diagnosis of injury  \n",
    "-- Other_Diagnosis: description if Diagnosis is \"Other\" (code 71)  \n",
    "-- Body_Part_2: additional injuried body part  \n",
    "-- Diagnosis_2: additional diagnosis  \n",
    "-- Other_Diagnosis_2: description if Other_Diagnosis is \"Other\" (code 71)  \n",
    "-- Dipsosition: outcome of the visit  \n",
    "-- Location: where the injury occurred  \n",
    "-- Fire_Involvement: indication of whether the injury involved fire  \n",
    "-- Product_1: primary product involved in the injury  \n",
    "-- Product_2: additional product involved  \n",
    "-- Product_3: additional product involved  \n",
    "-- Alcohol: indicates wheter alcohol was consumed prior to or during the injury  \n",
    "-- Drug: indicates whether drugs contributed to the injury  \n",
    "-- Narrative: description of the injury event (used in data files from 2013 - 2019)  \n",
    "-- Stratum: type of hospital reporting the visit  \n",
    "-- PSU: primary sampling unit  \n",
    "-- Weight: statistical weight used for generating national estimates  \n",
    "-- Narrative_1: description of the injury event (used in data files from 2020 - 2022)  \n",
    "***"
   ]
  },
  {
   "cell_type": "markdown",
   "id": "456ecab5-b940-408a-9bdc-278fbfba1000",
   "metadata": {},
   "source": [
    "***\n",
    "## Remove Irrelevant Data\n",
    "***"
   ]
  },
  {
   "cell_type": "code",
   "execution_count": 16,
   "id": "3c8b75ef-2971-4894-8f70-65ddc7025f7d",
   "metadata": {},
   "outputs": [],
   "source": [
    "# Remove columns that are not needed for our data validation or analysis\n",
    "cols_to_delete = ['Location', 'Fire_Involvement', 'Alcohol', 'Drug', 'Narrative', 'Narrative_1']\n",
    "injuries_df.drop(columns=cols_to_delete, inplace=True)"
   ]
  },
  {
   "cell_type": "code",
   "execution_count": 18,
   "id": "f6c80fac-17e1-488d-a77b-94d7f292644c",
   "metadata": {},
   "outputs": [],
   "source": [
    "# Reset index\n",
    "injuries_df.reset_index(drop=True, inplace=True)"
   ]
  },
  {
   "cell_type": "markdown",
   "id": "db0fd19a-495c-4cab-ab0c-0d7c7b1fd5a5",
   "metadata": {},
   "source": [
    "***\n",
    "## Rename Variables for Clarity\n",
    "***"
   ]
  },
  {
   "cell_type": "code",
   "execution_count": 19,
   "id": "2375f95f-0628-402f-9cc4-cdd88c2ced18",
   "metadata": {},
   "outputs": [
    {
     "data": {
      "text/plain": [
       "Index(['CPSC_Case_Number', 'Treatment_Date', 'Age', 'Sex', 'Race',\n",
       "       'Other_Race', 'Hispanic', 'Body_Part', 'Diagnosis', 'Other_Diagnosis',\n",
       "       'Body_Part_2', 'Diagnosis_2', 'Other_Diagnosis_2', 'Disposition',\n",
       "       'Product_1', 'Product_2', 'Product_3', 'Stratum', 'PSU', 'Weight'],\n",
       "      dtype='object')"
      ]
     },
     "execution_count": 19,
     "metadata": {},
     "output_type": "execute_result"
    }
   ],
   "source": [
    "injuries_df.columns"
   ]
  },
  {
   "cell_type": "code",
   "execution_count": 21,
   "id": "abad12d9-7d0a-49c1-a56e-b9d2185f43bc",
   "metadata": {},
   "outputs": [
    {
     "data": {
      "text/html": [
       "<div>\n",
       "<style scoped>\n",
       "    .dataframe tbody tr th:only-of-type {\n",
       "        vertical-align: middle;\n",
       "    }\n",
       "\n",
       "    .dataframe tbody tr th {\n",
       "        vertical-align: top;\n",
       "    }\n",
       "\n",
       "    .dataframe thead th {\n",
       "        text-align: right;\n",
       "    }\n",
       "</style>\n",
       "<table border=\"1\" class=\"dataframe\">\n",
       "  <thead>\n",
       "    <tr style=\"text-align: right;\">\n",
       "      <th></th>\n",
       "      <th>Case</th>\n",
       "      <th>Date</th>\n",
       "      <th>Age</th>\n",
       "      <th>Sex</th>\n",
       "      <th>Race</th>\n",
       "      <th>Other_Race</th>\n",
       "      <th>Hispanic</th>\n",
       "      <th>Body_Part</th>\n",
       "      <th>Diagnosis</th>\n",
       "      <th>Other_Diagnosis</th>\n",
       "      <th>Body_Part_2</th>\n",
       "      <th>Diagnosis_2</th>\n",
       "      <th>Other_Diagnosis_2</th>\n",
       "      <th>Disposition</th>\n",
       "      <th>Product_1</th>\n",
       "      <th>Product_2</th>\n",
       "      <th>Product_3</th>\n",
       "      <th>Stratum</th>\n",
       "      <th>PSU</th>\n",
       "      <th>Weight</th>\n",
       "    </tr>\n",
       "  </thead>\n",
       "  <tbody>\n",
       "    <tr>\n",
       "      <th>0</th>\n",
       "      <td>130104962</td>\n",
       "      <td>2013-01-01</td>\n",
       "      <td>57</td>\n",
       "      <td>1</td>\n",
       "      <td>1</td>\n",
       "      <td>NaN</td>\n",
       "      <td>NaN</td>\n",
       "      <td>76</td>\n",
       "      <td>53</td>\n",
       "      <td>NaN</td>\n",
       "      <td>NaN</td>\n",
       "      <td>NaN</td>\n",
       "      <td>NaN</td>\n",
       "      <td>1</td>\n",
       "      <td>3299</td>\n",
       "      <td>0</td>\n",
       "      <td>0</td>\n",
       "      <td>M</td>\n",
       "      <td>100</td>\n",
       "      <td>88.4147</td>\n",
       "    </tr>\n",
       "    <tr>\n",
       "      <th>1</th>\n",
       "      <td>130104963</td>\n",
       "      <td>2013-01-01</td>\n",
       "      <td>207</td>\n",
       "      <td>2</td>\n",
       "      <td>4</td>\n",
       "      <td>NaN</td>\n",
       "      <td>NaN</td>\n",
       "      <td>75</td>\n",
       "      <td>62</td>\n",
       "      <td>NaN</td>\n",
       "      <td>NaN</td>\n",
       "      <td>NaN</td>\n",
       "      <td>NaN</td>\n",
       "      <td>1</td>\n",
       "      <td>1807</td>\n",
       "      <td>0</td>\n",
       "      <td>0</td>\n",
       "      <td>M</td>\n",
       "      <td>100</td>\n",
       "      <td>88.4147</td>\n",
       "    </tr>\n",
       "    <tr>\n",
       "      <th>2</th>\n",
       "      <td>130104966</td>\n",
       "      <td>2013-01-01</td>\n",
       "      <td>59</td>\n",
       "      <td>2</td>\n",
       "      <td>1</td>\n",
       "      <td>NaN</td>\n",
       "      <td>NaN</td>\n",
       "      <td>79</td>\n",
       "      <td>53</td>\n",
       "      <td>NaN</td>\n",
       "      <td>NaN</td>\n",
       "      <td>NaN</td>\n",
       "      <td>NaN</td>\n",
       "      <td>1</td>\n",
       "      <td>1842</td>\n",
       "      <td>0</td>\n",
       "      <td>0</td>\n",
       "      <td>M</td>\n",
       "      <td>100</td>\n",
       "      <td>88.4147</td>\n",
       "    </tr>\n",
       "    <tr>\n",
       "      <th>3</th>\n",
       "      <td>130104968</td>\n",
       "      <td>2013-01-01</td>\n",
       "      <td>17</td>\n",
       "      <td>2</td>\n",
       "      <td>1</td>\n",
       "      <td>NaN</td>\n",
       "      <td>NaN</td>\n",
       "      <td>37</td>\n",
       "      <td>64</td>\n",
       "      <td>NaN</td>\n",
       "      <td>NaN</td>\n",
       "      <td>NaN</td>\n",
       "      <td>NaN</td>\n",
       "      <td>1</td>\n",
       "      <td>4076</td>\n",
       "      <td>0</td>\n",
       "      <td>0</td>\n",
       "      <td>M</td>\n",
       "      <td>100</td>\n",
       "      <td>88.4147</td>\n",
       "    </tr>\n",
       "    <tr>\n",
       "      <th>4</th>\n",
       "      <td>130104970</td>\n",
       "      <td>2013-01-01</td>\n",
       "      <td>38</td>\n",
       "      <td>1</td>\n",
       "      <td>1</td>\n",
       "      <td>NaN</td>\n",
       "      <td>NaN</td>\n",
       "      <td>92</td>\n",
       "      <td>59</td>\n",
       "      <td>NaN</td>\n",
       "      <td>NaN</td>\n",
       "      <td>NaN</td>\n",
       "      <td>NaN</td>\n",
       "      <td>1</td>\n",
       "      <td>474</td>\n",
       "      <td>0</td>\n",
       "      <td>0</td>\n",
       "      <td>M</td>\n",
       "      <td>100</td>\n",
       "      <td>88.4147</td>\n",
       "    </tr>\n",
       "  </tbody>\n",
       "</table>\n",
       "</div>"
      ],
      "text/plain": [
       "        Case       Date  Age  Sex  Race Other_Race  Hispanic  Body_Part  \\\n",
       "0  130104962 2013-01-01   57    1     1        NaN       NaN         76   \n",
       "1  130104963 2013-01-01  207    2     4        NaN       NaN         75   \n",
       "2  130104966 2013-01-01   59    2     1        NaN       NaN         79   \n",
       "3  130104968 2013-01-01   17    2     1        NaN       NaN         37   \n",
       "4  130104970 2013-01-01   38    1     1        NaN       NaN         92   \n",
       "\n",
       "   Diagnosis Other_Diagnosis  Body_Part_2  Diagnosis_2 Other_Diagnosis_2  \\\n",
       "0         53             NaN          NaN          NaN               NaN   \n",
       "1         62             NaN          NaN          NaN               NaN   \n",
       "2         53             NaN          NaN          NaN               NaN   \n",
       "3         64             NaN          NaN          NaN               NaN   \n",
       "4         59             NaN          NaN          NaN               NaN   \n",
       "\n",
       "   Disposition  Product_1  Product_2  Product_3 Stratum  PSU   Weight  \n",
       "0            1       3299          0          0       M  100  88.4147  \n",
       "1            1       1807          0          0       M  100  88.4147  \n",
       "2            1       1842          0          0       M  100  88.4147  \n",
       "3            1       4076          0          0       M  100  88.4147  \n",
       "4            1        474          0          0       M  100  88.4147  "
      ]
     },
     "execution_count": 21,
     "metadata": {},
     "output_type": "execute_result"
    }
   ],
   "source": [
    "# Rename columns\n",
    "injuries_df.columns = ['Case', 'Date', 'Age', 'Sex', 'Race', 'Other_Race', 'Hispanic', 'Body_Part',\n",
    "                       'Diagnosis', 'Other_Diagnosis', 'Body_Part_2', 'Diagnosis_2', 'Other_Diagnosis_2',\n",
    "                       'Disposition', 'Product_1', 'Product_2', 'Product_3', 'Stratum', 'PSU', 'Weight']\n",
    "injuries_df.head()"
   ]
  },
  {
   "cell_type": "markdown",
   "id": "0549e244-a46d-4c9c-8d4a-81302a6bf1b9",
   "metadata": {},
   "source": [
    "***\n",
    "## Data Types and Format\n",
    "***"
   ]
  },
  {
   "cell_type": "code",
   "execution_count": 22,
   "id": "e6947eb0-daf6-4620-a441-11703601b7c6",
   "metadata": {},
   "outputs": [
    {
     "data": {
      "text/plain": [
       "Case                          int64\n",
       "Date                 datetime64[ns]\n",
       "Age                           int64\n",
       "Sex                           int64\n",
       "Race                          int64\n",
       "Other_Race                   object\n",
       "Hispanic                    float64\n",
       "Body_Part                     int64\n",
       "Diagnosis                     int64\n",
       "Other_Diagnosis              object\n",
       "Body_Part_2                 float64\n",
       "Diagnosis_2                 float64\n",
       "Other_Diagnosis_2            object\n",
       "Disposition                   int64\n",
       "Product_1                     int64\n",
       "Product_2                     int64\n",
       "Product_3                     int64\n",
       "Stratum                      object\n",
       "PSU                           int64\n",
       "Weight                      float64\n",
       "dtype: object"
      ]
     },
     "execution_count": 22,
     "metadata": {},
     "output_type": "execute_result"
    }
   ],
   "source": [
    "# Review column data types\n",
    "injuries_df.dtypes"
   ]
  },
  {
   "cell_type": "code",
   "execution_count": 55,
   "id": "2865b24f-2641-4982-a15d-cfac02fdb3d9",
   "metadata": {},
   "outputs": [
    {
     "name": "stdout",
     "output_type": "stream",
     "text": [
      "Case          130104962 to 130104962\n",
      "Age                   0 to 0\n",
      "Sex                   0 to 0\n",
      "Race                  0 to 0\n",
      "Body_Part             0 to 0\n",
      "Diagnosis            41 to 41\n",
      "Disposition           1 to 1\n",
      "Product_1           102 to 102\n",
      "Product_2             0 to 0\n",
      "Product_3             0 to 0\n",
      "PSU                   1 to 1\n"
     ]
    }
   ],
   "source": [
    "# Review the range of int64 columns to see if they could be re-types as int32\n",
    "int_cols = injuries_df.select_dtypes(include=['int']).columns\n",
    "for col in int_cols:\n",
    "    print(f'{col:<12} {injuries_df[col].min():>10} to {injuries_df[col].min()}')"
   ]
  },
  {
   "cell_type": "code",
   "execution_count": 59,
   "id": "ffb265f2-40a5-4413-bdb5-d86ca5d0304d",
   "metadata": {},
   "outputs": [],
   "source": [
    "# Convert int64 columns to int32\n",
    "injuries_df[int_cols] = injuries_df[int_cols].astype('int32')"
   ]
  },
  {
   "cell_type": "code",
   "execution_count": 76,
   "id": "ffde9d75-e622-488d-84d8-98cb2569f4d1",
   "metadata": {},
   "outputs": [],
   "source": [
    "# Review float columns that should should be ints\n",
    "float_cols = injuries_df.select_dtypes(include=['float']).columns.to_list()\n",
    "float_cols.remove('Weight')\n",
    "for col in float_cols:\n",
    "    print(f'{col}\\n{injuries_df[col].unique()}\\n')"
   ]
  },
  {
   "cell_type": "code",
   "execution_count": 75,
   "id": "6da9dab6-d4a4-4e4f-9f5a-cf82d500dfd9",
   "metadata": {},
   "outputs": [],
   "source": [
    "# Since there are no legitimate values assigned to -1, we'll replace nan values with -1 and then convert to int32\n",
    "injuries_df[float_cols] = injuries_df[float_cols].fillna(-1)\n",
    "injuries_df[float_cols] = injuries_df[float_cols].astype('int32')"
   ]
  },
  {
   "cell_type": "markdown",
   "id": "21a20012-1f3a-41e5-85af-d4196ce619c6",
   "metadata": {},
   "source": [
    "***\n",
    "<font color='red'>Pick up here...</font>\n",
    "***"
   ]
  },
  {
   "cell_type": "code",
   "execution_count": null,
   "id": "117a332c-f69a-4dc7-9e7b-130be8d3390d",
   "metadata": {},
   "outputs": [],
   "source": []
  },
  {
   "cell_type": "code",
   "execution_count": null,
   "id": "d586c494-b18f-4095-aaa3-c91b2218a601",
   "metadata": {},
   "outputs": [],
   "source": []
  },
  {
   "cell_type": "code",
   "execution_count": null,
   "id": "0c4b2a64-3f71-4b52-ae26-2dffddd0635b",
   "metadata": {},
   "outputs": [],
   "source": []
  },
  {
   "cell_type": "code",
   "execution_count": null,
   "id": "1d3616b4-c481-4ff5-9591-2a62ff08b37f",
   "metadata": {},
   "outputs": [],
   "source": []
  },
  {
   "cell_type": "markdown",
   "id": "df50685d-1639-4219-aa79-24adff4c0738",
   "metadata": {},
   "source": [
    "***\n",
    "# Review Data Set\n",
    "***"
   ]
  },
  {
   "cell_type": "code",
   "execution_count": null,
   "id": "b5ebec00-98f7-43a4-9d3f-b568a318dc47",
   "metadata": {},
   "outputs": [],
   "source": [
    "# Review the columns\n",
    "injuries_df.columns"
   ]
  },
  {
   "cell_type": "code",
   "execution_count": null,
   "id": "f05b9b3f-b4ef-41b1-862d-2d32053296bc",
   "metadata": {},
   "outputs": [],
   "source": [
    "# Delete columns that are not tied to our project objectives\n",
    "cols_to_drop = ['Fire_Involvement', 'Alcohol', 'Drug', 'Narrative', 'Narrative_1']\n",
    "injuries_df.drop(columns=cols_to_drop, inplace=True)"
   ]
  },
  {
   "cell_type": "markdown",
   "id": "25ea7520-d2fe-47e6-8569-ec94a7031e88",
   "metadata": {},
   "source": [
    "***\n",
    "# Case Number\n",
    "***"
   ]
  },
  {
   "cell_type": "code",
   "execution_count": null,
   "id": "c1b3d9a9-0f79-4aee-8c79-07c17b6b93e9",
   "metadata": {},
   "outputs": [],
   "source": [
    "# Verify that all rows have a unique case number\n",
    "print(f'Number of rows:       {len(injuries_df)}')\n",
    "print(f'Unique Case Numbers:  {len(injuries_df[\"CPSC_Case_Number\"].unique())}')"
   ]
  },
  {
   "cell_type": "code",
   "execution_count": null,
   "id": "237e9c6e-6ec1-4699-9086-db55dbb5a975",
   "metadata": {},
   "outputs": [],
   "source": [
    "# Check datatype is set correctly\n",
    "injuries_df['CPSC_Case_Number'].dtype"
   ]
  },
  {
   "cell_type": "code",
   "execution_count": null,
   "id": "3b5fed22-1f14-49b4-9d72-34559e4685c6",
   "metadata": {},
   "outputs": [],
   "source": [
    "# Rename column and set as index, downcasting as an int32\n",
    "injuries_df.rename(columns={'CPSC_Case_Number': 'Case'}, inplace=True)\n",
    "injuries_df.set_index('Case', drop=True, inplace=True)"
   ]
  },
  {
   "cell_type": "code",
   "execution_count": null,
   "id": "54d06bc9-9a2c-469b-beb6-4b4db7f71f6c",
   "metadata": {},
   "outputs": [],
   "source": [
    "# Preview dataframe with changes\n",
    "injuries_df.head()"
   ]
  },
  {
   "cell_type": "markdown",
   "id": "bdcf6da4-4d7c-45ac-b5dd-c82400e072f7",
   "metadata": {},
   "source": [
    "***  \n",
    "# Treatment Date\n",
    "***  "
   ]
  },
  {
   "cell_type": "code",
   "execution_count": null,
   "id": "a6aba368-49de-4793-a70a-85ddeb933ed1",
   "metadata": {},
   "outputs": [],
   "source": [
    "# Check data type\n",
    "injuries_df['Treatment_Date'].dtypes"
   ]
  },
  {
   "cell_type": "code",
   "execution_count": null,
   "id": "8a446357-2796-4314-9626-48bbaa882b89",
   "metadata": {},
   "outputs": [],
   "source": [
    "# Check for missing values\n",
    "print(f'Missing Treatment Dates:   {len(injuries_df[injuries_df[\"Treatment_Date\"].isnull()])}')"
   ]
  },
  {
   "cell_type": "code",
   "execution_count": null,
   "id": "823f1c41-a89c-4769-832c-853cbb4ce0f3",
   "metadata": {},
   "outputs": [],
   "source": [
    "# Check for outliers - ourdata range should be from Jan 1, 2013 to Dec 31, 2022\n",
    "print(f'Start Date:   {injuries_df[\"Treatment_Date\"].min().strftime(\"%b %d, %Y\")}')\n",
    "print(f'End Date:     {injuries_df[\"Treatment_Date\"].max().strftime(\"%b %d, %Y\")}')"
   ]
  },
  {
   "cell_type": "code",
   "execution_count": null,
   "id": "b4e65b84-1e3f-4663-a9bb-5c8bc88d128c",
   "metadata": {},
   "outputs": [],
   "source": [
    "# Review distribution of dates\n",
    "injuries_df['Treatment_Date'].value_counts().plot()"
   ]
  },
  {
   "cell_type": "code",
   "execution_count": null,
   "id": "d09e4953-9944-4d61-89a5-94be2436605d",
   "metadata": {},
   "outputs": [],
   "source": [
    "# Let's take a closer look at the date distributions for 2020 and 2022\n",
    "inj_2020_df = injuries_df[injuries_df['Treatment_Date'].dt.year == 2020].copy()\n",
    "inj_2020_df['Treatment_Date'].value_counts().plot()"
   ]
  },
  {
   "cell_type": "code",
   "execution_count": null,
   "id": "678a4c12-db9b-4086-a56c-b7e09ba80dfb",
   "metadata": {},
   "outputs": [],
   "source": [
    "inj_2022_df = injuries_df[injuries_df['Treatment_Date'].dt.year == 2022].copy()\n",
    "inj_2022_df['Treatment_Date'].value_counts().plot()"
   ]
  },
  {
   "cell_type": "markdown",
   "id": "88426373-08f6-4aaf-9fc6-847352b2c03d",
   "metadata": {},
   "source": [
    "***  \n",
    "<font color='red'>**Note:**</font>  \n",
    "Further investigation required on why 2020 and 2022 much lower injury reports\n",
    "***"
   ]
  },
  {
   "cell_type": "markdown",
   "id": "ef48a3df-33cd-4a89-becb-afdf865ca25d",
   "metadata": {},
   "source": [
    "***  \n",
    "# Age\n",
    "***  "
   ]
  },
  {
   "cell_type": "code",
   "execution_count": null,
   "id": "76fa6a06-111f-4372-adc1-561eddeed032",
   "metadata": {},
   "outputs": [],
   "source": [
    "# Check datatype\n",
    "injuries_df['Age'].dtypes"
   ]
  },
  {
   "cell_type": "code",
   "execution_count": null,
   "id": "cf91cd4e-a46a-457e-9a3e-231f9df75628",
   "metadata": {},
   "outputs": [],
   "source": [
    "# Check for missing or unknown age. (Unknown age is currently coded as 0.)\n",
    "print(f'Null Age:     {len(injuries_df[injuries_df[\"Age\"].isnull()])}')\n",
    "print(f'Unknown Age:  {len(injuries_df[injuries_df[\"Age\"] == 0])}')"
   ]
  },
  {
   "cell_type": "code",
   "execution_count": null,
   "id": "8424cabf-3d25-401c-a71a-783f86745fcb",
   "metadata": {},
   "outputs": [],
   "source": [
    "# Given the small number of rows with unknown age, we will simply remove these rows from the dataset\n",
    "rows_to_drop = injuries_df[injuries_df['Age'] == 0].index.to_list()\n",
    "injuries_df.drop(index=rows_to_drop, inplace=True)"
   ]
  },
  {
   "cell_type": "code",
   "execution_count": null,
   "id": "5d2d14ec-44c4-4076-8d65-e95e3c780ab4",
   "metadata": {},
   "outputs": [],
   "source": [
    "# Review age value ranges\n",
    "print(f'Min Age:   {injuries_df[\"Age\"].min()}')\n",
    "print(f'Max Age:   {injuries_df[\"Age\"].max()}')"
   ]
  },
  {
   "cell_type": "code",
   "execution_count": null,
   "id": "b9e74590-b415-46da-912d-9d3009de897a",
   "metadata": {},
   "outputs": [],
   "source": [
    "# From the documentation provided by NEISS, ages less than 2 are coded by month.\n",
    "codes_df[codes_df['Code'] == 'AGELTTWO']"
   ]
  },
  {
   "cell_type": "code",
   "execution_count": null,
   "id": "cf5f5e2f-71d7-4d56-b163-62d283a0908c",
   "metadata": {},
   "outputs": [],
   "source": [
    "# For our purposes, we only want to consider age by year. Ages 1 Month to 11 Months will be relabeled as 0 years old\n",
    "# and ages 12 Months to 23 months will be relabled a 1 year old\n",
    "injuries_df.loc[injuries_df['Age'].between(200, 211), 'Age'] = 0\n",
    "injuries_df.loc[injuries_df['Age'].between(212, 223), 'Age'] = 1"
   ]
  },
  {
   "cell_type": "code",
   "execution_count": null,
   "id": "86cf514a-7c1b-483f-aa9f-57baf3428942",
   "metadata": {},
   "outputs": [],
   "source": [
    "# Review age distribution\n",
    "injuries_df['Age'].plot.hist(bins=20)"
   ]
  },
  {
   "cell_type": "code",
   "execution_count": null,
   "id": "8a251932-0f0d-4fd8-a9cb-50e8018e82b1",
   "metadata": {},
   "outputs": [],
   "source": [
    "# Downcast age\n",
    "injuries_df['Age'] = injuries_df['Age'].astype(int)"
   ]
  },
  {
   "cell_type": "markdown",
   "id": "d9067448-3b36-41b5-8f24-23f18e5ba0e9",
   "metadata": {},
   "source": [
    "***\n",
    "<font color='red'>**Note:**</font>  \n",
    "More investigation needed. This distribution doesn't look like the distribution of age in the general population.   \n",
    "Is that expected?  Do I need to consider PSU and weight?\n",
    "***"
   ]
  },
  {
   "cell_type": "markdown",
   "id": "1e3ee45b-90d5-4361-853d-9ac978c7b2fc",
   "metadata": {},
   "source": [
    "***\n",
    "# Gender\n",
    "***"
   ]
  },
  {
   "cell_type": "code",
   "execution_count": null,
   "id": "a114914a-6075-47fc-ba9a-cb20b7a7b78d",
   "metadata": {},
   "outputs": [],
   "source": [
    "# Check datatype\n",
    "injuries_df['Sex'].dtypes"
   ]
  },
  {
   "cell_type": "code",
   "execution_count": null,
   "id": "d0726e75-2071-45dd-96ee-23e727245425",
   "metadata": {},
   "outputs": [],
   "source": [
    "# Check for missing or unknown sex. (Unknown sex is currently coded as 0.)\n",
    "print(f'Null Sex:     {len(injuries_df[injuries_df[\"Sex\"].isnull()])}')\n",
    "print(f'Unknown Sex:  {len(injuries_df[injuries_df[\"Sex\"] == 0])}')"
   ]
  },
  {
   "cell_type": "code",
   "execution_count": null,
   "id": "2640b60b-0c23-4b8b-ba29-f1c7068a590f",
   "metadata": {},
   "outputs": [],
   "source": [
    "# Review codes\n",
    "codes_df[codes_df['Code'] == 'GENDER']"
   ]
  },
  {
   "cell_type": "code",
   "execution_count": null,
   "id": "11ce9d0b-cffc-4a4c-a0ea-7b5cb4ddd97f",
   "metadata": {},
   "outputs": [],
   "source": [
    "# Check for Gender data that doesn't match up with a Gender code\n",
    "missing = False\n",
    "codes = codes_df[codes_df['Code'] == 'GENDER']['Value'].values\n",
    "for i in injuries_df['Sex'].unique():\n",
    "    if i not in codes:\n",
    "        print(f'{i} code is used in Injuries data is missing from the code file.')\n",
    "        missing = True\n",
    "if missing == False:\n",
    "    print('All codes used in the Injuries dataset are valid.')"
   ]
  },
  {
   "cell_type": "markdown",
   "id": "ee98536c-ef64-4e21-8bbf-60dca35c0c57",
   "metadata": {},
   "source": [
    "***\n",
    "<font color='red'>**Note:**</font>  \n",
    "What to do with unknowns?\n",
    "***"
   ]
  },
  {
   "cell_type": "code",
   "execution_count": null,
   "id": "102a8b1d-d922-415a-a6cc-b8618314aaba",
   "metadata": {},
   "outputs": [],
   "source": [
    "# Downcast Sex\n",
    "injuries_df['Sex'] = injuries_df['Sex'].astype(int)"
   ]
  },
  {
   "cell_type": "markdown",
   "id": "11a55d70-00e8-4a81-a9d0-8b433c42fc2e",
   "metadata": {},
   "source": [
    "***  \n",
    "# Race, Other Race, Hispanic\n",
    "***  "
   ]
  },
  {
   "cell_type": "code",
   "execution_count": null,
   "id": "0c8b1d85-43e0-433a-9fa2-9bc6e4c41564",
   "metadata": {},
   "outputs": [],
   "source": [
    "# Review data types\n",
    "injuries_df[['Race', 'Other_Race', 'Hispanic']].dtypes"
   ]
  },
  {
   "cell_type": "code",
   "execution_count": null,
   "id": "3e02e2fa-f4c8-4447-b284-b1e9a0fb33e9",
   "metadata": {},
   "outputs": [],
   "source": [
    "# Review Race and Hispanic codes\n",
    "codes_df[codes_df['Code'].isin(['RACE', 'HISP'])]"
   ]
  },
  {
   "cell_type": "code",
   "execution_count": null,
   "id": "50551bf5-0500-4bb1-a59b-1188e45e5003",
   "metadata": {},
   "outputs": [],
   "source": [
    "# Check for missing or unknown Race\n",
    "print(f'Null Race:     {len(injuries_df[injuries_df[\"Race\"].isnull()])}')\n",
    "print(f'Unknown Race:  {len(injuries_df[injuries_df[\"Race\"] == 0])}')"
   ]
  },
  {
   "cell_type": "code",
   "execution_count": null,
   "id": "60731b44-bd4d-48c8-9ab3-09d78249c177",
   "metadata": {},
   "outputs": [],
   "source": [
    "# Unknown Race as a percent of all records\n",
    "total_rows = len(injuries_df)\n",
    "print(f'Percent of records with Unknown Race:  {round((len(injuries_df[injuries_df[\"Race\"] == 0])/total_rows)*100, 2)}%')"
   ]
  },
  {
   "cell_type": "code",
   "execution_count": null,
   "id": "dbb85673-4f40-44bb-9150-0f3fc905dba6",
   "metadata": {},
   "outputs": [],
   "source": [
    "# Check for Race data that doesn't match up with a Race code\n",
    "missing = False\n",
    "codes = codes_df[codes_df['Code'] == 'RACE']['Value'].values\n",
    "for i in injuries_df['Race'].unique():\n",
    "    if i not in codes:\n",
    "        print(f'{i} code is used in Injuries data is missing from the code file.')\n",
    "        missing = True\n",
    "if missing == False:\n",
    "    print('All codes used in the Injuries dataset are valid.')"
   ]
  },
  {
   "cell_type": "markdown",
   "id": "9027b0b7-260c-42f5-82fd-35586f7ab2ca",
   "metadata": {},
   "source": [
    "***  \n",
    "<font color='red'>**Note:**</font>  \n",
    "What to do with Race data?  \n",
    "Delete? Impute using mean, median, or mode? Or use an algorithm like random forest?\n",
    "  \n",
    "If keeping, downcast to int8?\n",
    "***  "
   ]
  },
  {
   "cell_type": "code",
   "execution_count": null,
   "id": "58d1cb78-975f-4fd8-9ba4-51afe840a497",
   "metadata": {},
   "outputs": [],
   "source": [
    "# Check for NaN data in Other Race\n",
    "print(f'NaN Other Race:   {len(injuries_df[injuries_df[\"Other_Race\"].isna()])}')"
   ]
  },
  {
   "cell_type": "code",
   "execution_count": null,
   "id": "4d72788d-384f-4079-9134-6829714055a7",
   "metadata": {},
   "outputs": [],
   "source": [
    "# Missing Other Race as a percent of all records\n",
    "print(f'Percent of records with Unknown Race:  {round((len(injuries_df[injuries_df[\"Other_Race\"].isna()])/total_rows)*100, 2)}%')"
   ]
  },
  {
   "cell_type": "code",
   "execution_count": null,
   "id": "a8b8d960-c96d-4666-aae0-3e8099f9b0ab",
   "metadata": {},
   "outputs": [],
   "source": [
    "# Given the large amount of data missing in the Other Race column, we will not use this data in our analysis\n",
    "injuries_df.drop(columns=['Other_Race'], inplace=True)"
   ]
  },
  {
   "cell_type": "code",
   "execution_count": null,
   "id": "437a88d7-7365-4b88-a49d-7796c6180a93",
   "metadata": {},
   "outputs": [],
   "source": [
    "# Check for missing or unknown Hispanic data\n",
    "print(f'Null Hispanic:     {len(injuries_df[injuries_df[\"Hispanic\"].isnull()])}')\n",
    "print(f'Unknown Hispanic:  {len(injuries_df[injuries_df[\"Hispanic\"] == 0])}')"
   ]
  },
  {
   "cell_type": "code",
   "execution_count": null,
   "id": "fd1d9281-76f8-4bfb-aee1-bb4a6efa3071",
   "metadata": {},
   "outputs": [],
   "source": [
    "# Missing or Null Hispanic data as a percent of all records\n",
    "miss_nan = len(injuries_df[injuries_df[\"Hispanic\"].isnull()]) + len(injuries_df[injuries_df[\"Hispanic\"] == 0])\n",
    "print(f'Percent of records with Unknown or Missing Hispanic:  {round((miss_nan/total_rows)*100, 2)}%')"
   ]
  },
  {
   "cell_type": "code",
   "execution_count": null,
   "id": "1d661756-d1d9-4fbf-9efa-e94ea64b17c3",
   "metadata": {},
   "outputs": [],
   "source": [
    "# Given the large amount of data missing in the Hispanic column, we will not use this data in our analysis\n",
    "injuries_df.drop(columns=['Hispanic'], inplace=True)"
   ]
  },
  {
   "cell_type": "markdown",
   "id": "16958e21-74f9-4e96-a752-332c2a82bac0",
   "metadata": {},
   "source": [
    "***  \n",
    "# Body Part\n",
    "***"
   ]
  },
  {
   "cell_type": "code",
   "execution_count": null,
   "id": "f0ede7b9-5970-411a-a422-b4cdc5d6de56",
   "metadata": {},
   "outputs": [],
   "source": [
    "# Review data types\n",
    "injuries_df[['Body_Part', 'Body_Part_2']].dtypes"
   ]
  },
  {
   "cell_type": "code",
   "execution_count": null,
   "id": "2659ef0c-b184-47a3-903d-68d3b54d636f",
   "metadata": {},
   "outputs": [],
   "source": [
    "# Review Body Part Codes\n",
    "codes_df[codes_df['Code'] == 'BDYPT']"
   ]
  },
  {
   "cell_type": "code",
   "execution_count": null,
   "id": "e744807d-5b5f-4121-bf7f-dd85e0f27429",
   "metadata": {},
   "outputs": [],
   "source": [
    "# Check for missing or unknown body parts\n",
    "print(f'Null Body Part:     {len(injuries_df[injuries_df[\"Body_Part\"].isnull()])}')\n",
    "print(f'Unknown Body Part:  {len(injuries_df[injuries_df[\"Body_Part\"] == 87])}')"
   ]
  },
  {
   "cell_type": "code",
   "execution_count": null,
   "id": "b40f0a43-b824-49e8-a2f2-f2414c5e3d06",
   "metadata": {},
   "outputs": [],
   "source": [
    "# Records with an unknown body part as a percent of all records\n",
    "print(f'Percent of records with Unknown Body Part:  {round((len(injuries_df[injuries_df[\"Body_Part\"] == 87])/total_rows)*100, 2)}%')"
   ]
  },
  {
   "cell_type": "code",
   "execution_count": null,
   "id": "80514b42-2810-4b24-b723-f217c9f94503",
   "metadata": {},
   "outputs": [],
   "source": [
    "# Check for Body Part data that doesn't match up with a Body Part code\n",
    "missing = False\n",
    "codes = codes_df[codes_df['Code'] == 'BDYPT']['Value'].values\n",
    "for i in injuries_df['Body_Part'].unique():\n",
    "    if i not in codes:\n",
    "        print(f'{i} code is used in Injuries data is missing from the code file.')\n",
    "        missing = True\n",
    "if missing == False:\n",
    "    print('All codes used in the Injuries dataset are valid.')"
   ]
  },
  {
   "cell_type": "markdown",
   "id": "a0f75b8d-060d-414a-9b6f-e419a90a25a8",
   "metadata": {},
   "source": [
    "***\n",
    "<font color='red'>**Note:**</font>  \n",
    "What to do with the unknown body part data?  \n",
    "Delete? Impute? Do Nothing?\n",
    "***"
   ]
  },
  {
   "cell_type": "code",
   "execution_count": null,
   "id": "bcefac85-ac18-44d0-aac0-9b996c94a568",
   "metadata": {},
   "outputs": [],
   "source": [
    "# Downcast Body Part\n",
    "injuries_df['Body_Part'] = injuries_df['Body_Part'].astype(int)"
   ]
  },
  {
   "cell_type": "code",
   "execution_count": null,
   "id": "2ab73dd4-227f-441a-bdc2-2f0b07e9a0f2",
   "metadata": {},
   "outputs": [],
   "source": [
    "# Records with missing Body_Part_2 data\n",
    "print(f'Missing Body Part 2:   {len(injuries_df[injuries_df[\"Body_Part_2\"].isna()])}')"
   ]
  },
  {
   "cell_type": "code",
   "execution_count": null,
   "id": "51cafed5-626a-4e9e-a8bc-355d88679469",
   "metadata": {},
   "outputs": [],
   "source": [
    "# Records with missing Body_Part_2 as a percent of the whole\n",
    "print(f'Percent of records with Unknown Body Part:  {round((len(injuries_df[injuries_df[\"Body_Part_2\"].isna()])/total_rows)*100, 2)}%')"
   ]
  },
  {
   "cell_type": "code",
   "execution_count": null,
   "id": "8d8531ac-1e6a-4645-af90-a0afac65900a",
   "metadata": {},
   "outputs": [],
   "source": [
    "# Given the significant amount of missing data, let's delete this column\n",
    "injuries_df.drop(columns='Body_Part_2', inplace=True)"
   ]
  },
  {
   "cell_type": "markdown",
   "id": "14d22987-8633-4bdc-8cc6-f5044bee2de8",
   "metadata": {},
   "source": [
    "*** \n",
    "# Diagnosis\n",
    "***"
   ]
  },
  {
   "cell_type": "code",
   "execution_count": null,
   "id": "5bacbdaf-62a2-42e7-94a6-8c0f5636aeaf",
   "metadata": {},
   "outputs": [],
   "source": [
    "# Check data types\n",
    "injuries_df[['Diagnosis', 'Diagnosis_2', 'Other_Diagnosis', 'Other_Diagnosis_2']].dtypes"
   ]
  },
  {
   "cell_type": "code",
   "execution_count": null,
   "id": "6cb9b3b2-069b-4e54-a038-8a854717224c",
   "metadata": {},
   "outputs": [],
   "source": [
    "# Review missing data\n",
    "print(f'Null Diagnosis:     {len(injuries_df[injuries_df[\"Diagnosis\"].isnull()])}')\n",
    "print(f'Null Diagnosis 2:   {len(injuries_df[injuries_df[\"Diagnosis_2\"].isnull()])}')"
   ]
  },
  {
   "cell_type": "code",
   "execution_count": null,
   "id": "f2f8f3b4-c453-482c-9178-e4ae4acb8ad0",
   "metadata": {},
   "outputs": [],
   "source": [
    "# Given the significant amount of missing data, let's delete this column\n",
    "injuries_df.drop(columns='Diagnosis_2', inplace=True)"
   ]
  },
  {
   "cell_type": "code",
   "execution_count": null,
   "id": "a8207b83-5f78-4c6a-9c01-21627adbd16b",
   "metadata": {},
   "outputs": [],
   "source": [
    "# Review Diagnosis Codes\n",
    "codes_df[codes_df['Code'] == 'DIAG']"
   ]
  },
  {
   "cell_type": "code",
   "execution_count": null,
   "id": "43805dcb-bb84-4dbf-ad1a-f7b612fce8e8",
   "metadata": {},
   "outputs": [],
   "source": [
    "# Check for Diagnosis data that doesn't match up with a Diagnosis code\n",
    "missing = False\n",
    "codes = codes_df[codes_df['Code'] == 'DIAG']['Value'].values\n",
    "for i in injuries_df['Diagnosis'].unique():\n",
    "    if i not in codes:\n",
    "        print(f'{i} code is used in Injuries data is missing from the code file.')\n",
    "        missing = True\n",
    "if missing == False:\n",
    "    print('All codes used in the Injuries dataset are valid.')"
   ]
  },
  {
   "cell_type": "code",
   "execution_count": null,
   "id": "25fa643d-9d86-431d-a2e1-7ef724393e92",
   "metadata": {},
   "outputs": [],
   "source": [
    "# Downcast Diagnosis column\n",
    "injuries_df['Diagnosis'] = injuries_df['Diagnosis'].astype(int)"
   ]
  },
  {
   "cell_type": "code",
   "execution_count": null,
   "id": "13a447c4-558e-4411-8c0f-f7a019851a9f",
   "metadata": {},
   "outputs": [],
   "source": [
    "# Review missing data\n",
    "print(f'Null Other Diagnosis:     {len(injuries_df[injuries_df[\"Other_Diagnosis\"].isna()])}')\n",
    "print(f'Null Other Diagnosis 2:   {len(injuries_df[injuries_df[\"Other_Diagnosis_2\"].isna()])}')"
   ]
  },
  {
   "cell_type": "code",
   "execution_count": null,
   "id": "e0b35308-b990-4d8e-b6d1-d6ebf0f3b7d1",
   "metadata": {},
   "outputs": [],
   "source": [
    "# Records with missing Body_Part_2 as a percent of the whole\n",
    "print(f'Percent of records with Missing Other Diagnosis:    {round((len(injuries_df[injuries_df[\"Other_Diagnosis\"].isna()])/total_rows)*100, 2)}%')\n",
    "print(f'Percent of records with Missing Other Diagnosis 2:  {round((len(injuries_df[injuries_df[\"Other_Diagnosis_2\"].isna()])/total_rows)*100, 2)}%')"
   ]
  },
  {
   "cell_type": "code",
   "execution_count": null,
   "id": "cda372ee-0b48-485f-8166-23502a92daff",
   "metadata": {},
   "outputs": [],
   "source": [
    "# Drop Other Diagnosis and Other Diagnosis 2 columns\n",
    "injuries_df.drop(columns=['Other_Diagnosis', 'Other_Diagnosis_2'], inplace=True)"
   ]
  },
  {
   "cell_type": "markdown",
   "id": "210cd700-ce57-4987-9697-08dbf5b585be",
   "metadata": {},
   "source": [
    "***\n",
    "# Disposition\n",
    "***"
   ]
  },
  {
   "cell_type": "code",
   "execution_count": null,
   "id": "c0a7b393-e213-449e-b854-e6a883258ddc",
   "metadata": {},
   "outputs": [],
   "source": [
    "# Check data type\n",
    "injuries_df['Disposition'].dtypes"
   ]
  },
  {
   "cell_type": "code",
   "execution_count": null,
   "id": "8bfc1f50-9f32-40cc-ad6d-b8537a5dcd6a",
   "metadata": {},
   "outputs": [],
   "source": [
    "# Review Disposition codes\n",
    "codes_df[codes_df['Code'] == 'DISP']"
   ]
  },
  {
   "cell_type": "code",
   "execution_count": null,
   "id": "a7630cba-da0d-4f62-8092-d69c2e98521f",
   "metadata": {},
   "outputs": [],
   "source": [
    "# Review missing data\n",
    "print(f'Null Disposition:     {len(injuries_df[injuries_df[\"Disposition\"].isnull()])}')\n",
    "print(f'Unknown Disposition:  {len(injuries_df[injuries_df[\"Disposition\"] == 9])}')"
   ]
  },
  {
   "cell_type": "code",
   "execution_count": null,
   "id": "f35f6cf8-2809-4f77-aadd-431bdf681936",
   "metadata": {},
   "outputs": [],
   "source": [
    "# Check for Diagnosis data that doesn't match up with a Diagnosis code\n",
    "missing = False\n",
    "codes = codes_df[codes_df['Code'] == 'DISP']['Value'].values\n",
    "for i in injuries_df['Disposition'].unique():\n",
    "    if i not in codes:\n",
    "        print(f'{i} code is used in Injuries data is missing from the code file.')\n",
    "        missing = True\n",
    "if missing == False:\n",
    "    print('All codes used in the Injuries dataset are valid.')"
   ]
  },
  {
   "cell_type": "code",
   "execution_count": null,
   "id": "578fd20f-f37a-4c86-801a-a2fdd30151a7",
   "metadata": {},
   "outputs": [],
   "source": [
    "# Downcast Disposition\n",
    "injuries_df['Disposition'] = injuries_df['Disposition'].astype(int)"
   ]
  },
  {
   "cell_type": "markdown",
   "id": "00fb4eb4-e88a-4d1c-920f-c46a9c650cd9",
   "metadata": {},
   "source": [
    "***\n",
    "# Location\n",
    "***"
   ]
  },
  {
   "cell_type": "code",
   "execution_count": null,
   "id": "5891d9a1-40dd-4632-b659-f388a5ae8b4c",
   "metadata": {},
   "outputs": [],
   "source": [
    "# Check data type\n",
    "injuries_df['Location'].dtypes"
   ]
  },
  {
   "cell_type": "code",
   "execution_count": null,
   "id": "e8d5bfa1-da3e-4de0-8bdf-5125bc33831e",
   "metadata": {},
   "outputs": [],
   "source": [
    "# Review the location codes\n",
    "codes_df[codes_df['Code'] == 'LOC']"
   ]
  },
  {
   "cell_type": "code",
   "execution_count": null,
   "id": "1d36d92d-a2d8-4fc3-b0de-2c4e78cf0fb0",
   "metadata": {},
   "outputs": [],
   "source": [
    "# Review missing data\n",
    "print(f'Null Location:     {len(injuries_df[injuries_df[\"Location\"].isnull()])}')\n",
    "print(f'Unknown Location:  {len(injuries_df[injuries_df[\"Location\"] == 0])}')"
   ]
  },
  {
   "cell_type": "code",
   "execution_count": null,
   "id": "61321605-ee76-4daf-9827-24328576d466",
   "metadata": {},
   "outputs": [],
   "source": [
    "# Records with unknown Location as a percent of the whole\n",
    "print(f'Percent of records with unknown Location:    {round((len(injuries_df[injuries_df[\"Location\"] == 0])/total_rows)*100, 2)}%')"
   ]
  },
  {
   "cell_type": "markdown",
   "id": "4119601d-d607-401e-99b0-64b3f491b94c",
   "metadata": {},
   "source": [
    "***\n",
    "<font color='red'>**Note:**</font>  \n",
    "What to do with the unknown location data?  \n",
    "Delete? Impute? Do Nothing?\n",
    "***"
   ]
  },
  {
   "cell_type": "code",
   "execution_count": null,
   "id": "c53d6dc9-2c01-492e-beaf-a7cb1efb9f80",
   "metadata": {},
   "outputs": [],
   "source": [
    "# Check for Location data that doesn't match up with a Diagnosis code\n",
    "missing = False\n",
    "codes = codes_df[codes_df['Code'] == 'LOC']['Value'].values\n",
    "for i in injuries_df['Location'].unique():\n",
    "    if i not in codes:\n",
    "        print(f'{i} code is used in Injuries data is missing from the code file.')\n",
    "        missing = True\n",
    "if missing == False:\n",
    "    print('All codes used in the Injuries dataset are valid.')"
   ]
  },
  {
   "cell_type": "code",
   "execution_count": null,
   "id": "8cdd5223-2806-4280-a558-76b0e4e64255",
   "metadata": {},
   "outputs": [],
   "source": [
    "# Downcast location\n",
    "injuries_df['Location'] = injuries_df['Location'].astype(int)"
   ]
  },
  {
   "cell_type": "markdown",
   "id": "e606a39a-0609-4d3a-bbac-73d32b661452",
   "metadata": {},
   "source": [
    "***\n",
    "# Products\n",
    "***"
   ]
  },
  {
   "cell_type": "code",
   "execution_count": null,
   "id": "d34e6f1e-56a1-43a8-bd6e-3cf51f1f3786",
   "metadata": {},
   "outputs": [],
   "source": [
    "# Check data types\n",
    "injuries_df[['Product_1', 'Product_2', 'Product_3']].dtypes"
   ]
  },
  {
   "cell_type": "code",
   "execution_count": null,
   "id": "295f7093-2d42-477a-a6c0-7e830d249dc0",
   "metadata": {},
   "outputs": [],
   "source": [
    "# Review product codes\n",
    "codes_df[codes_df['Code'] == 'PROD']"
   ]
  },
  {
   "cell_type": "code",
   "execution_count": null,
   "id": "85ef5576-28c6-4687-8a61-e898bdd11fe2",
   "metadata": {},
   "outputs": [],
   "source": [
    "# Review missing data\n",
    "print(f'Null Product 1:      {len(injuries_df[injuries_df[\"Product_1\"].isnull()])}')\n",
    "print(f'Null Product 2:      {len(injuries_df[injuries_df[\"Product_2\"].isnull()])}')\n",
    "print(f'Null Product 3:      {len(injuries_df[injuries_df[\"Product_3\"].isnull()])}')\n",
    "print(f'Missing Product 1:   {len(injuries_df[injuries_df[\"Product_1\"] == 0])}')\n",
    "print(f'Missing Product 2:   {len(injuries_df[injuries_df[\"Product_2\"] == 0])}')\n",
    "print(f'Missing Product 3:   {len(injuries_df[injuries_df[\"Product_3\"] == 0])}')"
   ]
  },
  {
   "cell_type": "code",
   "execution_count": null,
   "id": "7787073f-6678-487d-9b63-7af49161f809",
   "metadata": {},
   "outputs": [],
   "source": [
    "# Records with missing product as a percent of the whole\n",
    "print(f'Percent of records with missing Product 2:    {round((len(injuries_df[injuries_df[\"Product_2\"] == 0])/total_rows)*100, 2)}%')\n",
    "print(f'Percent of records with missing Product 3:    {round((len(injuries_df[injuries_df[\"Product_3\"] == 0])/total_rows)*100, 2)}%')"
   ]
  },
  {
   "cell_type": "code",
   "execution_count": null,
   "id": "e91bc06d-ebd7-4fec-b52b-314420200419",
   "metadata": {},
   "outputs": [],
   "source": [
    "# Drop Product 2 and Product 3 columns due to limited to data\n",
    "injuries_df.drop(columns=['Product_2', 'Product_3'], inplace=True)"
   ]
  },
  {
   "cell_type": "code",
   "execution_count": null,
   "id": "d243262f-8993-4dd9-a35f-cb5001f8bf53",
   "metadata": {},
   "outputs": [],
   "source": [
    "# Check for Product data that doesn't match up with a Product code\n",
    "missing = False\n",
    "codes = codes_df[codes_df['Code'] == 'PROD']['Value'].values\n",
    "for i in injuries_df['Product_1'].unique():\n",
    "    if i not in codes:\n",
    "        print(f'{i} code is used in Injuries data is missing from the code file.')\n",
    "        missing = True\n",
    "if missing == False:\n",
    "    print('All codes used in the Injuries dataset are valid.')"
   ]
  },
  {
   "cell_type": "code",
   "execution_count": null,
   "id": "4215cbf1-cc61-4687-8917-2755469d6e8f",
   "metadata": {},
   "outputs": [],
   "source": [
    "# Downcast Product 1\n",
    "injuries_df['Product_1'] = injuries_df['Product_1'].astype(int)"
   ]
  },
  {
   "cell_type": "markdown",
   "id": "cf32faac-883f-4db5-957f-f6c0d54c0484",
   "metadata": {},
   "source": [
    "***\n",
    "# Stratum\n",
    "***"
   ]
  },
  {
   "cell_type": "code",
   "execution_count": null,
   "id": "1c520a12-d64f-4925-81ba-801deb9760a2",
   "metadata": {},
   "outputs": [],
   "source": [
    "# Check datatype\n",
    "injuries_df['Stratum'].dtypes"
   ]
  },
  {
   "cell_type": "code",
   "execution_count": null,
   "id": "fdd13a5b-0cd8-441e-96f9-7f87e95af7a7",
   "metadata": {},
   "outputs": [],
   "source": [
    "# Check for Missing or Null values\n",
    "print(f'Null Stratum:     {len(injuries_df[injuries_df[\"Stratum\"].isnull()])}')\n",
    "print(f'Empty Stratum:    {len(injuries_df[injuries_df[\"Stratum\"] == \"\"])}')"
   ]
  },
  {
   "cell_type": "code",
   "execution_count": null,
   "id": "752e84a9-0ca9-4f35-b468-4cb73353284d",
   "metadata": {},
   "outputs": [],
   "source": [
    "print(injuries_df['Stratum'].value_counts())\n",
    "print(f'\\nTotal: {injuries_df[\"Stratum\"].value_counts().sum()}')"
   ]
  },
  {
   "cell_type": "markdown",
   "id": "975981ac-6310-475f-b49a-40d20c5f864d",
   "metadata": {},
   "source": [
    "***\n",
    "# PSU, Weight\n",
    "***"
   ]
  },
  {
   "cell_type": "code",
   "execution_count": null,
   "id": "32e7377b-2665-4569-a0ab-da039e0d779b",
   "metadata": {},
   "outputs": [],
   "source": []
  },
  {
   "cell_type": "code",
   "execution_count": null,
   "id": "5668eef4-5f4e-41c0-a8f7-b99a2639b521",
   "metadata": {},
   "outputs": [],
   "source": []
  },
  {
   "cell_type": "code",
   "execution_count": null,
   "id": "d1a86eb8-dfad-4082-8939-7c6b94956827",
   "metadata": {},
   "outputs": [],
   "source": []
  },
  {
   "cell_type": "code",
   "execution_count": null,
   "id": "0f5ecfc5-9e6b-4c69-a537-17c48b96403b",
   "metadata": {},
   "outputs": [],
   "source": []
  },
  {
   "cell_type": "markdown",
   "id": "792e3626-79aa-4cf4-888a-243c9136f39b",
   "metadata": {},
   "source": [
    "***\n",
    "# Memory Usage\n",
    "***"
   ]
  },
  {
   "cell_type": "code",
   "execution_count": null,
   "id": "c3749794-102c-4925-9dd9-9e7b0e42731d",
   "metadata": {},
   "outputs": [],
   "source": [
    "# Since our dataset is on the larger size, let's capture the memory usage. This will allow us to evalute how much our cleanup activities\n",
    "# impact overall size. While this may not be critical in this case, it's a good habit.\n",
    "print(f'Memory Usage by Column:\\n{injuries_df.memory_usage()}')\n",
    "print(f'\\nTotal Memory Usage for Dataframe:   {injuries_df.memory_usage().sum()}')"
   ]
  },
  {
   "cell_type": "code",
   "execution_count": null,
   "id": "4ba0e3aa-8988-47bf-9af8-9126474415f9",
   "metadata": {},
   "outputs": [],
   "source": []
  },
  {
   "cell_type": "code",
   "execution_count": null,
   "id": "16d0dfdd-98d1-4c66-9ed9-4ecff5f353da",
   "metadata": {},
   "outputs": [],
   "source": [
    "# Check for missing or null values\n",
    "print(f'Empty Stratum:     {len(injuries_df[injuries_df[\"Stratum\"] == \"\"])}')"
   ]
  }
 ],
 "metadata": {
  "kernelspec": {
   "display_name": "Python 3 (ipykernel)",
   "language": "python",
   "name": "python3"
  },
  "language_info": {
   "codemirror_mode": {
    "name": "ipython",
    "version": 3
   },
   "file_extension": ".py",
   "mimetype": "text/x-python",
   "name": "python",
   "nbconvert_exporter": "python",
   "pygments_lexer": "ipython3",
   "version": "3.10.4"
  }
 },
 "nbformat": 4,
 "nbformat_minor": 5
}
