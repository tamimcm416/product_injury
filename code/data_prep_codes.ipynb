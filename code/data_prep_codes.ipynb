{
 "cells": [
  {
   "cell_type": "markdown",
   "id": "a6401229-d7a4-4239-bb27-9902edb4260a",
   "metadata": {
    "tags": []
   },
   "source": [
    "# Product Injury\n",
    "<font size=4 color='blue'>Understand and Prep Data - Codes</font>   \n",
    "***  \n",
    "\n",
    "**Project Summary:**   \n",
    "The Consumer Product Safety Commission operations a surveillance system (NEISS) to track injury data related to consumer products. The data is collected from a representative sample of emergency rooms in the United Status. \n",
    "This project will examine the data from 2013 through 2022 to explore trends in product injuries resulting in emergency room visits.\n",
    "\n",
    "**Notebook Scope:**  \n",
    "This notebook includes code to review and prep the lookup codes used in the NEISS data files. The data is pulled from each annual injury data file, which includes a lookup code worksheet. \n",
    "\n",
    "**Output:**  \n",
    "An excel file containins a scrubbed lookup table that will be used for analysis of NEISS data.\n",
    "***  "
   ]
  },
  {
   "cell_type": "markdown",
   "id": "6fbdbe78-45ef-45e9-aa24-7a404b633884",
   "metadata": {
    "tags": []
   },
   "source": [
    "***\n",
    "# Notebook Setup\n",
    "***"
   ]
  },
  {
   "cell_type": "code",
   "execution_count": 1,
   "id": "e3e04588-e5b2-4182-a7fb-b6f2d978a0d6",
   "metadata": {},
   "outputs": [],
   "source": [
    "# Import libraries\n",
    "import pandas as pd\n",
    "from datetime import datetime"
   ]
  },
  {
   "cell_type": "markdown",
   "id": "2443d95a-7e1c-4b7f-927c-6cf71cdf300d",
   "metadata": {
    "tags": []
   },
   "source": [
    "***  \n",
    "# Load Data\n",
    "***"
   ]
  },
  {
   "cell_type": "code",
   "execution_count": 2,
   "id": "b305efcf-8b09-48ff-a7b9-2b8e548eace4",
   "metadata": {},
   "outputs": [
    {
     "name": "stdout",
     "output_type": "stream",
     "text": [
      "Load start time:  09:05:14\n",
      "Load finish time:  09:06:13\n"
     ]
    }
   ],
   "source": [
    "# Read in the NEIS_FMT worksheet from each annual injury data Excel file\n",
    "path = '../_data/'\n",
    "files = ['neiss' + str(x) + '.xlsx' for x in range(2013, 2023)]\n",
    "all_codes_df = pd.DataFrame()\n",
    "\n",
    "print(f'Load start time:  {datetime.now().strftime('%H:%M:%S')}')\n",
    "for file in files:\n",
    "    raw_df = pd.read_excel(path + file, sheet_name = 'NEISS_FMT')\n",
    "    raw_df.insert(0, 'Year', file[-9:-5])\n",
    "    all_codes_df = pd.concat([all_codes_df, raw_df])\n",
    "print(f'Load finish time:  {datetime.now().strftime('%H:%M:%S')}')"
   ]
  },
  {
   "cell_type": "code",
   "execution_count": 3,
   "id": "75b6eec4-f4eb-46ba-8b50-dd24002d8d68",
   "metadata": {},
   "outputs": [],
   "source": [
    "# Reset index\n",
    "all_codes_df.reset_index(drop=True, inplace=True)"
   ]
  },
  {
   "cell_type": "markdown",
   "id": "d226645c-5827-4faf-8095-a069cb6456c3",
   "metadata": {},
   "source": [
    "***\n",
    "# Preview Data\n",
    "***"
   ]
  },
  {
   "cell_type": "code",
   "execution_count": 4,
   "id": "67a95fb5-80bd-401d-a1e7-02e253a35995",
   "metadata": {},
   "outputs": [
    {
     "data": {
      "text/html": [
       "<div>\n",
       "<style scoped>\n",
       "    .dataframe tbody tr th:only-of-type {\n",
       "        vertical-align: middle;\n",
       "    }\n",
       "\n",
       "    .dataframe tbody tr th {\n",
       "        vertical-align: top;\n",
       "    }\n",
       "\n",
       "    .dataframe thead th {\n",
       "        text-align: right;\n",
       "    }\n",
       "</style>\n",
       "<table border=\"1\" class=\"dataframe\">\n",
       "  <thead>\n",
       "    <tr style=\"text-align: right;\">\n",
       "      <th></th>\n",
       "      <th>Year</th>\n",
       "      <th>Format name</th>\n",
       "      <th>Starting value for format</th>\n",
       "      <th>Ending value for format</th>\n",
       "      <th>Format value label</th>\n",
       "    </tr>\n",
       "  </thead>\n",
       "  <tbody>\n",
       "    <tr>\n",
       "      <th>0</th>\n",
       "      <td>2013</td>\n",
       "      <td>AGELTTWO</td>\n",
       "      <td>0</td>\n",
       "      <td>0</td>\n",
       "      <td>UNK</td>\n",
       "    </tr>\n",
       "    <tr>\n",
       "      <th>1</th>\n",
       "      <td>2013</td>\n",
       "      <td>AGELTTWO</td>\n",
       "      <td>2</td>\n",
       "      <td>120</td>\n",
       "      <td>2 YEARS AND OLDER</td>\n",
       "    </tr>\n",
       "    <tr>\n",
       "      <th>2</th>\n",
       "      <td>2013</td>\n",
       "      <td>AGELTTWO</td>\n",
       "      <td>201</td>\n",
       "      <td>201</td>\n",
       "      <td>1 MONTH</td>\n",
       "    </tr>\n",
       "    <tr>\n",
       "      <th>3</th>\n",
       "      <td>2013</td>\n",
       "      <td>AGELTTWO</td>\n",
       "      <td>202</td>\n",
       "      <td>202</td>\n",
       "      <td>2 MONTHS</td>\n",
       "    </tr>\n",
       "    <tr>\n",
       "      <th>4</th>\n",
       "      <td>2013</td>\n",
       "      <td>AGELTTWO</td>\n",
       "      <td>203</td>\n",
       "      <td>203</td>\n",
       "      <td>3 MONTHS</td>\n",
       "    </tr>\n",
       "  </tbody>\n",
       "</table>\n",
       "</div>"
      ],
      "text/plain": [
       "   Year Format name Starting value for format Ending value for format  \\\n",
       "0  2013    AGELTTWO                         0                       0   \n",
       "1  2013    AGELTTWO                         2                     120   \n",
       "2  2013    AGELTTWO                       201                     201   \n",
       "3  2013    AGELTTWO                       202                     202   \n",
       "4  2013    AGELTTWO                       203                     203   \n",
       "\n",
       "  Format value label  \n",
       "0                UNK  \n",
       "1  2 YEARS AND OLDER  \n",
       "2            1 MONTH  \n",
       "3           2 MONTHS  \n",
       "4           3 MONTHS  "
      ]
     },
     "execution_count": 4,
     "metadata": {},
     "output_type": "execute_result"
    }
   ],
   "source": [
    "# Preview the dataframe\n",
    "all_codes_df.head()"
   ]
  },
  {
   "cell_type": "code",
   "execution_count": 5,
   "id": "33a366b7-ca7e-4cac-b204-a65fac5a1600",
   "metadata": {},
   "outputs": [],
   "source": [
    "# Drop rows and columns that consist only of NaN data\n",
    "all_codes_df.dropna(axis = 0, how = 'all', inplace=True)\n",
    "all_codes_df.dropna(axis = 1, how = 'all', inplace=True)"
   ]
  },
  {
   "cell_type": "code",
   "execution_count": 6,
   "id": "e9f261ce-4df3-4f47-a533-38bba12171f6",
   "metadata": {},
   "outputs": [
    {
     "data": {
      "text/plain": [
       "(12483, 5)"
      ]
     },
     "execution_count": 6,
     "metadata": {},
     "output_type": "execute_result"
    }
   ],
   "source": [
    "# View shape of the dataframe\n",
    "all_codes_df.shape"
   ]
  },
  {
   "cell_type": "markdown",
   "id": "c73eb29e-c2f4-49fe-af66-e2a440ceb7db",
   "metadata": {},
   "source": [
    "***  \n",
    "# Variables\n",
    "*** "
   ]
  },
  {
   "cell_type": "code",
   "execution_count": 7,
   "id": "08277f32-81f1-49d0-909a-419ae542f635",
   "metadata": {},
   "outputs": [
    {
     "data": {
      "text/plain": [
       "array(['Year', 'Format name', 'Starting value for format',\n",
       "       'Ending value for format', 'Format value label'], dtype=object)"
      ]
     },
     "execution_count": 7,
     "metadata": {},
     "output_type": "execute_result"
    }
   ],
   "source": [
    "# Display variables (column headings) for the dataframe\n",
    "all_codes_df.columns.values"
   ]
  },
  {
   "cell_type": "markdown",
   "id": "bfb9932d-1457-4004-8b30-1641518250ed",
   "metadata": {},
   "source": [
    "***\n",
    "**Variable Descriptions**  \n",
    "-- Year: Indicates which annual injury data file the row was read from  \n",
    "-- Format name: Code label  \n",
    "-- Starting value for format: Starting value for the code label  \n",
    "-- Ending value for format: Ending value for the code label    \n",
    "-- Format value label: Description for code/label combination\n",
    "***"
   ]
  },
  {
   "cell_type": "code",
   "execution_count": 8,
   "id": "2dfc8a97-f9f5-47b0-a839-e07f09395146",
   "metadata": {},
   "outputs": [
    {
     "data": {
      "text/plain": [
       "array(['2013', '2014', '2015', '2016', '2017', '2018', '2019', '2020',\n",
       "       '2021', '2022'], dtype=object)"
      ]
     },
     "execution_count": 8,
     "metadata": {},
     "output_type": "execute_result"
    }
   ],
   "source": [
    "# Review Year data\n",
    "all_codes_df['Year'].unique()"
   ]
  },
  {
   "cell_type": "code",
   "execution_count": 9,
   "id": "594e825a-430e-4e99-9420-57dffe5f16f7",
   "metadata": {},
   "outputs": [
    {
     "data": {
      "text/plain": [
       "array(['AGELTTWO', 'ALC_DRUG', 'BDYPT', 'DIAG', 'DISP', 'FIRE', 'GENDER',\n",
       "       'HISP', 'LOC', 'PROD', 'RACE'], dtype=object)"
      ]
     },
     "execution_count": 9,
     "metadata": {},
     "output_type": "execute_result"
    }
   ],
   "source": [
    "# Review Format name data\n",
    "all_codes_df['Format name'].unique()"
   ]
  },
  {
   "cell_type": "code",
   "execution_count": 10,
   "id": "a1ef34bf-7b4c-4143-8359-c58534d24ec9",
   "metadata": {},
   "outputs": [
    {
     "data": {
      "text/plain": [
       "array(['               0', '               2', '             201', ...,\n",
       "       '            9999', '             714', '            1552'],\n",
       "      dtype=object)"
      ]
     },
     "execution_count": 10,
     "metadata": {},
     "output_type": "execute_result"
    }
   ],
   "source": [
    "# Reivew Starting value for format data\n",
    "all_codes_df['Starting value for format'].unique()"
   ]
  },
  {
   "cell_type": "code",
   "execution_count": 11,
   "id": "f55510b1-519c-4975-bf7b-1629f1c1320f",
   "metadata": {},
   "outputs": [
    {
     "data": {
      "text/plain": [
       "array(['               0', '             120', '             201', ...,\n",
       "       '            9999', '             714', '            1552'],\n",
       "      dtype=object)"
      ]
     },
     "execution_count": 11,
     "metadata": {},
     "output_type": "execute_result"
    }
   ],
   "source": [
    "# Review Ending value for format data\n",
    "all_codes_df['Ending value for format'].unique()"
   ]
  },
  {
   "cell_type": "code",
   "execution_count": 12,
   "id": "3a2299ec-2ec7-4561-86b3-bdbe63912b4e",
   "metadata": {},
   "outputs": [
    {
     "data": {
      "text/plain": [
       "array(['UNK', '2 YEARS AND OLDER', '1 MONTH', ...,\n",
       "       '714 - COMBINATION FIRE/SMOKE ALARM AND CARBON MONOXIDE DETECTORS',\n",
       "       'NON-BINARY/OTHER', '1552 - CRIBS, NONPORTABLE OR NOT SPECIFIED'],\n",
       "      dtype=object)"
      ]
     },
     "execution_count": 12,
     "metadata": {},
     "output_type": "execute_result"
    }
   ],
   "source": [
    "# Review Format value label data\n",
    "all_codes_df['Format value label'].unique()"
   ]
  },
  {
   "cell_type": "markdown",
   "id": "5b87261e-f776-48ba-9f50-a83d626b69e8",
   "metadata": {},
   "source": [
    "***\n",
    "## Remove Irrelevant Data\n",
    "***"
   ]
  },
  {
   "cell_type": "code",
   "execution_count": 13,
   "id": "aaded023-e1e5-400d-b97a-4e67847e1763",
   "metadata": {},
   "outputs": [
    {
     "data": {
      "text/html": [
       "<div>\n",
       "<style scoped>\n",
       "    .dataframe tbody tr th:only-of-type {\n",
       "        vertical-align: middle;\n",
       "    }\n",
       "\n",
       "    .dataframe tbody tr th {\n",
       "        vertical-align: top;\n",
       "    }\n",
       "\n",
       "    .dataframe thead th {\n",
       "        text-align: right;\n",
       "    }\n",
       "</style>\n",
       "<table border=\"1\" class=\"dataframe\">\n",
       "  <thead>\n",
       "    <tr style=\"text-align: right;\">\n",
       "      <th></th>\n",
       "      <th>Year</th>\n",
       "      <th>Format name</th>\n",
       "      <th>Starting value for format</th>\n",
       "      <th>Ending value for format</th>\n",
       "      <th>Format value label</th>\n",
       "    </tr>\n",
       "  </thead>\n",
       "  <tbody>\n",
       "    <tr>\n",
       "      <th>1</th>\n",
       "      <td>2013</td>\n",
       "      <td>AGELTTWO</td>\n",
       "      <td>2</td>\n",
       "      <td>120</td>\n",
       "      <td>2 YEARS AND OLDER</td>\n",
       "    </tr>\n",
       "    <tr>\n",
       "      <th>1249</th>\n",
       "      <td>2014</td>\n",
       "      <td>AGELTTWO</td>\n",
       "      <td>2</td>\n",
       "      <td>120</td>\n",
       "      <td>2 YEARS AND OLDER</td>\n",
       "    </tr>\n",
       "    <tr>\n",
       "      <th>2497</th>\n",
       "      <td>2015</td>\n",
       "      <td>AGELTTWO</td>\n",
       "      <td>2</td>\n",
       "      <td>120</td>\n",
       "      <td>2 YEARS AND OLDER</td>\n",
       "    </tr>\n",
       "    <tr>\n",
       "      <th>3745</th>\n",
       "      <td>2016</td>\n",
       "      <td>AGELTTWO</td>\n",
       "      <td>2</td>\n",
       "      <td>120</td>\n",
       "      <td>2 YEARS AND OLDER</td>\n",
       "    </tr>\n",
       "    <tr>\n",
       "      <th>4993</th>\n",
       "      <td>2017</td>\n",
       "      <td>AGELTTWO</td>\n",
       "      <td>2</td>\n",
       "      <td>120</td>\n",
       "      <td>2 YEARS AND OLDER</td>\n",
       "    </tr>\n",
       "    <tr>\n",
       "      <th>6241</th>\n",
       "      <td>2018</td>\n",
       "      <td>AGELTTWO</td>\n",
       "      <td>2</td>\n",
       "      <td>120</td>\n",
       "      <td>2 YEARS AND OLDER</td>\n",
       "    </tr>\n",
       "    <tr>\n",
       "      <th>7489</th>\n",
       "      <td>2019</td>\n",
       "      <td>AGELTTWO</td>\n",
       "      <td>2</td>\n",
       "      <td>120</td>\n",
       "      <td>2 YEARS AND OLDER</td>\n",
       "    </tr>\n",
       "    <tr>\n",
       "      <th>8737</th>\n",
       "      <td>2020</td>\n",
       "      <td>AGELTTWO</td>\n",
       "      <td>2</td>\n",
       "      <td>120</td>\n",
       "      <td>2 YEARS AND OLDER</td>\n",
       "    </tr>\n",
       "    <tr>\n",
       "      <th>9986</th>\n",
       "      <td>2021</td>\n",
       "      <td>AGELTTWO</td>\n",
       "      <td>2</td>\n",
       "      <td>120</td>\n",
       "      <td>2 YEARS AND OLDER</td>\n",
       "    </tr>\n",
       "    <tr>\n",
       "      <th>11235</th>\n",
       "      <td>2022</td>\n",
       "      <td>AGELTTWO</td>\n",
       "      <td>2</td>\n",
       "      <td>120</td>\n",
       "      <td>2 YEARS AND OLDER</td>\n",
       "    </tr>\n",
       "  </tbody>\n",
       "</table>\n",
       "</div>"
      ],
      "text/plain": [
       "       Year Format name Starting value for format Ending value for format  \\\n",
       "1      2013    AGELTTWO                         2                     120   \n",
       "1249   2014    AGELTTWO                         2                     120   \n",
       "2497   2015    AGELTTWO                         2                     120   \n",
       "3745   2016    AGELTTWO                         2                     120   \n",
       "4993   2017    AGELTTWO                         2                     120   \n",
       "6241   2018    AGELTTWO                         2                     120   \n",
       "7489   2019    AGELTTWO                         2                     120   \n",
       "8737   2020    AGELTTWO                         2                     120   \n",
       "9986   2021    AGELTTWO                         2                     120   \n",
       "11235  2022    AGELTTWO                         2                     120   \n",
       "\n",
       "      Format value label  \n",
       "1      2 YEARS AND OLDER  \n",
       "1249   2 YEARS AND OLDER  \n",
       "2497   2 YEARS AND OLDER  \n",
       "3745   2 YEARS AND OLDER  \n",
       "4993   2 YEARS AND OLDER  \n",
       "6241   2 YEARS AND OLDER  \n",
       "7489   2 YEARS AND OLDER  \n",
       "8737   2 YEARS AND OLDER  \n",
       "9986   2 YEARS AND OLDER  \n",
       "11235  2 YEARS AND OLDER  "
      ]
     },
     "execution_count": 13,
     "metadata": {},
     "output_type": "execute_result"
    }
   ],
   "source": [
    "# Review codes that encompass a range of values to see if we can simply to a single code/value pair instead of ranges\n",
    "all_codes_df[all_codes_df['Starting value for format'] != all_codes_df['Ending value for format']]"
   ]
  },
  {
   "cell_type": "code",
   "execution_count": 14,
   "id": "5bf4518a-4d82-41d0-bde7-fcee7f61f626",
   "metadata": {},
   "outputs": [],
   "source": [
    "# Our data analysis will focus on age in years only, so we can delete the Ending value for format and just use the starting value\n",
    "all_codes_df.drop(columns='Ending value for format', inplace=True)"
   ]
  },
  {
   "cell_type": "code",
   "execution_count": 15,
   "id": "35ec5bd5-cf93-4d8d-a6ff-57e017eba99c",
   "metadata": {},
   "outputs": [],
   "source": [
    "# Since ages over two do not need transalation, delete this row\n",
    "rows_to_del = all_codes_df[all_codes_df['Format value label'] == '2 YEARS AND OLDER'].index.to_list()\n",
    "all_codes_df.drop(rows_to_del, inplace=True)"
   ]
  },
  {
   "cell_type": "code",
   "execution_count": 16,
   "id": "fe51c2ad-5419-4e5e-8662-ec46cb09437f",
   "metadata": {},
   "outputs": [],
   "source": [
    "# We are not going to consider alcohol use, drug use, or fire involvement in our analysis\n",
    "rows_to_del = all_codes_df[all_codes_df['Format name'].isin(['ALC_DRUG', 'FIRE'])].index.to_list()\n",
    "all_codes_df.drop(index=rows_to_del, inplace=True)"
   ]
  },
  {
   "cell_type": "code",
   "execution_count": 17,
   "id": "58011aff-3a9b-43fe-b9e0-45fc9acf66b5",
   "metadata": {},
   "outputs": [],
   "source": [
    "# Reset index\n",
    "all_codes_df.reset_index(drop=True, inplace=True)"
   ]
  },
  {
   "cell_type": "markdown",
   "id": "3a17958a-9301-42a5-858c-5184e64634f5",
   "metadata": {},
   "source": [
    "***\n",
    "## Rename Variables for Clarity\n",
    "***"
   ]
  },
  {
   "cell_type": "code",
   "execution_count": 18,
   "id": "76112d11-4644-4b48-8afe-960b8caf3186",
   "metadata": {},
   "outputs": [
    {
     "data": {
      "text/html": [
       "<div>\n",
       "<style scoped>\n",
       "    .dataframe tbody tr th:only-of-type {\n",
       "        vertical-align: middle;\n",
       "    }\n",
       "\n",
       "    .dataframe tbody tr th {\n",
       "        vertical-align: top;\n",
       "    }\n",
       "\n",
       "    .dataframe thead th {\n",
       "        text-align: right;\n",
       "    }\n",
       "</style>\n",
       "<table border=\"1\" class=\"dataframe\">\n",
       "  <thead>\n",
       "    <tr style=\"text-align: right;\">\n",
       "      <th></th>\n",
       "      <th>Year</th>\n",
       "      <th>Code</th>\n",
       "      <th>Value</th>\n",
       "      <th>Description</th>\n",
       "    </tr>\n",
       "  </thead>\n",
       "  <tbody>\n",
       "    <tr>\n",
       "      <th>0</th>\n",
       "      <td>2013</td>\n",
       "      <td>AGELTTWO</td>\n",
       "      <td>0</td>\n",
       "      <td>UNK</td>\n",
       "    </tr>\n",
       "    <tr>\n",
       "      <th>1</th>\n",
       "      <td>2013</td>\n",
       "      <td>AGELTTWO</td>\n",
       "      <td>201</td>\n",
       "      <td>1 MONTH</td>\n",
       "    </tr>\n",
       "    <tr>\n",
       "      <th>2</th>\n",
       "      <td>2013</td>\n",
       "      <td>AGELTTWO</td>\n",
       "      <td>202</td>\n",
       "      <td>2 MONTHS</td>\n",
       "    </tr>\n",
       "    <tr>\n",
       "      <th>3</th>\n",
       "      <td>2013</td>\n",
       "      <td>AGELTTWO</td>\n",
       "      <td>203</td>\n",
       "      <td>3 MONTHS</td>\n",
       "    </tr>\n",
       "    <tr>\n",
       "      <th>4</th>\n",
       "      <td>2013</td>\n",
       "      <td>AGELTTWO</td>\n",
       "      <td>204</td>\n",
       "      <td>4 MONTHS</td>\n",
       "    </tr>\n",
       "  </tbody>\n",
       "</table>\n",
       "</div>"
      ],
      "text/plain": [
       "   Year      Code             Value Description\n",
       "0  2013  AGELTTWO                 0         UNK\n",
       "1  2013  AGELTTWO               201     1 MONTH\n",
       "2  2013  AGELTTWO               202    2 MONTHS\n",
       "3  2013  AGELTTWO               203    3 MONTHS\n",
       "4  2013  AGELTTWO               204    4 MONTHS"
      ]
     },
     "execution_count": 18,
     "metadata": {},
     "output_type": "execute_result"
    }
   ],
   "source": [
    "# Rename columns\n",
    "all_codes_df.columns = ['Year', 'Code', 'Value', 'Description']\n",
    "all_codes_df.head()"
   ]
  },
  {
   "cell_type": "markdown",
   "id": "4a4a462e-eed6-4238-b025-db3c288dd91f",
   "metadata": {},
   "source": [
    "***\n",
    "## Data Types and Formats\n",
    "***"
   ]
  },
  {
   "cell_type": "code",
   "execution_count": 19,
   "id": "679f1ba1-bc07-486b-934f-558ee2e46e12",
   "metadata": {},
   "outputs": [
    {
     "data": {
      "text/plain": [
       "Year           object\n",
       "Code           object\n",
       "Value          object\n",
       "Description    object\n",
       "dtype: object"
      ]
     },
     "execution_count": 19,
     "metadata": {},
     "output_type": "execute_result"
    }
   ],
   "source": [
    "# Review column data types\n",
    "all_codes_df.dtypes"
   ]
  },
  {
   "cell_type": "code",
   "execution_count": 20,
   "id": "fe8a9959-4ec2-40f2-b9c0-b2a05b67f06a",
   "metadata": {},
   "outputs": [],
   "source": [
    "# Convert Year to int\n",
    "all_codes_df['Year'] = all_codes_df['Year'].astype(int)"
   ]
  },
  {
   "cell_type": "code",
   "execution_count": 21,
   "id": "9cd3cba8-01f7-4fc5-86b0-968bda223a26",
   "metadata": {},
   "outputs": [
    {
     "name": "stdout",
     "output_type": "stream",
     "text": [
      "       Year  Code Value     Description\n",
      "96     2013  HISP     .  NA before 2019\n",
      "1335   2014  HISP     .  NA before 2019\n",
      "2574   2015  HISP     .  NA before 2019\n",
      "3813   2016  HISP     .  NA before 2019\n",
      "5052   2017  HISP     .  NA before 2019\n",
      "6291   2018  HISP     .  NA before 2019\n",
      "7530   2019  HISP     .  NA before 2019\n",
      "8769   2020  HISP     .  NA before 2019\n",
      "10010  2021  HISP     .  NA before 2019\n",
      "11250  2022  HISP     .  NA before 2019\n"
     ]
    }
   ],
   "source": [
    "# Strip spaces from Value data and check for non-numeric values\n",
    "all_codes_df['Value'] = all_codes_df['Value'].str.strip()\n",
    "for x in all_codes_df['Value'].unique():\n",
    "    if x.isdigit() == False:\n",
    "        print(all_codes_df[all_codes_df['Value'] == x])"
   ]
  },
  {
   "cell_type": "code",
   "execution_count": 22,
   "id": "c2ae1da5-83ab-439c-aca4-d561596c0ce3",
   "metadata": {},
   "outputs": [],
   "source": [
    "# Convert description data to title case\n",
    "all_codes_df['Description'] = all_codes_df['Description'].str.title()"
   ]
  },
  {
   "cell_type": "code",
   "execution_count": 23,
   "id": "b38581ce-ada7-4c68-8135-163aad03c624",
   "metadata": {},
   "outputs": [],
   "source": [
    "# Delete rows with \".\" as a Value. These rows are essentially comments\n",
    "rows_to_del = all_codes_df[all_codes_df['Value'] == '.'].index.to_list()\n",
    "all_codes_df.drop(index=rows_to_del, inplace=True)"
   ]
  },
  {
   "cell_type": "code",
   "execution_count": 24,
   "id": "b40bbf06-3d5e-40e3-b8d2-3ad44550e039",
   "metadata": {},
   "outputs": [],
   "source": [
    "# Convert Code to int\n",
    "all_codes_df['Value'] = all_codes_df['Value'].astype(int)"
   ]
  },
  {
   "cell_type": "code",
   "execution_count": 25,
   "id": "e6c3e432-7061-402c-9c61-3226d8adc7a6",
   "metadata": {},
   "outputs": [
    {
     "data": {
      "text/plain": [
       "Year            int32\n",
       "Code           object\n",
       "Value           int32\n",
       "Description    object\n",
       "dtype: object"
      ]
     },
     "execution_count": 25,
     "metadata": {},
     "output_type": "execute_result"
    }
   ],
   "source": [
    "# Review column data types\n",
    "all_codes_df.dtypes"
   ]
  },
  {
   "cell_type": "markdown",
   "id": "bdcf6da4-4d7c-45ac-b5dd-c82400e072f7",
   "metadata": {},
   "source": [
    "***\n",
    "# Missing Data\n",
    "***  "
   ]
  },
  {
   "cell_type": "code",
   "execution_count": 26,
   "id": "2eedc294-98b6-46b0-a874-03b079ebad79",
   "metadata": {},
   "outputs": [
    {
     "data": {
      "text/plain": [
       "Index(['Description'], dtype='object')"
      ]
     },
     "execution_count": 26,
     "metadata": {},
     "output_type": "execute_result"
    }
   ],
   "source": [
    "# Look for columns with null values\n",
    "all_codes_df.columns[all_codes_df.isnull().any()]"
   ]
  },
  {
   "cell_type": "code",
   "execution_count": 27,
   "id": "cf5fd034-ac03-4254-a9f5-678f7eac1b2d",
   "metadata": {},
   "outputs": [],
   "source": [
    "# Delete rows that do not contain a description\n",
    "rows_to_del = all_codes_df[all_codes_df['Description'].isnull()].index\n",
    "all_codes_df.drop(rows_to_del, axis='index', inplace=True)"
   ]
  },
  {
   "cell_type": "markdown",
   "id": "6d35d77b-96b3-4c33-ad4d-be4030f81e1b",
   "metadata": {},
   "source": [
    "***\n",
    "# Duplicate Records\n",
    "***"
   ]
  },
  {
   "cell_type": "code",
   "execution_count": 28,
   "id": "8885007b-1f75-421e-b6b5-1d98043a82e0",
   "metadata": {},
   "outputs": [],
   "source": [
    "# We expect that we will have duplicate records from various years\n",
    "all_codes_df.drop_duplicates(subset=['Code', 'Value', 'Description'], inplace=True)"
   ]
  },
  {
   "cell_type": "code",
   "execution_count": 29,
   "id": "c09c9af4-142a-42cb-8e7a-70269bb4d802",
   "metadata": {},
   "outputs": [
    {
     "data": {
      "text/html": [
       "<div>\n",
       "<style scoped>\n",
       "    .dataframe tbody tr th:only-of-type {\n",
       "        vertical-align: middle;\n",
       "    }\n",
       "\n",
       "    .dataframe tbody tr th {\n",
       "        vertical-align: top;\n",
       "    }\n",
       "\n",
       "    .dataframe thead th {\n",
       "        text-align: right;\n",
       "    }\n",
       "</style>\n",
       "<table border=\"1\" class=\"dataframe\">\n",
       "  <thead>\n",
       "    <tr style=\"text-align: right;\">\n",
       "      <th></th>\n",
       "      <th>Year</th>\n",
       "      <th>Code</th>\n",
       "      <th>Value</th>\n",
       "      <th>Description</th>\n",
       "    </tr>\n",
       "  </thead>\n",
       "  <tbody>\n",
       "  </tbody>\n",
       "</table>\n",
       "</div>"
      ],
      "text/plain": [
       "Empty DataFrame\n",
       "Columns: [Year, Code, Value, Description]\n",
       "Index: []"
      ]
     },
     "execution_count": 29,
     "metadata": {},
     "output_type": "execute_result"
    }
   ],
   "source": [
    "# Look for duplicate code/value combinations that have different descriptions\n",
    "all_codes_df[all_codes_df.duplicated(subset=['Code', 'Value'])]"
   ]
  },
  {
   "cell_type": "code",
   "execution_count": 30,
   "id": "1ea2fe6c-ccbc-4252-9a02-a590281376b3",
   "metadata": {},
   "outputs": [
    {
     "data": {
      "text/html": [
       "<div>\n",
       "<style scoped>\n",
       "    .dataframe tbody tr th:only-of-type {\n",
       "        vertical-align: middle;\n",
       "    }\n",
       "\n",
       "    .dataframe tbody tr th {\n",
       "        vertical-align: top;\n",
       "    }\n",
       "\n",
       "    .dataframe thead th {\n",
       "        text-align: right;\n",
       "    }\n",
       "</style>\n",
       "<table border=\"1\" class=\"dataframe\">\n",
       "  <thead>\n",
       "    <tr style=\"text-align: right;\">\n",
       "      <th></th>\n",
       "      <th>Year</th>\n",
       "      <th>Code</th>\n",
       "      <th>Value</th>\n",
       "      <th>Description</th>\n",
       "    </tr>\n",
       "  </thead>\n",
       "  <tbody>\n",
       "  </tbody>\n",
       "</table>\n",
       "</div>"
      ],
      "text/plain": [
       "Empty DataFrame\n",
       "Columns: [Year, Code, Value, Description]\n",
       "Index: []"
      ]
     },
     "execution_count": 30,
     "metadata": {},
     "output_type": "execute_result"
    }
   ],
   "source": [
    "# Look for duplicate descriptions for different values by code\n",
    "all_codes_df[all_codes_df.duplicated(subset=['Code', 'Description'])]"
   ]
  },
  {
   "cell_type": "code",
   "execution_count": 31,
   "id": "f11880b9-1f65-4377-a904-915c69230e1c",
   "metadata": {},
   "outputs": [],
   "source": [
    "# Reset index\n",
    "all_codes_df.reset_index(drop=True, inplace=True)"
   ]
  },
  {
   "cell_type": "markdown",
   "id": "ab759c61-0cc3-4088-8594-e148084406c1",
   "metadata": {},
   "source": [
    "***\n",
    "# Data Review and Cleanup\n",
    "***"
   ]
  },
  {
   "cell_type": "markdown",
   "id": "66233ea2-f3c1-42ef-ab64-57911cd980af",
   "metadata": {},
   "source": [
    "## Year\n",
    "***"
   ]
  },
  {
   "cell_type": "code",
   "execution_count": 32,
   "id": "6bb61682-8e06-4aa3-9cc0-d0cc2298f0e9",
   "metadata": {},
   "outputs": [
    {
     "data": {
      "text/html": [
       "<div>\n",
       "<style scoped>\n",
       "    .dataframe tbody tr th:only-of-type {\n",
       "        vertical-align: middle;\n",
       "    }\n",
       "\n",
       "    .dataframe tbody tr th {\n",
       "        vertical-align: top;\n",
       "    }\n",
       "\n",
       "    .dataframe thead th {\n",
       "        text-align: right;\n",
       "    }\n",
       "</style>\n",
       "<table border=\"1\" class=\"dataframe\">\n",
       "  <thead>\n",
       "    <tr style=\"text-align: right;\">\n",
       "      <th></th>\n",
       "      <th>Year</th>\n",
       "      <th>Code</th>\n",
       "      <th>Value</th>\n",
       "      <th>Description</th>\n",
       "    </tr>\n",
       "  </thead>\n",
       "  <tbody>\n",
       "    <tr>\n",
       "      <th>1236</th>\n",
       "      <td>2020</td>\n",
       "      <td>PROD</td>\n",
       "      <td>714</td>\n",
       "      <td>714 - Combination Fire/Smoke Alarm And Carbon ...</td>\n",
       "    </tr>\n",
       "    <tr>\n",
       "      <th>1237</th>\n",
       "      <td>2021</td>\n",
       "      <td>GENDER</td>\n",
       "      <td>3</td>\n",
       "      <td>Non-Binary/Other</td>\n",
       "    </tr>\n",
       "    <tr>\n",
       "      <th>1238</th>\n",
       "      <td>2021</td>\n",
       "      <td>PROD</td>\n",
       "      <td>1552</td>\n",
       "      <td>1552 - Cribs, Nonportable Or Not Specified</td>\n",
       "    </tr>\n",
       "  </tbody>\n",
       "</table>\n",
       "</div>"
      ],
      "text/plain": [
       "      Year    Code  Value                                        Description\n",
       "1236  2020    PROD    714  714 - Combination Fire/Smoke Alarm And Carbon ...\n",
       "1237  2021  GENDER      3                                   Non-Binary/Other\n",
       "1238  2021    PROD   1552         1552 - Cribs, Nonportable Or Not Specified"
      ]
     },
     "execution_count": 32,
     "metadata": {},
     "output_type": "execute_result"
    }
   ],
   "source": [
    "# Review rows that are not from 2013\n",
    "all_codes_df[all_codes_df['Year'] > 2013]"
   ]
  },
  {
   "cell_type": "code",
   "execution_count": 33,
   "id": "c8bfc355-5e62-4adb-a083-65da388b2db9",
   "metadata": {},
   "outputs": [
    {
     "data": {
      "text/html": [
       "<div>\n",
       "<style scoped>\n",
       "    .dataframe tbody tr th:only-of-type {\n",
       "        vertical-align: middle;\n",
       "    }\n",
       "\n",
       "    .dataframe tbody tr th {\n",
       "        vertical-align: top;\n",
       "    }\n",
       "\n",
       "    .dataframe thead th {\n",
       "        text-align: right;\n",
       "    }\n",
       "</style>\n",
       "<table border=\"1\" class=\"dataframe\">\n",
       "  <thead>\n",
       "    <tr style=\"text-align: right;\">\n",
       "      <th></th>\n",
       "      <th>Year</th>\n",
       "      <th>Code</th>\n",
       "      <th>Value</th>\n",
       "      <th>Description</th>\n",
       "    </tr>\n",
       "  </thead>\n",
       "  <tbody>\n",
       "    <tr>\n",
       "      <th>1236</th>\n",
       "      <td>2020</td>\n",
       "      <td>PROD</td>\n",
       "      <td>714</td>\n",
       "      <td>714 - Combination Fire/Smoke Alarm And Carbon ...</td>\n",
       "    </tr>\n",
       "    <tr>\n",
       "      <th>1238</th>\n",
       "      <td>2021</td>\n",
       "      <td>PROD</td>\n",
       "      <td>1552</td>\n",
       "      <td>1552 - Cribs, Nonportable Or Not Specified</td>\n",
       "    </tr>\n",
       "  </tbody>\n",
       "</table>\n",
       "</div>"
      ],
      "text/plain": [
       "      Year  Code  Value                                        Description\n",
       "1236  2020  PROD    714  714 - Combination Fire/Smoke Alarm And Carbon ...\n",
       "1238  2021  PROD   1552         1552 - Cribs, Nonportable Or Not Specified"
      ]
     },
     "metadata": {},
     "output_type": "display_data"
    },
    {
     "data": {
      "text/html": [
       "<div>\n",
       "<style scoped>\n",
       "    .dataframe tbody tr th:only-of-type {\n",
       "        vertical-align: middle;\n",
       "    }\n",
       "\n",
       "    .dataframe tbody tr th {\n",
       "        vertical-align: top;\n",
       "    }\n",
       "\n",
       "    .dataframe thead th {\n",
       "        text-align: right;\n",
       "    }\n",
       "</style>\n",
       "<table border=\"1\" class=\"dataframe\">\n",
       "  <thead>\n",
       "    <tr style=\"text-align: right;\">\n",
       "      <th></th>\n",
       "      <th>Year</th>\n",
       "      <th>Code</th>\n",
       "      <th>Value</th>\n",
       "      <th>Description</th>\n",
       "    </tr>\n",
       "  </thead>\n",
       "  <tbody>\n",
       "    <tr>\n",
       "      <th>1237</th>\n",
       "      <td>2021</td>\n",
       "      <td>GENDER</td>\n",
       "      <td>3</td>\n",
       "      <td>Non-Binary/Other</td>\n",
       "    </tr>\n",
       "  </tbody>\n",
       "</table>\n",
       "</div>"
      ],
      "text/plain": [
       "      Year    Code  Value       Description\n",
       "1237  2021  GENDER      3  Non-Binary/Other"
      ]
     },
     "metadata": {},
     "output_type": "display_data"
    }
   ],
   "source": [
    "# Check if these are new, or updated\n",
    "display(all_codes_df[(all_codes_df['Code'] == 'PROD') & (all_codes_df['Value'].isin([714, 1552]))])\n",
    "display(all_codes_df[(all_codes_df['Code'] == 'GENDER') & (all_codes_df['Value'] == 3)])"
   ]
  },
  {
   "cell_type": "code",
   "execution_count": 34,
   "id": "4d1b6cf2-3783-4333-890e-86e698c69c49",
   "metadata": {},
   "outputs": [],
   "source": [
    "# Since there are no conflicts with the 3 newer codes, the Year column is not needed\n",
    "all_codes_df.drop(columns='Year', inplace=True)"
   ]
  },
  {
   "cell_type": "markdown",
   "id": "7c822b75-961f-4e92-a263-a1e00760a099",
   "metadata": {},
   "source": [
    "***\n",
    "## Age, Gender\n",
    "***"
   ]
  },
  {
   "cell_type": "code",
   "execution_count": 35,
   "id": "bd0f700f-d484-4f5b-972d-89ed5ee5dea3",
   "metadata": {},
   "outputs": [
    {
     "data": {
      "text/html": [
       "<div>\n",
       "<style scoped>\n",
       "    .dataframe tbody tr th:only-of-type {\n",
       "        vertical-align: middle;\n",
       "    }\n",
       "\n",
       "    .dataframe tbody tr th {\n",
       "        vertical-align: top;\n",
       "    }\n",
       "\n",
       "    .dataframe thead th {\n",
       "        text-align: right;\n",
       "    }\n",
       "</style>\n",
       "<table border=\"1\" class=\"dataframe\">\n",
       "  <thead>\n",
       "    <tr style=\"text-align: right;\">\n",
       "      <th></th>\n",
       "      <th>Code</th>\n",
       "      <th>Value</th>\n",
       "      <th>Description</th>\n",
       "    </tr>\n",
       "  </thead>\n",
       "  <tbody>\n",
       "    <tr>\n",
       "      <th>0</th>\n",
       "      <td>AGELTTWO</td>\n",
       "      <td>0</td>\n",
       "      <td>Unk</td>\n",
       "    </tr>\n",
       "    <tr>\n",
       "      <th>1</th>\n",
       "      <td>AGELTTWO</td>\n",
       "      <td>201</td>\n",
       "      <td>1 Month</td>\n",
       "    </tr>\n",
       "    <tr>\n",
       "      <th>2</th>\n",
       "      <td>AGELTTWO</td>\n",
       "      <td>202</td>\n",
       "      <td>2 Months</td>\n",
       "    </tr>\n",
       "    <tr>\n",
       "      <th>3</th>\n",
       "      <td>AGELTTWO</td>\n",
       "      <td>203</td>\n",
       "      <td>3 Months</td>\n",
       "    </tr>\n",
       "    <tr>\n",
       "      <th>4</th>\n",
       "      <td>AGELTTWO</td>\n",
       "      <td>204</td>\n",
       "      <td>4 Months</td>\n",
       "    </tr>\n",
       "    <tr>\n",
       "      <th>5</th>\n",
       "      <td>AGELTTWO</td>\n",
       "      <td>205</td>\n",
       "      <td>5 Months</td>\n",
       "    </tr>\n",
       "    <tr>\n",
       "      <th>6</th>\n",
       "      <td>AGELTTWO</td>\n",
       "      <td>206</td>\n",
       "      <td>6 Months</td>\n",
       "    </tr>\n",
       "    <tr>\n",
       "      <th>7</th>\n",
       "      <td>AGELTTWO</td>\n",
       "      <td>207</td>\n",
       "      <td>7 Months</td>\n",
       "    </tr>\n",
       "    <tr>\n",
       "      <th>8</th>\n",
       "      <td>AGELTTWO</td>\n",
       "      <td>208</td>\n",
       "      <td>8 Months</td>\n",
       "    </tr>\n",
       "    <tr>\n",
       "      <th>9</th>\n",
       "      <td>AGELTTWO</td>\n",
       "      <td>209</td>\n",
       "      <td>9 Months</td>\n",
       "    </tr>\n",
       "    <tr>\n",
       "      <th>10</th>\n",
       "      <td>AGELTTWO</td>\n",
       "      <td>210</td>\n",
       "      <td>10 Months</td>\n",
       "    </tr>\n",
       "    <tr>\n",
       "      <th>11</th>\n",
       "      <td>AGELTTWO</td>\n",
       "      <td>211</td>\n",
       "      <td>11 Months</td>\n",
       "    </tr>\n",
       "    <tr>\n",
       "      <th>12</th>\n",
       "      <td>AGELTTWO</td>\n",
       "      <td>212</td>\n",
       "      <td>12 Months</td>\n",
       "    </tr>\n",
       "    <tr>\n",
       "      <th>13</th>\n",
       "      <td>AGELTTWO</td>\n",
       "      <td>213</td>\n",
       "      <td>13 Months</td>\n",
       "    </tr>\n",
       "    <tr>\n",
       "      <th>14</th>\n",
       "      <td>AGELTTWO</td>\n",
       "      <td>214</td>\n",
       "      <td>14 Months</td>\n",
       "    </tr>\n",
       "    <tr>\n",
       "      <th>15</th>\n",
       "      <td>AGELTTWO</td>\n",
       "      <td>215</td>\n",
       "      <td>15 Months</td>\n",
       "    </tr>\n",
       "    <tr>\n",
       "      <th>16</th>\n",
       "      <td>AGELTTWO</td>\n",
       "      <td>216</td>\n",
       "      <td>16 Months</td>\n",
       "    </tr>\n",
       "    <tr>\n",
       "      <th>17</th>\n",
       "      <td>AGELTTWO</td>\n",
       "      <td>217</td>\n",
       "      <td>17 Months</td>\n",
       "    </tr>\n",
       "    <tr>\n",
       "      <th>18</th>\n",
       "      <td>AGELTTWO</td>\n",
       "      <td>218</td>\n",
       "      <td>18 Months</td>\n",
       "    </tr>\n",
       "    <tr>\n",
       "      <th>19</th>\n",
       "      <td>AGELTTWO</td>\n",
       "      <td>219</td>\n",
       "      <td>19 Months</td>\n",
       "    </tr>\n",
       "    <tr>\n",
       "      <th>20</th>\n",
       "      <td>AGELTTWO</td>\n",
       "      <td>220</td>\n",
       "      <td>20 Months</td>\n",
       "    </tr>\n",
       "    <tr>\n",
       "      <th>21</th>\n",
       "      <td>AGELTTWO</td>\n",
       "      <td>221</td>\n",
       "      <td>21 Months</td>\n",
       "    </tr>\n",
       "    <tr>\n",
       "      <th>22</th>\n",
       "      <td>AGELTTWO</td>\n",
       "      <td>222</td>\n",
       "      <td>22 Months</td>\n",
       "    </tr>\n",
       "    <tr>\n",
       "      <th>23</th>\n",
       "      <td>AGELTTWO</td>\n",
       "      <td>223</td>\n",
       "      <td>23 Months</td>\n",
       "    </tr>\n",
       "  </tbody>\n",
       "</table>\n",
       "</div>"
      ],
      "text/plain": [
       "        Code  Value Description\n",
       "0   AGELTTWO      0         Unk\n",
       "1   AGELTTWO    201     1 Month\n",
       "2   AGELTTWO    202    2 Months\n",
       "3   AGELTTWO    203    3 Months\n",
       "4   AGELTTWO    204    4 Months\n",
       "5   AGELTTWO    205    5 Months\n",
       "6   AGELTTWO    206    6 Months\n",
       "7   AGELTTWO    207    7 Months\n",
       "8   AGELTTWO    208    8 Months\n",
       "9   AGELTTWO    209    9 Months\n",
       "10  AGELTTWO    210   10 Months\n",
       "11  AGELTTWO    211   11 Months\n",
       "12  AGELTTWO    212   12 Months\n",
       "13  AGELTTWO    213   13 Months\n",
       "14  AGELTTWO    214   14 Months\n",
       "15  AGELTTWO    215   15 Months\n",
       "16  AGELTTWO    216   16 Months\n",
       "17  AGELTTWO    217   17 Months\n",
       "18  AGELTTWO    218   18 Months\n",
       "19  AGELTTWO    219   19 Months\n",
       "20  AGELTTWO    220   20 Months\n",
       "21  AGELTTWO    221   21 Months\n",
       "22  AGELTTWO    222   22 Months\n",
       "23  AGELTTWO    223   23 Months"
      ]
     },
     "execution_count": 35,
     "metadata": {},
     "output_type": "execute_result"
    }
   ],
   "source": [
    "# Review age less than two data\n",
    "all_codes_df[all_codes_df['Code'] == 'AGELTTWO']"
   ]
  },
  {
   "cell_type": "code",
   "execution_count": 36,
   "id": "780fb7c5-5872-4150-a360-a90027950289",
   "metadata": {},
   "outputs": [
    {
     "data": {
      "text/html": [
       "<div>\n",
       "<style scoped>\n",
       "    .dataframe tbody tr th:only-of-type {\n",
       "        vertical-align: middle;\n",
       "    }\n",
       "\n",
       "    .dataframe tbody tr th {\n",
       "        vertical-align: top;\n",
       "    }\n",
       "\n",
       "    .dataframe thead th {\n",
       "        text-align: right;\n",
       "    }\n",
       "</style>\n",
       "<table border=\"1\" class=\"dataframe\">\n",
       "  <thead>\n",
       "    <tr style=\"text-align: right;\">\n",
       "      <th></th>\n",
       "      <th>Code</th>\n",
       "      <th>Value</th>\n",
       "      <th>Description</th>\n",
       "    </tr>\n",
       "  </thead>\n",
       "  <tbody>\n",
       "    <tr>\n",
       "      <th>93</th>\n",
       "      <td>GENDER</td>\n",
       "      <td>0</td>\n",
       "      <td>Unknown</td>\n",
       "    </tr>\n",
       "    <tr>\n",
       "      <th>94</th>\n",
       "      <td>GENDER</td>\n",
       "      <td>1</td>\n",
       "      <td>Male</td>\n",
       "    </tr>\n",
       "    <tr>\n",
       "      <th>95</th>\n",
       "      <td>GENDER</td>\n",
       "      <td>2</td>\n",
       "      <td>Female</td>\n",
       "    </tr>\n",
       "    <tr>\n",
       "      <th>1237</th>\n",
       "      <td>GENDER</td>\n",
       "      <td>3</td>\n",
       "      <td>Non-Binary/Other</td>\n",
       "    </tr>\n",
       "  </tbody>\n",
       "</table>\n",
       "</div>"
      ],
      "text/plain": [
       "        Code  Value       Description\n",
       "93    GENDER      0           Unknown\n",
       "94    GENDER      1              Male\n",
       "95    GENDER      2            Female\n",
       "1237  GENDER      3  Non-Binary/Other"
      ]
     },
     "execution_count": 36,
     "metadata": {},
     "output_type": "execute_result"
    }
   ],
   "source": [
    "# Review gender data\n",
    "all_codes_df[all_codes_df['Code'] == 'GENDER']"
   ]
  },
  {
   "cell_type": "markdown",
   "id": "190f1527-d9da-4be1-a2fe-d3c17d3db4ad",
   "metadata": {},
   "source": [
    "***\n",
    "## Body Part\n",
    "***"
   ]
  },
  {
   "cell_type": "code",
   "execution_count": 37,
   "id": "89ad8999-546f-439a-8ebf-0384549dca1f",
   "metadata": {},
   "outputs": [
    {
     "data": {
      "text/html": [
       "<div>\n",
       "<style scoped>\n",
       "    .dataframe tbody tr th:only-of-type {\n",
       "        vertical-align: middle;\n",
       "    }\n",
       "\n",
       "    .dataframe tbody tr th {\n",
       "        vertical-align: top;\n",
       "    }\n",
       "\n",
       "    .dataframe thead th {\n",
       "        text-align: right;\n",
       "    }\n",
       "</style>\n",
       "<table border=\"1\" class=\"dataframe\">\n",
       "  <thead>\n",
       "    <tr style=\"text-align: right;\">\n",
       "      <th></th>\n",
       "      <th>Code</th>\n",
       "      <th>Value</th>\n",
       "      <th>Description</th>\n",
       "    </tr>\n",
       "  </thead>\n",
       "  <tbody>\n",
       "    <tr>\n",
       "      <th>24</th>\n",
       "      <td>BDYPT</td>\n",
       "      <td>0</td>\n",
       "      <td>0 - Internal</td>\n",
       "    </tr>\n",
       "    <tr>\n",
       "      <th>25</th>\n",
       "      <td>BDYPT</td>\n",
       "      <td>30</td>\n",
       "      <td>30 - Shoulder</td>\n",
       "    </tr>\n",
       "    <tr>\n",
       "      <th>26</th>\n",
       "      <td>BDYPT</td>\n",
       "      <td>31</td>\n",
       "      <td>31 - Upper Trunk</td>\n",
       "    </tr>\n",
       "    <tr>\n",
       "      <th>27</th>\n",
       "      <td>BDYPT</td>\n",
       "      <td>32</td>\n",
       "      <td>32 - Elbow</td>\n",
       "    </tr>\n",
       "    <tr>\n",
       "      <th>28</th>\n",
       "      <td>BDYPT</td>\n",
       "      <td>33</td>\n",
       "      <td>33 - Lower Arm</td>\n",
       "    </tr>\n",
       "  </tbody>\n",
       "</table>\n",
       "</div>"
      ],
      "text/plain": [
       "     Code  Value       Description\n",
       "24  BDYPT      0      0 - Internal\n",
       "25  BDYPT     30     30 - Shoulder\n",
       "26  BDYPT     31  31 - Upper Trunk\n",
       "27  BDYPT     32        32 - Elbow\n",
       "28  BDYPT     33    33 - Lower Arm"
      ]
     },
     "execution_count": 37,
     "metadata": {},
     "output_type": "execute_result"
    }
   ],
   "source": [
    "# Review body part data\n",
    "all_codes_df[all_codes_df['Code'] == 'BDYPT'].head()"
   ]
  },
  {
   "cell_type": "code",
   "execution_count": 38,
   "id": "ef85c7e4-fc4e-43ff-a83a-af8d469abf2a",
   "metadata": {},
   "outputs": [
    {
     "data": {
      "text/html": [
       "<div>\n",
       "<style scoped>\n",
       "    .dataframe tbody tr th:only-of-type {\n",
       "        vertical-align: middle;\n",
       "    }\n",
       "\n",
       "    .dataframe tbody tr th {\n",
       "        vertical-align: top;\n",
       "    }\n",
       "\n",
       "    .dataframe thead th {\n",
       "        text-align: right;\n",
       "    }\n",
       "</style>\n",
       "<table border=\"1\" class=\"dataframe\">\n",
       "  <thead>\n",
       "    <tr style=\"text-align: right;\">\n",
       "      <th></th>\n",
       "      <th>Code</th>\n",
       "      <th>Value</th>\n",
       "      <th>Description</th>\n",
       "    </tr>\n",
       "  </thead>\n",
       "  <tbody>\n",
       "    <tr>\n",
       "      <th>24</th>\n",
       "      <td>BDYPT</td>\n",
       "      <td>0</td>\n",
       "      <td>Internal</td>\n",
       "    </tr>\n",
       "    <tr>\n",
       "      <th>25</th>\n",
       "      <td>BDYPT</td>\n",
       "      <td>30</td>\n",
       "      <td>Shoulder</td>\n",
       "    </tr>\n",
       "    <tr>\n",
       "      <th>26</th>\n",
       "      <td>BDYPT</td>\n",
       "      <td>31</td>\n",
       "      <td>Upper Trunk</td>\n",
       "    </tr>\n",
       "    <tr>\n",
       "      <th>27</th>\n",
       "      <td>BDYPT</td>\n",
       "      <td>32</td>\n",
       "      <td>Elbow</td>\n",
       "    </tr>\n",
       "    <tr>\n",
       "      <th>28</th>\n",
       "      <td>BDYPT</td>\n",
       "      <td>33</td>\n",
       "      <td>Lower Arm</td>\n",
       "    </tr>\n",
       "  </tbody>\n",
       "</table>\n",
       "</div>"
      ],
      "text/plain": [
       "     Code  Value  Description\n",
       "24  BDYPT      0     Internal\n",
       "25  BDYPT     30     Shoulder\n",
       "26  BDYPT     31  Upper Trunk\n",
       "27  BDYPT     32        Elbow\n",
       "28  BDYPT     33    Lower Arm"
      ]
     },
     "execution_count": 38,
     "metadata": {},
     "output_type": "execute_result"
    }
   ],
   "source": [
    "# Cleanup body part descriptions\n",
    "def cln_bdy_desc(x):\n",
    "    if x['Code'] == 'BDYPT':\n",
    "        return x['Description'].split('- ')[1]\n",
    "    else:\n",
    "        return x['Description']\n",
    "\n",
    "all_codes_df['Description'] = all_codes_df.apply(cln_bdy_desc, axis=1)\n",
    "all_codes_df[all_codes_df['Code'] == 'BDYPT'].head()"
   ]
  },
  {
   "cell_type": "markdown",
   "id": "09f9686a-4a16-4d1f-8e93-0a49b9c8e051",
   "metadata": {},
   "source": [
    "***\n",
    "## Diagnosis\n",
    "***"
   ]
  },
  {
   "cell_type": "code",
   "execution_count": 39,
   "id": "21509b15-5bcc-40d3-b39c-da3f7797e0a7",
   "metadata": {},
   "outputs": [
    {
     "data": {
      "text/html": [
       "<div>\n",
       "<style scoped>\n",
       "    .dataframe tbody tr th:only-of-type {\n",
       "        vertical-align: middle;\n",
       "    }\n",
       "\n",
       "    .dataframe tbody tr th {\n",
       "        vertical-align: top;\n",
       "    }\n",
       "\n",
       "    .dataframe thead th {\n",
       "        text-align: right;\n",
       "    }\n",
       "</style>\n",
       "<table border=\"1\" class=\"dataframe\">\n",
       "  <thead>\n",
       "    <tr style=\"text-align: right;\">\n",
       "      <th></th>\n",
       "      <th>Code</th>\n",
       "      <th>Value</th>\n",
       "      <th>Description</th>\n",
       "    </tr>\n",
       "  </thead>\n",
       "  <tbody>\n",
       "    <tr>\n",
       "      <th>54</th>\n",
       "      <td>DIAG</td>\n",
       "      <td>41</td>\n",
       "      <td>Ingestion</td>\n",
       "    </tr>\n",
       "    <tr>\n",
       "      <th>55</th>\n",
       "      <td>DIAG</td>\n",
       "      <td>42</td>\n",
       "      <td>Aspiration</td>\n",
       "    </tr>\n",
       "    <tr>\n",
       "      <th>56</th>\n",
       "      <td>DIAG</td>\n",
       "      <td>46</td>\n",
       "      <td>Burn, Electrical</td>\n",
       "    </tr>\n",
       "    <tr>\n",
       "      <th>57</th>\n",
       "      <td>DIAG</td>\n",
       "      <td>47</td>\n",
       "      <td>Burn, Not Spec.</td>\n",
       "    </tr>\n",
       "    <tr>\n",
       "      <th>58</th>\n",
       "      <td>DIAG</td>\n",
       "      <td>48</td>\n",
       "      <td>Burn, Scald</td>\n",
       "    </tr>\n",
       "  </tbody>\n",
       "</table>\n",
       "</div>"
      ],
      "text/plain": [
       "    Code  Value       Description\n",
       "54  DIAG     41         Ingestion\n",
       "55  DIAG     42        Aspiration\n",
       "56  DIAG     46  Burn, Electrical\n",
       "57  DIAG     47   Burn, Not Spec.\n",
       "58  DIAG     48       Burn, Scald"
      ]
     },
     "execution_count": 39,
     "metadata": {},
     "output_type": "execute_result"
    }
   ],
   "source": [
    "# Cleanup diagnosis descriptions\n",
    "def cln_diag_desc(x):\n",
    "    if x['Code'] == 'DIAG':\n",
    "        return x['Description'].split('- ')[1]\n",
    "    else:\n",
    "        return x['Description']\n",
    "\n",
    "all_codes_df['Description'] = all_codes_df.apply(cln_diag_desc, axis=1)\n",
    "all_codes_df[all_codes_df['Code'] == 'DIAG'].head()"
   ]
  },
  {
   "cell_type": "markdown",
   "id": "1b752c6a-73ea-4aef-8f56-5fb143fe21b6",
   "metadata": {},
   "source": [
    "***\n",
    "## Disposition\n",
    "***"
   ]
  },
  {
   "cell_type": "code",
   "execution_count": 40,
   "id": "d743c665-ab86-4aba-aef7-7f3cc0f39e75",
   "metadata": {},
   "outputs": [
    {
     "data": {
      "text/html": [
       "<div>\n",
       "<style scoped>\n",
       "    .dataframe tbody tr th:only-of-type {\n",
       "        vertical-align: middle;\n",
       "    }\n",
       "\n",
       "    .dataframe tbody tr th {\n",
       "        vertical-align: top;\n",
       "    }\n",
       "\n",
       "    .dataframe thead th {\n",
       "        text-align: right;\n",
       "    }\n",
       "</style>\n",
       "<table border=\"1\" class=\"dataframe\">\n",
       "  <thead>\n",
       "    <tr style=\"text-align: right;\">\n",
       "      <th></th>\n",
       "      <th>Code</th>\n",
       "      <th>Value</th>\n",
       "      <th>Description</th>\n",
       "    </tr>\n",
       "  </thead>\n",
       "  <tbody>\n",
       "    <tr>\n",
       "      <th>85</th>\n",
       "      <td>DISP</td>\n",
       "      <td>0</td>\n",
       "      <td>0 - No Injury</td>\n",
       "    </tr>\n",
       "    <tr>\n",
       "      <th>86</th>\n",
       "      <td>DISP</td>\n",
       "      <td>1</td>\n",
       "      <td>1 - Treated/Examined And Released</td>\n",
       "    </tr>\n",
       "    <tr>\n",
       "      <th>87</th>\n",
       "      <td>DISP</td>\n",
       "      <td>2</td>\n",
       "      <td>2 - Treated And Transferred</td>\n",
       "    </tr>\n",
       "    <tr>\n",
       "      <th>88</th>\n",
       "      <td>DISP</td>\n",
       "      <td>4</td>\n",
       "      <td>4 - Treated And Admitted/Hospitalized</td>\n",
       "    </tr>\n",
       "    <tr>\n",
       "      <th>89</th>\n",
       "      <td>DISP</td>\n",
       "      <td>5</td>\n",
       "      <td>5 - Held For Observation</td>\n",
       "    </tr>\n",
       "  </tbody>\n",
       "</table>\n",
       "</div>"
      ],
      "text/plain": [
       "    Code  Value                            Description\n",
       "85  DISP      0                          0 - No Injury\n",
       "86  DISP      1      1 - Treated/Examined And Released\n",
       "87  DISP      2            2 - Treated And Transferred\n",
       "88  DISP      4  4 - Treated And Admitted/Hospitalized\n",
       "89  DISP      5               5 - Held For Observation"
      ]
     },
     "execution_count": 40,
     "metadata": {},
     "output_type": "execute_result"
    }
   ],
   "source": [
    "# Review disposition data\n",
    "all_codes_df[all_codes_df['Code'] == 'DISP'].head()"
   ]
  },
  {
   "cell_type": "code",
   "execution_count": 41,
   "id": "74a86e78-13fb-4638-bd68-16cf46754d5f",
   "metadata": {},
   "outputs": [
    {
     "data": {
      "text/html": [
       "<div>\n",
       "<style scoped>\n",
       "    .dataframe tbody tr th:only-of-type {\n",
       "        vertical-align: middle;\n",
       "    }\n",
       "\n",
       "    .dataframe tbody tr th {\n",
       "        vertical-align: top;\n",
       "    }\n",
       "\n",
       "    .dataframe thead th {\n",
       "        text-align: right;\n",
       "    }\n",
       "</style>\n",
       "<table border=\"1\" class=\"dataframe\">\n",
       "  <thead>\n",
       "    <tr style=\"text-align: right;\">\n",
       "      <th></th>\n",
       "      <th>Code</th>\n",
       "      <th>Value</th>\n",
       "      <th>Description</th>\n",
       "    </tr>\n",
       "  </thead>\n",
       "  <tbody>\n",
       "    <tr>\n",
       "      <th>85</th>\n",
       "      <td>DISP</td>\n",
       "      <td>0</td>\n",
       "      <td>0 - No Injury</td>\n",
       "    </tr>\n",
       "    <tr>\n",
       "      <th>86</th>\n",
       "      <td>DISP</td>\n",
       "      <td>1</td>\n",
       "      <td>1 - Treated/Examined And Released</td>\n",
       "    </tr>\n",
       "    <tr>\n",
       "      <th>87</th>\n",
       "      <td>DISP</td>\n",
       "      <td>2</td>\n",
       "      <td>2 - Treated And Transferred</td>\n",
       "    </tr>\n",
       "    <tr>\n",
       "      <th>88</th>\n",
       "      <td>DISP</td>\n",
       "      <td>4</td>\n",
       "      <td>4 - Treated And Admitted/Hospitalized</td>\n",
       "    </tr>\n",
       "    <tr>\n",
       "      <th>89</th>\n",
       "      <td>DISP</td>\n",
       "      <td>5</td>\n",
       "      <td>5 - Held For Observation</td>\n",
       "    </tr>\n",
       "  </tbody>\n",
       "</table>\n",
       "</div>"
      ],
      "text/plain": [
       "    Code  Value                            Description\n",
       "85  DISP      0                          0 - No Injury\n",
       "86  DISP      1      1 - Treated/Examined And Released\n",
       "87  DISP      2            2 - Treated And Transferred\n",
       "88  DISP      4  4 - Treated And Admitted/Hospitalized\n",
       "89  DISP      5               5 - Held For Observation"
      ]
     },
     "execution_count": 41,
     "metadata": {},
     "output_type": "execute_result"
    }
   ],
   "source": [
    "# Cleanup diagnosis descriptions\n",
    "def cln_disp_desc(x):\n",
    "    if x['Code'] == 'DIS':\n",
    "        return x['Description'].split('- ')[1]\n",
    "    else:\n",
    "        return x['Description']\n",
    "\n",
    "all_codes_df['Description'] = all_codes_df.apply(cln_disp_desc, axis=1)\n",
    "all_codes_df[all_codes_df['Code'] == 'DISP'].head()"
   ]
  },
  {
   "cell_type": "markdown",
   "id": "c1660fbe-cc2a-4d43-b04a-d5280818bece",
   "metadata": {},
   "source": [
    "***\n",
    "## Race, Hispanic\n",
    "***"
   ]
  },
  {
   "cell_type": "code",
   "execution_count": 42,
   "id": "b2888c21-3597-4f4e-9d43-ba66212cd0b0",
   "metadata": {},
   "outputs": [
    {
     "data": {
      "text/html": [
       "<div>\n",
       "<style scoped>\n",
       "    .dataframe tbody tr th:only-of-type {\n",
       "        vertical-align: middle;\n",
       "    }\n",
       "\n",
       "    .dataframe tbody tr th {\n",
       "        vertical-align: top;\n",
       "    }\n",
       "\n",
       "    .dataframe thead th {\n",
       "        text-align: right;\n",
       "    }\n",
       "</style>\n",
       "<table border=\"1\" class=\"dataframe\">\n",
       "  <thead>\n",
       "    <tr style=\"text-align: right;\">\n",
       "      <th></th>\n",
       "      <th>Code</th>\n",
       "      <th>Value</th>\n",
       "      <th>Description</th>\n",
       "    </tr>\n",
       "  </thead>\n",
       "  <tbody>\n",
       "    <tr>\n",
       "      <th>1229</th>\n",
       "      <td>RACE</td>\n",
       "      <td>0</td>\n",
       "      <td>N.S.</td>\n",
       "    </tr>\n",
       "    <tr>\n",
       "      <th>1230</th>\n",
       "      <td>RACE</td>\n",
       "      <td>1</td>\n",
       "      <td>White</td>\n",
       "    </tr>\n",
       "    <tr>\n",
       "      <th>1231</th>\n",
       "      <td>RACE</td>\n",
       "      <td>2</td>\n",
       "      <td>Black/African American</td>\n",
       "    </tr>\n",
       "    <tr>\n",
       "      <th>1232</th>\n",
       "      <td>RACE</td>\n",
       "      <td>3</td>\n",
       "      <td>Other</td>\n",
       "    </tr>\n",
       "    <tr>\n",
       "      <th>1233</th>\n",
       "      <td>RACE</td>\n",
       "      <td>4</td>\n",
       "      <td>Asian</td>\n",
       "    </tr>\n",
       "    <tr>\n",
       "      <th>1234</th>\n",
       "      <td>RACE</td>\n",
       "      <td>5</td>\n",
       "      <td>American Indian/Alaska Native</td>\n",
       "    </tr>\n",
       "    <tr>\n",
       "      <th>1235</th>\n",
       "      <td>RACE</td>\n",
       "      <td>6</td>\n",
       "      <td>Native Hawaiian/Pacific Islander</td>\n",
       "    </tr>\n",
       "  </tbody>\n",
       "</table>\n",
       "</div>"
      ],
      "text/plain": [
       "      Code  Value                       Description\n",
       "1229  RACE      0                              N.S.\n",
       "1230  RACE      1                             White\n",
       "1231  RACE      2            Black/African American\n",
       "1232  RACE      3                             Other\n",
       "1233  RACE      4                             Asian\n",
       "1234  RACE      5     American Indian/Alaska Native\n",
       "1235  RACE      6  Native Hawaiian/Pacific Islander"
      ]
     },
     "execution_count": 42,
     "metadata": {},
     "output_type": "execute_result"
    }
   ],
   "source": [
    "# Review race data\n",
    "all_codes_df[all_codes_df['Code'] == 'RACE']"
   ]
  },
  {
   "cell_type": "code",
   "execution_count": 43,
   "id": "7f361352-7610-4399-b414-6fe5ded1c965",
   "metadata": {},
   "outputs": [],
   "source": [
    "# Rename N.S. to Not Specified\n",
    "all_codes_df.at[1229, 'Description'] = 'Not Specified'"
   ]
  },
  {
   "cell_type": "code",
   "execution_count": 44,
   "id": "c924f1b6-a869-486b-aea8-a4a6f17589a5",
   "metadata": {},
   "outputs": [
    {
     "data": {
      "text/html": [
       "<div>\n",
       "<style scoped>\n",
       "    .dataframe tbody tr th:only-of-type {\n",
       "        vertical-align: middle;\n",
       "    }\n",
       "\n",
       "    .dataframe tbody tr th {\n",
       "        vertical-align: top;\n",
       "    }\n",
       "\n",
       "    .dataframe thead th {\n",
       "        text-align: right;\n",
       "    }\n",
       "</style>\n",
       "<table border=\"1\" class=\"dataframe\">\n",
       "  <thead>\n",
       "    <tr style=\"text-align: right;\">\n",
       "      <th></th>\n",
       "      <th>Code</th>\n",
       "      <th>Value</th>\n",
       "      <th>Description</th>\n",
       "    </tr>\n",
       "  </thead>\n",
       "  <tbody>\n",
       "    <tr>\n",
       "      <th>96</th>\n",
       "      <td>HISP</td>\n",
       "      <td>0</td>\n",
       "      <td>Unk/Not Stated</td>\n",
       "    </tr>\n",
       "    <tr>\n",
       "      <th>97</th>\n",
       "      <td>HISP</td>\n",
       "      <td>1</td>\n",
       "      <td>Yes</td>\n",
       "    </tr>\n",
       "    <tr>\n",
       "      <th>98</th>\n",
       "      <td>HISP</td>\n",
       "      <td>2</td>\n",
       "      <td>No</td>\n",
       "    </tr>\n",
       "  </tbody>\n",
       "</table>\n",
       "</div>"
      ],
      "text/plain": [
       "    Code  Value     Description\n",
       "96  HISP      0  Unk/Not Stated\n",
       "97  HISP      1             Yes\n",
       "98  HISP      2              No"
      ]
     },
     "execution_count": 44,
     "metadata": {},
     "output_type": "execute_result"
    }
   ],
   "source": [
    "# Review Hispanic data\n",
    "all_codes_df[all_codes_df['Code'] == 'HISP']"
   ]
  },
  {
   "cell_type": "markdown",
   "id": "5f75a76b-f030-4d2f-a506-00f5fb3b83fc",
   "metadata": {},
   "source": [
    "***\n",
    "## Location\n",
    "***"
   ]
  },
  {
   "cell_type": "code",
   "execution_count": 45,
   "id": "98f1f316-7f49-4203-ad15-75b7e564252c",
   "metadata": {},
   "outputs": [
    {
     "data": {
      "text/html": [
       "<div>\n",
       "<style scoped>\n",
       "    .dataframe tbody tr th:only-of-type {\n",
       "        vertical-align: middle;\n",
       "    }\n",
       "\n",
       "    .dataframe tbody tr th {\n",
       "        vertical-align: top;\n",
       "    }\n",
       "\n",
       "    .dataframe thead th {\n",
       "        text-align: right;\n",
       "    }\n",
       "</style>\n",
       "<table border=\"1\" class=\"dataframe\">\n",
       "  <thead>\n",
       "    <tr style=\"text-align: right;\">\n",
       "      <th></th>\n",
       "      <th>Code</th>\n",
       "      <th>Value</th>\n",
       "      <th>Description</th>\n",
       "    </tr>\n",
       "  </thead>\n",
       "  <tbody>\n",
       "    <tr>\n",
       "      <th>99</th>\n",
       "      <td>LOC</td>\n",
       "      <td>0</td>\n",
       "      <td>Unk</td>\n",
       "    </tr>\n",
       "    <tr>\n",
       "      <th>100</th>\n",
       "      <td>LOC</td>\n",
       "      <td>1</td>\n",
       "      <td>Home</td>\n",
       "    </tr>\n",
       "    <tr>\n",
       "      <th>101</th>\n",
       "      <td>LOC</td>\n",
       "      <td>2</td>\n",
       "      <td>Farm</td>\n",
       "    </tr>\n",
       "    <tr>\n",
       "      <th>102</th>\n",
       "      <td>LOC</td>\n",
       "      <td>3</td>\n",
       "      <td>Apart.</td>\n",
       "    </tr>\n",
       "    <tr>\n",
       "      <th>103</th>\n",
       "      <td>LOC</td>\n",
       "      <td>4</td>\n",
       "      <td>Street</td>\n",
       "    </tr>\n",
       "    <tr>\n",
       "      <th>104</th>\n",
       "      <td>LOC</td>\n",
       "      <td>5</td>\n",
       "      <td>Public</td>\n",
       "    </tr>\n",
       "    <tr>\n",
       "      <th>105</th>\n",
       "      <td>LOC</td>\n",
       "      <td>6</td>\n",
       "      <td>Mobile</td>\n",
       "    </tr>\n",
       "    <tr>\n",
       "      <th>106</th>\n",
       "      <td>LOC</td>\n",
       "      <td>7</td>\n",
       "      <td>Indst.</td>\n",
       "    </tr>\n",
       "    <tr>\n",
       "      <th>107</th>\n",
       "      <td>LOC</td>\n",
       "      <td>8</td>\n",
       "      <td>School</td>\n",
       "    </tr>\n",
       "    <tr>\n",
       "      <th>108</th>\n",
       "      <td>LOC</td>\n",
       "      <td>9</td>\n",
       "      <td>Sports</td>\n",
       "    </tr>\n",
       "  </tbody>\n",
       "</table>\n",
       "</div>"
      ],
      "text/plain": [
       "    Code  Value Description\n",
       "99   LOC      0         Unk\n",
       "100  LOC      1        Home\n",
       "101  LOC      2        Farm\n",
       "102  LOC      3      Apart.\n",
       "103  LOC      4      Street\n",
       "104  LOC      5      Public\n",
       "105  LOC      6      Mobile\n",
       "106  LOC      7      Indst.\n",
       "107  LOC      8      School\n",
       "108  LOC      9      Sports"
      ]
     },
     "execution_count": 45,
     "metadata": {},
     "output_type": "execute_result"
    }
   ],
   "source": [
    "# Review location data\n",
    "all_codes_df[all_codes_df['Code'] == 'LOC']"
   ]
  },
  {
   "cell_type": "markdown",
   "id": "eaf6dc53-b246-4fc4-81f7-51969b99ccc1",
   "metadata": {},
   "source": [
    "***\n",
    "## Products\n",
    "***"
   ]
  },
  {
   "cell_type": "code",
   "execution_count": 46,
   "id": "5f9a7e39-4b25-4453-9afd-108274f2cc04",
   "metadata": {},
   "outputs": [
    {
     "data": {
      "text/html": [
       "<div>\n",
       "<style scoped>\n",
       "    .dataframe tbody tr th:only-of-type {\n",
       "        vertical-align: middle;\n",
       "    }\n",
       "\n",
       "    .dataframe tbody tr th {\n",
       "        vertical-align: top;\n",
       "    }\n",
       "\n",
       "    .dataframe thead th {\n",
       "        text-align: right;\n",
       "    }\n",
       "</style>\n",
       "<table border=\"1\" class=\"dataframe\">\n",
       "  <thead>\n",
       "    <tr style=\"text-align: right;\">\n",
       "      <th></th>\n",
       "      <th>Code</th>\n",
       "      <th>Value</th>\n",
       "      <th>Description</th>\n",
       "    </tr>\n",
       "  </thead>\n",
       "  <tbody>\n",
       "    <tr>\n",
       "      <th>109</th>\n",
       "      <td>PROD</td>\n",
       "      <td>101</td>\n",
       "      <td>101 - Washing Machines Without Wringers Or Oth...</td>\n",
       "    </tr>\n",
       "    <tr>\n",
       "      <th>110</th>\n",
       "      <td>PROD</td>\n",
       "      <td>102</td>\n",
       "      <td>102 - Wringer Washing Machines</td>\n",
       "    </tr>\n",
       "    <tr>\n",
       "      <th>111</th>\n",
       "      <td>PROD</td>\n",
       "      <td>103</td>\n",
       "      <td>103 - Washing Machines With Unheated Spin Dryers</td>\n",
       "    </tr>\n",
       "    <tr>\n",
       "      <th>112</th>\n",
       "      <td>PROD</td>\n",
       "      <td>106</td>\n",
       "      <td>106 - Electric Clothes Dryers Without Washers</td>\n",
       "    </tr>\n",
       "    <tr>\n",
       "      <th>113</th>\n",
       "      <td>PROD</td>\n",
       "      <td>107</td>\n",
       "      <td>107 - Gas Clothes Dryers Without Washers</td>\n",
       "    </tr>\n",
       "    <tr>\n",
       "      <th>...</th>\n",
       "      <td>...</td>\n",
       "      <td>...</td>\n",
       "      <td>...</td>\n",
       "    </tr>\n",
       "    <tr>\n",
       "      <th>1226</th>\n",
       "      <td>PROD</td>\n",
       "      <td>9100</td>\n",
       "      <td>9100 - Out Of Scope Product - Retailer Report</td>\n",
       "    </tr>\n",
       "    <tr>\n",
       "      <th>1227</th>\n",
       "      <td>PROD</td>\n",
       "      <td>9200</td>\n",
       "      <td>9200 - Drywall Control - No Complaint</td>\n",
       "    </tr>\n",
       "    <tr>\n",
       "      <th>1228</th>\n",
       "      <td>PROD</td>\n",
       "      <td>9999</td>\n",
       "      <td>9999 - Uncategorized Product</td>\n",
       "    </tr>\n",
       "    <tr>\n",
       "      <th>1236</th>\n",
       "      <td>PROD</td>\n",
       "      <td>714</td>\n",
       "      <td>714 - Combination Fire/Smoke Alarm And Carbon ...</td>\n",
       "    </tr>\n",
       "    <tr>\n",
       "      <th>1238</th>\n",
       "      <td>PROD</td>\n",
       "      <td>1552</td>\n",
       "      <td>1552 - Cribs, Nonportable Or Not Specified</td>\n",
       "    </tr>\n",
       "  </tbody>\n",
       "</table>\n",
       "<p>1122 rows × 3 columns</p>\n",
       "</div>"
      ],
      "text/plain": [
       "      Code  Value                                        Description\n",
       "109   PROD    101  101 - Washing Machines Without Wringers Or Oth...\n",
       "110   PROD    102                     102 - Wringer Washing Machines\n",
       "111   PROD    103   103 - Washing Machines With Unheated Spin Dryers\n",
       "112   PROD    106      106 - Electric Clothes Dryers Without Washers\n",
       "113   PROD    107           107 - Gas Clothes Dryers Without Washers\n",
       "...    ...    ...                                                ...\n",
       "1226  PROD   9100      9100 - Out Of Scope Product - Retailer Report\n",
       "1227  PROD   9200              9200 - Drywall Control - No Complaint\n",
       "1228  PROD   9999                       9999 - Uncategorized Product\n",
       "1236  PROD    714  714 - Combination Fire/Smoke Alarm And Carbon ...\n",
       "1238  PROD   1552         1552 - Cribs, Nonportable Or Not Specified\n",
       "\n",
       "[1122 rows x 3 columns]"
      ]
     },
     "execution_count": 46,
     "metadata": {},
     "output_type": "execute_result"
    }
   ],
   "source": [
    "# Review products data\n",
    "all_codes_df[all_codes_df['Code'] == 'PROD']"
   ]
  },
  {
   "cell_type": "code",
   "execution_count": 47,
   "id": "be431bba-5666-45ad-9c12-30a4a4e82704",
   "metadata": {},
   "outputs": [
    {
     "data": {
      "text/html": [
       "<div>\n",
       "<style scoped>\n",
       "    .dataframe tbody tr th:only-of-type {\n",
       "        vertical-align: middle;\n",
       "    }\n",
       "\n",
       "    .dataframe tbody tr th {\n",
       "        vertical-align: top;\n",
       "    }\n",
       "\n",
       "    .dataframe thead th {\n",
       "        text-align: right;\n",
       "    }\n",
       "</style>\n",
       "<table border=\"1\" class=\"dataframe\">\n",
       "  <thead>\n",
       "    <tr style=\"text-align: right;\">\n",
       "      <th></th>\n",
       "      <th>Code</th>\n",
       "      <th>Value</th>\n",
       "      <th>Description</th>\n",
       "    </tr>\n",
       "  </thead>\n",
       "  <tbody>\n",
       "    <tr>\n",
       "      <th>109</th>\n",
       "      <td>PROD</td>\n",
       "      <td>101</td>\n",
       "      <td>Washing Machines Without Wringers Or Other Dryers</td>\n",
       "    </tr>\n",
       "    <tr>\n",
       "      <th>110</th>\n",
       "      <td>PROD</td>\n",
       "      <td>102</td>\n",
       "      <td>Wringer Washing Machines</td>\n",
       "    </tr>\n",
       "    <tr>\n",
       "      <th>111</th>\n",
       "      <td>PROD</td>\n",
       "      <td>103</td>\n",
       "      <td>Washing Machines With Unheated Spin Dryers</td>\n",
       "    </tr>\n",
       "    <tr>\n",
       "      <th>112</th>\n",
       "      <td>PROD</td>\n",
       "      <td>106</td>\n",
       "      <td>Electric Clothes Dryers Without Washers</td>\n",
       "    </tr>\n",
       "    <tr>\n",
       "      <th>113</th>\n",
       "      <td>PROD</td>\n",
       "      <td>107</td>\n",
       "      <td>Gas Clothes Dryers Without Washers</td>\n",
       "    </tr>\n",
       "  </tbody>\n",
       "</table>\n",
       "</div>"
      ],
      "text/plain": [
       "     Code  Value                                        Description\n",
       "109  PROD    101  Washing Machines Without Wringers Or Other Dryers\n",
       "110  PROD    102                           Wringer Washing Machines\n",
       "111  PROD    103         Washing Machines With Unheated Spin Dryers\n",
       "112  PROD    106            Electric Clothes Dryers Without Washers\n",
       "113  PROD    107                 Gas Clothes Dryers Without Washers"
      ]
     },
     "execution_count": 47,
     "metadata": {},
     "output_type": "execute_result"
    }
   ],
   "source": [
    "# Cleanup product code descriptions\n",
    "def cln_diag_desc(x):\n",
    "    if x['Code'] == 'PROD':\n",
    "        return x['Description'].split('- ')[1]\n",
    "    else:\n",
    "        return x['Description']\n",
    "\n",
    "all_codes_df['Description'] = all_codes_df.apply(cln_diag_desc, axis=1)\n",
    "all_codes_df[all_codes_df['Code'] == 'PROD'].head()"
   ]
  },
  {
   "cell_type": "markdown",
   "id": "4f2a4eac-79b8-454b-bcb6-72e2ba1a60da",
   "metadata": {},
   "source": [
    "***\n",
    "# Export to Excel\n",
    "***"
   ]
  },
  {
   "cell_type": "code",
   "execution_count": 48,
   "id": "612f2c87-5edf-44da-851d-d16d05b9f3f2",
   "metadata": {},
   "outputs": [],
   "source": [
    "# Write final table to Excel\n",
    "all_codes_df.to_excel('../data/std_codes.xlsx', index=False)"
   ]
  },
  {
   "cell_type": "markdown",
   "id": "f7ad66da-6014-4b82-8570-60cff258b8a1",
   "metadata": {},
   "source": [
    "***\n",
    "**End**\n",
    "***"
   ]
  }
 ],
 "metadata": {
  "kernelspec": {
   "display_name": "Python 3 (ipykernel)",
   "language": "python",
   "name": "python3"
  },
  "language_info": {
   "codemirror_mode": {
    "name": "ipython",
    "version": 3
   },
   "file_extension": ".py",
   "mimetype": "text/x-python",
   "name": "python",
   "nbconvert_exporter": "python",
   "pygments_lexer": "ipython3",
   "version": "3.12.2"
  }
 },
 "nbformat": 4,
 "nbformat_minor": 5
}
