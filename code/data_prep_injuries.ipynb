{
 "cells": [
  {
   "cell_type": "markdown",
   "id": "a6401229-d7a4-4239-bb27-9902edb4260a",
   "metadata": {
    "jp-MarkdownHeadingCollapsed": true,
    "tags": []
   },
   "source": [
    "# Product Injury\n",
    "<font size=4 color='blue'>Data Prep and Load - Injuries</font>   \n",
    "***  \n",
    "\n",
    "**Project Summary:**   \n",
    "The Consumer Product Safety Commission operations a surveillance system (NEISS) to track injury data related to consumer products. The data is collected from a representative sample of emergency rooms in the United Status. \n",
    "This project will examine the data from 2013 through 2022 to explore trends in product injuries resulting in emergency room visits.\n",
    "\n",
    "**Notebook Scope:**  \n",
    "This notebook includes code to validate and merge annual injury data. This data has been downloaded from the [NEISS website](https://www.cpsc.gov/cgibin/NEISSQuery/home.aspx).\n",
    "\n",
    "**Output:**  \n",
    "<font color='red'>**Revisit...**</font>   \n",
    "The resulting data will be loaded to a SQL Azure database for EDA and Trend Analysis.\n",
    "***  "
   ]
  },
  {
   "cell_type": "markdown",
   "id": "6fbdbe78-45ef-45e9-aa24-7a404b633884",
   "metadata": {
    "tags": []
   },
   "source": [
    "***\n",
    "# Notebook Setup\n",
    "***"
   ]
  },
  {
   "cell_type": "code",
   "execution_count": 1,
   "id": "e3e04588-e5b2-4182-a7fb-b6f2d978a0d6",
   "metadata": {},
   "outputs": [],
   "source": [
    "# Import libraries\n",
    "import pandas as pd\n",
    "import calendar as cal\n",
    "import numpy as np\n",
    "from datetime import datetime\n",
    "import matplotlib.pyplot as plt"
   ]
  },
  {
   "cell_type": "code",
   "execution_count": 2,
   "id": "bcdd0748-9b08-4581-8e2b-12060a53807e",
   "metadata": {},
   "outputs": [
    {
     "data": {
      "text/html": [
       "<!-- Prevent text wrappping in dataframe displays for a cleaner print -->\n",
       "<style> .dataframe td {white-space: nowrap;}</style>\n"
      ],
      "text/plain": [
       "<IPython.core.display.HTML object>"
      ]
     },
     "metadata": {},
     "output_type": "display_data"
    }
   ],
   "source": [
    "%%html\n",
    "<!-- Prevent text wrappping in dataframe displays for a cleaner print -->\n",
    "<style> .dataframe td {white-space: nowrap;}</style>"
   ]
  },
  {
   "cell_type": "code",
   "execution_count": 3,
   "id": "af26530f-862a-48be-931d-0d3af24cacca",
   "metadata": {},
   "outputs": [],
   "source": [
    "# Set defaults plotting defaults\n",
    "plt.style.use('seaborn-v0_8-whitegrid')\n",
    "plt.rcParams['figure.figsize'] = [11, 3]\n",
    "plt.rcParams['legend.loc'] = (1.01, 0)\n",
    "plt.rcParams['axes.titlesize'] = 16\n",
    "plt.rcParams['axes.labelsize'] = 14\n",
    "plt.rcParams['grid.linestyle'] = ':'"
   ]
  },
  {
   "cell_type": "markdown",
   "id": "2443d95a-7e1c-4b7f-927c-6cf71cdf300d",
   "metadata": {
    "tags": []
   },
   "source": [
    "***  \n",
    "# Load Injury Data\n",
    "***"
   ]
  },
  {
   "cell_type": "code",
   "execution_count": 4,
   "id": "b305efcf-8b09-48ff-a7b9-2b8e548eace4",
   "metadata": {},
   "outputs": [
    {
     "name": "stdout",
     "output_type": "stream",
     "text": [
      "Load start time:  14:59:53\n",
      "Load finish time: 15:10:11\n"
     ]
    }
   ],
   "source": [
    "# Read in the NEIS injury data from each annual Excel file\n",
    "# NOTE: This code block takes 10-15 minutes to execute\n",
    "path = '../_data/'\n",
    "yrs = [x for x in range(2013, 2023)]\n",
    "rows_read = 0\n",
    "injuries_df = pd.DataFrame()\n",
    "\n",
    "print(f'Load start time:  {datetime.now().strftime('%H:%M:%S')}')\n",
    "for yr in yrs:\n",
    "    file_name = 'neiss' + str(yr) + '.xlsx'\n",
    "    sheet_name = 'NEISS' + '_' + str(yr)\n",
    "    raw_df = pd.read_excel(path + file_name, sheet_name = sheet_name, usecols='A:E,H:I,N,Q:S,W:Y')\n",
    "    rows_read += len(raw_df)\n",
    "    injuries_df = pd.concat([injuries_df, raw_df])\n",
    "print(f'Load finish time: {datetime.now().strftime('%H:%M:%S')}')"
   ]
  },
  {
   "cell_type": "markdown",
   "id": "5faddde9-9657-4336-9856-cf8cc6fa795d",
   "metadata": {},
   "source": [
    "***\n",
    "# Preview Data\n",
    "***"
   ]
  },
  {
   "cell_type": "code",
   "execution_count": 5,
   "id": "3c787a53-8f68-46c2-8a05-58e3a8b75d88",
   "metadata": {},
   "outputs": [
    {
     "data": {
      "text/html": [
       "<div>\n",
       "<style scoped>\n",
       "    .dataframe tbody tr th:only-of-type {\n",
       "        vertical-align: middle;\n",
       "    }\n",
       "\n",
       "    .dataframe tbody tr th {\n",
       "        vertical-align: top;\n",
       "    }\n",
       "\n",
       "    .dataframe thead th {\n",
       "        text-align: right;\n",
       "    }\n",
       "</style>\n",
       "<table border=\"1\" class=\"dataframe\">\n",
       "  <thead>\n",
       "    <tr style=\"text-align: right;\">\n",
       "      <th></th>\n",
       "      <th>CPSC_Case_Number</th>\n",
       "      <th>Treatment_Date</th>\n",
       "      <th>Age</th>\n",
       "      <th>Sex</th>\n",
       "      <th>Race</th>\n",
       "      <th>Body_Part</th>\n",
       "      <th>Diagnosis</th>\n",
       "      <th>Disposition</th>\n",
       "      <th>Product_1</th>\n",
       "      <th>Product_2</th>\n",
       "      <th>Product_3</th>\n",
       "      <th>Stratum</th>\n",
       "      <th>PSU</th>\n",
       "      <th>Weight</th>\n",
       "    </tr>\n",
       "  </thead>\n",
       "  <tbody>\n",
       "    <tr>\n",
       "      <th>0</th>\n",
       "      <td>130104962</td>\n",
       "      <td>2013-01-01</td>\n",
       "      <td>57</td>\n",
       "      <td>1</td>\n",
       "      <td>1</td>\n",
       "      <td>76</td>\n",
       "      <td>53</td>\n",
       "      <td>1</td>\n",
       "      <td>3299</td>\n",
       "      <td>0</td>\n",
       "      <td>0</td>\n",
       "      <td>M</td>\n",
       "      <td>100</td>\n",
       "      <td>88.4147</td>\n",
       "    </tr>\n",
       "    <tr>\n",
       "      <th>1</th>\n",
       "      <td>130104963</td>\n",
       "      <td>2013-01-01</td>\n",
       "      <td>207</td>\n",
       "      <td>2</td>\n",
       "      <td>4</td>\n",
       "      <td>75</td>\n",
       "      <td>62</td>\n",
       "      <td>1</td>\n",
       "      <td>1807</td>\n",
       "      <td>0</td>\n",
       "      <td>0</td>\n",
       "      <td>M</td>\n",
       "      <td>100</td>\n",
       "      <td>88.4147</td>\n",
       "    </tr>\n",
       "    <tr>\n",
       "      <th>2</th>\n",
       "      <td>130104966</td>\n",
       "      <td>2013-01-01</td>\n",
       "      <td>59</td>\n",
       "      <td>2</td>\n",
       "      <td>1</td>\n",
       "      <td>79</td>\n",
       "      <td>53</td>\n",
       "      <td>1</td>\n",
       "      <td>1842</td>\n",
       "      <td>0</td>\n",
       "      <td>0</td>\n",
       "      <td>M</td>\n",
       "      <td>100</td>\n",
       "      <td>88.4147</td>\n",
       "    </tr>\n",
       "    <tr>\n",
       "      <th>3</th>\n",
       "      <td>130104968</td>\n",
       "      <td>2013-01-01</td>\n",
       "      <td>17</td>\n",
       "      <td>2</td>\n",
       "      <td>1</td>\n",
       "      <td>37</td>\n",
       "      <td>64</td>\n",
       "      <td>1</td>\n",
       "      <td>4076</td>\n",
       "      <td>0</td>\n",
       "      <td>0</td>\n",
       "      <td>M</td>\n",
       "      <td>100</td>\n",
       "      <td>88.4147</td>\n",
       "    </tr>\n",
       "    <tr>\n",
       "      <th>4</th>\n",
       "      <td>130104970</td>\n",
       "      <td>2013-01-01</td>\n",
       "      <td>38</td>\n",
       "      <td>1</td>\n",
       "      <td>1</td>\n",
       "      <td>92</td>\n",
       "      <td>59</td>\n",
       "      <td>1</td>\n",
       "      <td>474</td>\n",
       "      <td>0</td>\n",
       "      <td>0</td>\n",
       "      <td>M</td>\n",
       "      <td>100</td>\n",
       "      <td>88.4147</td>\n",
       "    </tr>\n",
       "  </tbody>\n",
       "</table>\n",
       "</div>"
      ],
      "text/plain": [
       "   CPSC_Case_Number Treatment_Date  Age  Sex  Race  Body_Part  Diagnosis  \\\n",
       "0         130104962     2013-01-01   57    1     1         76         53   \n",
       "1         130104963     2013-01-01  207    2     4         75         62   \n",
       "2         130104966     2013-01-01   59    2     1         79         53   \n",
       "3         130104968     2013-01-01   17    2     1         37         64   \n",
       "4         130104970     2013-01-01   38    1     1         92         59   \n",
       "\n",
       "   Disposition  Product_1  Product_2  Product_3 Stratum  PSU   Weight  \n",
       "0            1       3299          0          0       M  100  88.4147  \n",
       "1            1       1807          0          0       M  100  88.4147  \n",
       "2            1       1842          0          0       M  100  88.4147  \n",
       "3            1       4076          0          0       M  100  88.4147  \n",
       "4            1        474          0          0       M  100  88.4147  "
      ]
     },
     "execution_count": 5,
     "metadata": {},
     "output_type": "execute_result"
    }
   ],
   "source": [
    "injuries_df.head()"
   ]
  },
  {
   "cell_type": "code",
   "execution_count": 6,
   "id": "c413583e-167a-4980-9161-ad1eb91d9b6b",
   "metadata": {},
   "outputs": [
    {
     "name": "stdout",
     "output_type": "stream",
     "text": [
      "Total rows read:           3559186\n",
      "Rows in combined dataset:  3559186\n"
     ]
    }
   ],
   "source": [
    "# Verify that the length of the combined dataset is the same as the total number of rows read in from all Excel files\n",
    "print(f'Total rows read:           {rows_read}')\n",
    "print(f'Rows in combined dataset:  {len(injuries_df)}')"
   ]
  },
  {
   "cell_type": "code",
   "execution_count": 7,
   "id": "becae1e7-a395-4fa0-a96a-42703fc5e9aa",
   "metadata": {},
   "outputs": [],
   "source": [
    "# Drop rows and columns that consist only of NaN data\n",
    "injuries_df.dropna(axis = 0, how = 'all', inplace=True)\n",
    "injuries_df.dropna(axis = 1, how = 'all', inplace=True)"
   ]
  },
  {
   "cell_type": "code",
   "execution_count": 8,
   "id": "82c4ec34-e138-474b-b285-c507c19255dd",
   "metadata": {},
   "outputs": [
    {
     "data": {
      "text/plain": [
       "(3559186, 14)"
      ]
     },
     "execution_count": 8,
     "metadata": {},
     "output_type": "execute_result"
    }
   ],
   "source": [
    "# View shape of the dataframe\n",
    "injuries_df.shape"
   ]
  },
  {
   "cell_type": "code",
   "execution_count": 9,
   "id": "7b432941-07f6-45a1-8e7d-f0a7185af92d",
   "metadata": {},
   "outputs": [],
   "source": [
    "# Reset index\n",
    "injuries_df.reset_index(drop=True, inplace=True)"
   ]
  },
  {
   "cell_type": "markdown",
   "id": "7c3e7d73-c999-4c1f-846b-0be14b366e6d",
   "metadata": {},
   "source": [
    "***\n",
    "# Memory Usage\n",
    "***"
   ]
  },
  {
   "cell_type": "code",
   "execution_count": 10,
   "id": "ef0b9148-bad2-4f3f-8a2a-22ee74deb87f",
   "metadata": {},
   "outputs": [
    {
     "name": "stdout",
     "output_type": "stream",
     "text": [
      "Memory Usage by Column:\n",
      "Index                    132\n",
      "CPSC_Case_Number    28473488\n",
      "Treatment_Date      28473488\n",
      "Age                 28473488\n",
      "Sex                 28473488\n",
      "Race                28473488\n",
      "Body_Part           28473488\n",
      "Diagnosis           28473488\n",
      "Disposition         28473488\n",
      "Product_1           28473488\n",
      "Product_2           28473488\n",
      "Product_3           28473488\n",
      "Stratum             28473488\n",
      "PSU                 28473488\n",
      "Weight              28473488\n",
      "dtype: int64\n",
      "\n",
      "Total Memory Usage for Dataframe:   398628964\n"
     ]
    }
   ],
   "source": [
    "# Since our dataset is on the larger size, let's capture the memory usage. This will allow us to evalute how much our cleanup activities\n",
    "# impact overall size. While this may not be critical in this case, it's a good habit.\n",
    "print(f'Memory Usage by Column:\\n{injuries_df.memory_usage()}')\n",
    "print(f'\\nTotal Memory Usage for Dataframe:   {injuries_df.memory_usage().sum()}')"
   ]
  },
  {
   "cell_type": "markdown",
   "id": "3bf964ef-39b2-44a4-9704-6df0ccf78977",
   "metadata": {},
   "source": [
    "***\n",
    "# Load Data Codes\n",
    "***"
   ]
  },
  {
   "cell_type": "code",
   "execution_count": 11,
   "id": "37ad3151-c4bc-4fda-bd21-500f9fd36368",
   "metadata": {},
   "outputs": [
    {
     "data": {
      "text/html": [
       "<div>\n",
       "<style scoped>\n",
       "    .dataframe tbody tr th:only-of-type {\n",
       "        vertical-align: middle;\n",
       "    }\n",
       "\n",
       "    .dataframe tbody tr th {\n",
       "        vertical-align: top;\n",
       "    }\n",
       "\n",
       "    .dataframe thead th {\n",
       "        text-align: right;\n",
       "    }\n",
       "</style>\n",
       "<table border=\"1\" class=\"dataframe\">\n",
       "  <thead>\n",
       "    <tr style=\"text-align: right;\">\n",
       "      <th></th>\n",
       "      <th>Code</th>\n",
       "      <th>Value</th>\n",
       "      <th>Description</th>\n",
       "    </tr>\n",
       "  </thead>\n",
       "  <tbody>\n",
       "    <tr>\n",
       "      <th>0</th>\n",
       "      <td>AGELTTWO</td>\n",
       "      <td>0</td>\n",
       "      <td>Unk</td>\n",
       "    </tr>\n",
       "    <tr>\n",
       "      <th>1</th>\n",
       "      <td>AGELTTWO</td>\n",
       "      <td>201</td>\n",
       "      <td>1 Month</td>\n",
       "    </tr>\n",
       "    <tr>\n",
       "      <th>2</th>\n",
       "      <td>AGELTTWO</td>\n",
       "      <td>202</td>\n",
       "      <td>2 Months</td>\n",
       "    </tr>\n",
       "    <tr>\n",
       "      <th>3</th>\n",
       "      <td>AGELTTWO</td>\n",
       "      <td>203</td>\n",
       "      <td>3 Months</td>\n",
       "    </tr>\n",
       "    <tr>\n",
       "      <th>4</th>\n",
       "      <td>AGELTTWO</td>\n",
       "      <td>204</td>\n",
       "      <td>4 Months</td>\n",
       "    </tr>\n",
       "  </tbody>\n",
       "</table>\n",
       "</div>"
      ],
      "text/plain": [
       "       Code  Value Description\n",
       "0  AGELTTWO      0         Unk\n",
       "1  AGELTTWO    201     1 Month\n",
       "2  AGELTTWO    202    2 Months\n",
       "3  AGELTTWO    203    3 Months\n",
       "4  AGELTTWO    204    4 Months"
      ]
     },
     "execution_count": 11,
     "metadata": {},
     "output_type": "execute_result"
    }
   ],
   "source": [
    "# Read in the standard data codes file. We'll use this later in our data validation activities\n",
    "file = '../data/std_codes.xlsx'\n",
    "codes_df = pd.read_excel(file)\n",
    "codes_df.head()"
   ]
  },
  {
   "cell_type": "code",
   "execution_count": 12,
   "id": "f7ca91e8-557d-4da1-986b-2c89a77604b1",
   "metadata": {},
   "outputs": [
    {
     "data": {
      "text/plain": [
       "array(['AGELTTWO', 'BDYPT', 'DIAG', 'DISP', 'GENDER', 'HISP', 'LOC',\n",
       "       'PROD', 'RACE'], dtype=object)"
      ]
     },
     "execution_count": 12,
     "metadata": {},
     "output_type": "execute_result"
    }
   ],
   "source": [
    "# Review which data is coded\n",
    "codes_df['Code'].unique()"
   ]
  },
  {
   "cell_type": "code",
   "execution_count": 13,
   "id": "cc3d31b4-9424-4cff-8e02-66115f9112ef",
   "metadata": {},
   "outputs": [
    {
     "data": {
      "text/html": [
       "<div>\n",
       "<style scoped>\n",
       "    .dataframe tbody tr th:only-of-type {\n",
       "        vertical-align: middle;\n",
       "    }\n",
       "\n",
       "    .dataframe tbody tr th {\n",
       "        vertical-align: top;\n",
       "    }\n",
       "\n",
       "    .dataframe thead th {\n",
       "        text-align: right;\n",
       "    }\n",
       "</style>\n",
       "<table border=\"1\" class=\"dataframe\">\n",
       "  <thead>\n",
       "    <tr style=\"text-align: right;\">\n",
       "      <th></th>\n",
       "      <th>Code</th>\n",
       "      <th>Value</th>\n",
       "      <th>Description</th>\n",
       "    </tr>\n",
       "  </thead>\n",
       "  <tbody>\n",
       "    <tr>\n",
       "      <th>24</th>\n",
       "      <td>BDYPT</td>\n",
       "      <td>0</td>\n",
       "      <td>Internal</td>\n",
       "    </tr>\n",
       "    <tr>\n",
       "      <th>25</th>\n",
       "      <td>BDYPT</td>\n",
       "      <td>30</td>\n",
       "      <td>Shoulder</td>\n",
       "    </tr>\n",
       "    <tr>\n",
       "      <th>26</th>\n",
       "      <td>BDYPT</td>\n",
       "      <td>31</td>\n",
       "      <td>Upper Trunk</td>\n",
       "    </tr>\n",
       "    <tr>\n",
       "      <th>27</th>\n",
       "      <td>BDYPT</td>\n",
       "      <td>32</td>\n",
       "      <td>Elbow</td>\n",
       "    </tr>\n",
       "    <tr>\n",
       "      <th>28</th>\n",
       "      <td>BDYPT</td>\n",
       "      <td>33</td>\n",
       "      <td>Lower Arm</td>\n",
       "    </tr>\n",
       "  </tbody>\n",
       "</table>\n",
       "</div>"
      ],
      "text/plain": [
       "     Code  Value  Description\n",
       "24  BDYPT      0     Internal\n",
       "25  BDYPT     30     Shoulder\n",
       "26  BDYPT     31  Upper Trunk\n",
       "27  BDYPT     32        Elbow\n",
       "28  BDYPT     33    Lower Arm"
      ]
     },
     "execution_count": 13,
     "metadata": {},
     "output_type": "execute_result"
    }
   ],
   "source": [
    "# Preview body part codes\n",
    "codes_df[codes_df['Code'] == 'BDYPT'].head()"
   ]
  },
  {
   "cell_type": "code",
   "execution_count": 14,
   "id": "9bac6afe-feb9-4476-8b9c-2f8a2e7c8ecb",
   "metadata": {},
   "outputs": [
    {
     "data": {
      "text/html": [
       "<div>\n",
       "<style scoped>\n",
       "    .dataframe tbody tr th:only-of-type {\n",
       "        vertical-align: middle;\n",
       "    }\n",
       "\n",
       "    .dataframe tbody tr th {\n",
       "        vertical-align: top;\n",
       "    }\n",
       "\n",
       "    .dataframe thead th {\n",
       "        text-align: right;\n",
       "    }\n",
       "</style>\n",
       "<table border=\"1\" class=\"dataframe\">\n",
       "  <thead>\n",
       "    <tr style=\"text-align: right;\">\n",
       "      <th></th>\n",
       "      <th>Code</th>\n",
       "      <th>Value</th>\n",
       "      <th>Description</th>\n",
       "    </tr>\n",
       "  </thead>\n",
       "  <tbody>\n",
       "    <tr>\n",
       "      <th>54</th>\n",
       "      <td>DIAG</td>\n",
       "      <td>41</td>\n",
       "      <td>Ingestion</td>\n",
       "    </tr>\n",
       "    <tr>\n",
       "      <th>55</th>\n",
       "      <td>DIAG</td>\n",
       "      <td>42</td>\n",
       "      <td>Aspiration</td>\n",
       "    </tr>\n",
       "    <tr>\n",
       "      <th>56</th>\n",
       "      <td>DIAG</td>\n",
       "      <td>46</td>\n",
       "      <td>Burn, Electrical</td>\n",
       "    </tr>\n",
       "    <tr>\n",
       "      <th>57</th>\n",
       "      <td>DIAG</td>\n",
       "      <td>47</td>\n",
       "      <td>Burn, Not Spec.</td>\n",
       "    </tr>\n",
       "    <tr>\n",
       "      <th>58</th>\n",
       "      <td>DIAG</td>\n",
       "      <td>48</td>\n",
       "      <td>Burn, Scald</td>\n",
       "    </tr>\n",
       "  </tbody>\n",
       "</table>\n",
       "</div>"
      ],
      "text/plain": [
       "    Code  Value       Description\n",
       "54  DIAG     41         Ingestion\n",
       "55  DIAG     42        Aspiration\n",
       "56  DIAG     46  Burn, Electrical\n",
       "57  DIAG     47   Burn, Not Spec.\n",
       "58  DIAG     48       Burn, Scald"
      ]
     },
     "execution_count": 14,
     "metadata": {},
     "output_type": "execute_result"
    }
   ],
   "source": [
    "# Preview diagnosis codes\n",
    "codes_df[codes_df['Code'] == 'DIAG'].head()"
   ]
  },
  {
   "cell_type": "code",
   "execution_count": 15,
   "id": "d875cbbe-fc4d-4781-a90c-45acbb8d2351",
   "metadata": {},
   "outputs": [
    {
     "data": {
      "text/html": [
       "<div>\n",
       "<style scoped>\n",
       "    .dataframe tbody tr th:only-of-type {\n",
       "        vertical-align: middle;\n",
       "    }\n",
       "\n",
       "    .dataframe tbody tr th {\n",
       "        vertical-align: top;\n",
       "    }\n",
       "\n",
       "    .dataframe thead th {\n",
       "        text-align: right;\n",
       "    }\n",
       "</style>\n",
       "<table border=\"1\" class=\"dataframe\">\n",
       "  <thead>\n",
       "    <tr style=\"text-align: right;\">\n",
       "      <th></th>\n",
       "      <th>Code</th>\n",
       "      <th>Value</th>\n",
       "      <th>Description</th>\n",
       "    </tr>\n",
       "  </thead>\n",
       "  <tbody>\n",
       "    <tr>\n",
       "      <th>85</th>\n",
       "      <td>DISP</td>\n",
       "      <td>0</td>\n",
       "      <td>No Injury</td>\n",
       "    </tr>\n",
       "    <tr>\n",
       "      <th>86</th>\n",
       "      <td>DISP</td>\n",
       "      <td>1</td>\n",
       "      <td>Treated/Examined And Released</td>\n",
       "    </tr>\n",
       "    <tr>\n",
       "      <th>87</th>\n",
       "      <td>DISP</td>\n",
       "      <td>2</td>\n",
       "      <td>Treated And Transferred</td>\n",
       "    </tr>\n",
       "    <tr>\n",
       "      <th>88</th>\n",
       "      <td>DISP</td>\n",
       "      <td>4</td>\n",
       "      <td>Treated And Admitted/Hospitalized</td>\n",
       "    </tr>\n",
       "    <tr>\n",
       "      <th>89</th>\n",
       "      <td>DISP</td>\n",
       "      <td>5</td>\n",
       "      <td>Held For Observation</td>\n",
       "    </tr>\n",
       "  </tbody>\n",
       "</table>\n",
       "</div>"
      ],
      "text/plain": [
       "    Code  Value                        Description\n",
       "85  DISP      0                          No Injury\n",
       "86  DISP      1      Treated/Examined And Released\n",
       "87  DISP      2            Treated And Transferred\n",
       "88  DISP      4  Treated And Admitted/Hospitalized\n",
       "89  DISP      5               Held For Observation"
      ]
     },
     "execution_count": 15,
     "metadata": {},
     "output_type": "execute_result"
    }
   ],
   "source": [
    "# Preview disposition codes\n",
    "codes_df[codes_df['Code'] == 'DISP'].head()"
   ]
  },
  {
   "cell_type": "code",
   "execution_count": 16,
   "id": "b702eccc-6022-4baa-849d-b6918d89da83",
   "metadata": {},
   "outputs": [
    {
     "data": {
      "text/html": [
       "<div>\n",
       "<style scoped>\n",
       "    .dataframe tbody tr th:only-of-type {\n",
       "        vertical-align: middle;\n",
       "    }\n",
       "\n",
       "    .dataframe tbody tr th {\n",
       "        vertical-align: top;\n",
       "    }\n",
       "\n",
       "    .dataframe thead th {\n",
       "        text-align: right;\n",
       "    }\n",
       "</style>\n",
       "<table border=\"1\" class=\"dataframe\">\n",
       "  <thead>\n",
       "    <tr style=\"text-align: right;\">\n",
       "      <th></th>\n",
       "      <th>Code</th>\n",
       "      <th>Value</th>\n",
       "      <th>Description</th>\n",
       "    </tr>\n",
       "  </thead>\n",
       "  <tbody>\n",
       "    <tr>\n",
       "      <th>93</th>\n",
       "      <td>GENDER</td>\n",
       "      <td>0</td>\n",
       "      <td>Unknown</td>\n",
       "    </tr>\n",
       "    <tr>\n",
       "      <th>94</th>\n",
       "      <td>GENDER</td>\n",
       "      <td>1</td>\n",
       "      <td>Male</td>\n",
       "    </tr>\n",
       "    <tr>\n",
       "      <th>95</th>\n",
       "      <td>GENDER</td>\n",
       "      <td>2</td>\n",
       "      <td>Female</td>\n",
       "    </tr>\n",
       "    <tr>\n",
       "      <th>1237</th>\n",
       "      <td>GENDER</td>\n",
       "      <td>3</td>\n",
       "      <td>Non-Binary/Other</td>\n",
       "    </tr>\n",
       "  </tbody>\n",
       "</table>\n",
       "</div>"
      ],
      "text/plain": [
       "        Code  Value       Description\n",
       "93    GENDER      0           Unknown\n",
       "94    GENDER      1              Male\n",
       "95    GENDER      2            Female\n",
       "1237  GENDER      3  Non-Binary/Other"
      ]
     },
     "execution_count": 16,
     "metadata": {},
     "output_type": "execute_result"
    }
   ],
   "source": [
    "# Preview gender codes\n",
    "codes_df[codes_df['Code'] == 'GENDER'].head()"
   ]
  },
  {
   "cell_type": "code",
   "execution_count": 17,
   "id": "cf8115c9-d53c-49f3-82ed-5708123ee565",
   "metadata": {},
   "outputs": [
    {
     "data": {
      "text/html": [
       "<div>\n",
       "<style scoped>\n",
       "    .dataframe tbody tr th:only-of-type {\n",
       "        vertical-align: middle;\n",
       "    }\n",
       "\n",
       "    .dataframe tbody tr th {\n",
       "        vertical-align: top;\n",
       "    }\n",
       "\n",
       "    .dataframe thead th {\n",
       "        text-align: right;\n",
       "    }\n",
       "</style>\n",
       "<table border=\"1\" class=\"dataframe\">\n",
       "  <thead>\n",
       "    <tr style=\"text-align: right;\">\n",
       "      <th></th>\n",
       "      <th>Code</th>\n",
       "      <th>Value</th>\n",
       "      <th>Description</th>\n",
       "    </tr>\n",
       "  </thead>\n",
       "  <tbody>\n",
       "    <tr>\n",
       "      <th>109</th>\n",
       "      <td>PROD</td>\n",
       "      <td>101</td>\n",
       "      <td>Washing Machines Without Wringers Or Other Dryers</td>\n",
       "    </tr>\n",
       "    <tr>\n",
       "      <th>110</th>\n",
       "      <td>PROD</td>\n",
       "      <td>102</td>\n",
       "      <td>Wringer Washing Machines</td>\n",
       "    </tr>\n",
       "    <tr>\n",
       "      <th>111</th>\n",
       "      <td>PROD</td>\n",
       "      <td>103</td>\n",
       "      <td>Washing Machines With Unheated Spin Dryers</td>\n",
       "    </tr>\n",
       "    <tr>\n",
       "      <th>112</th>\n",
       "      <td>PROD</td>\n",
       "      <td>106</td>\n",
       "      <td>Electric Clothes Dryers Without Washers</td>\n",
       "    </tr>\n",
       "    <tr>\n",
       "      <th>113</th>\n",
       "      <td>PROD</td>\n",
       "      <td>107</td>\n",
       "      <td>Gas Clothes Dryers Without Washers</td>\n",
       "    </tr>\n",
       "  </tbody>\n",
       "</table>\n",
       "</div>"
      ],
      "text/plain": [
       "     Code  Value                                        Description\n",
       "109  PROD    101  Washing Machines Without Wringers Or Other Dryers\n",
       "110  PROD    102                           Wringer Washing Machines\n",
       "111  PROD    103         Washing Machines With Unheated Spin Dryers\n",
       "112  PROD    106            Electric Clothes Dryers Without Washers\n",
       "113  PROD    107                 Gas Clothes Dryers Without Washers"
      ]
     },
     "execution_count": 17,
     "metadata": {},
     "output_type": "execute_result"
    }
   ],
   "source": [
    "# Preview product codes\n",
    "codes_df[codes_df['Code'] == 'PROD'].head()"
   ]
  },
  {
   "cell_type": "code",
   "execution_count": 18,
   "id": "a6b431af-c6dc-4cc8-b408-5a72fff847ce",
   "metadata": {},
   "outputs": [
    {
     "data": {
      "text/html": [
       "<div>\n",
       "<style scoped>\n",
       "    .dataframe tbody tr th:only-of-type {\n",
       "        vertical-align: middle;\n",
       "    }\n",
       "\n",
       "    .dataframe tbody tr th {\n",
       "        vertical-align: top;\n",
       "    }\n",
       "\n",
       "    .dataframe thead th {\n",
       "        text-align: right;\n",
       "    }\n",
       "</style>\n",
       "<table border=\"1\" class=\"dataframe\">\n",
       "  <thead>\n",
       "    <tr style=\"text-align: right;\">\n",
       "      <th></th>\n",
       "      <th>Code</th>\n",
       "      <th>Value</th>\n",
       "      <th>Description</th>\n",
       "    </tr>\n",
       "  </thead>\n",
       "  <tbody>\n",
       "    <tr>\n",
       "      <th>1229</th>\n",
       "      <td>RACE</td>\n",
       "      <td>0</td>\n",
       "      <td>Not Specified</td>\n",
       "    </tr>\n",
       "    <tr>\n",
       "      <th>1230</th>\n",
       "      <td>RACE</td>\n",
       "      <td>1</td>\n",
       "      <td>White</td>\n",
       "    </tr>\n",
       "    <tr>\n",
       "      <th>1231</th>\n",
       "      <td>RACE</td>\n",
       "      <td>2</td>\n",
       "      <td>Black/African American</td>\n",
       "    </tr>\n",
       "    <tr>\n",
       "      <th>1232</th>\n",
       "      <td>RACE</td>\n",
       "      <td>3</td>\n",
       "      <td>Other</td>\n",
       "    </tr>\n",
       "    <tr>\n",
       "      <th>1233</th>\n",
       "      <td>RACE</td>\n",
       "      <td>4</td>\n",
       "      <td>Asian</td>\n",
       "    </tr>\n",
       "  </tbody>\n",
       "</table>\n",
       "</div>"
      ],
      "text/plain": [
       "      Code  Value             Description\n",
       "1229  RACE      0           Not Specified\n",
       "1230  RACE      1                   White\n",
       "1231  RACE      2  Black/African American\n",
       "1232  RACE      3                   Other\n",
       "1233  RACE      4                   Asian"
      ]
     },
     "execution_count": 18,
     "metadata": {},
     "output_type": "execute_result"
    }
   ],
   "source": [
    "# Preview race codes\n",
    "codes_df[codes_df['Code'] == 'RACE'].head()"
   ]
  },
  {
   "cell_type": "markdown",
   "id": "5a9f7a89-7c1d-4256-9be7-a18dc31d7275",
   "metadata": {},
   "source": [
    "***\n",
    "# Variables\n",
    "***"
   ]
  },
  {
   "cell_type": "code",
   "execution_count": 19,
   "id": "1e2c72e6-a0ea-460c-b77e-1cfe0e1f37ee",
   "metadata": {},
   "outputs": [
    {
     "data": {
      "text/plain": [
       "array(['CPSC_Case_Number', 'Treatment_Date', 'Age', 'Sex', 'Race',\n",
       "       'Body_Part', 'Diagnosis', 'Disposition', 'Product_1', 'Product_2',\n",
       "       'Product_3', 'Stratum', 'PSU', 'Weight'], dtype=object)"
      ]
     },
     "execution_count": 19,
     "metadata": {},
     "output_type": "execute_result"
    }
   ],
   "source": [
    "# Display variables (column headings) for the dataframe\n",
    "injuries_df.columns.values"
   ]
  },
  {
   "cell_type": "markdown",
   "id": "beed1b67-07cb-4ad6-a5ba-bcd1525b3492",
   "metadata": {},
   "source": [
    "***\n",
    "**Variable Descriptions**  \n",
    "-- CPSC_Case_Number: Consumer Product Safety Commision case number  \n",
    "-- Treatment_Date: date of ER visit  \n",
    "-- Age: age of patient  \n",
    "-- Sex: gender of patient  \n",
    "-- Race: race of patient  \n",
    "-- Body_Part: injured body part  \n",
    "-- Diagnosis: diagnosis of injury  \n",
    "-- Dipsosition: outcome of the visit  \n",
    "-- Product_1: primary product involved in the injury  \n",
    "-- Product_2: additional product involved  \n",
    "-- Product_3: additional product involved  \n",
    "-- Stratum: type of hospital reporting the visit  \n",
    "-- PSU: primary sampling unit  \n",
    "-- Weight: statistical weight used for generating national estimates  \n",
    "***"
   ]
  },
  {
   "cell_type": "markdown",
   "id": "db0fd19a-495c-4cab-ab0c-0d7c7b1fd5a5",
   "metadata": {},
   "source": [
    "***\n",
    "## Rename Variables for Clarity\n",
    "***"
   ]
  },
  {
   "cell_type": "code",
   "execution_count": 20,
   "id": "2375f95f-0628-402f-9cc4-cdd88c2ced18",
   "metadata": {},
   "outputs": [
    {
     "data": {
      "text/plain": [
       "Index(['Case', 'Date', 'Age', 'Sex', 'Race', 'Body_Part', 'Diagnosis',\n",
       "       'Disposition', 'Product_1', 'Product_2', 'Product_3', 'Stratum', 'PSU',\n",
       "       'Weight'],\n",
       "      dtype='object')"
      ]
     },
     "execution_count": 20,
     "metadata": {},
     "output_type": "execute_result"
    }
   ],
   "source": [
    "injuries_df.rename(columns={'CPSC_Case_Number':'Case', 'Treatment_Date':'Date'}, inplace=True)\n",
    "injuries_df.columns"
   ]
  },
  {
   "cell_type": "markdown",
   "id": "0549e244-a46d-4c9c-8d4a-81302a6bf1b9",
   "metadata": {},
   "source": [
    "***\n",
    "## Data Types and Format\n",
    "***"
   ]
  },
  {
   "cell_type": "code",
   "execution_count": 21,
   "id": "e6947eb0-daf6-4620-a441-11703601b7c6",
   "metadata": {},
   "outputs": [
    {
     "data": {
      "text/plain": [
       "Case                    int64\n",
       "Date           datetime64[ns]\n",
       "Age                     int64\n",
       "Sex                     int64\n",
       "Race                    int64\n",
       "Body_Part               int64\n",
       "Diagnosis               int64\n",
       "Disposition             int64\n",
       "Product_1               int64\n",
       "Product_2               int64\n",
       "Product_3               int64\n",
       "Stratum                object\n",
       "PSU                     int64\n",
       "Weight                float64\n",
       "dtype: object"
      ]
     },
     "execution_count": 21,
     "metadata": {},
     "output_type": "execute_result"
    }
   ],
   "source": [
    "# Review column data types\n",
    "injuries_df.dtypes"
   ]
  },
  {
   "cell_type": "code",
   "execution_count": 22,
   "id": "2865b24f-2641-4982-a15d-cfac02fdb3d9",
   "metadata": {},
   "outputs": [
    {
     "name": "stdout",
     "output_type": "stream",
     "text": [
      "Case          130104962 to 230303682\n",
      "Age                   0 to 223\n",
      "Sex                   0 to 3\n",
      "Race                  0 to 6\n",
      "Body_Part             0 to 94\n",
      "Diagnosis            41 to 74\n",
      "Disposition           1 to 9\n",
      "Product_1           102 to 5555\n",
      "Product_2             0 to 5555\n",
      "Product_3             0 to 5555\n",
      "PSU                   1 to 101\n"
     ]
    }
   ],
   "source": [
    "# Review the range of int64 columns to see if they could be re-types as int32\n",
    "int_cols = injuries_df.select_dtypes(include=['int']).columns\n",
    "for col in int_cols:\n",
    "    print(f'{col:<12} {injuries_df[col].min():>10} to {injuries_df[col].max()}')"
   ]
  },
  {
   "cell_type": "code",
   "execution_count": 23,
   "id": "ffb265f2-40a5-4413-bdb5-d86ca5d0304d",
   "metadata": {},
   "outputs": [],
   "source": [
    "# Convert int64 columns to int32\n",
    "injuries_df[int_cols] = injuries_df[int_cols].astype('int32')"
   ]
  },
  {
   "cell_type": "markdown",
   "id": "86825d25-ca34-4a4e-b129-47c61138462f",
   "metadata": {},
   "source": [
    "***\n",
    "# Missing Data\n",
    "***  "
   ]
  },
  {
   "cell_type": "code",
   "execution_count": 24,
   "id": "c40deee8-1295-47a8-bfa1-73243bb6c28a",
   "metadata": {},
   "outputs": [
    {
     "data": {
      "text/plain": [
       "Index([], dtype='object')"
      ]
     },
     "execution_count": 24,
     "metadata": {},
     "output_type": "execute_result"
    }
   ],
   "source": [
    "# Look for columns with null values\n",
    "injuries_df.columns[injuries_df.isnull().any()]"
   ]
  },
  {
   "cell_type": "markdown",
   "id": "32b43eae-2690-4935-a137-b3f5071e0f6d",
   "metadata": {},
   "source": [
    "***\n",
    "# Duplicate Records\n",
    "***"
   ]
  },
  {
   "cell_type": "code",
   "execution_count": 25,
   "id": "ed2c424f-3cd1-4766-b55a-c55f12bae72e",
   "metadata": {},
   "outputs": [
    {
     "data": {
      "text/html": [
       "<div>\n",
       "<style scoped>\n",
       "    .dataframe tbody tr th:only-of-type {\n",
       "        vertical-align: middle;\n",
       "    }\n",
       "\n",
       "    .dataframe tbody tr th {\n",
       "        vertical-align: top;\n",
       "    }\n",
       "\n",
       "    .dataframe thead th {\n",
       "        text-align: right;\n",
       "    }\n",
       "</style>\n",
       "<table border=\"1\" class=\"dataframe\">\n",
       "  <thead>\n",
       "    <tr style=\"text-align: right;\">\n",
       "      <th></th>\n",
       "      <th>Case</th>\n",
       "      <th>Date</th>\n",
       "      <th>Age</th>\n",
       "      <th>Sex</th>\n",
       "      <th>Race</th>\n",
       "      <th>Body_Part</th>\n",
       "      <th>Diagnosis</th>\n",
       "      <th>Disposition</th>\n",
       "      <th>Product_1</th>\n",
       "      <th>Product_2</th>\n",
       "      <th>Product_3</th>\n",
       "      <th>Stratum</th>\n",
       "      <th>PSU</th>\n",
       "      <th>Weight</th>\n",
       "    </tr>\n",
       "  </thead>\n",
       "  <tbody>\n",
       "  </tbody>\n",
       "</table>\n",
       "</div>"
      ],
      "text/plain": [
       "Empty DataFrame\n",
       "Columns: [Case, Date, Age, Sex, Race, Body_Part, Diagnosis, Disposition, Product_1, Product_2, Product_3, Stratum, PSU, Weight]\n",
       "Index: []"
      ]
     },
     "execution_count": 25,
     "metadata": {},
     "output_type": "execute_result"
    }
   ],
   "source": [
    "# Check for duplicated case numbers\n",
    "# Look for duplicate code/value combinations that have different descriptions\n",
    "injuries_df[injuries_df.duplicated(subset='Case')]"
   ]
  },
  {
   "cell_type": "markdown",
   "id": "ed2d2d0d-c304-48a1-9115-d98731cb584b",
   "metadata": {},
   "source": [
    "***\n",
    "# Data Review and Cleanup\n",
    "***"
   ]
  },
  {
   "cell_type": "markdown",
   "id": "3a0fddef-a92b-43dc-b13c-21416b9198e4",
   "metadata": {},
   "source": [
    "## Date\n",
    "***"
   ]
  },
  {
   "cell_type": "code",
   "execution_count": 26,
   "id": "59c31679-f928-4dc4-85eb-d523e3c9b0df",
   "metadata": {},
   "outputs": [
    {
     "name": "stdout",
     "output_type": "stream",
     "text": [
      "Start Date:   Jan 01, 2013\n",
      "End Date:     Dec 31, 2022\n"
     ]
    }
   ],
   "source": [
    "# Verify all dates are within our date range\n",
    "print(f'Start Date:   {injuries_df[\"Date\"].min().strftime(\"%b %d, %Y\")}')\n",
    "print(f'End Date:     {injuries_df[\"Date\"].max().strftime(\"%b %d, %Y\")}')"
   ]
  },
  {
   "cell_type": "markdown",
   "id": "122414e7-3987-4828-a0b7-a50a960579eb",
   "metadata": {},
   "source": [
    "## Age\n",
    "***"
   ]
  },
  {
   "cell_type": "code",
   "execution_count": 27,
   "id": "084fe79a-b4c4-4f18-9a78-9875d8ab4440",
   "metadata": {},
   "outputs": [
    {
     "name": "stdout",
     "output_type": "stream",
     "text": [
      "Unknown Age:  280\n"
     ]
    }
   ],
   "source": [
    "# Check for missing or unknown age, which is coded as 0\n",
    "print(f'Unknown Age:  {len(injuries_df[injuries_df[\"Age\"] == 0])}')"
   ]
  },
  {
   "cell_type": "code",
   "execution_count": 28,
   "id": "25192c36-2b95-4413-8d65-fef220da94fe",
   "metadata": {},
   "outputs": [
    {
     "name": "stdout",
     "output_type": "stream",
     "text": [
      "Min Age:   0\n",
      "Max Age:   223\n"
     ]
    }
   ],
   "source": [
    "# Review age value ranges\n",
    "print(f'Min Age:   {injuries_df[\"Age\"].min()}')\n",
    "print(f'Max Age:   {injuries_df[\"Age\"].max()}')"
   ]
  },
  {
   "cell_type": "code",
   "execution_count": 29,
   "id": "9eab0f94-6fd9-49a1-876a-4966ad51001d",
   "metadata": {},
   "outputs": [
    {
     "data": {
      "text/html": [
       "<div>\n",
       "<style scoped>\n",
       "    .dataframe tbody tr th:only-of-type {\n",
       "        vertical-align: middle;\n",
       "    }\n",
       "\n",
       "    .dataframe tbody tr th {\n",
       "        vertical-align: top;\n",
       "    }\n",
       "\n",
       "    .dataframe thead th {\n",
       "        text-align: right;\n",
       "    }\n",
       "</style>\n",
       "<table border=\"1\" class=\"dataframe\">\n",
       "  <thead>\n",
       "    <tr style=\"text-align: right;\">\n",
       "      <th></th>\n",
       "      <th>Code</th>\n",
       "      <th>Value</th>\n",
       "      <th>Description</th>\n",
       "    </tr>\n",
       "  </thead>\n",
       "  <tbody>\n",
       "    <tr>\n",
       "      <th>0</th>\n",
       "      <td>AGELTTWO</td>\n",
       "      <td>0</td>\n",
       "      <td>Unk</td>\n",
       "    </tr>\n",
       "    <tr>\n",
       "      <th>1</th>\n",
       "      <td>AGELTTWO</td>\n",
       "      <td>201</td>\n",
       "      <td>1 Month</td>\n",
       "    </tr>\n",
       "    <tr>\n",
       "      <th>2</th>\n",
       "      <td>AGELTTWO</td>\n",
       "      <td>202</td>\n",
       "      <td>2 Months</td>\n",
       "    </tr>\n",
       "    <tr>\n",
       "      <th>3</th>\n",
       "      <td>AGELTTWO</td>\n",
       "      <td>203</td>\n",
       "      <td>3 Months</td>\n",
       "    </tr>\n",
       "    <tr>\n",
       "      <th>4</th>\n",
       "      <td>AGELTTWO</td>\n",
       "      <td>204</td>\n",
       "      <td>4 Months</td>\n",
       "    </tr>\n",
       "  </tbody>\n",
       "</table>\n",
       "</div>"
      ],
      "text/plain": [
       "       Code  Value Description\n",
       "0  AGELTTWO      0         Unk\n",
       "1  AGELTTWO    201     1 Month\n",
       "2  AGELTTWO    202    2 Months\n",
       "3  AGELTTWO    203    3 Months\n",
       "4  AGELTTWO    204    4 Months"
      ]
     },
     "execution_count": 29,
     "metadata": {},
     "output_type": "execute_result"
    }
   ],
   "source": [
    "# From the documentation provided by NEISS, ages less than 2 are coded by month.\n",
    "codes_df[codes_df['Code'] == 'AGELTTWO'].head()"
   ]
  },
  {
   "cell_type": "code",
   "execution_count": 30,
   "id": "549eb7ac-0a23-4f39-ac36-b7f9fc006418",
   "metadata": {},
   "outputs": [],
   "source": [
    "# For our purposes, we only want to consider age by year.  Recode unknown age as -1, Ages 1 Month to 11 Months will be recoded as 0 \n",
    "# and ages 12 Months to 23 months will be recoded to 1\n",
    "injuries_df.loc[injuries_df['Age'] == 0, 'Age'] = -1\n",
    "injuries_df.loc[injuries_df['Age'].between(200, 211), 'Age'] = 0\n",
    "injuries_df.loc[injuries_df['Age'].between(212, 223), 'Age'] = 1"
   ]
  },
  {
   "cell_type": "code",
   "execution_count": 31,
   "id": "f019bcaf-c0a9-4a40-8cd6-3e9be7c266bb",
   "metadata": {},
   "outputs": [
    {
     "name": "stdout",
     "output_type": "stream",
     "text": [
      "Min Age:   -1\n",
      "Max Age:   113\n"
     ]
    }
   ],
   "source": [
    "# Review age value ranges\n",
    "print(f'Min Age:   {injuries_df[\"Age\"].min()}')\n",
    "print(f'Max Age:   {injuries_df[\"Age\"].max()}')"
   ]
  },
  {
   "cell_type": "markdown",
   "id": "6b8ab24a-05b6-4410-8b09-7b0095a700dd",
   "metadata": {},
   "source": [
    "***\n",
    "## Sex\n",
    "***"
   ]
  },
  {
   "cell_type": "code",
   "execution_count": 32,
   "id": "0a26b5cc-6539-4d31-8dad-5ce9585c9393",
   "metadata": {},
   "outputs": [
    {
     "data": {
      "text/html": [
       "<div>\n",
       "<style scoped>\n",
       "    .dataframe tbody tr th:only-of-type {\n",
       "        vertical-align: middle;\n",
       "    }\n",
       "\n",
       "    .dataframe tbody tr th {\n",
       "        vertical-align: top;\n",
       "    }\n",
       "\n",
       "    .dataframe thead th {\n",
       "        text-align: right;\n",
       "    }\n",
       "</style>\n",
       "<table border=\"1\" class=\"dataframe\">\n",
       "  <thead>\n",
       "    <tr style=\"text-align: right;\">\n",
       "      <th></th>\n",
       "      <th>Sex</th>\n",
       "      <th>Count</th>\n",
       "    </tr>\n",
       "  </thead>\n",
       "  <tbody>\n",
       "    <tr>\n",
       "      <th>0</th>\n",
       "      <td>Unknown</td>\n",
       "      <td>52</td>\n",
       "    </tr>\n",
       "    <tr>\n",
       "      <th>1</th>\n",
       "      <td>Male</td>\n",
       "      <td>1929778</td>\n",
       "    </tr>\n",
       "    <tr>\n",
       "      <th>2</th>\n",
       "      <td>Female</td>\n",
       "      <td>1629312</td>\n",
       "    </tr>\n",
       "    <tr>\n",
       "      <th>3</th>\n",
       "      <td>Non-Binary/Other</td>\n",
       "      <td>44</td>\n",
       "    </tr>\n",
       "  </tbody>\n",
       "</table>\n",
       "</div>"
      ],
      "text/plain": [
       "                Sex    Count\n",
       "0           Unknown       52\n",
       "1              Male  1929778\n",
       "2            Female  1629312\n",
       "3  Non-Binary/Other       44"
      ]
     },
     "execution_count": 32,
     "metadata": {},
     "output_type": "execute_result"
    }
   ],
   "source": [
    "# Review Sex data\n",
    "temp_inj_df = pd.DataFrame(injuries_df['Sex'].value_counts())\n",
    "temp_codes_df = codes_df[codes_df['Code'] == 'GENDER'].drop(columns='Code').set_index('Value')\n",
    "temp_sex_df = pd.concat([temp_codes_df, temp_inj_df], axis=1)\n",
    "temp_sex_df.columns = ['Sex', 'Count']\n",
    "temp_sex_df['Sex'] = temp_sex_df['Sex'].str.title()\n",
    "temp_sex_df"
   ]
  },
  {
   "cell_type": "markdown",
   "id": "4e4ca714-96ed-433c-a27f-315af7e0ef4d",
   "metadata": {},
   "source": [
    "***\n",
    "## Race\n",
    "***"
   ]
  },
  {
   "cell_type": "code",
   "execution_count": 33,
   "id": "35de11a3-d59e-4ba4-bbd8-d84e1e558c04",
   "metadata": {},
   "outputs": [
    {
     "data": {
      "text/html": [
       "<div>\n",
       "<style scoped>\n",
       "    .dataframe tbody tr th:only-of-type {\n",
       "        vertical-align: middle;\n",
       "    }\n",
       "\n",
       "    .dataframe tbody tr th {\n",
       "        vertical-align: top;\n",
       "    }\n",
       "\n",
       "    .dataframe thead th {\n",
       "        text-align: right;\n",
       "    }\n",
       "</style>\n",
       "<table border=\"1\" class=\"dataframe\">\n",
       "  <thead>\n",
       "    <tr style=\"text-align: right;\">\n",
       "      <th></th>\n",
       "      <th>Race</th>\n",
       "      <th>Count</th>\n",
       "    </tr>\n",
       "  </thead>\n",
       "  <tbody>\n",
       "    <tr>\n",
       "      <th>0</th>\n",
       "      <td>Not Specified</td>\n",
       "      <td>1214319</td>\n",
       "    </tr>\n",
       "    <tr>\n",
       "      <th>1</th>\n",
       "      <td>White</td>\n",
       "      <td>1571277</td>\n",
       "    </tr>\n",
       "    <tr>\n",
       "      <th>2</th>\n",
       "      <td>Black/African American</td>\n",
       "      <td>538303</td>\n",
       "    </tr>\n",
       "    <tr>\n",
       "      <th>3</th>\n",
       "      <td>Other</td>\n",
       "      <td>171173</td>\n",
       "    </tr>\n",
       "    <tr>\n",
       "      <th>4</th>\n",
       "      <td>Asian</td>\n",
       "      <td>49321</td>\n",
       "    </tr>\n",
       "  </tbody>\n",
       "</table>\n",
       "</div>"
      ],
      "text/plain": [
       "                     Race    Count\n",
       "0           Not Specified  1214319\n",
       "1                   White  1571277\n",
       "2  Black/African American   538303\n",
       "3                   Other   171173\n",
       "4                   Asian    49321"
      ]
     },
     "execution_count": 33,
     "metadata": {},
     "output_type": "execute_result"
    }
   ],
   "source": [
    "# Review Race data\n",
    "temp_inj_df = pd.DataFrame(injuries_df['Race'].value_counts())\n",
    "temp_codes_df = codes_df[codes_df['Code'] == 'RACE'].drop(columns='Code').set_index('Value')\n",
    "temp_race_df = pd.concat([temp_codes_df, temp_inj_df], axis=1)\n",
    "temp_race_df.columns = ['Race', 'Count']\n",
    "temp_race_df['Race'] = temp_race_df['Race'].str.title()\n",
    "temp_race_df.head()"
   ]
  },
  {
   "cell_type": "markdown",
   "id": "9a992bc3-fe1f-45d6-89ed-3be66c31af16",
   "metadata": {},
   "source": [
    "***\n",
    "## Body Part\n",
    "***"
   ]
  },
  {
   "cell_type": "code",
   "execution_count": 40,
   "id": "0e5cf0cb-434a-4fd7-8e94-d06e264e38f7",
   "metadata": {},
   "outputs": [
    {
     "data": {
      "text/html": [
       "<div>\n",
       "<style scoped>\n",
       "    .dataframe tbody tr th:only-of-type {\n",
       "        vertical-align: middle;\n",
       "    }\n",
       "\n",
       "    .dataframe tbody tr th {\n",
       "        vertical-align: top;\n",
       "    }\n",
       "\n",
       "    .dataframe thead th {\n",
       "        text-align: right;\n",
       "    }\n",
       "</style>\n",
       "<table border=\"1\" class=\"dataframe\">\n",
       "  <thead>\n",
       "    <tr style=\"text-align: right;\">\n",
       "      <th></th>\n",
       "      <th>Body Part</th>\n",
       "      <th>Count</th>\n",
       "    </tr>\n",
       "  </thead>\n",
       "  <tbody>\n",
       "    <tr>\n",
       "      <th>0</th>\n",
       "      <td>Internal</td>\n",
       "      <td>38466</td>\n",
       "    </tr>\n",
       "    <tr>\n",
       "      <th>30</th>\n",
       "      <td>Shoulder</td>\n",
       "      <td>139173</td>\n",
       "    </tr>\n",
       "    <tr>\n",
       "      <th>31</th>\n",
       "      <td>Upper Trunk</td>\n",
       "      <td>198823</td>\n",
       "    </tr>\n",
       "    <tr>\n",
       "      <th>32</th>\n",
       "      <td>Elbow</td>\n",
       "      <td>84555</td>\n",
       "    </tr>\n",
       "    <tr>\n",
       "      <th>33</th>\n",
       "      <td>Lower Arm</td>\n",
       "      <td>128424</td>\n",
       "    </tr>\n",
       "  </tbody>\n",
       "</table>\n",
       "</div>"
      ],
      "text/plain": [
       "      Body Part   Count\n",
       "0      Internal   38466\n",
       "30     Shoulder  139173\n",
       "31  Upper Trunk  198823\n",
       "32        Elbow   84555\n",
       "33    Lower Arm  128424"
      ]
     },
     "execution_count": 40,
     "metadata": {},
     "output_type": "execute_result"
    }
   ],
   "source": [
    "# Review Body Part data\n",
    "temp_inj_df = pd.DataFrame(injuries_df['Body_Part'].value_counts())\n",
    "temp_codes_df = codes_df[codes_df['Code'] == 'BDYPT'].drop(columns='Code').set_index('Value')\n",
    "temp_bdypt_df = pd.concat([temp_codes_df, temp_inj_df], axis=1).dropna()\n",
    "temp_bdypt_df.columns = ['Body Part', 'Count']\n",
    "temp_bdypt_df['Count'] = temp_bdypt_df['Count'].astype('int32')\n",
    "temp_bdypt_df.head()"
   ]
  },
  {
   "cell_type": "markdown",
   "id": "9db75789-c52f-4b01-8536-5c467f7ef35c",
   "metadata": {},
   "source": [
    "***\n",
    "## Diagnosis\n",
    "***"
   ]
  },
  {
   "cell_type": "code",
   "execution_count": 41,
   "id": "80f98090-3d6e-4995-a706-fbc856bd5657",
   "metadata": {},
   "outputs": [
    {
     "data": {
      "text/html": [
       "<div>\n",
       "<style scoped>\n",
       "    .dataframe tbody tr th:only-of-type {\n",
       "        vertical-align: middle;\n",
       "    }\n",
       "\n",
       "    .dataframe tbody tr th {\n",
       "        vertical-align: top;\n",
       "    }\n",
       "\n",
       "    .dataframe thead th {\n",
       "        text-align: right;\n",
       "    }\n",
       "</style>\n",
       "<table border=\"1\" class=\"dataframe\">\n",
       "  <thead>\n",
       "    <tr style=\"text-align: right;\">\n",
       "      <th></th>\n",
       "      <th>Diagnosis</th>\n",
       "      <th>Count</th>\n",
       "    </tr>\n",
       "  </thead>\n",
       "  <tbody>\n",
       "    <tr>\n",
       "      <th>41</th>\n",
       "      <td>Ingestion</td>\n",
       "      <td>33316</td>\n",
       "    </tr>\n",
       "    <tr>\n",
       "      <th>42</th>\n",
       "      <td>Aspiration</td>\n",
       "      <td>5147</td>\n",
       "    </tr>\n",
       "    <tr>\n",
       "      <th>46</th>\n",
       "      <td>Burn, Electrical</td>\n",
       "      <td>1095</td>\n",
       "    </tr>\n",
       "    <tr>\n",
       "      <th>47</th>\n",
       "      <td>Burn, Not Spec.</td>\n",
       "      <td>667</td>\n",
       "    </tr>\n",
       "    <tr>\n",
       "      <th>48</th>\n",
       "      <td>Burn, Scald</td>\n",
       "      <td>24183</td>\n",
       "    </tr>\n",
       "  </tbody>\n",
       "</table>\n",
       "</div>"
      ],
      "text/plain": [
       "           Diagnosis  Count\n",
       "41         Ingestion  33316\n",
       "42        Aspiration   5147\n",
       "46  Burn, Electrical   1095\n",
       "47   Burn, Not Spec.    667\n",
       "48       Burn, Scald  24183"
      ]
     },
     "execution_count": 41,
     "metadata": {},
     "output_type": "execute_result"
    }
   ],
   "source": [
    "# Review Diagnosis data\n",
    "temp_inj_df = pd.DataFrame(injuries_df['Diagnosis'].value_counts())\n",
    "temp_codes_df = codes_df[codes_df['Code'] == 'DIAG'].drop(columns='Code').set_index('Value')\n",
    "temp_diag_df = pd.concat([temp_codes_df, temp_inj_df], axis=1).dropna()\n",
    "temp_diag_df.columns = ['Diagnosis', 'Count']\n",
    "temp_diag_df['Count'] = temp_diag_df['Count'].astype('int32')\n",
    "temp_diag_df.dropna().head()"
   ]
  },
  {
   "cell_type": "markdown",
   "id": "4a731a0d-5c0a-4627-afa1-4019c3b59a71",
   "metadata": {},
   "source": [
    "***\n",
    "## Disposition\n",
    "***"
   ]
  },
  {
   "cell_type": "code",
   "execution_count": 42,
   "id": "045337c7-ca28-45c2-9f17-6f2bf72a6f93",
   "metadata": {},
   "outputs": [
    {
     "data": {
      "text/html": [
       "<div>\n",
       "<style scoped>\n",
       "    .dataframe tbody tr th:only-of-type {\n",
       "        vertical-align: middle;\n",
       "    }\n",
       "\n",
       "    .dataframe tbody tr th {\n",
       "        vertical-align: top;\n",
       "    }\n",
       "\n",
       "    .dataframe thead th {\n",
       "        text-align: right;\n",
       "    }\n",
       "</style>\n",
       "<table border=\"1\" class=\"dataframe\">\n",
       "  <thead>\n",
       "    <tr style=\"text-align: right;\">\n",
       "      <th></th>\n",
       "      <th>Disposition</th>\n",
       "      <th>Count</th>\n",
       "    </tr>\n",
       "  </thead>\n",
       "  <tbody>\n",
       "    <tr>\n",
       "      <th>1</th>\n",
       "      <td>Treated/Examined And Released</td>\n",
       "      <td>3139530</td>\n",
       "    </tr>\n",
       "    <tr>\n",
       "      <th>2</th>\n",
       "      <td>Treated And Transferred</td>\n",
       "      <td>30558</td>\n",
       "    </tr>\n",
       "    <tr>\n",
       "      <th>4</th>\n",
       "      <td>Treated And Admitted/Hospitalized</td>\n",
       "      <td>307688</td>\n",
       "    </tr>\n",
       "    <tr>\n",
       "      <th>5</th>\n",
       "      <td>Held For Observation</td>\n",
       "      <td>26780</td>\n",
       "    </tr>\n",
       "    <tr>\n",
       "      <th>6</th>\n",
       "      <td>Left Without Being Seen</td>\n",
       "      <td>52222</td>\n",
       "    </tr>\n",
       "  </tbody>\n",
       "</table>\n",
       "</div>"
      ],
      "text/plain": [
       "                         Disposition    Count\n",
       "1      Treated/Examined And Released  3139530\n",
       "2            Treated And Transferred    30558\n",
       "4  Treated And Admitted/Hospitalized   307688\n",
       "5               Held For Observation    26780\n",
       "6            Left Without Being Seen    52222"
      ]
     },
     "execution_count": 42,
     "metadata": {},
     "output_type": "execute_result"
    }
   ],
   "source": [
    "# Review dispostion data\n",
    "temp_inj_df = pd.DataFrame(injuries_df['Disposition'].value_counts())\n",
    "temp_codes_df = codes_df[codes_df['Code'] == 'DISP'].drop(columns='Code').set_index('Value')\n",
    "temp_disp_df = pd.concat([temp_codes_df, temp_inj_df], axis=1).dropna()\n",
    "temp_disp_df.columns = ['Disposition', 'Count']\n",
    "temp_disp_df['Count'] = temp_disp_df['Count'].astype('int32')\n",
    "temp_disp_df.dropna().head()"
   ]
  },
  {
   "cell_type": "markdown",
   "id": "af2fa311-552d-4b32-aad9-7f1134d1c6c9",
   "metadata": {},
   "source": [
    "***\n",
    "## Products\n",
    "***"
   ]
  },
  {
   "cell_type": "code",
   "execution_count": 76,
   "id": "29496996-af0e-46f7-aa53-931422e7aacb",
   "metadata": {},
   "outputs": [
    {
     "data": {
      "text/html": [
       "<div>\n",
       "<style scoped>\n",
       "    .dataframe tbody tr th:only-of-type {\n",
       "        vertical-align: middle;\n",
       "    }\n",
       "\n",
       "    .dataframe tbody tr th {\n",
       "        vertical-align: top;\n",
       "    }\n",
       "\n",
       "    .dataframe thead th {\n",
       "        text-align: right;\n",
       "    }\n",
       "</style>\n",
       "<table border=\"1\" class=\"dataframe\">\n",
       "  <thead>\n",
       "    <tr style=\"text-align: right;\">\n",
       "      <th></th>\n",
       "      <th>Product_1</th>\n",
       "      <th>Count</th>\n",
       "    </tr>\n",
       "  </thead>\n",
       "  <tbody>\n",
       "    <tr>\n",
       "      <th>102</th>\n",
       "      <td>Wringer Washing Machines</td>\n",
       "      <td>21</td>\n",
       "    </tr>\n",
       "    <tr>\n",
       "      <th>106</th>\n",
       "      <td>Electric Clothes Dryers Without Washers</td>\n",
       "      <td>235</td>\n",
       "    </tr>\n",
       "    <tr>\n",
       "      <th>107</th>\n",
       "      <td>Gas Clothes Dryers Without Washers</td>\n",
       "      <td>24</td>\n",
       "    </tr>\n",
       "    <tr>\n",
       "      <th>110</th>\n",
       "      <td>Electric Heating Pads</td>\n",
       "      <td>613</td>\n",
       "    </tr>\n",
       "    <tr>\n",
       "      <th>112</th>\n",
       "      <td>Sewing Machines Or Accessories</td>\n",
       "      <td>495</td>\n",
       "    </tr>\n",
       "  </tbody>\n",
       "</table>\n",
       "</div>"
      ],
      "text/plain": [
       "                                   Product_1  Count\n",
       "102                 Wringer Washing Machines     21\n",
       "106  Electric Clothes Dryers Without Washers    235\n",
       "107       Gas Clothes Dryers Without Washers     24\n",
       "110                    Electric Heating Pads    613\n",
       "112           Sewing Machines Or Accessories    495"
      ]
     },
     "execution_count": 76,
     "metadata": {},
     "output_type": "execute_result"
    }
   ],
   "source": [
    "# Review product data\n",
    "temp_inj_df = pd.DataFrame(injuries_df[['Product_1', 'Product_2', 'Product_3']].apply(pd.Series.value_counts).sum(axis=1))\n",
    "temp_codes_df = codes_df[codes_df['Code'] == 'PROD'].drop(columns='Code').set_index('Value')\n",
    "temp_prod_df = pd.concat([temp_codes_df, temp_inj_df], axis=1).dropna()\n",
    "temp_prod_df.columns = ['Product_1', 'Count']\n",
    "temp_prod_df['Count'] = temp_prod_df['Count'].astype('int32')\n",
    "temp_prod_df.dropna().head()"
   ]
  },
  {
   "cell_type": "markdown",
   "id": "0eec8cf4-ab7f-4708-b4ba-9318513950c3",
   "metadata": {},
   "source": [
    "***\n",
    "## Stratum, PSU, Weight\n",
    "***"
   ]
  },
  {
   "cell_type": "code",
   "execution_count": 79,
   "id": "b551c2ff-2e82-4c60-8c5d-2522c615b4e9",
   "metadata": {},
   "outputs": [
    {
     "data": {
      "text/html": [
       "<div>\n",
       "<style scoped>\n",
       "    .dataframe tbody tr th:only-of-type {\n",
       "        vertical-align: middle;\n",
       "    }\n",
       "\n",
       "    .dataframe tbody tr th {\n",
       "        vertical-align: top;\n",
       "    }\n",
       "\n",
       "    .dataframe thead th {\n",
       "        text-align: right;\n",
       "    }\n",
       "</style>\n",
       "<table border=\"1\" class=\"dataframe\">\n",
       "  <thead>\n",
       "    <tr style=\"text-align: right;\">\n",
       "      <th></th>\n",
       "      <th>count</th>\n",
       "    </tr>\n",
       "    <tr>\n",
       "      <th>Stratum</th>\n",
       "      <th></th>\n",
       "    </tr>\n",
       "  </thead>\n",
       "  <tbody>\n",
       "    <tr>\n",
       "      <th>V</th>\n",
       "      <td>1386103</td>\n",
       "    </tr>\n",
       "    <tr>\n",
       "      <th>C</th>\n",
       "      <td>704759</td>\n",
       "    </tr>\n",
       "    <tr>\n",
       "      <th>L</th>\n",
       "      <td>542809</td>\n",
       "    </tr>\n",
       "    <tr>\n",
       "      <th>S</th>\n",
       "      <td>469953</td>\n",
       "    </tr>\n",
       "    <tr>\n",
       "      <th>M</th>\n",
       "      <td>455562</td>\n",
       "    </tr>\n",
       "  </tbody>\n",
       "</table>\n",
       "</div>"
      ],
      "text/plain": [
       "           count\n",
       "Stratum         \n",
       "V        1386103\n",
       "C         704759\n",
       "L         542809\n",
       "S         469953\n",
       "M         455562"
      ]
     },
     "execution_count": 79,
     "metadata": {},
     "output_type": "execute_result"
    }
   ],
   "source": [
    "# Review stratum data\n",
    "pd.DataFrame(injuries_df['Stratum'].value_counts())"
   ]
  },
  {
   "cell_type": "code",
   "execution_count": 83,
   "id": "942ac312-c219-445e-8edf-91ea5f760d8b",
   "metadata": {},
   "outputs": [
    {
     "data": {
      "text/html": [
       "<div>\n",
       "<style scoped>\n",
       "    .dataframe tbody tr th:only-of-type {\n",
       "        vertical-align: middle;\n",
       "    }\n",
       "\n",
       "    .dataframe tbody tr th {\n",
       "        vertical-align: top;\n",
       "    }\n",
       "\n",
       "    .dataframe thead th {\n",
       "        text-align: right;\n",
       "    }\n",
       "</style>\n",
       "<table border=\"1\" class=\"dataframe\">\n",
       "  <thead>\n",
       "    <tr style=\"text-align: right;\">\n",
       "      <th></th>\n",
       "      <th>count</th>\n",
       "    </tr>\n",
       "    <tr>\n",
       "      <th>PSU</th>\n",
       "      <th></th>\n",
       "    </tr>\n",
       "  </thead>\n",
       "  <tbody>\n",
       "    <tr>\n",
       "      <th>21</th>\n",
       "      <td>227267</td>\n",
       "    </tr>\n",
       "    <tr>\n",
       "      <th>95</th>\n",
       "      <td>159709</td>\n",
       "    </tr>\n",
       "    <tr>\n",
       "      <th>20</th>\n",
       "      <td>143418</td>\n",
       "    </tr>\n",
       "    <tr>\n",
       "      <th>8</th>\n",
       "      <td>136438</td>\n",
       "    </tr>\n",
       "    <tr>\n",
       "      <th>31</th>\n",
       "      <td>108385</td>\n",
       "    </tr>\n",
       "  </tbody>\n",
       "</table>\n",
       "</div>"
      ],
      "text/plain": [
       "      count\n",
       "PSU        \n",
       "21   227267\n",
       "95   159709\n",
       "20   143418\n",
       "8    136438\n",
       "31   108385"
      ]
     },
     "execution_count": 83,
     "metadata": {},
     "output_type": "execute_result"
    }
   ],
   "source": [
    "# Review psu data\n",
    "pd.DataFrame(injuries_df['PSU'].value_counts()).head()"
   ]
  },
  {
   "cell_type": "code",
   "execution_count": 84,
   "id": "535c495b-5b38-4d62-89e8-bda77cf00561",
   "metadata": {},
   "outputs": [
    {
     "data": {
      "text/html": [
       "<div>\n",
       "<style scoped>\n",
       "    .dataframe tbody tr th:only-of-type {\n",
       "        vertical-align: middle;\n",
       "    }\n",
       "\n",
       "    .dataframe tbody tr th {\n",
       "        vertical-align: top;\n",
       "    }\n",
       "\n",
       "    .dataframe thead th {\n",
       "        text-align: right;\n",
       "    }\n",
       "</style>\n",
       "<table border=\"1\" class=\"dataframe\">\n",
       "  <thead>\n",
       "    <tr style=\"text-align: right;\">\n",
       "      <th></th>\n",
       "      <th>count</th>\n",
       "    </tr>\n",
       "    <tr>\n",
       "      <th>Weight</th>\n",
       "      <th></th>\n",
       "    </tr>\n",
       "  </thead>\n",
       "  <tbody>\n",
       "    <tr>\n",
       "      <th>14.8537</th>\n",
       "      <td>150878</td>\n",
       "    </tr>\n",
       "    <tr>\n",
       "      <th>14.6504</th>\n",
       "      <td>82652</td>\n",
       "    </tr>\n",
       "    <tr>\n",
       "      <th>14.3089</th>\n",
       "      <td>80895</td>\n",
       "    </tr>\n",
       "    <tr>\n",
       "      <th>15.6716</th>\n",
       "      <td>78287</td>\n",
       "    </tr>\n",
       "    <tr>\n",
       "      <th>4.7570</th>\n",
       "      <td>78262</td>\n",
       "    </tr>\n",
       "  </tbody>\n",
       "</table>\n",
       "</div>"
      ],
      "text/plain": [
       "          count\n",
       "Weight         \n",
       "14.8537  150878\n",
       "14.6504   82652\n",
       "14.3089   80895\n",
       "15.6716   78287\n",
       "4.7570    78262"
      ]
     },
     "execution_count": 84,
     "metadata": {},
     "output_type": "execute_result"
    }
   ],
   "source": [
    "# Review weight data\n",
    "pd.DataFrame(injuries_df['Weight'].value_counts()).head()"
   ]
  },
  {
   "cell_type": "code",
   "execution_count": null,
   "id": "9fed233e-740c-4081-87ee-293df5e6eef2",
   "metadata": {},
   "outputs": [],
   "source": []
  }
 ],
 "metadata": {
  "kernelspec": {
   "display_name": "Python 3 (ipykernel)",
   "language": "python",
   "name": "python3"
  },
  "language_info": {
   "codemirror_mode": {
    "name": "ipython",
    "version": 3
   },
   "file_extension": ".py",
   "mimetype": "text/x-python",
   "name": "python",
   "nbconvert_exporter": "python",
   "pygments_lexer": "ipython3",
   "version": "3.12.2"
  }
 },
 "nbformat": 4,
 "nbformat_minor": 5
}
