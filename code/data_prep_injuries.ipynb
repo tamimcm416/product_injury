{
 "cells": [
  {
   "cell_type": "markdown",
   "id": "a6401229-d7a4-4239-bb27-9902edb4260a",
   "metadata": {
    "jp-MarkdownHeadingCollapsed": true,
    "tags": []
   },
   "source": [
    "# Product Injury\n",
    "<font size=4 color='blue'>Data Prep and Load - Injuries</font>   \n",
    "***  \n",
    "\n",
    "**Project Summary:**   \n",
    "The Consumer Product Safety Commission operations a surveillance system (NEISS) to track injury data related to consumer products. The data is collected from a representative sample of emergency rooms in the United Status. \n",
    "This project will examine the data from 2013 through 2022 to explore trends in product injuries resulting in emergency room visits.\n",
    "\n",
    "**Notebook Scope:**  \n",
    "This notebook includes code to validate and merge annual injury data. This data has been downloaded from the [NEISS website](https://www.cpsc.gov/cgibin/NEISSQuery/home.aspx).\n",
    "\n",
    "**Output:**  \n",
    "<font color='red'>**Revisit...**</font>   \n",
    "The resulting data will be loaded to a SQL Azure database for EDA and Trend Analysis.\n",
    "***  "
   ]
  },
  {
   "cell_type": "markdown",
   "id": "6fbdbe78-45ef-45e9-aa24-7a404b633884",
   "metadata": {
    "tags": []
   },
   "source": [
    "***\n",
    "# Notebook Setup\n",
    "***"
   ]
  },
  {
   "cell_type": "code",
   "execution_count": 3,
   "id": "e3e04588-e5b2-4182-a7fb-b6f2d978a0d6",
   "metadata": {},
   "outputs": [],
   "source": [
    "# Import libraries\n",
    "import pandas as pd\n",
    "import calendar as cal\n",
    "import numpy as np\n",
    "from datetime import datetime\n",
    "import matplotlib.pyplot as plt"
   ]
  },
  {
   "cell_type": "code",
   "execution_count": 4,
   "id": "bcdd0748-9b08-4581-8e2b-12060a53807e",
   "metadata": {},
   "outputs": [
    {
     "data": {
      "text/html": [
       "<!-- Prevent text wrappping in dataframe displays for a cleaner print -->\n",
       "<style> .dataframe td {white-space: nowrap;}</style>\n"
      ],
      "text/plain": [
       "<IPython.core.display.HTML object>"
      ]
     },
     "metadata": {},
     "output_type": "display_data"
    }
   ],
   "source": [
    "%%html\n",
    "<!-- Prevent text wrappping in dataframe displays for a cleaner print -->\n",
    "<style> .dataframe td {white-space: nowrap;}</style>"
   ]
  },
  {
   "cell_type": "code",
   "execution_count": 5,
   "id": "af26530f-862a-48be-931d-0d3af24cacca",
   "metadata": {},
   "outputs": [],
   "source": [
    "# Set defaults plotting defaults\n",
    "plt.style.use('seaborn-v0_8-whitegrid')\n",
    "plt.rcParams['figure.figsize'] = [11, 3]\n",
    "plt.rcParams['legend.loc'] = (1.01, 0)\n",
    "plt.rcParams['axes.titlesize'] = 16\n",
    "plt.rcParams['axes.labelsize'] = 14\n",
    "plt.rcParams['grid.linestyle'] = ':'"
   ]
  },
  {
   "cell_type": "markdown",
   "id": "2443d95a-7e1c-4b7f-927c-6cf71cdf300d",
   "metadata": {
    "tags": []
   },
   "source": [
    "***  \n",
    "# Load Injury Data\n",
    "***"
   ]
  },
  {
   "cell_type": "code",
   "execution_count": 42,
   "id": "b305efcf-8b09-48ff-a7b9-2b8e548eace4",
   "metadata": {},
   "outputs": [
    {
     "name": "stdout",
     "output_type": "stream",
     "text": [
      "Load start time:  09:24:33\n",
      "Load finish time: 09:35:25\n"
     ]
    }
   ],
   "source": [
    "# Read in the NEIS injury data from each annual Excel file\n",
    "# NOTE: This code block takes 10-15 minutes to execute\n",
    "path = '../_data/'\n",
    "yrs = [x for x in range(2013, 2023)]\n",
    "rows_read = 0\n",
    "injuries_df = pd.DataFrame()\n",
    "\n",
    "print(f'Load start time:  {datetime.now().strftime('%H:%M:%S')}')\n",
    "for yr in yrs:\n",
    "    file_name = 'neiss' + str(yr) + '.xlsx'\n",
    "    sheet_name = 'NEISS' + '_' + str(yr)\n",
    "    raw_df = pd.read_excel(path + file_name, sheet_name = sheet_name, usecols='A:E,H:I,N,Q:S,W:Y')\n",
    "    rows_read += len(raw_df)\n",
    "    injuries_df = pd.concat([injuries_df, raw_df])\n",
    "print(f'Load finish time: {datetime.now().strftime('%H:%M:%S')}')"
   ]
  },
  {
   "cell_type": "markdown",
   "id": "5faddde9-9657-4336-9856-cf8cc6fa795d",
   "metadata": {},
   "source": [
    "***\n",
    "# Preview Data\n",
    "***"
   ]
  },
  {
   "cell_type": "code",
   "execution_count": 7,
   "id": "3c787a53-8f68-46c2-8a05-58e3a8b75d88",
   "metadata": {},
   "outputs": [
    {
     "data": {
      "text/html": [
       "<div>\n",
       "<style scoped>\n",
       "    .dataframe tbody tr th:only-of-type {\n",
       "        vertical-align: middle;\n",
       "    }\n",
       "\n",
       "    .dataframe tbody tr th {\n",
       "        vertical-align: top;\n",
       "    }\n",
       "\n",
       "    .dataframe thead th {\n",
       "        text-align: right;\n",
       "    }\n",
       "</style>\n",
       "<table border=\"1\" class=\"dataframe\">\n",
       "  <thead>\n",
       "    <tr style=\"text-align: right;\">\n",
       "      <th></th>\n",
       "      <th>CPSC_Case_Number</th>\n",
       "      <th>Treatment_Date</th>\n",
       "      <th>Age</th>\n",
       "      <th>Sex</th>\n",
       "      <th>Race</th>\n",
       "      <th>Other_Race</th>\n",
       "      <th>Body_Part</th>\n",
       "      <th>Diagnosis</th>\n",
       "      <th>Other_Diagnosis</th>\n",
       "      <th>Body_Part_2</th>\n",
       "      <th>Diagnosis_2</th>\n",
       "      <th>Other_Diagnosis_2</th>\n",
       "      <th>Disposition</th>\n",
       "      <th>Product_1</th>\n",
       "      <th>Product_2</th>\n",
       "      <th>Product_3</th>\n",
       "      <th>Stratum</th>\n",
       "      <th>PSU</th>\n",
       "      <th>Weight</th>\n",
       "    </tr>\n",
       "  </thead>\n",
       "  <tbody>\n",
       "    <tr>\n",
       "      <th>0</th>\n",
       "      <td>130104962</td>\n",
       "      <td>2013-01-01</td>\n",
       "      <td>57</td>\n",
       "      <td>1</td>\n",
       "      <td>1</td>\n",
       "      <td>NaN</td>\n",
       "      <td>76</td>\n",
       "      <td>53</td>\n",
       "      <td>NaN</td>\n",
       "      <td>NaN</td>\n",
       "      <td>NaN</td>\n",
       "      <td>NaN</td>\n",
       "      <td>1</td>\n",
       "      <td>3299</td>\n",
       "      <td>0</td>\n",
       "      <td>0</td>\n",
       "      <td>M</td>\n",
       "      <td>100</td>\n",
       "      <td>88.4147</td>\n",
       "    </tr>\n",
       "    <tr>\n",
       "      <th>1</th>\n",
       "      <td>130104963</td>\n",
       "      <td>2013-01-01</td>\n",
       "      <td>207</td>\n",
       "      <td>2</td>\n",
       "      <td>4</td>\n",
       "      <td>NaN</td>\n",
       "      <td>75</td>\n",
       "      <td>62</td>\n",
       "      <td>NaN</td>\n",
       "      <td>NaN</td>\n",
       "      <td>NaN</td>\n",
       "      <td>NaN</td>\n",
       "      <td>1</td>\n",
       "      <td>1807</td>\n",
       "      <td>0</td>\n",
       "      <td>0</td>\n",
       "      <td>M</td>\n",
       "      <td>100</td>\n",
       "      <td>88.4147</td>\n",
       "    </tr>\n",
       "    <tr>\n",
       "      <th>2</th>\n",
       "      <td>130104966</td>\n",
       "      <td>2013-01-01</td>\n",
       "      <td>59</td>\n",
       "      <td>2</td>\n",
       "      <td>1</td>\n",
       "      <td>NaN</td>\n",
       "      <td>79</td>\n",
       "      <td>53</td>\n",
       "      <td>NaN</td>\n",
       "      <td>NaN</td>\n",
       "      <td>NaN</td>\n",
       "      <td>NaN</td>\n",
       "      <td>1</td>\n",
       "      <td>1842</td>\n",
       "      <td>0</td>\n",
       "      <td>0</td>\n",
       "      <td>M</td>\n",
       "      <td>100</td>\n",
       "      <td>88.4147</td>\n",
       "    </tr>\n",
       "    <tr>\n",
       "      <th>3</th>\n",
       "      <td>130104968</td>\n",
       "      <td>2013-01-01</td>\n",
       "      <td>17</td>\n",
       "      <td>2</td>\n",
       "      <td>1</td>\n",
       "      <td>NaN</td>\n",
       "      <td>37</td>\n",
       "      <td>64</td>\n",
       "      <td>NaN</td>\n",
       "      <td>NaN</td>\n",
       "      <td>NaN</td>\n",
       "      <td>NaN</td>\n",
       "      <td>1</td>\n",
       "      <td>4076</td>\n",
       "      <td>0</td>\n",
       "      <td>0</td>\n",
       "      <td>M</td>\n",
       "      <td>100</td>\n",
       "      <td>88.4147</td>\n",
       "    </tr>\n",
       "    <tr>\n",
       "      <th>4</th>\n",
       "      <td>130104970</td>\n",
       "      <td>2013-01-01</td>\n",
       "      <td>38</td>\n",
       "      <td>1</td>\n",
       "      <td>1</td>\n",
       "      <td>NaN</td>\n",
       "      <td>92</td>\n",
       "      <td>59</td>\n",
       "      <td>NaN</td>\n",
       "      <td>NaN</td>\n",
       "      <td>NaN</td>\n",
       "      <td>NaN</td>\n",
       "      <td>1</td>\n",
       "      <td>474</td>\n",
       "      <td>0</td>\n",
       "      <td>0</td>\n",
       "      <td>M</td>\n",
       "      <td>100</td>\n",
       "      <td>88.4147</td>\n",
       "    </tr>\n",
       "  </tbody>\n",
       "</table>\n",
       "</div>"
      ],
      "text/plain": [
       "   CPSC_Case_Number Treatment_Date  Age  Sex  Race Other_Race  Body_Part  \\\n",
       "0         130104962     2013-01-01   57    1     1        NaN         76   \n",
       "1         130104963     2013-01-01  207    2     4        NaN         75   \n",
       "2         130104966     2013-01-01   59    2     1        NaN         79   \n",
       "3         130104968     2013-01-01   17    2     1        NaN         37   \n",
       "4         130104970     2013-01-01   38    1     1        NaN         92   \n",
       "\n",
       "   Diagnosis Other_Diagnosis  Body_Part_2  Diagnosis_2 Other_Diagnosis_2  \\\n",
       "0         53             NaN          NaN          NaN               NaN   \n",
       "1         62             NaN          NaN          NaN               NaN   \n",
       "2         53             NaN          NaN          NaN               NaN   \n",
       "3         64             NaN          NaN          NaN               NaN   \n",
       "4         59             NaN          NaN          NaN               NaN   \n",
       "\n",
       "   Disposition  Product_1  Product_2  Product_3 Stratum  PSU   Weight  \n",
       "0            1       3299          0          0       M  100  88.4147  \n",
       "1            1       1807          0          0       M  100  88.4147  \n",
       "2            1       1842          0          0       M  100  88.4147  \n",
       "3            1       4076          0          0       M  100  88.4147  \n",
       "4            1        474          0          0       M  100  88.4147  "
      ]
     },
     "execution_count": 7,
     "metadata": {},
     "output_type": "execute_result"
    }
   ],
   "source": [
    "injuries_df.head()"
   ]
  },
  {
   "cell_type": "code",
   "execution_count": 8,
   "id": "c413583e-167a-4980-9161-ad1eb91d9b6b",
   "metadata": {},
   "outputs": [
    {
     "name": "stdout",
     "output_type": "stream",
     "text": [
      "Total rows read:           3559186\n",
      "Rows in combined dataset:  3559186\n"
     ]
    }
   ],
   "source": [
    "# Verify that the length of the combined dataset is the same as the total number of rows read in from all Excel files\n",
    "print(f'Total rows read:           {rows_read}')\n",
    "print(f'Rows in combined dataset:  {len(injuries_df)}')"
   ]
  },
  {
   "cell_type": "code",
   "execution_count": 9,
   "id": "becae1e7-a395-4fa0-a96a-42703fc5e9aa",
   "metadata": {},
   "outputs": [],
   "source": [
    "# Drop rows and columns that consist only of NaN data\n",
    "injuries_df.dropna(axis = 0, how = 'all', inplace=True)\n",
    "injuries_df.dropna(axis = 1, how = 'all', inplace=True)"
   ]
  },
  {
   "cell_type": "code",
   "execution_count": 10,
   "id": "82c4ec34-e138-474b-b285-c507c19255dd",
   "metadata": {},
   "outputs": [
    {
     "data": {
      "text/plain": [
       "(3559186, 19)"
      ]
     },
     "execution_count": 10,
     "metadata": {},
     "output_type": "execute_result"
    }
   ],
   "source": [
    "# View shape of the dataframe\n",
    "injuries_df.shape"
   ]
  },
  {
   "cell_type": "code",
   "execution_count": 11,
   "id": "7b432941-07f6-45a1-8e7d-f0a7185af92d",
   "metadata": {},
   "outputs": [],
   "source": [
    "# Reset index\n",
    "injuries_df.reset_index(drop=True, inplace=True)"
   ]
  },
  {
   "cell_type": "markdown",
   "id": "7c3e7d73-c999-4c1f-846b-0be14b366e6d",
   "metadata": {},
   "source": [
    "***\n",
    "# Memory Usage\n",
    "***"
   ]
  },
  {
   "cell_type": "code",
   "execution_count": 12,
   "id": "ef0b9148-bad2-4f3f-8a2a-22ee74deb87f",
   "metadata": {},
   "outputs": [
    {
     "name": "stdout",
     "output_type": "stream",
     "text": [
      "Memory Usage by Column:\n",
      "Index                     132\n",
      "CPSC_Case_Number     28473488\n",
      "Treatment_Date       28473488\n",
      "Age                  28473488\n",
      "Sex                  28473488\n",
      "Race                 28473488\n",
      "Other_Race           28473488\n",
      "Body_Part            28473488\n",
      "Diagnosis            28473488\n",
      "Other_Diagnosis      28473488\n",
      "Body_Part_2          28473488\n",
      "Diagnosis_2          28473488\n",
      "Other_Diagnosis_2    28473488\n",
      "Disposition          28473488\n",
      "Product_1            28473488\n",
      "Product_2            28473488\n",
      "Product_3            28473488\n",
      "Stratum              28473488\n",
      "PSU                  28473488\n",
      "Weight               28473488\n",
      "dtype: int64\n",
      "\n",
      "Total Memory Usage for Dataframe:   540996404\n"
     ]
    }
   ],
   "source": [
    "# Since our dataset is on the larger size, let's capture the memory usage. This will allow us to evalute how much our cleanup activities\n",
    "# impact overall size. While this may not be critical in this case, it's a good habit.\n",
    "print(f'Memory Usage by Column:\\n{injuries_df.memory_usage()}')\n",
    "print(f'\\nTotal Memory Usage for Dataframe:   {injuries_df.memory_usage().sum()}')"
   ]
  },
  {
   "cell_type": "markdown",
   "id": "3bf964ef-39b2-44a4-9704-6df0ccf78977",
   "metadata": {},
   "source": [
    "***\n",
    "# Load Data Codes\n",
    "***"
   ]
  },
  {
   "cell_type": "code",
   "execution_count": 24,
   "id": "37ad3151-c4bc-4fda-bd21-500f9fd36368",
   "metadata": {},
   "outputs": [
    {
     "data": {
      "text/html": [
       "<div>\n",
       "<style scoped>\n",
       "    .dataframe tbody tr th:only-of-type {\n",
       "        vertical-align: middle;\n",
       "    }\n",
       "\n",
       "    .dataframe tbody tr th {\n",
       "        vertical-align: top;\n",
       "    }\n",
       "\n",
       "    .dataframe thead th {\n",
       "        text-align: right;\n",
       "    }\n",
       "</style>\n",
       "<table border=\"1\" class=\"dataframe\">\n",
       "  <thead>\n",
       "    <tr style=\"text-align: right;\">\n",
       "      <th></th>\n",
       "      <th>Code</th>\n",
       "      <th>Value</th>\n",
       "      <th>Description</th>\n",
       "    </tr>\n",
       "  </thead>\n",
       "  <tbody>\n",
       "    <tr>\n",
       "      <th>0</th>\n",
       "      <td>AGELTTWO</td>\n",
       "      <td>0</td>\n",
       "      <td>Unk</td>\n",
       "    </tr>\n",
       "    <tr>\n",
       "      <th>1</th>\n",
       "      <td>AGELTTWO</td>\n",
       "      <td>201</td>\n",
       "      <td>1 Month</td>\n",
       "    </tr>\n",
       "    <tr>\n",
       "      <th>2</th>\n",
       "      <td>AGELTTWO</td>\n",
       "      <td>202</td>\n",
       "      <td>2 Months</td>\n",
       "    </tr>\n",
       "    <tr>\n",
       "      <th>3</th>\n",
       "      <td>AGELTTWO</td>\n",
       "      <td>203</td>\n",
       "      <td>3 Months</td>\n",
       "    </tr>\n",
       "    <tr>\n",
       "      <th>4</th>\n",
       "      <td>AGELTTWO</td>\n",
       "      <td>204</td>\n",
       "      <td>4 Months</td>\n",
       "    </tr>\n",
       "  </tbody>\n",
       "</table>\n",
       "</div>"
      ],
      "text/plain": [
       "       Code  Value Description\n",
       "0  AGELTTWO      0         Unk\n",
       "1  AGELTTWO    201     1 Month\n",
       "2  AGELTTWO    202    2 Months\n",
       "3  AGELTTWO    203    3 Months\n",
       "4  AGELTTWO    204    4 Months"
      ]
     },
     "execution_count": 24,
     "metadata": {},
     "output_type": "execute_result"
    }
   ],
   "source": [
    "# Read in the standard data codes file. We'll use this later in our data validation activities\n",
    "file = '../data/std_codes.xlsx'\n",
    "codes_df = pd.read_excel(file)\n",
    "codes_df.head()"
   ]
  },
  {
   "cell_type": "code",
   "execution_count": 25,
   "id": "f7ca91e8-557d-4da1-986b-2c89a77604b1",
   "metadata": {},
   "outputs": [
    {
     "data": {
      "text/plain": [
       "array(['AGELTTWO', 'BDYPT', 'DIAG', 'DISP', 'GENDER', 'HISP', 'LOC',\n",
       "       'PROD', 'RACE'], dtype=object)"
      ]
     },
     "execution_count": 25,
     "metadata": {},
     "output_type": "execute_result"
    }
   ],
   "source": [
    "# Review which data is coded\n",
    "codes_df['Code'].unique()"
   ]
  },
  {
   "cell_type": "code",
   "execution_count": 26,
   "id": "cc3d31b4-9424-4cff-8e02-66115f9112ef",
   "metadata": {},
   "outputs": [
    {
     "data": {
      "text/html": [
       "<div>\n",
       "<style scoped>\n",
       "    .dataframe tbody tr th:only-of-type {\n",
       "        vertical-align: middle;\n",
       "    }\n",
       "\n",
       "    .dataframe tbody tr th {\n",
       "        vertical-align: top;\n",
       "    }\n",
       "\n",
       "    .dataframe thead th {\n",
       "        text-align: right;\n",
       "    }\n",
       "</style>\n",
       "<table border=\"1\" class=\"dataframe\">\n",
       "  <thead>\n",
       "    <tr style=\"text-align: right;\">\n",
       "      <th></th>\n",
       "      <th>Code</th>\n",
       "      <th>Value</th>\n",
       "      <th>Description</th>\n",
       "    </tr>\n",
       "  </thead>\n",
       "  <tbody>\n",
       "    <tr>\n",
       "      <th>24</th>\n",
       "      <td>BDYPT</td>\n",
       "      <td>0</td>\n",
       "      <td>Internal</td>\n",
       "    </tr>\n",
       "    <tr>\n",
       "      <th>25</th>\n",
       "      <td>BDYPT</td>\n",
       "      <td>30</td>\n",
       "      <td>Shoulder</td>\n",
       "    </tr>\n",
       "    <tr>\n",
       "      <th>26</th>\n",
       "      <td>BDYPT</td>\n",
       "      <td>31</td>\n",
       "      <td>Upper Trunk</td>\n",
       "    </tr>\n",
       "    <tr>\n",
       "      <th>27</th>\n",
       "      <td>BDYPT</td>\n",
       "      <td>32</td>\n",
       "      <td>Elbow</td>\n",
       "    </tr>\n",
       "    <tr>\n",
       "      <th>28</th>\n",
       "      <td>BDYPT</td>\n",
       "      <td>33</td>\n",
       "      <td>Lower Arm</td>\n",
       "    </tr>\n",
       "  </tbody>\n",
       "</table>\n",
       "</div>"
      ],
      "text/plain": [
       "     Code  Value  Description\n",
       "24  BDYPT      0     Internal\n",
       "25  BDYPT     30     Shoulder\n",
       "26  BDYPT     31  Upper Trunk\n",
       "27  BDYPT     32        Elbow\n",
       "28  BDYPT     33    Lower Arm"
      ]
     },
     "execution_count": 26,
     "metadata": {},
     "output_type": "execute_result"
    }
   ],
   "source": [
    "# Preview body part codes\n",
    "codes_df[codes_df['Code'] == 'BDYPT'].head()"
   ]
  },
  {
   "cell_type": "code",
   "execution_count": 27,
   "id": "9bac6afe-feb9-4476-8b9c-2f8a2e7c8ecb",
   "metadata": {},
   "outputs": [
    {
     "data": {
      "text/html": [
       "<div>\n",
       "<style scoped>\n",
       "    .dataframe tbody tr th:only-of-type {\n",
       "        vertical-align: middle;\n",
       "    }\n",
       "\n",
       "    .dataframe tbody tr th {\n",
       "        vertical-align: top;\n",
       "    }\n",
       "\n",
       "    .dataframe thead th {\n",
       "        text-align: right;\n",
       "    }\n",
       "</style>\n",
       "<table border=\"1\" class=\"dataframe\">\n",
       "  <thead>\n",
       "    <tr style=\"text-align: right;\">\n",
       "      <th></th>\n",
       "      <th>Code</th>\n",
       "      <th>Value</th>\n",
       "      <th>Description</th>\n",
       "    </tr>\n",
       "  </thead>\n",
       "  <tbody>\n",
       "    <tr>\n",
       "      <th>54</th>\n",
       "      <td>DIAG</td>\n",
       "      <td>41</td>\n",
       "      <td>Ingestion</td>\n",
       "    </tr>\n",
       "    <tr>\n",
       "      <th>55</th>\n",
       "      <td>DIAG</td>\n",
       "      <td>42</td>\n",
       "      <td>Aspiration</td>\n",
       "    </tr>\n",
       "    <tr>\n",
       "      <th>56</th>\n",
       "      <td>DIAG</td>\n",
       "      <td>46</td>\n",
       "      <td>Burn, Electrical</td>\n",
       "    </tr>\n",
       "    <tr>\n",
       "      <th>57</th>\n",
       "      <td>DIAG</td>\n",
       "      <td>47</td>\n",
       "      <td>Burn, Not Spec.</td>\n",
       "    </tr>\n",
       "    <tr>\n",
       "      <th>58</th>\n",
       "      <td>DIAG</td>\n",
       "      <td>48</td>\n",
       "      <td>Burn, Scald</td>\n",
       "    </tr>\n",
       "  </tbody>\n",
       "</table>\n",
       "</div>"
      ],
      "text/plain": [
       "    Code  Value       Description\n",
       "54  DIAG     41         Ingestion\n",
       "55  DIAG     42        Aspiration\n",
       "56  DIAG     46  Burn, Electrical\n",
       "57  DIAG     47   Burn, Not Spec.\n",
       "58  DIAG     48       Burn, Scald"
      ]
     },
     "execution_count": 27,
     "metadata": {},
     "output_type": "execute_result"
    }
   ],
   "source": [
    "# Preview diagnosis codes\n",
    "codes_df[codes_df['Code'] == 'DIAG'].head()"
   ]
  },
  {
   "cell_type": "code",
   "execution_count": 28,
   "id": "d875cbbe-fc4d-4781-a90c-45acbb8d2351",
   "metadata": {},
   "outputs": [
    {
     "data": {
      "text/html": [
       "<div>\n",
       "<style scoped>\n",
       "    .dataframe tbody tr th:only-of-type {\n",
       "        vertical-align: middle;\n",
       "    }\n",
       "\n",
       "    .dataframe tbody tr th {\n",
       "        vertical-align: top;\n",
       "    }\n",
       "\n",
       "    .dataframe thead th {\n",
       "        text-align: right;\n",
       "    }\n",
       "</style>\n",
       "<table border=\"1\" class=\"dataframe\">\n",
       "  <thead>\n",
       "    <tr style=\"text-align: right;\">\n",
       "      <th></th>\n",
       "      <th>Code</th>\n",
       "      <th>Value</th>\n",
       "      <th>Description</th>\n",
       "    </tr>\n",
       "  </thead>\n",
       "  <tbody>\n",
       "    <tr>\n",
       "      <th>85</th>\n",
       "      <td>DISP</td>\n",
       "      <td>0</td>\n",
       "      <td>0 - No Injury</td>\n",
       "    </tr>\n",
       "    <tr>\n",
       "      <th>86</th>\n",
       "      <td>DISP</td>\n",
       "      <td>1</td>\n",
       "      <td>1 - Treated/Examined And Released</td>\n",
       "    </tr>\n",
       "    <tr>\n",
       "      <th>87</th>\n",
       "      <td>DISP</td>\n",
       "      <td>2</td>\n",
       "      <td>2 - Treated And Transferred</td>\n",
       "    </tr>\n",
       "    <tr>\n",
       "      <th>88</th>\n",
       "      <td>DISP</td>\n",
       "      <td>4</td>\n",
       "      <td>4 - Treated And Admitted/Hospitalized</td>\n",
       "    </tr>\n",
       "    <tr>\n",
       "      <th>89</th>\n",
       "      <td>DISP</td>\n",
       "      <td>5</td>\n",
       "      <td>5 - Held For Observation</td>\n",
       "    </tr>\n",
       "  </tbody>\n",
       "</table>\n",
       "</div>"
      ],
      "text/plain": [
       "    Code  Value                            Description\n",
       "85  DISP      0                          0 - No Injury\n",
       "86  DISP      1      1 - Treated/Examined And Released\n",
       "87  DISP      2            2 - Treated And Transferred\n",
       "88  DISP      4  4 - Treated And Admitted/Hospitalized\n",
       "89  DISP      5               5 - Held For Observation"
      ]
     },
     "execution_count": 28,
     "metadata": {},
     "output_type": "execute_result"
    }
   ],
   "source": [
    "# Preview disposition codes\n",
    "codes_df[codes_df['Code'] == 'DISP'].head()"
   ]
  },
  {
   "cell_type": "code",
   "execution_count": 29,
   "id": "9893aeb8-7d6f-49bf-b29a-5cc1130201fc",
   "metadata": {},
   "outputs": [
    {
     "data": {
      "text/html": [
       "<div>\n",
       "<style scoped>\n",
       "    .dataframe tbody tr th:only-of-type {\n",
       "        vertical-align: middle;\n",
       "    }\n",
       "\n",
       "    .dataframe tbody tr th {\n",
       "        vertical-align: top;\n",
       "    }\n",
       "\n",
       "    .dataframe thead th {\n",
       "        text-align: right;\n",
       "    }\n",
       "</style>\n",
       "<table border=\"1\" class=\"dataframe\">\n",
       "  <thead>\n",
       "    <tr style=\"text-align: right;\">\n",
       "      <th></th>\n",
       "      <th>Code</th>\n",
       "      <th>Value</th>\n",
       "      <th>Description</th>\n",
       "    </tr>\n",
       "  </thead>\n",
       "  <tbody>\n",
       "    <tr>\n",
       "      <th>85</th>\n",
       "      <td>DISP</td>\n",
       "      <td>0</td>\n",
       "      <td>No Injury</td>\n",
       "    </tr>\n",
       "    <tr>\n",
       "      <th>86</th>\n",
       "      <td>DISP</td>\n",
       "      <td>1</td>\n",
       "      <td>Treated/Examined And Released</td>\n",
       "    </tr>\n",
       "    <tr>\n",
       "      <th>87</th>\n",
       "      <td>DISP</td>\n",
       "      <td>2</td>\n",
       "      <td>Treated And Transferred</td>\n",
       "    </tr>\n",
       "    <tr>\n",
       "      <th>88</th>\n",
       "      <td>DISP</td>\n",
       "      <td>4</td>\n",
       "      <td>Treated And Admitted/Hospitalized</td>\n",
       "    </tr>\n",
       "    <tr>\n",
       "      <th>89</th>\n",
       "      <td>DISP</td>\n",
       "      <td>5</td>\n",
       "      <td>Held For Observation</td>\n",
       "    </tr>\n",
       "  </tbody>\n",
       "</table>\n",
       "</div>"
      ],
      "text/plain": [
       "    Code  Value                        Description\n",
       "85  DISP      0                          No Injury\n",
       "86  DISP      1      Treated/Examined And Released\n",
       "87  DISP      2            Treated And Transferred\n",
       "88  DISP      4  Treated And Admitted/Hospitalized\n",
       "89  DISP      5               Held For Observation"
      ]
     },
     "execution_count": 29,
     "metadata": {},
     "output_type": "execute_result"
    }
   ],
   "source": [
    "# Cleanup disposition descriptions\n",
    "def cln_disp_desc(x):\n",
    "    if x['Code'] == 'DISP':\n",
    "        return x['Description'][4:]\n",
    "    else:\n",
    "        return x['Description']\n",
    "\n",
    "codes_df['Description'] = codes_df.apply(cln_disp_desc, axis=1)\n",
    "codes_df[codes_df['Code'] == 'DISP'].head()"
   ]
  },
  {
   "cell_type": "code",
   "execution_count": 30,
   "id": "b702eccc-6022-4baa-849d-b6918d89da83",
   "metadata": {},
   "outputs": [
    {
     "data": {
      "text/html": [
       "<div>\n",
       "<style scoped>\n",
       "    .dataframe tbody tr th:only-of-type {\n",
       "        vertical-align: middle;\n",
       "    }\n",
       "\n",
       "    .dataframe tbody tr th {\n",
       "        vertical-align: top;\n",
       "    }\n",
       "\n",
       "    .dataframe thead th {\n",
       "        text-align: right;\n",
       "    }\n",
       "</style>\n",
       "<table border=\"1\" class=\"dataframe\">\n",
       "  <thead>\n",
       "    <tr style=\"text-align: right;\">\n",
       "      <th></th>\n",
       "      <th>Code</th>\n",
       "      <th>Value</th>\n",
       "      <th>Description</th>\n",
       "    </tr>\n",
       "  </thead>\n",
       "  <tbody>\n",
       "    <tr>\n",
       "      <th>93</th>\n",
       "      <td>GENDER</td>\n",
       "      <td>0</td>\n",
       "      <td>Unknown</td>\n",
       "    </tr>\n",
       "    <tr>\n",
       "      <th>94</th>\n",
       "      <td>GENDER</td>\n",
       "      <td>1</td>\n",
       "      <td>Male</td>\n",
       "    </tr>\n",
       "    <tr>\n",
       "      <th>95</th>\n",
       "      <td>GENDER</td>\n",
       "      <td>2</td>\n",
       "      <td>Female</td>\n",
       "    </tr>\n",
       "    <tr>\n",
       "      <th>1237</th>\n",
       "      <td>GENDER</td>\n",
       "      <td>3</td>\n",
       "      <td>Non-Binary/Other</td>\n",
       "    </tr>\n",
       "  </tbody>\n",
       "</table>\n",
       "</div>"
      ],
      "text/plain": [
       "        Code  Value       Description\n",
       "93    GENDER      0           Unknown\n",
       "94    GENDER      1              Male\n",
       "95    GENDER      2            Female\n",
       "1237  GENDER      3  Non-Binary/Other"
      ]
     },
     "execution_count": 30,
     "metadata": {},
     "output_type": "execute_result"
    }
   ],
   "source": [
    "# Preview gender codes\n",
    "codes_df[codes_df['Code'] == 'GENDER'].head()"
   ]
  },
  {
   "cell_type": "code",
   "execution_count": 31,
   "id": "cf8115c9-d53c-49f3-82ed-5708123ee565",
   "metadata": {},
   "outputs": [
    {
     "data": {
      "text/html": [
       "<div>\n",
       "<style scoped>\n",
       "    .dataframe tbody tr th:only-of-type {\n",
       "        vertical-align: middle;\n",
       "    }\n",
       "\n",
       "    .dataframe tbody tr th {\n",
       "        vertical-align: top;\n",
       "    }\n",
       "\n",
       "    .dataframe thead th {\n",
       "        text-align: right;\n",
       "    }\n",
       "</style>\n",
       "<table border=\"1\" class=\"dataframe\">\n",
       "  <thead>\n",
       "    <tr style=\"text-align: right;\">\n",
       "      <th></th>\n",
       "      <th>Code</th>\n",
       "      <th>Value</th>\n",
       "      <th>Description</th>\n",
       "    </tr>\n",
       "  </thead>\n",
       "  <tbody>\n",
       "    <tr>\n",
       "      <th>109</th>\n",
       "      <td>PROD</td>\n",
       "      <td>101</td>\n",
       "      <td>Washing Machines Without Wringers Or Other Dryers</td>\n",
       "    </tr>\n",
       "    <tr>\n",
       "      <th>110</th>\n",
       "      <td>PROD</td>\n",
       "      <td>102</td>\n",
       "      <td>Wringer Washing Machines</td>\n",
       "    </tr>\n",
       "    <tr>\n",
       "      <th>111</th>\n",
       "      <td>PROD</td>\n",
       "      <td>103</td>\n",
       "      <td>Washing Machines With Unheated Spin Dryers</td>\n",
       "    </tr>\n",
       "    <tr>\n",
       "      <th>112</th>\n",
       "      <td>PROD</td>\n",
       "      <td>106</td>\n",
       "      <td>Electric Clothes Dryers Without Washers</td>\n",
       "    </tr>\n",
       "    <tr>\n",
       "      <th>113</th>\n",
       "      <td>PROD</td>\n",
       "      <td>107</td>\n",
       "      <td>Gas Clothes Dryers Without Washers</td>\n",
       "    </tr>\n",
       "  </tbody>\n",
       "</table>\n",
       "</div>"
      ],
      "text/plain": [
       "     Code  Value                                        Description\n",
       "109  PROD    101  Washing Machines Without Wringers Or Other Dryers\n",
       "110  PROD    102                           Wringer Washing Machines\n",
       "111  PROD    103         Washing Machines With Unheated Spin Dryers\n",
       "112  PROD    106            Electric Clothes Dryers Without Washers\n",
       "113  PROD    107                 Gas Clothes Dryers Without Washers"
      ]
     },
     "execution_count": 31,
     "metadata": {},
     "output_type": "execute_result"
    }
   ],
   "source": [
    "# Preview product codes\n",
    "codes_df[codes_df['Code'] == 'PROD'].head()"
   ]
  },
  {
   "cell_type": "code",
   "execution_count": 32,
   "id": "a6b431af-c6dc-4cc8-b408-5a72fff847ce",
   "metadata": {},
   "outputs": [
    {
     "data": {
      "text/html": [
       "<div>\n",
       "<style scoped>\n",
       "    .dataframe tbody tr th:only-of-type {\n",
       "        vertical-align: middle;\n",
       "    }\n",
       "\n",
       "    .dataframe tbody tr th {\n",
       "        vertical-align: top;\n",
       "    }\n",
       "\n",
       "    .dataframe thead th {\n",
       "        text-align: right;\n",
       "    }\n",
       "</style>\n",
       "<table border=\"1\" class=\"dataframe\">\n",
       "  <thead>\n",
       "    <tr style=\"text-align: right;\">\n",
       "      <th></th>\n",
       "      <th>Code</th>\n",
       "      <th>Value</th>\n",
       "      <th>Description</th>\n",
       "    </tr>\n",
       "  </thead>\n",
       "  <tbody>\n",
       "    <tr>\n",
       "      <th>1229</th>\n",
       "      <td>RACE</td>\n",
       "      <td>0</td>\n",
       "      <td>Not Specified</td>\n",
       "    </tr>\n",
       "    <tr>\n",
       "      <th>1230</th>\n",
       "      <td>RACE</td>\n",
       "      <td>1</td>\n",
       "      <td>White</td>\n",
       "    </tr>\n",
       "    <tr>\n",
       "      <th>1231</th>\n",
       "      <td>RACE</td>\n",
       "      <td>2</td>\n",
       "      <td>Black/African American</td>\n",
       "    </tr>\n",
       "    <tr>\n",
       "      <th>1232</th>\n",
       "      <td>RACE</td>\n",
       "      <td>3</td>\n",
       "      <td>Other</td>\n",
       "    </tr>\n",
       "    <tr>\n",
       "      <th>1233</th>\n",
       "      <td>RACE</td>\n",
       "      <td>4</td>\n",
       "      <td>Asian</td>\n",
       "    </tr>\n",
       "  </tbody>\n",
       "</table>\n",
       "</div>"
      ],
      "text/plain": [
       "      Code  Value             Description\n",
       "1229  RACE      0           Not Specified\n",
       "1230  RACE      1                   White\n",
       "1231  RACE      2  Black/African American\n",
       "1232  RACE      3                   Other\n",
       "1233  RACE      4                   Asian"
      ]
     },
     "execution_count": 32,
     "metadata": {},
     "output_type": "execute_result"
    }
   ],
   "source": [
    "# Preview race codes\n",
    "codes_df[codes_df['Code'] == 'RACE'].head()"
   ]
  },
  {
   "cell_type": "markdown",
   "id": "5a9f7a89-7c1d-4256-9be7-a18dc31d7275",
   "metadata": {},
   "source": [
    "***\n",
    "# Variables\n",
    "***"
   ]
  },
  {
   "cell_type": "code",
   "execution_count": 33,
   "id": "1e2c72e6-a0ea-460c-b77e-1cfe0e1f37ee",
   "metadata": {},
   "outputs": [
    {
     "data": {
      "text/plain": [
       "array(['CPSC_Case_Number', 'Treatment_Date', 'Age', 'Sex', 'Race',\n",
       "       'Other_Race', 'Body_Part', 'Diagnosis', 'Other_Diagnosis',\n",
       "       'Body_Part_2', 'Diagnosis_2', 'Other_Diagnosis_2', 'Disposition',\n",
       "       'Product_1', 'Product_2', 'Product_3', 'Stratum', 'PSU', 'Weight'],\n",
       "      dtype=object)"
      ]
     },
     "execution_count": 33,
     "metadata": {},
     "output_type": "execute_result"
    }
   ],
   "source": [
    "# Display variables (column headings) for the dataframe\n",
    "injuries_df.columns.values"
   ]
  },
  {
   "cell_type": "markdown",
   "id": "beed1b67-07cb-4ad6-a5ba-bcd1525b3492",
   "metadata": {},
   "source": [
    "***\n",
    "**Variable Descriptions**  \n",
    "-- CPSC_Case_Number: Consumer Product Safety Commision case number  \n",
    "-- Treatment_Date: date of ER visit  \n",
    "-- Age: age of patient  \n",
    "-- Sex: gender of patient  \n",
    "-- Race: race of patient  \n",
    "-- Hispanic: indicates if the patient is Hispanic  \n",
    "-- Body_Part: injured body part  \n",
    "-- Diagnosis: diagnosis of injury  \n",
    "-- Other_Diagnosis: description if Diagnosis is \"Other\" (code 71)  \n",
    "-- Body_Part_2: additional injuried body part  \n",
    "-- Diagnosis_2: additional diagnosis  \n",
    "-- Other_Diagnosis_2: description if Other_Diagnosis is \"Other\" (code 71)  \n",
    "-- Dipsosition: outcome of the visit  \n",
    "-- Product_1: primary product involved in the injury  \n",
    "-- Product_2: additional product involved  \n",
    "-- Product_3: additional product involved  \n",
    "-- Stratum: type of hospital reporting the visit  \n",
    "-- PSU: primary sampling unit  \n",
    "-- Weight: statistical weight used for generating national estimates  \n",
    "***"
   ]
  },
  {
   "cell_type": "markdown",
   "id": "db0fd19a-495c-4cab-ab0c-0d7c7b1fd5a5",
   "metadata": {},
   "source": [
    "***\n",
    "## Rename Variables for Clarity\n",
    "***"
   ]
  },
  {
   "cell_type": "code",
   "execution_count": 34,
   "id": "2375f95f-0628-402f-9cc4-cdd88c2ced18",
   "metadata": {},
   "outputs": [
    {
     "data": {
      "text/plain": [
       "Index(['CPSC_Case_Number', 'Treatment_Date', 'Age', 'Sex', 'Race',\n",
       "       'Other_Race', 'Body_Part', 'Diagnosis', 'Other_Diagnosis',\n",
       "       'Body_Part_2', 'Diagnosis_2', 'Other_Diagnosis_2', 'Disposition',\n",
       "       'Product_1', 'Product_2', 'Product_3', 'Stratum', 'PSU', 'Weight'],\n",
       "      dtype='object')"
      ]
     },
     "execution_count": 34,
     "metadata": {},
     "output_type": "execute_result"
    }
   ],
   "source": [
    "injuries_df.columns"
   ]
  },
  {
   "cell_type": "code",
   "execution_count": 35,
   "id": "abad12d9-7d0a-49c1-a56e-b9d2185f43bc",
   "metadata": {},
   "outputs": [
    {
     "data": {
      "text/html": [
       "<div>\n",
       "<style scoped>\n",
       "    .dataframe tbody tr th:only-of-type {\n",
       "        vertical-align: middle;\n",
       "    }\n",
       "\n",
       "    .dataframe tbody tr th {\n",
       "        vertical-align: top;\n",
       "    }\n",
       "\n",
       "    .dataframe thead th {\n",
       "        text-align: right;\n",
       "    }\n",
       "</style>\n",
       "<table border=\"1\" class=\"dataframe\">\n",
       "  <thead>\n",
       "    <tr style=\"text-align: right;\">\n",
       "      <th></th>\n",
       "      <th>Case</th>\n",
       "      <th>Date</th>\n",
       "      <th>Age</th>\n",
       "      <th>Sex</th>\n",
       "      <th>Race</th>\n",
       "      <th>Hispanic</th>\n",
       "      <th>Body_Part</th>\n",
       "      <th>Diagnosis</th>\n",
       "      <th>Other_Diagnosis</th>\n",
       "      <th>Body_Part_2</th>\n",
       "      <th>Diagnosis_2</th>\n",
       "      <th>Other_Diagnosis_2</th>\n",
       "      <th>Disposition</th>\n",
       "      <th>Product_1</th>\n",
       "      <th>Product_2</th>\n",
       "      <th>Product_3</th>\n",
       "      <th>Stratum</th>\n",
       "      <th>PSU</th>\n",
       "      <th>Weight</th>\n",
       "    </tr>\n",
       "  </thead>\n",
       "  <tbody>\n",
       "    <tr>\n",
       "      <th>0</th>\n",
       "      <td>130104962</td>\n",
       "      <td>2013-01-01</td>\n",
       "      <td>57</td>\n",
       "      <td>1</td>\n",
       "      <td>1</td>\n",
       "      <td>NaN</td>\n",
       "      <td>76</td>\n",
       "      <td>53</td>\n",
       "      <td>NaN</td>\n",
       "      <td>NaN</td>\n",
       "      <td>NaN</td>\n",
       "      <td>NaN</td>\n",
       "      <td>1</td>\n",
       "      <td>3299</td>\n",
       "      <td>0</td>\n",
       "      <td>0</td>\n",
       "      <td>M</td>\n",
       "      <td>100</td>\n",
       "      <td>88.4147</td>\n",
       "    </tr>\n",
       "    <tr>\n",
       "      <th>1</th>\n",
       "      <td>130104963</td>\n",
       "      <td>2013-01-01</td>\n",
       "      <td>207</td>\n",
       "      <td>2</td>\n",
       "      <td>4</td>\n",
       "      <td>NaN</td>\n",
       "      <td>75</td>\n",
       "      <td>62</td>\n",
       "      <td>NaN</td>\n",
       "      <td>NaN</td>\n",
       "      <td>NaN</td>\n",
       "      <td>NaN</td>\n",
       "      <td>1</td>\n",
       "      <td>1807</td>\n",
       "      <td>0</td>\n",
       "      <td>0</td>\n",
       "      <td>M</td>\n",
       "      <td>100</td>\n",
       "      <td>88.4147</td>\n",
       "    </tr>\n",
       "    <tr>\n",
       "      <th>2</th>\n",
       "      <td>130104966</td>\n",
       "      <td>2013-01-01</td>\n",
       "      <td>59</td>\n",
       "      <td>2</td>\n",
       "      <td>1</td>\n",
       "      <td>NaN</td>\n",
       "      <td>79</td>\n",
       "      <td>53</td>\n",
       "      <td>NaN</td>\n",
       "      <td>NaN</td>\n",
       "      <td>NaN</td>\n",
       "      <td>NaN</td>\n",
       "      <td>1</td>\n",
       "      <td>1842</td>\n",
       "      <td>0</td>\n",
       "      <td>0</td>\n",
       "      <td>M</td>\n",
       "      <td>100</td>\n",
       "      <td>88.4147</td>\n",
       "    </tr>\n",
       "    <tr>\n",
       "      <th>3</th>\n",
       "      <td>130104968</td>\n",
       "      <td>2013-01-01</td>\n",
       "      <td>17</td>\n",
       "      <td>2</td>\n",
       "      <td>1</td>\n",
       "      <td>NaN</td>\n",
       "      <td>37</td>\n",
       "      <td>64</td>\n",
       "      <td>NaN</td>\n",
       "      <td>NaN</td>\n",
       "      <td>NaN</td>\n",
       "      <td>NaN</td>\n",
       "      <td>1</td>\n",
       "      <td>4076</td>\n",
       "      <td>0</td>\n",
       "      <td>0</td>\n",
       "      <td>M</td>\n",
       "      <td>100</td>\n",
       "      <td>88.4147</td>\n",
       "    </tr>\n",
       "    <tr>\n",
       "      <th>4</th>\n",
       "      <td>130104970</td>\n",
       "      <td>2013-01-01</td>\n",
       "      <td>38</td>\n",
       "      <td>1</td>\n",
       "      <td>1</td>\n",
       "      <td>NaN</td>\n",
       "      <td>92</td>\n",
       "      <td>59</td>\n",
       "      <td>NaN</td>\n",
       "      <td>NaN</td>\n",
       "      <td>NaN</td>\n",
       "      <td>NaN</td>\n",
       "      <td>1</td>\n",
       "      <td>474</td>\n",
       "      <td>0</td>\n",
       "      <td>0</td>\n",
       "      <td>M</td>\n",
       "      <td>100</td>\n",
       "      <td>88.4147</td>\n",
       "    </tr>\n",
       "  </tbody>\n",
       "</table>\n",
       "</div>"
      ],
      "text/plain": [
       "        Case       Date  Age  Sex  Race Hispanic  Body_Part  Diagnosis  \\\n",
       "0  130104962 2013-01-01   57    1     1      NaN         76         53   \n",
       "1  130104963 2013-01-01  207    2     4      NaN         75         62   \n",
       "2  130104966 2013-01-01   59    2     1      NaN         79         53   \n",
       "3  130104968 2013-01-01   17    2     1      NaN         37         64   \n",
       "4  130104970 2013-01-01   38    1     1      NaN         92         59   \n",
       "\n",
       "  Other_Diagnosis  Body_Part_2  Diagnosis_2 Other_Diagnosis_2  Disposition  \\\n",
       "0             NaN          NaN          NaN               NaN            1   \n",
       "1             NaN          NaN          NaN               NaN            1   \n",
       "2             NaN          NaN          NaN               NaN            1   \n",
       "3             NaN          NaN          NaN               NaN            1   \n",
       "4             NaN          NaN          NaN               NaN            1   \n",
       "\n",
       "   Product_1  Product_2  Product_3 Stratum  PSU   Weight  \n",
       "0       3299          0          0       M  100  88.4147  \n",
       "1       1807          0          0       M  100  88.4147  \n",
       "2       1842          0          0       M  100  88.4147  \n",
       "3       4076          0          0       M  100  88.4147  \n",
       "4        474          0          0       M  100  88.4147  "
      ]
     },
     "execution_count": 35,
     "metadata": {},
     "output_type": "execute_result"
    }
   ],
   "source": [
    "# Rename columns\n",
    "injuries_df.columns = ['Case', 'Date', 'Age', 'Sex', 'Race', 'Hispanic', 'Body_Part',\n",
    "                       'Diagnosis', 'Other_Diagnosis', 'Body_Part_2', 'Diagnosis_2', 'Other_Diagnosis_2',\n",
    "                       'Disposition', 'Product_1', 'Product_2', 'Product_3', 'Stratum', 'PSU', 'Weight']\n",
    "injuries_df.head()"
   ]
  },
  {
   "cell_type": "markdown",
   "id": "0549e244-a46d-4c9c-8d4a-81302a6bf1b9",
   "metadata": {},
   "source": [
    "***\n",
    "## Data Types and Format\n",
    "***"
   ]
  },
  {
   "cell_type": "code",
   "execution_count": 36,
   "id": "e6947eb0-daf6-4620-a441-11703601b7c6",
   "metadata": {},
   "outputs": [
    {
     "data": {
      "text/plain": [
       "Case                          int64\n",
       "Date                 datetime64[ns]\n",
       "Age                           int64\n",
       "Sex                           int64\n",
       "Race                          int64\n",
       "Hispanic                     object\n",
       "Body_Part                     int64\n",
       "Diagnosis                     int64\n",
       "Other_Diagnosis              object\n",
       "Body_Part_2                 float64\n",
       "Diagnosis_2                 float64\n",
       "Other_Diagnosis_2            object\n",
       "Disposition                   int64\n",
       "Product_1                     int64\n",
       "Product_2                     int64\n",
       "Product_3                     int64\n",
       "Stratum                      object\n",
       "PSU                           int64\n",
       "Weight                      float64\n",
       "dtype: object"
      ]
     },
     "execution_count": 36,
     "metadata": {},
     "output_type": "execute_result"
    }
   ],
   "source": [
    "# Review column data types\n",
    "injuries_df.dtypes"
   ]
  },
  {
   "cell_type": "code",
   "execution_count": 37,
   "id": "2865b24f-2641-4982-a15d-cfac02fdb3d9",
   "metadata": {},
   "outputs": [
    {
     "name": "stdout",
     "output_type": "stream",
     "text": [
      "Case          130104962 to 230303682\n",
      "Age                   0 to 223\n",
      "Sex                   0 to 3\n",
      "Race                  0 to 6\n",
      "Body_Part             0 to 94\n",
      "Diagnosis            41 to 74\n",
      "Disposition           1 to 9\n",
      "Product_1           102 to 5555\n",
      "Product_2             0 to 5555\n",
      "Product_3             0 to 5555\n",
      "PSU                   1 to 101\n"
     ]
    }
   ],
   "source": [
    "# Review the range of int64 columns to see if they could be re-types as int32\n",
    "int_cols = injuries_df.select_dtypes(include=['int']).columns\n",
    "for col in int_cols:\n",
    "    print(f'{col:<12} {injuries_df[col].min():>10} to {injuries_df[col].max()}')"
   ]
  },
  {
   "cell_type": "code",
   "execution_count": 38,
   "id": "ffb265f2-40a5-4413-bdb5-d86ca5d0304d",
   "metadata": {},
   "outputs": [],
   "source": [
    "# Convert int64 columns to int32\n",
    "injuries_df[int_cols] = injuries_df[int_cols].astype('int32')"
   ]
  },
  {
   "cell_type": "code",
   "execution_count": 39,
   "id": "ffde9d75-e622-488d-84d8-98cb2569f4d1",
   "metadata": {},
   "outputs": [
    {
     "name": "stdout",
     "output_type": "stream",
     "text": [
      "Body_Part_2\n",
      "[nan 85. 35. 82. 93. 76. 75. 31. 32. 88. 81. 30. 34. 92. 79. 87. 37. 38.\n",
      " 89. 94. 83. 36. 80. 33. 77.  0. 84.]\n",
      "\n",
      "Diagnosis_2\n",
      "[nan 68. 64. 57. 59. 62. 71. 53. 58. 72. 48. 55. 66. 51. 56. 74. 61. 52.\n",
      " 63. 60. 50. 46. 54. 42. 67. 41. 65. 49. 47. 73. 69.]\n",
      "\n"
     ]
    }
   ],
   "source": [
    "# Review float columns that should should be ints\n",
    "float_cols = injuries_df.select_dtypes(include=['float']).columns.to_list()\n",
    "float_cols.remove('Weight')\n",
    "for col in float_cols:\n",
    "    print(f'{col}\\n{injuries_df[col].unique()}\\n')"
   ]
  },
  {
   "cell_type": "code",
   "execution_count": 40,
   "id": "6da9dab6-d4a4-4e4f-9f5a-cf82d500dfd9",
   "metadata": {},
   "outputs": [],
   "source": [
    "# Since there are no legitimate values assigned to -1, we'll replace nan values with -1 and then convert to int32\n",
    "injuries_df[float_cols] = injuries_df[float_cols].fillna(-1)\n",
    "injuries_df[float_cols] = injuries_df[float_cols].astype('int32')"
   ]
  },
  {
   "cell_type": "markdown",
   "id": "86825d25-ca34-4a4e-b129-47c61138462f",
   "metadata": {},
   "source": [
    "***\n",
    "# Missing Data\n",
    "***  "
   ]
  },
  {
   "cell_type": "code",
   "execution_count": 41,
   "id": "c40deee8-1295-47a8-bfa1-73243bb6c28a",
   "metadata": {},
   "outputs": [
    {
     "data": {
      "text/plain": [
       "Index(['Hispanic', 'Other_Diagnosis', 'Other_Diagnosis_2'], dtype='object')"
      ]
     },
     "execution_count": 41,
     "metadata": {},
     "output_type": "execute_result"
    }
   ],
   "source": [
    "# Look for columns with null values\n",
    "injuries_df.columns[injuries_df.isnull().any()]"
   ]
  },
  {
   "cell_type": "markdown",
   "id": "912de760-b0d2-43cf-b4fd-e1238d206c24",
   "metadata": {},
   "source": [
    "***\n",
    "<font color='blue'>**Note:**</font>  \n",
    "We'll keep these columns for now, as we can use them for data integrity checks later on. However, we will delete them prior to EDA. For\n",
    "our purposes, we will use the predefined Race, Other Diagnosis and Other Diagnosis 2 data and not use write-in values for analysis.  \n",
    "***"
   ]
  },
  {
   "cell_type": "code",
   "execution_count": 46,
   "id": "8395e7f0-fc85-4ec7-8e1d-03c8afde8e6e",
   "metadata": {},
   "outputs": [
    {
     "data": {
      "text/plain": [
       "Index(['Hispanic', 'Body_Part_2', 'Diagnosis_2'], dtype='object')"
      ]
     },
     "execution_count": 46,
     "metadata": {},
     "output_type": "execute_result"
    }
   ],
   "source": [
    "# Look for columns with a -1 value, as we used this indicate missing numeric values\n",
    "injuries_df.columns[injuries_df.eq(-1).any()]"
   ]
  },
  {
   "cell_type": "code",
   "execution_count": 47,
   "id": "117a332c-f69a-4dc7-9e7b-130be8d3390d",
   "metadata": {},
   "outputs": [],
   "source": [
    "# All three columms were added in 2019, so the data available is limited. For consistency, we will not consider these columns \n",
    "# in our analysis\n",
    "injuries_df.drop(columns=['Hispanic', 'Body_Part_2', 'Diagnosis_2'], inplace=True)"
   ]
  },
  {
   "cell_type": "markdown",
   "id": "32b43eae-2690-4935-a137-b3f5071e0f6d",
   "metadata": {},
   "source": [
    "***\n",
    "# Duplicate Records\n",
    "***"
   ]
  },
  {
   "cell_type": "code",
   "execution_count": 48,
   "id": "ed2c424f-3cd1-4766-b55a-c55f12bae72e",
   "metadata": {},
   "outputs": [
    {
     "data": {
      "text/html": [
       "<div>\n",
       "<style scoped>\n",
       "    .dataframe tbody tr th:only-of-type {\n",
       "        vertical-align: middle;\n",
       "    }\n",
       "\n",
       "    .dataframe tbody tr th {\n",
       "        vertical-align: top;\n",
       "    }\n",
       "\n",
       "    .dataframe thead th {\n",
       "        text-align: right;\n",
       "    }\n",
       "</style>\n",
       "<table border=\"1\" class=\"dataframe\">\n",
       "  <thead>\n",
       "    <tr style=\"text-align: right;\">\n",
       "      <th></th>\n",
       "      <th>Case</th>\n",
       "      <th>Date</th>\n",
       "      <th>Age</th>\n",
       "      <th>Sex</th>\n",
       "      <th>Race</th>\n",
       "      <th>Other_Race</th>\n",
       "      <th>Body_Part</th>\n",
       "      <th>Diagnosis</th>\n",
       "      <th>Other_Diagnosis</th>\n",
       "      <th>Other_Diagnosis_2</th>\n",
       "      <th>Disposition</th>\n",
       "      <th>Product_1</th>\n",
       "      <th>Product_2</th>\n",
       "      <th>Product_3</th>\n",
       "      <th>Stratum</th>\n",
       "      <th>PSU</th>\n",
       "      <th>Weight</th>\n",
       "    </tr>\n",
       "  </thead>\n",
       "  <tbody>\n",
       "  </tbody>\n",
       "</table>\n",
       "</div>"
      ],
      "text/plain": [
       "Empty DataFrame\n",
       "Columns: [Case, Date, Age, Sex, Race, Other_Race, Body_Part, Diagnosis, Other_Diagnosis, Other_Diagnosis_2, Disposition, Product_1, Product_2, Product_3, Stratum, PSU, Weight]\n",
       "Index: []"
      ]
     },
     "execution_count": 48,
     "metadata": {},
     "output_type": "execute_result"
    }
   ],
   "source": [
    "# Check for duplicated case numbers\n",
    "# Look for duplicate code/value combinations that have different descriptions\n",
    "injuries_df[injuries_df.duplicated(subset='Case')]"
   ]
  },
  {
   "cell_type": "markdown",
   "id": "ed2d2d0d-c304-48a1-9115-d98731cb584b",
   "metadata": {},
   "source": [
    "***\n",
    "# Data Review and Cleanup\n",
    "***"
   ]
  },
  {
   "cell_type": "markdown",
   "id": "3a0fddef-a92b-43dc-b13c-21416b9198e4",
   "metadata": {},
   "source": [
    "## Date\n",
    "***"
   ]
  },
  {
   "cell_type": "code",
   "execution_count": 49,
   "id": "59c31679-f928-4dc4-85eb-d523e3c9b0df",
   "metadata": {},
   "outputs": [
    {
     "name": "stdout",
     "output_type": "stream",
     "text": [
      "Start Date:   Jan 01, 2013\n",
      "End Date:     Dec 31, 2022\n"
     ]
    }
   ],
   "source": [
    "# Verify all dates are within our date range\n",
    "print(f'Start Date:   {injuries_df[\"Date\"].min().strftime(\"%b %d, %Y\")}')\n",
    "print(f'End Date:     {injuries_df[\"Date\"].max().strftime(\"%b %d, %Y\")}')"
   ]
  },
  {
   "cell_type": "markdown",
   "id": "122414e7-3987-4828-a0b7-a50a960579eb",
   "metadata": {},
   "source": [
    "## Age\n",
    "***"
   ]
  },
  {
   "cell_type": "code",
   "execution_count": 50,
   "id": "084fe79a-b4c4-4f18-9a78-9875d8ab4440",
   "metadata": {},
   "outputs": [
    {
     "name": "stdout",
     "output_type": "stream",
     "text": [
      "Unknown Age:  280\n"
     ]
    }
   ],
   "source": [
    "# Check for missing or unknown age, which is coded as 0\n",
    "print(f'Unknown Age:  {len(injuries_df[injuries_df[\"Age\"] == 0])}')"
   ]
  },
  {
   "cell_type": "code",
   "execution_count": 51,
   "id": "7a72e286-7eda-425e-af48-6ec643460900",
   "metadata": {},
   "outputs": [],
   "source": [
    "# Given the small number of rows with unknown age, we will simply remove these rows from the dataset\n",
    "rows_to_drop = injuries_df[injuries_df['Age'] == 0].index.to_list()\n",
    "injuries_df.drop(index=rows_to_drop, inplace=True)"
   ]
  },
  {
   "cell_type": "code",
   "execution_count": 52,
   "id": "25192c36-2b95-4413-8d65-fef220da94fe",
   "metadata": {},
   "outputs": [
    {
     "name": "stdout",
     "output_type": "stream",
     "text": [
      "Min Age:   2\n",
      "Max Age:   223\n"
     ]
    }
   ],
   "source": [
    "# Review age value ranges\n",
    "print(f'Min Age:   {injuries_df[\"Age\"].min()}')\n",
    "print(f'Max Age:   {injuries_df[\"Age\"].max()}')"
   ]
  },
  {
   "cell_type": "code",
   "execution_count": 53,
   "id": "9eab0f94-6fd9-49a1-876a-4966ad51001d",
   "metadata": {},
   "outputs": [
    {
     "data": {
      "text/html": [
       "<div>\n",
       "<style scoped>\n",
       "    .dataframe tbody tr th:only-of-type {\n",
       "        vertical-align: middle;\n",
       "    }\n",
       "\n",
       "    .dataframe tbody tr th {\n",
       "        vertical-align: top;\n",
       "    }\n",
       "\n",
       "    .dataframe thead th {\n",
       "        text-align: right;\n",
       "    }\n",
       "</style>\n",
       "<table border=\"1\" class=\"dataframe\">\n",
       "  <thead>\n",
       "    <tr style=\"text-align: right;\">\n",
       "      <th></th>\n",
       "      <th>Code</th>\n",
       "      <th>Value</th>\n",
       "      <th>Description</th>\n",
       "    </tr>\n",
       "  </thead>\n",
       "  <tbody>\n",
       "    <tr>\n",
       "      <th>0</th>\n",
       "      <td>AGELTTWO</td>\n",
       "      <td>0</td>\n",
       "      <td>UNK</td>\n",
       "    </tr>\n",
       "    <tr>\n",
       "      <th>1</th>\n",
       "      <td>AGELTTWO</td>\n",
       "      <td>201</td>\n",
       "      <td>1 MONTH</td>\n",
       "    </tr>\n",
       "    <tr>\n",
       "      <th>2</th>\n",
       "      <td>AGELTTWO</td>\n",
       "      <td>202</td>\n",
       "      <td>2 MONTHS</td>\n",
       "    </tr>\n",
       "    <tr>\n",
       "      <th>3</th>\n",
       "      <td>AGELTTWO</td>\n",
       "      <td>203</td>\n",
       "      <td>3 MONTHS</td>\n",
       "    </tr>\n",
       "    <tr>\n",
       "      <th>4</th>\n",
       "      <td>AGELTTWO</td>\n",
       "      <td>204</td>\n",
       "      <td>4 MONTHS</td>\n",
       "    </tr>\n",
       "    <tr>\n",
       "      <th>5</th>\n",
       "      <td>AGELTTWO</td>\n",
       "      <td>205</td>\n",
       "      <td>5 MONTHS</td>\n",
       "    </tr>\n",
       "    <tr>\n",
       "      <th>6</th>\n",
       "      <td>AGELTTWO</td>\n",
       "      <td>206</td>\n",
       "      <td>6 MONTHS</td>\n",
       "    </tr>\n",
       "    <tr>\n",
       "      <th>7</th>\n",
       "      <td>AGELTTWO</td>\n",
       "      <td>207</td>\n",
       "      <td>7 MONTHS</td>\n",
       "    </tr>\n",
       "    <tr>\n",
       "      <th>8</th>\n",
       "      <td>AGELTTWO</td>\n",
       "      <td>208</td>\n",
       "      <td>8 MONTHS</td>\n",
       "    </tr>\n",
       "    <tr>\n",
       "      <th>9</th>\n",
       "      <td>AGELTTWO</td>\n",
       "      <td>209</td>\n",
       "      <td>9 MONTHS</td>\n",
       "    </tr>\n",
       "    <tr>\n",
       "      <th>10</th>\n",
       "      <td>AGELTTWO</td>\n",
       "      <td>210</td>\n",
       "      <td>10 MONTHS</td>\n",
       "    </tr>\n",
       "    <tr>\n",
       "      <th>11</th>\n",
       "      <td>AGELTTWO</td>\n",
       "      <td>211</td>\n",
       "      <td>11 MONTHS</td>\n",
       "    </tr>\n",
       "    <tr>\n",
       "      <th>12</th>\n",
       "      <td>AGELTTWO</td>\n",
       "      <td>212</td>\n",
       "      <td>12 MONTHS</td>\n",
       "    </tr>\n",
       "    <tr>\n",
       "      <th>13</th>\n",
       "      <td>AGELTTWO</td>\n",
       "      <td>213</td>\n",
       "      <td>13 MONTHS</td>\n",
       "    </tr>\n",
       "    <tr>\n",
       "      <th>14</th>\n",
       "      <td>AGELTTWO</td>\n",
       "      <td>214</td>\n",
       "      <td>14 MONTHS</td>\n",
       "    </tr>\n",
       "    <tr>\n",
       "      <th>15</th>\n",
       "      <td>AGELTTWO</td>\n",
       "      <td>215</td>\n",
       "      <td>15 MONTHS</td>\n",
       "    </tr>\n",
       "    <tr>\n",
       "      <th>16</th>\n",
       "      <td>AGELTTWO</td>\n",
       "      <td>216</td>\n",
       "      <td>16 MONTHS</td>\n",
       "    </tr>\n",
       "    <tr>\n",
       "      <th>17</th>\n",
       "      <td>AGELTTWO</td>\n",
       "      <td>217</td>\n",
       "      <td>17 MONTHS</td>\n",
       "    </tr>\n",
       "    <tr>\n",
       "      <th>18</th>\n",
       "      <td>AGELTTWO</td>\n",
       "      <td>218</td>\n",
       "      <td>18 MONTHS</td>\n",
       "    </tr>\n",
       "    <tr>\n",
       "      <th>19</th>\n",
       "      <td>AGELTTWO</td>\n",
       "      <td>219</td>\n",
       "      <td>19 MONTHS</td>\n",
       "    </tr>\n",
       "    <tr>\n",
       "      <th>20</th>\n",
       "      <td>AGELTTWO</td>\n",
       "      <td>220</td>\n",
       "      <td>20 MONTHS</td>\n",
       "    </tr>\n",
       "    <tr>\n",
       "      <th>21</th>\n",
       "      <td>AGELTTWO</td>\n",
       "      <td>221</td>\n",
       "      <td>21 MONTHS</td>\n",
       "    </tr>\n",
       "    <tr>\n",
       "      <th>22</th>\n",
       "      <td>AGELTTWO</td>\n",
       "      <td>222</td>\n",
       "      <td>22 MONTHS</td>\n",
       "    </tr>\n",
       "    <tr>\n",
       "      <th>23</th>\n",
       "      <td>AGELTTWO</td>\n",
       "      <td>223</td>\n",
       "      <td>23 MONTHS</td>\n",
       "    </tr>\n",
       "  </tbody>\n",
       "</table>\n",
       "</div>"
      ],
      "text/plain": [
       "        Code  Value Description\n",
       "0   AGELTTWO      0         UNK\n",
       "1   AGELTTWO    201     1 MONTH\n",
       "2   AGELTTWO    202    2 MONTHS\n",
       "3   AGELTTWO    203    3 MONTHS\n",
       "4   AGELTTWO    204    4 MONTHS\n",
       "5   AGELTTWO    205    5 MONTHS\n",
       "6   AGELTTWO    206    6 MONTHS\n",
       "7   AGELTTWO    207    7 MONTHS\n",
       "8   AGELTTWO    208    8 MONTHS\n",
       "9   AGELTTWO    209    9 MONTHS\n",
       "10  AGELTTWO    210   10 MONTHS\n",
       "11  AGELTTWO    211   11 MONTHS\n",
       "12  AGELTTWO    212   12 MONTHS\n",
       "13  AGELTTWO    213   13 MONTHS\n",
       "14  AGELTTWO    214   14 MONTHS\n",
       "15  AGELTTWO    215   15 MONTHS\n",
       "16  AGELTTWO    216   16 MONTHS\n",
       "17  AGELTTWO    217   17 MONTHS\n",
       "18  AGELTTWO    218   18 MONTHS\n",
       "19  AGELTTWO    219   19 MONTHS\n",
       "20  AGELTTWO    220   20 MONTHS\n",
       "21  AGELTTWO    221   21 MONTHS\n",
       "22  AGELTTWO    222   22 MONTHS\n",
       "23  AGELTTWO    223   23 MONTHS"
      ]
     },
     "execution_count": 53,
     "metadata": {},
     "output_type": "execute_result"
    }
   ],
   "source": [
    "# From the documentation provided by NEISS, ages less than 2 are coded by month.\n",
    "codes_df[codes_df['Code'] == 'AGELTTWO']"
   ]
  },
  {
   "cell_type": "code",
   "execution_count": 54,
   "id": "549eb7ac-0a23-4f39-ac36-b7f9fc006418",
   "metadata": {},
   "outputs": [],
   "source": [
    "# For our purposes, we only want to consider age by year. Ages 1 Month to 11 Months will be relabeled as 0 years old\n",
    "# and ages 12 Months to 23 months will be relabled a 1 year old\n",
    "injuries_df.loc[injuries_df['Age'].between(200, 211), 'Age'] = 0\n",
    "injuries_df.loc[injuries_df['Age'].between(212, 223), 'Age'] = 1"
   ]
  },
  {
   "cell_type": "code",
   "execution_count": 55,
   "id": "f019bcaf-c0a9-4a40-8cd6-3e9be7c266bb",
   "metadata": {},
   "outputs": [
    {
     "name": "stdout",
     "output_type": "stream",
     "text": [
      "Min Age:   0\n",
      "Max Age:   113\n"
     ]
    }
   ],
   "source": [
    "# Review age value ranges\n",
    "print(f'Min Age:   {injuries_df[\"Age\"].min()}')\n",
    "print(f'Max Age:   {injuries_df[\"Age\"].max()}')"
   ]
  },
  {
   "cell_type": "markdown",
   "id": "6b8ab24a-05b6-4410-8b09-7b0095a700dd",
   "metadata": {},
   "source": [
    "***\n",
    "## Sex\n",
    "***"
   ]
  },
  {
   "cell_type": "code",
   "execution_count": 86,
   "id": "0a26b5cc-6539-4d31-8dad-5ce9585c9393",
   "metadata": {},
   "outputs": [
    {
     "data": {
      "text/html": [
       "<div>\n",
       "<style scoped>\n",
       "    .dataframe tbody tr th:only-of-type {\n",
       "        vertical-align: middle;\n",
       "    }\n",
       "\n",
       "    .dataframe tbody tr th {\n",
       "        vertical-align: top;\n",
       "    }\n",
       "\n",
       "    .dataframe thead th {\n",
       "        text-align: right;\n",
       "    }\n",
       "</style>\n",
       "<table border=\"1\" class=\"dataframe\">\n",
       "  <thead>\n",
       "    <tr style=\"text-align: right;\">\n",
       "      <th></th>\n",
       "      <th>Sex</th>\n",
       "      <th>Count</th>\n",
       "    </tr>\n",
       "  </thead>\n",
       "  <tbody>\n",
       "    <tr>\n",
       "      <th>0</th>\n",
       "      <td>Unknown</td>\n",
       "      <td>52</td>\n",
       "    </tr>\n",
       "    <tr>\n",
       "      <th>1</th>\n",
       "      <td>Male</td>\n",
       "      <td>1929778</td>\n",
       "    </tr>\n",
       "    <tr>\n",
       "      <th>2</th>\n",
       "      <td>Female</td>\n",
       "      <td>1629312</td>\n",
       "    </tr>\n",
       "    <tr>\n",
       "      <th>3</th>\n",
       "      <td>Non-Binary/Other</td>\n",
       "      <td>44</td>\n",
       "    </tr>\n",
       "  </tbody>\n",
       "</table>\n",
       "</div>"
      ],
      "text/plain": [
       "                Sex    Count\n",
       "0           Unknown       52\n",
       "1              Male  1929778\n",
       "2            Female  1629312\n",
       "3  Non-Binary/Other       44"
      ]
     },
     "execution_count": 86,
     "metadata": {},
     "output_type": "execute_result"
    }
   ],
   "source": [
    "# Review Sex data\n",
    "temp_inj_df = pd.DataFrame(injuries_df['Sex'].value_counts())\n",
    "temp_codes_df = codes_df[codes_df['Code'] == 'GENDER'].drop(columns='Code').set_index('Value')\n",
    "temp_sex_df = pd.concat([temp_codes_df, temp_inj_df], axis=1)\n",
    "temp_sex_df.columns = ['Sex', 'Count']\n",
    "temp_sex_df['Sex'] = temp_sex_df['Sex'].str.title()\n",
    "temp_sex_df"
   ]
  },
  {
   "cell_type": "markdown",
   "id": "4e4ca714-96ed-433c-a27f-315af7e0ef4d",
   "metadata": {},
   "source": [
    "***\n",
    "## Race\n",
    "***"
   ]
  },
  {
   "cell_type": "code",
   "execution_count": 87,
   "id": "35de11a3-d59e-4ba4-bbd8-d84e1e558c04",
   "metadata": {},
   "outputs": [
    {
     "data": {
      "text/html": [
       "<div>\n",
       "<style scoped>\n",
       "    .dataframe tbody tr th:only-of-type {\n",
       "        vertical-align: middle;\n",
       "    }\n",
       "\n",
       "    .dataframe tbody tr th {\n",
       "        vertical-align: top;\n",
       "    }\n",
       "\n",
       "    .dataframe thead th {\n",
       "        text-align: right;\n",
       "    }\n",
       "</style>\n",
       "<table border=\"1\" class=\"dataframe\">\n",
       "  <thead>\n",
       "    <tr style=\"text-align: right;\">\n",
       "      <th></th>\n",
       "      <th>Race</th>\n",
       "      <th>Count</th>\n",
       "    </tr>\n",
       "  </thead>\n",
       "  <tbody>\n",
       "    <tr>\n",
       "      <th>0</th>\n",
       "      <td>N.S.</td>\n",
       "      <td>1214319</td>\n",
       "    </tr>\n",
       "    <tr>\n",
       "      <th>1</th>\n",
       "      <td>White</td>\n",
       "      <td>1571277</td>\n",
       "    </tr>\n",
       "    <tr>\n",
       "      <th>2</th>\n",
       "      <td>Black/African American</td>\n",
       "      <td>538303</td>\n",
       "    </tr>\n",
       "    <tr>\n",
       "      <th>3</th>\n",
       "      <td>Other</td>\n",
       "      <td>171173</td>\n",
       "    </tr>\n",
       "    <tr>\n",
       "      <th>4</th>\n",
       "      <td>Asian</td>\n",
       "      <td>49321</td>\n",
       "    </tr>\n",
       "    <tr>\n",
       "      <th>5</th>\n",
       "      <td>American Indian/Alaska Native</td>\n",
       "      <td>10766</td>\n",
       "    </tr>\n",
       "    <tr>\n",
       "      <th>6</th>\n",
       "      <td>Native Hawaiian/Pacific Islander</td>\n",
       "      <td>4027</td>\n",
       "    </tr>\n",
       "  </tbody>\n",
       "</table>\n",
       "</div>"
      ],
      "text/plain": [
       "                               Race    Count\n",
       "0                              N.S.  1214319\n",
       "1                             White  1571277\n",
       "2            Black/African American   538303\n",
       "3                             Other   171173\n",
       "4                             Asian    49321\n",
       "5     American Indian/Alaska Native    10766\n",
       "6  Native Hawaiian/Pacific Islander     4027"
      ]
     },
     "execution_count": 87,
     "metadata": {},
     "output_type": "execute_result"
    }
   ],
   "source": [
    "# Review Race data\n",
    "temp_inj_df = pd.DataFrame(injuries_df['Race'].value_counts())\n",
    "temp_codes_df = codes_df[codes_df['Code'] == 'RACE'].drop(columns='Code').set_index('Value')\n",
    "temp_race_df = pd.concat([temp_codes_df, temp_inj_df], axis=1)\n",
    "temp_race_df.columns = ['Race', 'Count']\n",
    "temp_race_df['Race'] = temp_race_df['Race'].str.title()\n",
    "temp_race_df"
   ]
  },
  {
   "cell_type": "code",
   "execution_count": 85,
   "id": "70108b49-1599-4f67-be51-1162419218e0",
   "metadata": {},
   "outputs": [
    {
     "data": {
      "text/plain": [
       "Index(['CPSC_Case_Number', 'Treatment_Date', 'Age', 'Sex', 'Race',\n",
       "       'Other_Race', 'Body_Part', 'Diagnosis', 'Other_Diagnosis',\n",
       "       'Body_Part_2', 'Diagnosis_2', 'Other_Diagnosis_2', 'Disposition',\n",
       "       'Product_1', 'Product_2', 'Product_3', 'Stratum', 'PSU', 'Weight'],\n",
       "      dtype='object')"
      ]
     },
     "execution_count": 85,
     "metadata": {},
     "output_type": "execute_result"
    }
   ],
   "source": [
    "injuries_df.columns"
   ]
  },
  {
   "cell_type": "markdown",
   "id": "9a992bc3-fe1f-45d6-89ed-3be66c31af16",
   "metadata": {},
   "source": [
    "***\n",
    "## Body Part\n",
    "***"
   ]
  },
  {
   "cell_type": "code",
   "execution_count": null,
   "id": "66b5dacb-ad25-46b4-a71f-69693023d697",
   "metadata": {},
   "outputs": [],
   "source": []
  },
  {
   "cell_type": "code",
   "execution_count": 103,
   "id": "0e5cf0cb-434a-4fd7-8e94-d06e264e38f7",
   "metadata": {},
   "outputs": [
    {
     "data": {
      "text/html": [
       "<div>\n",
       "<style scoped>\n",
       "    .dataframe tbody tr th:only-of-type {\n",
       "        vertical-align: middle;\n",
       "    }\n",
       "\n",
       "    .dataframe tbody tr th {\n",
       "        vertical-align: top;\n",
       "    }\n",
       "\n",
       "    .dataframe thead th {\n",
       "        text-align: right;\n",
       "    }\n",
       "</style>\n",
       "<table border=\"1\" class=\"dataframe\">\n",
       "  <thead>\n",
       "    <tr style=\"text-align: right;\">\n",
       "      <th></th>\n",
       "      <th>Race</th>\n",
       "      <th>Count</th>\n",
       "    </tr>\n",
       "  </thead>\n",
       "  <tbody>\n",
       "    <tr>\n",
       "      <th>0</th>\n",
       "      <td>N.S.</td>\n",
       "      <td>38466.0</td>\n",
       "    </tr>\n",
       "    <tr>\n",
       "      <th>1</th>\n",
       "      <td>White</td>\n",
       "      <td>NaN</td>\n",
       "    </tr>\n",
       "    <tr>\n",
       "      <th>2</th>\n",
       "      <td>Black/African American</td>\n",
       "      <td>NaN</td>\n",
       "    </tr>\n",
       "    <tr>\n",
       "      <th>3</th>\n",
       "      <td>Other</td>\n",
       "      <td>NaN</td>\n",
       "    </tr>\n",
       "    <tr>\n",
       "      <th>4</th>\n",
       "      <td>Asian</td>\n",
       "      <td>NaN</td>\n",
       "    </tr>\n",
       "    <tr>\n",
       "      <th>5</th>\n",
       "      <td>American Indian/Alaska Native</td>\n",
       "      <td>NaN</td>\n",
       "    </tr>\n",
       "    <tr>\n",
       "      <th>6</th>\n",
       "      <td>Native Hawaiian/Pacific Islander</td>\n",
       "      <td>NaN</td>\n",
       "    </tr>\n",
       "    <tr>\n",
       "      <th>75</th>\n",
       "      <td>NaN</td>\n",
       "      <td>603199.0</td>\n",
       "    </tr>\n",
       "    <tr>\n",
       "      <th>76</th>\n",
       "      <td>NaN</td>\n",
       "      <td>310061.0</td>\n",
       "    </tr>\n",
       "    <tr>\n",
       "      <th>92</th>\n",
       "      <td>NaN</td>\n",
       "      <td>292118.0</td>\n",
       "    </tr>\n",
       "    <tr>\n",
       "      <th>79</th>\n",
       "      <td>NaN</td>\n",
       "      <td>291524.0</td>\n",
       "    </tr>\n",
       "    <tr>\n",
       "      <th>31</th>\n",
       "      <td>NaN</td>\n",
       "      <td>198823.0</td>\n",
       "    </tr>\n",
       "    <tr>\n",
       "      <th>37</th>\n",
       "      <td>NaN</td>\n",
       "      <td>192616.0</td>\n",
       "    </tr>\n",
       "    <tr>\n",
       "      <th>35</th>\n",
       "      <td>NaN</td>\n",
       "      <td>182455.0</td>\n",
       "    </tr>\n",
       "    <tr>\n",
       "      <th>82</th>\n",
       "      <td>NaN</td>\n",
       "      <td>160434.0</td>\n",
       "    </tr>\n",
       "    <tr>\n",
       "      <th>83</th>\n",
       "      <td>NaN</td>\n",
       "      <td>150020.0</td>\n",
       "    </tr>\n",
       "    <tr>\n",
       "      <th>30</th>\n",
       "      <td>NaN</td>\n",
       "      <td>139173.0</td>\n",
       "    </tr>\n",
       "    <tr>\n",
       "      <th>33</th>\n",
       "      <td>NaN</td>\n",
       "      <td>128424.0</td>\n",
       "    </tr>\n",
       "    <tr>\n",
       "      <th>36</th>\n",
       "      <td>NaN</td>\n",
       "      <td>128160.0</td>\n",
       "    </tr>\n",
       "    <tr>\n",
       "      <th>34</th>\n",
       "      <td>NaN</td>\n",
       "      <td>117591.0</td>\n",
       "    </tr>\n",
       "    <tr>\n",
       "      <th>85</th>\n",
       "      <td>NaN</td>\n",
       "      <td>91640.0</td>\n",
       "    </tr>\n",
       "    <tr>\n",
       "      <th>32</th>\n",
       "      <td>NaN</td>\n",
       "      <td>84555.0</td>\n",
       "    </tr>\n",
       "    <tr>\n",
       "      <th>88</th>\n",
       "      <td>NaN</td>\n",
       "      <td>74057.0</td>\n",
       "    </tr>\n",
       "    <tr>\n",
       "      <th>93</th>\n",
       "      <td>NaN</td>\n",
       "      <td>69977.0</td>\n",
       "    </tr>\n",
       "    <tr>\n",
       "      <th>89</th>\n",
       "      <td>NaN</td>\n",
       "      <td>58799.0</td>\n",
       "    </tr>\n",
       "    <tr>\n",
       "      <th>94</th>\n",
       "      <td>NaN</td>\n",
       "      <td>50210.0</td>\n",
       "    </tr>\n",
       "    <tr>\n",
       "      <th>77</th>\n",
       "      <td>NaN</td>\n",
       "      <td>46846.0</td>\n",
       "    </tr>\n",
       "    <tr>\n",
       "      <th>81</th>\n",
       "      <td>NaN</td>\n",
       "      <td>45419.0</td>\n",
       "    </tr>\n",
       "    <tr>\n",
       "      <th>80</th>\n",
       "      <td>NaN</td>\n",
       "      <td>44366.0</td>\n",
       "    </tr>\n",
       "    <tr>\n",
       "      <th>87</th>\n",
       "      <td>NaN</td>\n",
       "      <td>41082.0</td>\n",
       "    </tr>\n",
       "    <tr>\n",
       "      <th>38</th>\n",
       "      <td>NaN</td>\n",
       "      <td>18972.0</td>\n",
       "    </tr>\n",
       "    <tr>\n",
       "      <th>84</th>\n",
       "      <td>NaN</td>\n",
       "      <td>199.0</td>\n",
       "    </tr>\n",
       "  </tbody>\n",
       "</table>\n",
       "</div>"
      ],
      "text/plain": [
       "                                Race     Count\n",
       "0                               N.S.   38466.0\n",
       "1                              White       NaN\n",
       "2             Black/African American       NaN\n",
       "3                              Other       NaN\n",
       "4                              Asian       NaN\n",
       "5      American Indian/Alaska Native       NaN\n",
       "6   Native Hawaiian/Pacific Islander       NaN\n",
       "75                               NaN  603199.0\n",
       "76                               NaN  310061.0\n",
       "92                               NaN  292118.0\n",
       "79                               NaN  291524.0\n",
       "31                               NaN  198823.0\n",
       "37                               NaN  192616.0\n",
       "35                               NaN  182455.0\n",
       "82                               NaN  160434.0\n",
       "83                               NaN  150020.0\n",
       "30                               NaN  139173.0\n",
       "33                               NaN  128424.0\n",
       "36                               NaN  128160.0\n",
       "34                               NaN  117591.0\n",
       "85                               NaN   91640.0\n",
       "32                               NaN   84555.0\n",
       "88                               NaN   74057.0\n",
       "93                               NaN   69977.0\n",
       "89                               NaN   58799.0\n",
       "94                               NaN   50210.0\n",
       "77                               NaN   46846.0\n",
       "81                               NaN   45419.0\n",
       "80                               NaN   44366.0\n",
       "87                               NaN   41082.0\n",
       "38                               NaN   18972.0\n",
       "84                               NaN     199.0"
      ]
     },
     "execution_count": 103,
     "metadata": {},
     "output_type": "execute_result"
    }
   ],
   "source": [
    "# Review Body Part data\n",
    "temp_inj_df = pd.DataFrame(injuries_df['Body_Part'].value_counts())\n",
    "temp_codes_df = codes_df[codes_df['Code'] == 'RACE'].drop(columns='Code').set_index('Value')\n",
    "temp_race_df = pd.concat([temp_codes_df, temp_inj_df], axis=1)\n",
    "temp_race_df.columns = ['Race', 'Count']\n",
    "temp_race_df['Race'] = temp_race_df['Race'].str.title()\n",
    "temp_race_df"
   ]
  },
  {
   "cell_type": "code",
   "execution_count": null,
   "id": "b551c2ff-2e82-4c60-8c5d-2522c615b4e9",
   "metadata": {},
   "outputs": [],
   "source": []
  }
 ],
 "metadata": {
  "kernelspec": {
   "display_name": "Python 3 (ipykernel)",
   "language": "python",
   "name": "python3"
  },
  "language_info": {
   "codemirror_mode": {
    "name": "ipython",
    "version": 3
   },
   "file_extension": ".py",
   "mimetype": "text/x-python",
   "name": "python",
   "nbconvert_exporter": "python",
   "pygments_lexer": "ipython3",
   "version": "3.12.2"
  }
 },
 "nbformat": 4,
 "nbformat_minor": 5
}
